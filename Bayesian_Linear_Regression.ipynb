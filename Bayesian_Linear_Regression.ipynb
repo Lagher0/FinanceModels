{
  "nbformat": 4,
  "nbformat_minor": 0,
  "metadata": {
    "colab": {
      "name": "Bayesian Linear Regression.ipynb",
      "provenance": [],
      "collapsed_sections": [
        "SvdfZf9TFyiQ",
        "T6fqpiT7GE1N",
        "1oIDwjllnZo5"
      ]
    },
    "kernelspec": {
      "name": "python3",
      "display_name": "Python 3"
    },
    "language_info": {
      "name": "python"
    }
  },
  "cells": [
    {
      "cell_type": "markdown",
      "source": [
        "# Setup Libraries"
      ],
      "metadata": {
        "id": "SvdfZf9TFyiQ"
      }
    },
    {
      "cell_type": "markdown",
      "source": [
        "Needed in google colab"
      ],
      "metadata": {
        "id": "JQwxG5G0F5xj"
      }
    },
    {
      "cell_type": "code",
      "execution_count": 1,
      "metadata": {
        "colab": {
          "base_uri": "https://localhost:8080/"
        },
        "id": "RM149AzLYri6",
        "outputId": "bb704afb-1f0a-44ce-e3a9-d9325b9e7090"
      },
      "outputs": [
        {
          "output_type": "stream",
          "name": "stdout",
          "text": [
            "Collecting yfinance\n",
            "  Downloading yfinance-0.1.70-py2.py3-none-any.whl (26 kB)\n",
            "Collecting requests>=2.26\n",
            "  Downloading requests-2.27.1-py2.py3-none-any.whl (63 kB)\n",
            "\u001b[K     |████████████████████████████████| 63 kB 957 kB/s \n",
            "\u001b[?25hRequirement already satisfied: pandas>=0.24.0 in /usr/local/lib/python3.7/dist-packages (from yfinance) (1.3.5)\n",
            "Requirement already satisfied: numpy>=1.15 in /usr/local/lib/python3.7/dist-packages (from yfinance) (1.21.6)\n",
            "Requirement already satisfied: multitasking>=0.0.7 in /usr/local/lib/python3.7/dist-packages (from yfinance) (0.0.10)\n",
            "Collecting lxml>=4.5.1\n",
            "  Downloading lxml-4.8.0-cp37-cp37m-manylinux_2_17_x86_64.manylinux2014_x86_64.manylinux_2_24_x86_64.whl (6.4 MB)\n",
            "\u001b[K     |████████████████████████████████| 6.4 MB 26.1 MB/s \n",
            "\u001b[?25hRequirement already satisfied: pytz>=2017.3 in /usr/local/lib/python3.7/dist-packages (from pandas>=0.24.0->yfinance) (2022.1)\n",
            "Requirement already satisfied: python-dateutil>=2.7.3 in /usr/local/lib/python3.7/dist-packages (from pandas>=0.24.0->yfinance) (2.8.2)\n",
            "Requirement already satisfied: six>=1.5 in /usr/local/lib/python3.7/dist-packages (from python-dateutil>=2.7.3->pandas>=0.24.0->yfinance) (1.15.0)\n",
            "Requirement already satisfied: charset-normalizer~=2.0.0 in /usr/local/lib/python3.7/dist-packages (from requests>=2.26->yfinance) (2.0.12)\n",
            "Requirement already satisfied: certifi>=2017.4.17 in /usr/local/lib/python3.7/dist-packages (from requests>=2.26->yfinance) (2021.10.8)\n",
            "Requirement already satisfied: urllib3<1.27,>=1.21.1 in /usr/local/lib/python3.7/dist-packages (from requests>=2.26->yfinance) (1.24.3)\n",
            "Requirement already satisfied: idna<4,>=2.5 in /usr/local/lib/python3.7/dist-packages (from requests>=2.26->yfinance) (2.10)\n",
            "Installing collected packages: requests, lxml, yfinance\n",
            "  Attempting uninstall: requests\n",
            "    Found existing installation: requests 2.23.0\n",
            "    Uninstalling requests-2.23.0:\n",
            "      Successfully uninstalled requests-2.23.0\n",
            "  Attempting uninstall: lxml\n",
            "    Found existing installation: lxml 4.2.6\n",
            "    Uninstalling lxml-4.2.6:\n",
            "      Successfully uninstalled lxml-4.2.6\n",
            "\u001b[31mERROR: pip's dependency resolver does not currently take into account all the packages that are installed. This behaviour is the source of the following dependency conflicts.\n",
            "google-colab 1.0.0 requires requests~=2.23.0, but you have requests 2.27.1 which is incompatible.\n",
            "datascience 0.10.6 requires folium==0.2.1, but you have folium 0.8.3 which is incompatible.\u001b[0m\n",
            "Successfully installed lxml-4.8.0 requests-2.27.1 yfinance-0.1.70\n"
          ]
        }
      ],
      "source": [
        "pip install yfinance"
      ]
    },
    {
      "cell_type": "code",
      "source": [
        "# Provides ways to work with large multidimensional arrays\n",
        "import numpy as np \n",
        "# Allows for further data manipulation and analysis\n",
        "import pandas as pd \n",
        "import matplotlib.pyplot as plt # Plotting\n",
        "import matplotlib.dates as mdates # Styling dates\n",
        "#import matplotlib.mlab as mlab \n",
        "%matplotlib inline\n",
        "\n",
        "# statistical calculation\n",
        "#from scipy.stats import norm\n",
        "\n",
        "import datetime as dt # For defining dates\n",
        "\n",
        "import time\n",
        "\n",
        "import yfinance as yf"
      ],
      "metadata": {
        "id": "Ca_QWCWpF-yU"
      },
      "execution_count": 2,
      "outputs": []
    },
    {
      "cell_type": "markdown",
      "source": [
        "# Get Stock Data"
      ],
      "metadata": {
        "id": "T6fqpiT7GE1N"
      }
    },
    {
      "cell_type": "code",
      "source": [
        "all_stocks = [\"^GSPC\", \"^FTLC\", \"^RUT\", \"IEUS\", \"GOVT\", \"IGOV\", \"SIVR\", \"SGOL\"]"
      ],
      "metadata": {
        "id": "EM5tszECGHM9"
      },
      "execution_count": 3,
      "outputs": []
    },
    {
      "cell_type": "code",
      "source": [
        "def get_all_closes_of_stocks(tickers):\n",
        "  i = 0\n",
        "  stock_list = pd.DataFrame()\n",
        "  for ticker in tickers:\n",
        "    stock = yf.Ticker(ticker)        \n",
        "    data = stock.history(start=\"2012-02-24\",end =\"2022-02-25\")\n",
        "    data.drop(data.columns[[0,1,2,4,5,6]], axis=1, inplace=True) # Just gets the adjacent close for each asset\n",
        "    data.columns = [ticker]\n",
        "    stock_list[ticker] = data.iloc[:,0]\n",
        "  return stock_list.dropna()\n",
        "stock_data = get_all_closes_of_stocks(all_stocks)\n",
        "print(stock_data)"
      ],
      "metadata": {
        "colab": {
          "base_uri": "https://localhost:8080/"
        },
        "id": "6pHUhYdCGLFq",
        "outputId": "9bb0c41f-14b8-4e83-f88a-37d9b9a7352b"
      },
      "execution_count": 4,
      "outputs": [
        {
          "output_type": "stream",
          "name": "stdout",
          "text": [
            "                  ^GSPC        ^FTLC         ^RUT       IEUS       GOVT  \\\n",
            "Date                                                                      \n",
            "2012-02-24  1365.739990  3144.399902   826.919983  27.285177  21.551907   \n",
            "2012-02-27  1367.589966  3133.399902   826.659973  27.201170  21.551907   \n",
            "2012-02-28  1372.180054  3141.199951   823.799988  27.445541  21.551907   \n",
            "2012-02-29  1365.680054  3112.399902   810.940002  27.155359  21.551907   \n",
            "2012-03-01  1374.089966  3142.899902   815.219971  27.117170  21.551907   \n",
            "...                 ...          ...          ...        ...        ...   \n",
            "2022-02-17  4380.259766  4240.200195  2028.089966  63.590000  25.511515   \n",
            "2022-02-18  4348.870117  4222.799805  2009.329956  62.840000  25.571404   \n",
            "2022-02-22  4304.759766  4201.799805  1980.170044  61.560001  25.581383   \n",
            "2022-02-23  4225.500000  4198.799805  1944.089966  60.889999  25.461611   \n",
            "2022-02-24  4288.700195  4042.899902  1996.010010  60.000000  25.471592   \n",
            "\n",
            "                 IGOV       SIVR       SGOL  \n",
            "Date                                         \n",
            "2012-02-24  47.279102  35.110001  17.559000  \n",
            "2012-02-27  47.222885  35.099998  17.504000  \n",
            "2012-02-28  47.592918  36.610001  17.688000  \n",
            "2012-02-29  47.358727  34.240002  16.750000  \n",
            "2012-03-01  46.416698  35.180000  16.987000  \n",
            "...               ...        ...        ...  \n",
            "2022-02-17  48.439999  22.959999  18.219999  \n",
            "2022-02-18  48.380001  23.040001  18.200001  \n",
            "2022-02-22  48.330002  23.260000  18.240000  \n",
            "2022-02-23  48.130001  23.680000  18.330000  \n",
            "2022-02-24  47.959999  23.270000  18.219999  \n",
            "\n",
            "[2401 rows x 8 columns]\n"
          ]
        }
      ]
    },
    {
      "cell_type": "markdown",
      "source": [
        "# Bayesian Linear Regression Weights"
      ],
      "metadata": {
        "id": "XauF7qE6Vj3S"
      }
    },
    {
      "cell_type": "code",
      "source": [
        "class BayesLinearRegressor:\n",
        "    def __init__(\n",
        "        self, number_of_features, mean=None, cov=None, alpha=1e6, beta=1\n",
        "    ):\n",
        "        # prior distribution on weights\n",
        "        if mean is None:\n",
        "            self.mean = np.array([[0] * (number_of_features)], dtype=float).T\n",
        "\n",
        "        if cov is None:\n",
        "            self.cov = alpha * np.identity(number_of_features)\n",
        "            self.cov_inv = np.linalg.inv(self.cov)\n",
        "            self.cov_init = self.cov\n",
        "\n",
        "        self.beta = beta  # process noise\n",
        "        self.number_of_features = number_of_features\n",
        "\n",
        "    def fit(self, x, y):\n",
        "        return self.update(x, y)\n",
        "\n",
        "    def update(self, x, y, inc_alpha=None):\n",
        "        \"\"\"\n",
        "        Perform a bayesian update step\n",
        "        \"\"\"\n",
        "        if len(x.shape) == 1:\n",
        "            x = x[np.newaxis, :]\n",
        "        if len(y.shape) == 1:\n",
        "            y = y[:, np.newaxis]\n",
        "\n",
        "        # update state of covariance and means\n",
        "        cov_n_inv = self.cov_inv + self.beta * x.T @ x\n",
        "        cov_n = np.linalg.inv(cov_n_inv)\n",
        "        mean_n = cov_n @ (self.cov_inv @ self.mean + self.beta * x.T @ y) # @ is matrix multiplication\n",
        "\n",
        "        if inc_alpha is not None:\n",
        "            # cov_n = cov_n - (cov_n - self.cov_init) * inc_alpha\n",
        "            cov_n = cov_n + inc_alpha * np.identity(self.number_of_features)\n",
        "\n",
        "            cov_n_inv = np.linalg.inv(cov_n)\n",
        "\n",
        "        self.cov_inv = cov_n_inv\n",
        "        #print(self.cov_inv)\n",
        "        self.cov = cov_n\n",
        "        #print(self.cov)\n",
        "        self.mean = mean_n\n",
        "        #print(self.mean)\n",
        "\n",
        "    def predict(self, x):\n",
        "        mean = x @ self.mean\n",
        "        scale = np.sqrt(np.sum(x @ self.cov @ x.T, axis=1))\n",
        "        return mean, scale\n",
        "\n",
        "    @property\n",
        "    def coef_(self):\n",
        "        return self.mean\n",
        "\n",
        "    @property\n",
        "    def scale_(self):\n",
        "        return np.sqrt(np.diag(self.cov))\n"
      ],
      "metadata": {
        "id": "JdJdEeyPjpN5"
      },
      "execution_count": 5,
      "outputs": []
    },
    {
      "cell_type": "code",
      "source": [
        "daily_stock_returns = stock_data.iloc[:-252].pct_change().dropna() # remove the test year from the data\n",
        "daily_stock_returns"
      ],
      "metadata": {
        "colab": {
          "base_uri": "https://localhost:8080/",
          "height": 455
        },
        "id": "vDqrc3fPxa7e",
        "outputId": "84fd37b1-fa78-4598-978a-643fc6f885dc"
      },
      "execution_count": 6,
      "outputs": [
        {
          "output_type": "execute_result",
          "data": {
            "text/plain": [
              "               ^GSPC     ^FTLC      ^RUT      IEUS      GOVT      IGOV  \\\n",
              "Date                                                                     \n",
              "2012-02-27  0.001355 -0.003498 -0.000314 -0.003079  0.000000 -0.001189   \n",
              "2012-02-28  0.003356  0.002489 -0.003460  0.008984  0.000000  0.007836   \n",
              "2012-02-29 -0.004737 -0.009168 -0.015611 -0.010573  0.000000 -0.004921   \n",
              "2012-03-01  0.006158  0.009800  0.005278 -0.001406  0.000000 -0.019891   \n",
              "2012-03-02 -0.003246 -0.002895 -0.015701 -0.002253  0.000000 -0.007479   \n",
              "...              ...       ...       ...       ...       ...       ...   \n",
              "2021-01-27 -0.025678 -0.012199 -0.019146 -0.026092  0.001104 -0.003997   \n",
              "2021-01-29 -0.009739 -0.020476 -0.016626  0.003389 -0.003308 -0.001277   \n",
              "2021-02-01  0.016052  0.009006  0.025327  0.012064  0.000775 -0.006210   \n",
              "2021-02-02  0.013898  0.008979  0.011890  0.014463 -0.002212 -0.001838   \n",
              "2021-02-03  0.001009 -0.000563  0.003839  0.001253 -0.002587 -0.001289   \n",
              "\n",
              "                SIVR      SGOL  \n",
              "Date                            \n",
              "2012-02-27 -0.000285 -0.003132  \n",
              "2012-02-28  0.043020  0.010512  \n",
              "2012-02-29 -0.064736 -0.053030  \n",
              "2012-03-01  0.027453  0.014149  \n",
              "2012-03-02 -0.020182 -0.001766  \n",
              "...              ...       ...  \n",
              "2021-01-27 -0.009756 -0.006180  \n",
              "2021-01-29  0.066092  0.000565  \n",
              "2021-02-01  0.072006  0.008475  \n",
              "2021-02-02 -0.083333 -0.011205  \n",
              "2021-02-03  0.015674 -0.001700  \n",
              "\n",
              "[2148 rows x 8 columns]"
            ],
            "text/html": [
              "\n",
              "  <div id=\"df-d2590111-9087-4387-8765-df919e3d811e\">\n",
              "    <div class=\"colab-df-container\">\n",
              "      <div>\n",
              "<style scoped>\n",
              "    .dataframe tbody tr th:only-of-type {\n",
              "        vertical-align: middle;\n",
              "    }\n",
              "\n",
              "    .dataframe tbody tr th {\n",
              "        vertical-align: top;\n",
              "    }\n",
              "\n",
              "    .dataframe thead th {\n",
              "        text-align: right;\n",
              "    }\n",
              "</style>\n",
              "<table border=\"1\" class=\"dataframe\">\n",
              "  <thead>\n",
              "    <tr style=\"text-align: right;\">\n",
              "      <th></th>\n",
              "      <th>^GSPC</th>\n",
              "      <th>^FTLC</th>\n",
              "      <th>^RUT</th>\n",
              "      <th>IEUS</th>\n",
              "      <th>GOVT</th>\n",
              "      <th>IGOV</th>\n",
              "      <th>SIVR</th>\n",
              "      <th>SGOL</th>\n",
              "    </tr>\n",
              "    <tr>\n",
              "      <th>Date</th>\n",
              "      <th></th>\n",
              "      <th></th>\n",
              "      <th></th>\n",
              "      <th></th>\n",
              "      <th></th>\n",
              "      <th></th>\n",
              "      <th></th>\n",
              "      <th></th>\n",
              "    </tr>\n",
              "  </thead>\n",
              "  <tbody>\n",
              "    <tr>\n",
              "      <th>2012-02-27</th>\n",
              "      <td>0.001355</td>\n",
              "      <td>-0.003498</td>\n",
              "      <td>-0.000314</td>\n",
              "      <td>-0.003079</td>\n",
              "      <td>0.000000</td>\n",
              "      <td>-0.001189</td>\n",
              "      <td>-0.000285</td>\n",
              "      <td>-0.003132</td>\n",
              "    </tr>\n",
              "    <tr>\n",
              "      <th>2012-02-28</th>\n",
              "      <td>0.003356</td>\n",
              "      <td>0.002489</td>\n",
              "      <td>-0.003460</td>\n",
              "      <td>0.008984</td>\n",
              "      <td>0.000000</td>\n",
              "      <td>0.007836</td>\n",
              "      <td>0.043020</td>\n",
              "      <td>0.010512</td>\n",
              "    </tr>\n",
              "    <tr>\n",
              "      <th>2012-02-29</th>\n",
              "      <td>-0.004737</td>\n",
              "      <td>-0.009168</td>\n",
              "      <td>-0.015611</td>\n",
              "      <td>-0.010573</td>\n",
              "      <td>0.000000</td>\n",
              "      <td>-0.004921</td>\n",
              "      <td>-0.064736</td>\n",
              "      <td>-0.053030</td>\n",
              "    </tr>\n",
              "    <tr>\n",
              "      <th>2012-03-01</th>\n",
              "      <td>0.006158</td>\n",
              "      <td>0.009800</td>\n",
              "      <td>0.005278</td>\n",
              "      <td>-0.001406</td>\n",
              "      <td>0.000000</td>\n",
              "      <td>-0.019891</td>\n",
              "      <td>0.027453</td>\n",
              "      <td>0.014149</td>\n",
              "    </tr>\n",
              "    <tr>\n",
              "      <th>2012-03-02</th>\n",
              "      <td>-0.003246</td>\n",
              "      <td>-0.002895</td>\n",
              "      <td>-0.015701</td>\n",
              "      <td>-0.002253</td>\n",
              "      <td>0.000000</td>\n",
              "      <td>-0.007479</td>\n",
              "      <td>-0.020182</td>\n",
              "      <td>-0.001766</td>\n",
              "    </tr>\n",
              "    <tr>\n",
              "      <th>...</th>\n",
              "      <td>...</td>\n",
              "      <td>...</td>\n",
              "      <td>...</td>\n",
              "      <td>...</td>\n",
              "      <td>...</td>\n",
              "      <td>...</td>\n",
              "      <td>...</td>\n",
              "      <td>...</td>\n",
              "    </tr>\n",
              "    <tr>\n",
              "      <th>2021-01-27</th>\n",
              "      <td>-0.025678</td>\n",
              "      <td>-0.012199</td>\n",
              "      <td>-0.019146</td>\n",
              "      <td>-0.026092</td>\n",
              "      <td>0.001104</td>\n",
              "      <td>-0.003997</td>\n",
              "      <td>-0.009756</td>\n",
              "      <td>-0.006180</td>\n",
              "    </tr>\n",
              "    <tr>\n",
              "      <th>2021-01-29</th>\n",
              "      <td>-0.009739</td>\n",
              "      <td>-0.020476</td>\n",
              "      <td>-0.016626</td>\n",
              "      <td>0.003389</td>\n",
              "      <td>-0.003308</td>\n",
              "      <td>-0.001277</td>\n",
              "      <td>0.066092</td>\n",
              "      <td>0.000565</td>\n",
              "    </tr>\n",
              "    <tr>\n",
              "      <th>2021-02-01</th>\n",
              "      <td>0.016052</td>\n",
              "      <td>0.009006</td>\n",
              "      <td>0.025327</td>\n",
              "      <td>0.012064</td>\n",
              "      <td>0.000775</td>\n",
              "      <td>-0.006210</td>\n",
              "      <td>0.072006</td>\n",
              "      <td>0.008475</td>\n",
              "    </tr>\n",
              "    <tr>\n",
              "      <th>2021-02-02</th>\n",
              "      <td>0.013898</td>\n",
              "      <td>0.008979</td>\n",
              "      <td>0.011890</td>\n",
              "      <td>0.014463</td>\n",
              "      <td>-0.002212</td>\n",
              "      <td>-0.001838</td>\n",
              "      <td>-0.083333</td>\n",
              "      <td>-0.011205</td>\n",
              "    </tr>\n",
              "    <tr>\n",
              "      <th>2021-02-03</th>\n",
              "      <td>0.001009</td>\n",
              "      <td>-0.000563</td>\n",
              "      <td>0.003839</td>\n",
              "      <td>0.001253</td>\n",
              "      <td>-0.002587</td>\n",
              "      <td>-0.001289</td>\n",
              "      <td>0.015674</td>\n",
              "      <td>-0.001700</td>\n",
              "    </tr>\n",
              "  </tbody>\n",
              "</table>\n",
              "<p>2148 rows × 8 columns</p>\n",
              "</div>\n",
              "      <button class=\"colab-df-convert\" onclick=\"convertToInteractive('df-d2590111-9087-4387-8765-df919e3d811e')\"\n",
              "              title=\"Convert this dataframe to an interactive table.\"\n",
              "              style=\"display:none;\">\n",
              "        \n",
              "  <svg xmlns=\"http://www.w3.org/2000/svg\" height=\"24px\"viewBox=\"0 0 24 24\"\n",
              "       width=\"24px\">\n",
              "    <path d=\"M0 0h24v24H0V0z\" fill=\"none\"/>\n",
              "    <path d=\"M18.56 5.44l.94 2.06.94-2.06 2.06-.94-2.06-.94-.94-2.06-.94 2.06-2.06.94zm-11 1L8.5 8.5l.94-2.06 2.06-.94-2.06-.94L8.5 2.5l-.94 2.06-2.06.94zm10 10l.94 2.06.94-2.06 2.06-.94-2.06-.94-.94-2.06-.94 2.06-2.06.94z\"/><path d=\"M17.41 7.96l-1.37-1.37c-.4-.4-.92-.59-1.43-.59-.52 0-1.04.2-1.43.59L10.3 9.45l-7.72 7.72c-.78.78-.78 2.05 0 2.83L4 21.41c.39.39.9.59 1.41.59.51 0 1.02-.2 1.41-.59l7.78-7.78 2.81-2.81c.8-.78.8-2.07 0-2.86zM5.41 20L4 18.59l7.72-7.72 1.47 1.35L5.41 20z\"/>\n",
              "  </svg>\n",
              "      </button>\n",
              "      \n",
              "  <style>\n",
              "    .colab-df-container {\n",
              "      display:flex;\n",
              "      flex-wrap:wrap;\n",
              "      gap: 12px;\n",
              "    }\n",
              "\n",
              "    .colab-df-convert {\n",
              "      background-color: #E8F0FE;\n",
              "      border: none;\n",
              "      border-radius: 50%;\n",
              "      cursor: pointer;\n",
              "      display: none;\n",
              "      fill: #1967D2;\n",
              "      height: 32px;\n",
              "      padding: 0 0 0 0;\n",
              "      width: 32px;\n",
              "    }\n",
              "\n",
              "    .colab-df-convert:hover {\n",
              "      background-color: #E2EBFA;\n",
              "      box-shadow: 0px 1px 2px rgba(60, 64, 67, 0.3), 0px 1px 3px 1px rgba(60, 64, 67, 0.15);\n",
              "      fill: #174EA6;\n",
              "    }\n",
              "\n",
              "    [theme=dark] .colab-df-convert {\n",
              "      background-color: #3B4455;\n",
              "      fill: #D2E3FC;\n",
              "    }\n",
              "\n",
              "    [theme=dark] .colab-df-convert:hover {\n",
              "      background-color: #434B5C;\n",
              "      box-shadow: 0px 1px 3px 1px rgba(0, 0, 0, 0.15);\n",
              "      filter: drop-shadow(0px 1px 2px rgba(0, 0, 0, 0.3));\n",
              "      fill: #FFFFFF;\n",
              "    }\n",
              "  </style>\n",
              "\n",
              "      <script>\n",
              "        const buttonEl =\n",
              "          document.querySelector('#df-d2590111-9087-4387-8765-df919e3d811e button.colab-df-convert');\n",
              "        buttonEl.style.display =\n",
              "          google.colab.kernel.accessAllowed ? 'block' : 'none';\n",
              "\n",
              "        async function convertToInteractive(key) {\n",
              "          const element = document.querySelector('#df-d2590111-9087-4387-8765-df919e3d811e');\n",
              "          const dataTable =\n",
              "            await google.colab.kernel.invokeFunction('convertToInteractive',\n",
              "                                                     [key], {});\n",
              "          if (!dataTable) return;\n",
              "\n",
              "          const docLinkHtml = 'Like what you see? Visit the ' +\n",
              "            '<a target=\"_blank\" href=https://colab.research.google.com/notebooks/data_table.ipynb>data table notebook</a>'\n",
              "            + ' to learn more about interactive tables.';\n",
              "          element.innerHTML = '';\n",
              "          dataTable['output_type'] = 'display_data';\n",
              "          await google.colab.output.renderOutput(dataTable, element);\n",
              "          const docLink = document.createElement('div');\n",
              "          docLink.innerHTML = docLinkHtml;\n",
              "          element.appendChild(docLink);\n",
              "        }\n",
              "      </script>\n",
              "    </div>\n",
              "  </div>\n",
              "  "
            ]
          },
          "metadata": {},
          "execution_count": 6
        }
      ]
    },
    {
      "cell_type": "code",
      "source": [
        "stock_data[\"label\"] = 1\n",
        "daily_stock_returns[\"label\"] = 1\n",
        "# Use daily % stock data change to make sure the model uses normalised data"
      ],
      "metadata": {
        "id": "QZmm5thBkFWq"
      },
      "execution_count": 7,
      "outputs": []
    },
    {
      "cell_type": "code",
      "source": [
        "print(stock_data.drop([\"label\"],axis=1).shape[1])"
      ],
      "metadata": {
        "colab": {
          "base_uri": "https://localhost:8080/"
        },
        "id": "0EbY0IkMLrdX",
        "outputId": "563af0ca-dc76-4fe4-c47b-9a51183116bd"
      },
      "execution_count": 8,
      "outputs": [
        {
          "output_type": "stream",
          "name": "stdout",
          "text": [
            "8\n"
          ]
        }
      ]
    },
    {
      "cell_type": "code",
      "source": [
        "daily_stock_returns"
      ],
      "metadata": {
        "colab": {
          "base_uri": "https://localhost:8080/",
          "height": 455
        },
        "id": "SNo4bRt1zPYZ",
        "outputId": "8661f5f4-0e7c-4f27-b0c7-711284c08c52"
      },
      "execution_count": 9,
      "outputs": [
        {
          "output_type": "execute_result",
          "data": {
            "text/plain": [
              "               ^GSPC     ^FTLC      ^RUT      IEUS      GOVT      IGOV  \\\n",
              "Date                                                                     \n",
              "2012-02-27  0.001355 -0.003498 -0.000314 -0.003079  0.000000 -0.001189   \n",
              "2012-02-28  0.003356  0.002489 -0.003460  0.008984  0.000000  0.007836   \n",
              "2012-02-29 -0.004737 -0.009168 -0.015611 -0.010573  0.000000 -0.004921   \n",
              "2012-03-01  0.006158  0.009800  0.005278 -0.001406  0.000000 -0.019891   \n",
              "2012-03-02 -0.003246 -0.002895 -0.015701 -0.002253  0.000000 -0.007479   \n",
              "...              ...       ...       ...       ...       ...       ...   \n",
              "2021-01-27 -0.025678 -0.012199 -0.019146 -0.026092  0.001104 -0.003997   \n",
              "2021-01-29 -0.009739 -0.020476 -0.016626  0.003389 -0.003308 -0.001277   \n",
              "2021-02-01  0.016052  0.009006  0.025327  0.012064  0.000775 -0.006210   \n",
              "2021-02-02  0.013898  0.008979  0.011890  0.014463 -0.002212 -0.001838   \n",
              "2021-02-03  0.001009 -0.000563  0.003839  0.001253 -0.002587 -0.001289   \n",
              "\n",
              "                SIVR      SGOL  label  \n",
              "Date                                   \n",
              "2012-02-27 -0.000285 -0.003132      1  \n",
              "2012-02-28  0.043020  0.010512      1  \n",
              "2012-02-29 -0.064736 -0.053030      1  \n",
              "2012-03-01  0.027453  0.014149      1  \n",
              "2012-03-02 -0.020182 -0.001766      1  \n",
              "...              ...       ...    ...  \n",
              "2021-01-27 -0.009756 -0.006180      1  \n",
              "2021-01-29  0.066092  0.000565      1  \n",
              "2021-02-01  0.072006  0.008475      1  \n",
              "2021-02-02 -0.083333 -0.011205      1  \n",
              "2021-02-03  0.015674 -0.001700      1  \n",
              "\n",
              "[2148 rows x 9 columns]"
            ],
            "text/html": [
              "\n",
              "  <div id=\"df-7711ee19-d1fa-4394-b7ab-d638e4204fe9\">\n",
              "    <div class=\"colab-df-container\">\n",
              "      <div>\n",
              "<style scoped>\n",
              "    .dataframe tbody tr th:only-of-type {\n",
              "        vertical-align: middle;\n",
              "    }\n",
              "\n",
              "    .dataframe tbody tr th {\n",
              "        vertical-align: top;\n",
              "    }\n",
              "\n",
              "    .dataframe thead th {\n",
              "        text-align: right;\n",
              "    }\n",
              "</style>\n",
              "<table border=\"1\" class=\"dataframe\">\n",
              "  <thead>\n",
              "    <tr style=\"text-align: right;\">\n",
              "      <th></th>\n",
              "      <th>^GSPC</th>\n",
              "      <th>^FTLC</th>\n",
              "      <th>^RUT</th>\n",
              "      <th>IEUS</th>\n",
              "      <th>GOVT</th>\n",
              "      <th>IGOV</th>\n",
              "      <th>SIVR</th>\n",
              "      <th>SGOL</th>\n",
              "      <th>label</th>\n",
              "    </tr>\n",
              "    <tr>\n",
              "      <th>Date</th>\n",
              "      <th></th>\n",
              "      <th></th>\n",
              "      <th></th>\n",
              "      <th></th>\n",
              "      <th></th>\n",
              "      <th></th>\n",
              "      <th></th>\n",
              "      <th></th>\n",
              "      <th></th>\n",
              "    </tr>\n",
              "  </thead>\n",
              "  <tbody>\n",
              "    <tr>\n",
              "      <th>2012-02-27</th>\n",
              "      <td>0.001355</td>\n",
              "      <td>-0.003498</td>\n",
              "      <td>-0.000314</td>\n",
              "      <td>-0.003079</td>\n",
              "      <td>0.000000</td>\n",
              "      <td>-0.001189</td>\n",
              "      <td>-0.000285</td>\n",
              "      <td>-0.003132</td>\n",
              "      <td>1</td>\n",
              "    </tr>\n",
              "    <tr>\n",
              "      <th>2012-02-28</th>\n",
              "      <td>0.003356</td>\n",
              "      <td>0.002489</td>\n",
              "      <td>-0.003460</td>\n",
              "      <td>0.008984</td>\n",
              "      <td>0.000000</td>\n",
              "      <td>0.007836</td>\n",
              "      <td>0.043020</td>\n",
              "      <td>0.010512</td>\n",
              "      <td>1</td>\n",
              "    </tr>\n",
              "    <tr>\n",
              "      <th>2012-02-29</th>\n",
              "      <td>-0.004737</td>\n",
              "      <td>-0.009168</td>\n",
              "      <td>-0.015611</td>\n",
              "      <td>-0.010573</td>\n",
              "      <td>0.000000</td>\n",
              "      <td>-0.004921</td>\n",
              "      <td>-0.064736</td>\n",
              "      <td>-0.053030</td>\n",
              "      <td>1</td>\n",
              "    </tr>\n",
              "    <tr>\n",
              "      <th>2012-03-01</th>\n",
              "      <td>0.006158</td>\n",
              "      <td>0.009800</td>\n",
              "      <td>0.005278</td>\n",
              "      <td>-0.001406</td>\n",
              "      <td>0.000000</td>\n",
              "      <td>-0.019891</td>\n",
              "      <td>0.027453</td>\n",
              "      <td>0.014149</td>\n",
              "      <td>1</td>\n",
              "    </tr>\n",
              "    <tr>\n",
              "      <th>2012-03-02</th>\n",
              "      <td>-0.003246</td>\n",
              "      <td>-0.002895</td>\n",
              "      <td>-0.015701</td>\n",
              "      <td>-0.002253</td>\n",
              "      <td>0.000000</td>\n",
              "      <td>-0.007479</td>\n",
              "      <td>-0.020182</td>\n",
              "      <td>-0.001766</td>\n",
              "      <td>1</td>\n",
              "    </tr>\n",
              "    <tr>\n",
              "      <th>...</th>\n",
              "      <td>...</td>\n",
              "      <td>...</td>\n",
              "      <td>...</td>\n",
              "      <td>...</td>\n",
              "      <td>...</td>\n",
              "      <td>...</td>\n",
              "      <td>...</td>\n",
              "      <td>...</td>\n",
              "      <td>...</td>\n",
              "    </tr>\n",
              "    <tr>\n",
              "      <th>2021-01-27</th>\n",
              "      <td>-0.025678</td>\n",
              "      <td>-0.012199</td>\n",
              "      <td>-0.019146</td>\n",
              "      <td>-0.026092</td>\n",
              "      <td>0.001104</td>\n",
              "      <td>-0.003997</td>\n",
              "      <td>-0.009756</td>\n",
              "      <td>-0.006180</td>\n",
              "      <td>1</td>\n",
              "    </tr>\n",
              "    <tr>\n",
              "      <th>2021-01-29</th>\n",
              "      <td>-0.009739</td>\n",
              "      <td>-0.020476</td>\n",
              "      <td>-0.016626</td>\n",
              "      <td>0.003389</td>\n",
              "      <td>-0.003308</td>\n",
              "      <td>-0.001277</td>\n",
              "      <td>0.066092</td>\n",
              "      <td>0.000565</td>\n",
              "      <td>1</td>\n",
              "    </tr>\n",
              "    <tr>\n",
              "      <th>2021-02-01</th>\n",
              "      <td>0.016052</td>\n",
              "      <td>0.009006</td>\n",
              "      <td>0.025327</td>\n",
              "      <td>0.012064</td>\n",
              "      <td>0.000775</td>\n",
              "      <td>-0.006210</td>\n",
              "      <td>0.072006</td>\n",
              "      <td>0.008475</td>\n",
              "      <td>1</td>\n",
              "    </tr>\n",
              "    <tr>\n",
              "      <th>2021-02-02</th>\n",
              "      <td>0.013898</td>\n",
              "      <td>0.008979</td>\n",
              "      <td>0.011890</td>\n",
              "      <td>0.014463</td>\n",
              "      <td>-0.002212</td>\n",
              "      <td>-0.001838</td>\n",
              "      <td>-0.083333</td>\n",
              "      <td>-0.011205</td>\n",
              "      <td>1</td>\n",
              "    </tr>\n",
              "    <tr>\n",
              "      <th>2021-02-03</th>\n",
              "      <td>0.001009</td>\n",
              "      <td>-0.000563</td>\n",
              "      <td>0.003839</td>\n",
              "      <td>0.001253</td>\n",
              "      <td>-0.002587</td>\n",
              "      <td>-0.001289</td>\n",
              "      <td>0.015674</td>\n",
              "      <td>-0.001700</td>\n",
              "      <td>1</td>\n",
              "    </tr>\n",
              "  </tbody>\n",
              "</table>\n",
              "<p>2148 rows × 9 columns</p>\n",
              "</div>\n",
              "      <button class=\"colab-df-convert\" onclick=\"convertToInteractive('df-7711ee19-d1fa-4394-b7ab-d638e4204fe9')\"\n",
              "              title=\"Convert this dataframe to an interactive table.\"\n",
              "              style=\"display:none;\">\n",
              "        \n",
              "  <svg xmlns=\"http://www.w3.org/2000/svg\" height=\"24px\"viewBox=\"0 0 24 24\"\n",
              "       width=\"24px\">\n",
              "    <path d=\"M0 0h24v24H0V0z\" fill=\"none\"/>\n",
              "    <path d=\"M18.56 5.44l.94 2.06.94-2.06 2.06-.94-2.06-.94-.94-2.06-.94 2.06-2.06.94zm-11 1L8.5 8.5l.94-2.06 2.06-.94-2.06-.94L8.5 2.5l-.94 2.06-2.06.94zm10 10l.94 2.06.94-2.06 2.06-.94-2.06-.94-.94-2.06-.94 2.06-2.06.94z\"/><path d=\"M17.41 7.96l-1.37-1.37c-.4-.4-.92-.59-1.43-.59-.52 0-1.04.2-1.43.59L10.3 9.45l-7.72 7.72c-.78.78-.78 2.05 0 2.83L4 21.41c.39.39.9.59 1.41.59.51 0 1.02-.2 1.41-.59l7.78-7.78 2.81-2.81c.8-.78.8-2.07 0-2.86zM5.41 20L4 18.59l7.72-7.72 1.47 1.35L5.41 20z\"/>\n",
              "  </svg>\n",
              "      </button>\n",
              "      \n",
              "  <style>\n",
              "    .colab-df-container {\n",
              "      display:flex;\n",
              "      flex-wrap:wrap;\n",
              "      gap: 12px;\n",
              "    }\n",
              "\n",
              "    .colab-df-convert {\n",
              "      background-color: #E8F0FE;\n",
              "      border: none;\n",
              "      border-radius: 50%;\n",
              "      cursor: pointer;\n",
              "      display: none;\n",
              "      fill: #1967D2;\n",
              "      height: 32px;\n",
              "      padding: 0 0 0 0;\n",
              "      width: 32px;\n",
              "    }\n",
              "\n",
              "    .colab-df-convert:hover {\n",
              "      background-color: #E2EBFA;\n",
              "      box-shadow: 0px 1px 2px rgba(60, 64, 67, 0.3), 0px 1px 3px 1px rgba(60, 64, 67, 0.15);\n",
              "      fill: #174EA6;\n",
              "    }\n",
              "\n",
              "    [theme=dark] .colab-df-convert {\n",
              "      background-color: #3B4455;\n",
              "      fill: #D2E3FC;\n",
              "    }\n",
              "\n",
              "    [theme=dark] .colab-df-convert:hover {\n",
              "      background-color: #434B5C;\n",
              "      box-shadow: 0px 1px 3px 1px rgba(0, 0, 0, 0.15);\n",
              "      filter: drop-shadow(0px 1px 2px rgba(0, 0, 0, 0.3));\n",
              "      fill: #FFFFFF;\n",
              "    }\n",
              "  </style>\n",
              "\n",
              "      <script>\n",
              "        const buttonEl =\n",
              "          document.querySelector('#df-7711ee19-d1fa-4394-b7ab-d638e4204fe9 button.colab-df-convert');\n",
              "        buttonEl.style.display =\n",
              "          google.colab.kernel.accessAllowed ? 'block' : 'none';\n",
              "\n",
              "        async function convertToInteractive(key) {\n",
              "          const element = document.querySelector('#df-7711ee19-d1fa-4394-b7ab-d638e4204fe9');\n",
              "          const dataTable =\n",
              "            await google.colab.kernel.invokeFunction('convertToInteractive',\n",
              "                                                     [key], {});\n",
              "          if (!dataTable) return;\n",
              "\n",
              "          const docLinkHtml = 'Like what you see? Visit the ' +\n",
              "            '<a target=\"_blank\" href=https://colab.research.google.com/notebooks/data_table.ipynb>data table notebook</a>'\n",
              "            + ' to learn more about interactive tables.';\n",
              "          element.innerHTML = '';\n",
              "          dataTable['output_type'] = 'display_data';\n",
              "          await google.colab.output.renderOutput(dataTable, element);\n",
              "          const docLink = document.createElement('div');\n",
              "          docLink.innerHTML = docLinkHtml;\n",
              "          element.appendChild(docLink);\n",
              "        }\n",
              "      </script>\n",
              "    </div>\n",
              "  </div>\n",
              "  "
            ]
          },
          "metadata": {},
          "execution_count": 9
        }
      ]
    },
    {
      "cell_type": "code",
      "source": [
        "bayes_linear_regression = BayesLinearRegressor(daily_stock_returns.drop([\"label\"],axis=1).shape[1])\n",
        "\n",
        "params_mu_seq = []\n",
        "params_std_seq = []\n",
        "for idx in range(len(daily_stock_returns)):\n",
        "    bayes_linear_regression.update(\n",
        "        daily_stock_returns.drop([\"label\"],axis=1).iloc[idx,:],\n",
        "        np.array([1]),\n",
        "    )\n",
        "\n",
        "    params_mu_seq.append(bayes_linear_regression.coef_.flatten())\n",
        "    params_std_seq.append(bayes_linear_regression.scale_)\n",
        "\n",
        "params_mu_seq = pd.DataFrame(params_mu_seq)\n",
        "params_std_seq = pd.DataFrame(params_std_seq)\n"
      ],
      "metadata": {
        "id": "ir8423Tlj1ez",
        "colab": {
          "base_uri": "https://localhost:8080/"
        },
        "outputId": "7ec31968-cc63-4899-ed0c-a03c62d9a48b"
      },
      "execution_count": 10,
      "outputs": [
        {
          "output_type": "stream",
          "name": "stderr",
          "text": [
            "/usr/local/lib/python3.7/dist-packages/ipykernel_launcher.py:25: FutureWarning: Support for multi-dimensional indexing (e.g. `obj[:, None]`) is deprecated and will be removed in a future version.  Convert to a numpy array before indexing instead.\n"
          ]
        }
      ]
    },
    {
      "cell_type": "code",
      "source": [
        "df_coeff = pd.DataFrame(daily_stock_returns.drop([\"label\"],axis=1).columns)\n",
        "df_coeff.columns = [\"TICKER\"]\n",
        "df_coeff[\"coeff\"] = bayes_linear_regression.coef_\n",
        "df_coeff[\"weight\"] = (df_coeff[\"coeff\"].abs() / df_coeff[\"coeff\"].abs().sum())"
      ],
      "metadata": {
        "id": "xTB_WXoqoBd8"
      },
      "execution_count": 11,
      "outputs": []
    },
    {
      "cell_type": "markdown",
      "source": [
        "df_coeff[\"weight\"] are the weights of the portfolio. It is very heavy towards bonds and commodities which is interesting"
      ],
      "metadata": {
        "id": "hXC0YmLMyhhX"
      }
    },
    {
      "cell_type": "code",
      "source": [
        "print()\n",
        "print(df_coeff.sum())"
      ],
      "metadata": {
        "colab": {
          "base_uri": "https://localhost:8080/"
        },
        "id": "eRsLqjPPoGs0",
        "outputId": "0f1001d1-9b04-4224-8821-b0d0a48ce5bd"
      },
      "execution_count": 12,
      "outputs": [
        {
          "output_type": "stream",
          "name": "stdout",
          "text": [
            "  TICKER      coeff    weight\n",
            "0  ^GSPC   8.134443  0.153105\n",
            "1  ^FTLC  -2.957161  0.055659\n",
            "2   ^RUT  -0.321098  0.006044\n",
            "3   IEUS   2.595754  0.048857\n",
            "4   GOVT  32.930695  0.619815\n",
            "5   IGOV  -4.178373  0.078644\n",
            "6   SIVR  -1.499229  0.028218\n",
            "7   SGOL   0.513158  0.009659\n",
            "TICKER    ^GSPC^FTLC^RUTIEUSGOVTIGOVSIVRSGOL\n",
            "coeff                              35.218189\n",
            "weight                                   1.0\n",
            "dtype: object\n"
          ]
        }
      ]
    },
    {
      "cell_type": "markdown",
      "source": [
        "## Format the weights"
      ],
      "metadata": {
        "id": "JfGWuUQ2liM0"
      }
    },
    {
      "cell_type": "code",
      "source": [
        "portfolio_weights = df_coeff[\"weight\"]#.to_frame().transpose() #pd.DataFrame(, columns=all_stocks)\n",
        "portfolio_weights = portfolio_weights.to_numpy().reshape(-1,8)\n",
        "portfolio_weights = pd.DataFrame(portfolio_weights, columns=all_stocks)\n",
        "portfolio_weights"
      ],
      "metadata": {
        "colab": {
          "base_uri": "https://localhost:8080/",
          "height": 81
        },
        "id": "hpcl8556mAPL",
        "outputId": "26d161b9-87cb-41bc-e938-c0cb72162ddc"
      },
      "execution_count": 56,
      "outputs": [
        {
          "output_type": "execute_result",
          "data": {
            "text/plain": [
              "      ^GSPC     ^FTLC      ^RUT      IEUS      GOVT      IGOV      SIVR  \\\n",
              "0  0.153105  0.055659  0.006044  0.048857  0.619815  0.078644  0.028218   \n",
              "\n",
              "       SGOL  \n",
              "0  0.009659  "
            ],
            "text/html": [
              "\n",
              "  <div id=\"df-77ad79de-f362-495e-8dc3-8da537cb0cee\">\n",
              "    <div class=\"colab-df-container\">\n",
              "      <div>\n",
              "<style scoped>\n",
              "    .dataframe tbody tr th:only-of-type {\n",
              "        vertical-align: middle;\n",
              "    }\n",
              "\n",
              "    .dataframe tbody tr th {\n",
              "        vertical-align: top;\n",
              "    }\n",
              "\n",
              "    .dataframe thead th {\n",
              "        text-align: right;\n",
              "    }\n",
              "</style>\n",
              "<table border=\"1\" class=\"dataframe\">\n",
              "  <thead>\n",
              "    <tr style=\"text-align: right;\">\n",
              "      <th></th>\n",
              "      <th>^GSPC</th>\n",
              "      <th>^FTLC</th>\n",
              "      <th>^RUT</th>\n",
              "      <th>IEUS</th>\n",
              "      <th>GOVT</th>\n",
              "      <th>IGOV</th>\n",
              "      <th>SIVR</th>\n",
              "      <th>SGOL</th>\n",
              "    </tr>\n",
              "  </thead>\n",
              "  <tbody>\n",
              "    <tr>\n",
              "      <th>0</th>\n",
              "      <td>0.153105</td>\n",
              "      <td>0.055659</td>\n",
              "      <td>0.006044</td>\n",
              "      <td>0.048857</td>\n",
              "      <td>0.619815</td>\n",
              "      <td>0.078644</td>\n",
              "      <td>0.028218</td>\n",
              "      <td>0.009659</td>\n",
              "    </tr>\n",
              "  </tbody>\n",
              "</table>\n",
              "</div>\n",
              "      <button class=\"colab-df-convert\" onclick=\"convertToInteractive('df-77ad79de-f362-495e-8dc3-8da537cb0cee')\"\n",
              "              title=\"Convert this dataframe to an interactive table.\"\n",
              "              style=\"display:none;\">\n",
              "        \n",
              "  <svg xmlns=\"http://www.w3.org/2000/svg\" height=\"24px\"viewBox=\"0 0 24 24\"\n",
              "       width=\"24px\">\n",
              "    <path d=\"M0 0h24v24H0V0z\" fill=\"none\"/>\n",
              "    <path d=\"M18.56 5.44l.94 2.06.94-2.06 2.06-.94-2.06-.94-.94-2.06-.94 2.06-2.06.94zm-11 1L8.5 8.5l.94-2.06 2.06-.94-2.06-.94L8.5 2.5l-.94 2.06-2.06.94zm10 10l.94 2.06.94-2.06 2.06-.94-2.06-.94-.94-2.06-.94 2.06-2.06.94z\"/><path d=\"M17.41 7.96l-1.37-1.37c-.4-.4-.92-.59-1.43-.59-.52 0-1.04.2-1.43.59L10.3 9.45l-7.72 7.72c-.78.78-.78 2.05 0 2.83L4 21.41c.39.39.9.59 1.41.59.51 0 1.02-.2 1.41-.59l7.78-7.78 2.81-2.81c.8-.78.8-2.07 0-2.86zM5.41 20L4 18.59l7.72-7.72 1.47 1.35L5.41 20z\"/>\n",
              "  </svg>\n",
              "      </button>\n",
              "      \n",
              "  <style>\n",
              "    .colab-df-container {\n",
              "      display:flex;\n",
              "      flex-wrap:wrap;\n",
              "      gap: 12px;\n",
              "    }\n",
              "\n",
              "    .colab-df-convert {\n",
              "      background-color: #E8F0FE;\n",
              "      border: none;\n",
              "      border-radius: 50%;\n",
              "      cursor: pointer;\n",
              "      display: none;\n",
              "      fill: #1967D2;\n",
              "      height: 32px;\n",
              "      padding: 0 0 0 0;\n",
              "      width: 32px;\n",
              "    }\n",
              "\n",
              "    .colab-df-convert:hover {\n",
              "      background-color: #E2EBFA;\n",
              "      box-shadow: 0px 1px 2px rgba(60, 64, 67, 0.3), 0px 1px 3px 1px rgba(60, 64, 67, 0.15);\n",
              "      fill: #174EA6;\n",
              "    }\n",
              "\n",
              "    [theme=dark] .colab-df-convert {\n",
              "      background-color: #3B4455;\n",
              "      fill: #D2E3FC;\n",
              "    }\n",
              "\n",
              "    [theme=dark] .colab-df-convert:hover {\n",
              "      background-color: #434B5C;\n",
              "      box-shadow: 0px 1px 3px 1px rgba(0, 0, 0, 0.15);\n",
              "      filter: drop-shadow(0px 1px 2px rgba(0, 0, 0, 0.3));\n",
              "      fill: #FFFFFF;\n",
              "    }\n",
              "  </style>\n",
              "\n",
              "      <script>\n",
              "        const buttonEl =\n",
              "          document.querySelector('#df-77ad79de-f362-495e-8dc3-8da537cb0cee button.colab-df-convert');\n",
              "        buttonEl.style.display =\n",
              "          google.colab.kernel.accessAllowed ? 'block' : 'none';\n",
              "\n",
              "        async function convertToInteractive(key) {\n",
              "          const element = document.querySelector('#df-77ad79de-f362-495e-8dc3-8da537cb0cee');\n",
              "          const dataTable =\n",
              "            await google.colab.kernel.invokeFunction('convertToInteractive',\n",
              "                                                     [key], {});\n",
              "          if (!dataTable) return;\n",
              "\n",
              "          const docLinkHtml = 'Like what you see? Visit the ' +\n",
              "            '<a target=\"_blank\" href=https://colab.research.google.com/notebooks/data_table.ipynb>data table notebook</a>'\n",
              "            + ' to learn more about interactive tables.';\n",
              "          element.innerHTML = '';\n",
              "          dataTable['output_type'] = 'display_data';\n",
              "          await google.colab.output.renderOutput(dataTable, element);\n",
              "          const docLink = document.createElement('div');\n",
              "          docLink.innerHTML = docLinkHtml;\n",
              "          element.appendChild(docLink);\n",
              "        }\n",
              "      </script>\n",
              "    </div>\n",
              "  </div>\n",
              "  "
            ]
          },
          "metadata": {},
          "execution_count": 56
        }
      ]
    },
    {
      "cell_type": "markdown",
      "source": [
        "## Benchmark on the Test Year Only"
      ],
      "metadata": {
        "id": "x9tDLEboUSQ1"
      }
    },
    {
      "cell_type": "markdown",
      "source": [
        "Note to self for now you multiply column by column. If indecies don't match you won't multiply"
      ],
      "metadata": {
        "id": "zrssa9elOTEy"
      }
    },
    {
      "cell_type": "code",
      "source": [
        "portfolio_weights = pd.Series([0.125, 0.125, 0.125, 0.125, 0.125, 0.125, 0.125, 0.125], index=all_stocks) # Defining an equally weighted portfolio\n",
        "initial_investment = 10000 # 10'000 dollar invesment. Can Change to 100'000 later \n",
        "trading_year = 252 # Number of trading days in a year\n",
        "stock_returns = stock_data.pct_change() "
      ],
      "metadata": {
        "id": "UDz4suN8GUyV"
      },
      "execution_count": 59,
      "outputs": []
    },
    {
      "cell_type": "code",
      "source": [
        "weighted_portfolio = portfolio_weights * initial_investment # Calculate the dollars invested in each asset in the portfolio\n",
        "num_of_shares = weighted_portfolio / stock_data.iloc[(-trading_year),:] # Calculate the number of shares owned of each asset in the portfolio\n",
        "portfolio_test_values = num_of_shares * stock_data.iloc[(-trading_year):,:] # share * share price = position value and it is done for each day in the trading year for all assets\n",
        "portfolio_test_values['Total'] = portfolio_test_values.sum(axis=1)\n",
        "portfolio_test_values"
      ],
      "metadata": {
        "colab": {
          "base_uri": "https://localhost:8080/",
          "height": 455
        },
        "id": "O8821DEyJcAz",
        "outputId": "9e237f8f-b8e1-477a-fe34-6a3147f61da5"
      },
      "execution_count": 60,
      "outputs": [
        {
          "output_type": "execute_result",
          "data": {
            "text/plain": [
              "                   GOVT         IEUS         IGOV         SGOL         SIVR  \\\n",
              "Date                                                                          \n",
              "2021-02-04  1250.000000  1250.000000  1250.000000  1250.000000  1250.000000   \n",
              "2021-02-05  1248.146167  1263.075659  1255.790325  1262.325992  1274.057428   \n",
              "2021-02-08  1248.609804  1269.906171  1257.179921  1274.651984  1296.641830   \n",
              "2021-02-09  1249.536631  1275.761125  1264.823100  1278.277218  1290.259310   \n",
              "2021-02-10  1251.854102  1269.906171  1263.201830  1283.352741  1280.930926   \n",
              "...                 ...          ...          ...          ...          ...   \n",
              "2022-02-17  1196.243125  1273.875805  1126.281228  1321.055652  1127.258440   \n",
              "2022-02-18  1199.051332  1258.851322  1124.886221  1319.605641  1131.186260   \n",
              "2022-02-22  1199.519263  1233.209563  1123.723686  1322.505801  1141.987484   \n",
              "2022-02-23  1193.903117  1219.787652  1119.073457  1329.031335  1162.608069   \n",
              "2022-02-24  1194.371137  1201.958612  1115.120731  1321.055652  1142.478461   \n",
              "\n",
              "                  ^FTLC        ^GSPC         ^RUT  label         Total  \n",
              "Date                                                                    \n",
              "2021-02-04  1250.000000  1250.000000  1250.000000    NaN  10000.000000  \n",
              "2021-02-05  1250.536441  1254.871869  1267.543292    NaN  10076.347172  \n",
              "2021-02-08  1256.135191  1264.157103  1299.570524    NaN  10166.852528  \n",
              "2021-02-09  1257.677317  1262.749433  1304.814750    NaN  10183.898884  \n",
              "2021-02-10  1255.263494  1262.313550  1295.415964    NaN  10162.238778  \n",
              "...                 ...          ...          ...    ...           ...  \n",
              "2022-02-17  1421.550287  1414.176758  1151.057722    NaN  10031.499017  \n",
              "2022-02-18  1415.716711  1404.042539  1140.410337    NaN   9993.750364  \n",
              "2022-02-22  1408.676346  1389.801412  1123.860409    NaN   9943.283964  \n",
              "2022-02-23  1407.670580  1364.212218  1103.382889    NaN   9899.669317  \n",
              "2022-02-24  1355.404285  1384.616544  1132.850501    NaN   9847.855922  \n",
              "\n",
              "[252 rows x 10 columns]"
            ],
            "text/html": [
              "\n",
              "  <div id=\"df-7c1819df-f031-4251-8598-9b8cbe27bcca\">\n",
              "    <div class=\"colab-df-container\">\n",
              "      <div>\n",
              "<style scoped>\n",
              "    .dataframe tbody tr th:only-of-type {\n",
              "        vertical-align: middle;\n",
              "    }\n",
              "\n",
              "    .dataframe tbody tr th {\n",
              "        vertical-align: top;\n",
              "    }\n",
              "\n",
              "    .dataframe thead th {\n",
              "        text-align: right;\n",
              "    }\n",
              "</style>\n",
              "<table border=\"1\" class=\"dataframe\">\n",
              "  <thead>\n",
              "    <tr style=\"text-align: right;\">\n",
              "      <th></th>\n",
              "      <th>GOVT</th>\n",
              "      <th>IEUS</th>\n",
              "      <th>IGOV</th>\n",
              "      <th>SGOL</th>\n",
              "      <th>SIVR</th>\n",
              "      <th>^FTLC</th>\n",
              "      <th>^GSPC</th>\n",
              "      <th>^RUT</th>\n",
              "      <th>label</th>\n",
              "      <th>Total</th>\n",
              "    </tr>\n",
              "    <tr>\n",
              "      <th>Date</th>\n",
              "      <th></th>\n",
              "      <th></th>\n",
              "      <th></th>\n",
              "      <th></th>\n",
              "      <th></th>\n",
              "      <th></th>\n",
              "      <th></th>\n",
              "      <th></th>\n",
              "      <th></th>\n",
              "      <th></th>\n",
              "    </tr>\n",
              "  </thead>\n",
              "  <tbody>\n",
              "    <tr>\n",
              "      <th>2021-02-04</th>\n",
              "      <td>1250.000000</td>\n",
              "      <td>1250.000000</td>\n",
              "      <td>1250.000000</td>\n",
              "      <td>1250.000000</td>\n",
              "      <td>1250.000000</td>\n",
              "      <td>1250.000000</td>\n",
              "      <td>1250.000000</td>\n",
              "      <td>1250.000000</td>\n",
              "      <td>NaN</td>\n",
              "      <td>10000.000000</td>\n",
              "    </tr>\n",
              "    <tr>\n",
              "      <th>2021-02-05</th>\n",
              "      <td>1248.146167</td>\n",
              "      <td>1263.075659</td>\n",
              "      <td>1255.790325</td>\n",
              "      <td>1262.325992</td>\n",
              "      <td>1274.057428</td>\n",
              "      <td>1250.536441</td>\n",
              "      <td>1254.871869</td>\n",
              "      <td>1267.543292</td>\n",
              "      <td>NaN</td>\n",
              "      <td>10076.347172</td>\n",
              "    </tr>\n",
              "    <tr>\n",
              "      <th>2021-02-08</th>\n",
              "      <td>1248.609804</td>\n",
              "      <td>1269.906171</td>\n",
              "      <td>1257.179921</td>\n",
              "      <td>1274.651984</td>\n",
              "      <td>1296.641830</td>\n",
              "      <td>1256.135191</td>\n",
              "      <td>1264.157103</td>\n",
              "      <td>1299.570524</td>\n",
              "      <td>NaN</td>\n",
              "      <td>10166.852528</td>\n",
              "    </tr>\n",
              "    <tr>\n",
              "      <th>2021-02-09</th>\n",
              "      <td>1249.536631</td>\n",
              "      <td>1275.761125</td>\n",
              "      <td>1264.823100</td>\n",
              "      <td>1278.277218</td>\n",
              "      <td>1290.259310</td>\n",
              "      <td>1257.677317</td>\n",
              "      <td>1262.749433</td>\n",
              "      <td>1304.814750</td>\n",
              "      <td>NaN</td>\n",
              "      <td>10183.898884</td>\n",
              "    </tr>\n",
              "    <tr>\n",
              "      <th>2021-02-10</th>\n",
              "      <td>1251.854102</td>\n",
              "      <td>1269.906171</td>\n",
              "      <td>1263.201830</td>\n",
              "      <td>1283.352741</td>\n",
              "      <td>1280.930926</td>\n",
              "      <td>1255.263494</td>\n",
              "      <td>1262.313550</td>\n",
              "      <td>1295.415964</td>\n",
              "      <td>NaN</td>\n",
              "      <td>10162.238778</td>\n",
              "    </tr>\n",
              "    <tr>\n",
              "      <th>...</th>\n",
              "      <td>...</td>\n",
              "      <td>...</td>\n",
              "      <td>...</td>\n",
              "      <td>...</td>\n",
              "      <td>...</td>\n",
              "      <td>...</td>\n",
              "      <td>...</td>\n",
              "      <td>...</td>\n",
              "      <td>...</td>\n",
              "      <td>...</td>\n",
              "    </tr>\n",
              "    <tr>\n",
              "      <th>2022-02-17</th>\n",
              "      <td>1196.243125</td>\n",
              "      <td>1273.875805</td>\n",
              "      <td>1126.281228</td>\n",
              "      <td>1321.055652</td>\n",
              "      <td>1127.258440</td>\n",
              "      <td>1421.550287</td>\n",
              "      <td>1414.176758</td>\n",
              "      <td>1151.057722</td>\n",
              "      <td>NaN</td>\n",
              "      <td>10031.499017</td>\n",
              "    </tr>\n",
              "    <tr>\n",
              "      <th>2022-02-18</th>\n",
              "      <td>1199.051332</td>\n",
              "      <td>1258.851322</td>\n",
              "      <td>1124.886221</td>\n",
              "      <td>1319.605641</td>\n",
              "      <td>1131.186260</td>\n",
              "      <td>1415.716711</td>\n",
              "      <td>1404.042539</td>\n",
              "      <td>1140.410337</td>\n",
              "      <td>NaN</td>\n",
              "      <td>9993.750364</td>\n",
              "    </tr>\n",
              "    <tr>\n",
              "      <th>2022-02-22</th>\n",
              "      <td>1199.519263</td>\n",
              "      <td>1233.209563</td>\n",
              "      <td>1123.723686</td>\n",
              "      <td>1322.505801</td>\n",
              "      <td>1141.987484</td>\n",
              "      <td>1408.676346</td>\n",
              "      <td>1389.801412</td>\n",
              "      <td>1123.860409</td>\n",
              "      <td>NaN</td>\n",
              "      <td>9943.283964</td>\n",
              "    </tr>\n",
              "    <tr>\n",
              "      <th>2022-02-23</th>\n",
              "      <td>1193.903117</td>\n",
              "      <td>1219.787652</td>\n",
              "      <td>1119.073457</td>\n",
              "      <td>1329.031335</td>\n",
              "      <td>1162.608069</td>\n",
              "      <td>1407.670580</td>\n",
              "      <td>1364.212218</td>\n",
              "      <td>1103.382889</td>\n",
              "      <td>NaN</td>\n",
              "      <td>9899.669317</td>\n",
              "    </tr>\n",
              "    <tr>\n",
              "      <th>2022-02-24</th>\n",
              "      <td>1194.371137</td>\n",
              "      <td>1201.958612</td>\n",
              "      <td>1115.120731</td>\n",
              "      <td>1321.055652</td>\n",
              "      <td>1142.478461</td>\n",
              "      <td>1355.404285</td>\n",
              "      <td>1384.616544</td>\n",
              "      <td>1132.850501</td>\n",
              "      <td>NaN</td>\n",
              "      <td>9847.855922</td>\n",
              "    </tr>\n",
              "  </tbody>\n",
              "</table>\n",
              "<p>252 rows × 10 columns</p>\n",
              "</div>\n",
              "      <button class=\"colab-df-convert\" onclick=\"convertToInteractive('df-7c1819df-f031-4251-8598-9b8cbe27bcca')\"\n",
              "              title=\"Convert this dataframe to an interactive table.\"\n",
              "              style=\"display:none;\">\n",
              "        \n",
              "  <svg xmlns=\"http://www.w3.org/2000/svg\" height=\"24px\"viewBox=\"0 0 24 24\"\n",
              "       width=\"24px\">\n",
              "    <path d=\"M0 0h24v24H0V0z\" fill=\"none\"/>\n",
              "    <path d=\"M18.56 5.44l.94 2.06.94-2.06 2.06-.94-2.06-.94-.94-2.06-.94 2.06-2.06.94zm-11 1L8.5 8.5l.94-2.06 2.06-.94-2.06-.94L8.5 2.5l-.94 2.06-2.06.94zm10 10l.94 2.06.94-2.06 2.06-.94-2.06-.94-.94-2.06-.94 2.06-2.06.94z\"/><path d=\"M17.41 7.96l-1.37-1.37c-.4-.4-.92-.59-1.43-.59-.52 0-1.04.2-1.43.59L10.3 9.45l-7.72 7.72c-.78.78-.78 2.05 0 2.83L4 21.41c.39.39.9.59 1.41.59.51 0 1.02-.2 1.41-.59l7.78-7.78 2.81-2.81c.8-.78.8-2.07 0-2.86zM5.41 20L4 18.59l7.72-7.72 1.47 1.35L5.41 20z\"/>\n",
              "  </svg>\n",
              "      </button>\n",
              "      \n",
              "  <style>\n",
              "    .colab-df-container {\n",
              "      display:flex;\n",
              "      flex-wrap:wrap;\n",
              "      gap: 12px;\n",
              "    }\n",
              "\n",
              "    .colab-df-convert {\n",
              "      background-color: #E8F0FE;\n",
              "      border: none;\n",
              "      border-radius: 50%;\n",
              "      cursor: pointer;\n",
              "      display: none;\n",
              "      fill: #1967D2;\n",
              "      height: 32px;\n",
              "      padding: 0 0 0 0;\n",
              "      width: 32px;\n",
              "    }\n",
              "\n",
              "    .colab-df-convert:hover {\n",
              "      background-color: #E2EBFA;\n",
              "      box-shadow: 0px 1px 2px rgba(60, 64, 67, 0.3), 0px 1px 3px 1px rgba(60, 64, 67, 0.15);\n",
              "      fill: #174EA6;\n",
              "    }\n",
              "\n",
              "    [theme=dark] .colab-df-convert {\n",
              "      background-color: #3B4455;\n",
              "      fill: #D2E3FC;\n",
              "    }\n",
              "\n",
              "    [theme=dark] .colab-df-convert:hover {\n",
              "      background-color: #434B5C;\n",
              "      box-shadow: 0px 1px 3px 1px rgba(0, 0, 0, 0.15);\n",
              "      filter: drop-shadow(0px 1px 2px rgba(0, 0, 0, 0.3));\n",
              "      fill: #FFFFFF;\n",
              "    }\n",
              "  </style>\n",
              "\n",
              "      <script>\n",
              "        const buttonEl =\n",
              "          document.querySelector('#df-7c1819df-f031-4251-8598-9b8cbe27bcca button.colab-df-convert');\n",
              "        buttonEl.style.display =\n",
              "          google.colab.kernel.accessAllowed ? 'block' : 'none';\n",
              "\n",
              "        async function convertToInteractive(key) {\n",
              "          const element = document.querySelector('#df-7c1819df-f031-4251-8598-9b8cbe27bcca');\n",
              "          const dataTable =\n",
              "            await google.colab.kernel.invokeFunction('convertToInteractive',\n",
              "                                                     [key], {});\n",
              "          if (!dataTable) return;\n",
              "\n",
              "          const docLinkHtml = 'Like what you see? Visit the ' +\n",
              "            '<a target=\"_blank\" href=https://colab.research.google.com/notebooks/data_table.ipynb>data table notebook</a>'\n",
              "            + ' to learn more about interactive tables.';\n",
              "          element.innerHTML = '';\n",
              "          dataTable['output_type'] = 'display_data';\n",
              "          await google.colab.output.renderOutput(dataTable, element);\n",
              "          const docLink = document.createElement('div');\n",
              "          docLink.innerHTML = docLinkHtml;\n",
              "          element.appendChild(docLink);\n",
              "        }\n",
              "      </script>\n",
              "    </div>\n",
              "  </div>\n",
              "  "
            ]
          },
          "metadata": {},
          "execution_count": 60
        }
      ]
    },
    {
      "cell_type": "markdown",
      "source": [
        "### Plot the portfolio"
      ],
      "metadata": {
        "id": "gE0p1eIthATB"
      }
    },
    {
      "cell_type": "code",
      "source": [
        "portfolio_test_values['Total'].plot() # Need to pretty this up for the dssertation"
      ],
      "metadata": {
        "colab": {
          "base_uri": "https://localhost:8080/",
          "height": 296
        },
        "id": "QAz2ZtdrhEDW",
        "outputId": "981ee7a0-c4bf-4c74-9f4a-308b7bf6f290"
      },
      "execution_count": 61,
      "outputs": [
        {
          "output_type": "execute_result",
          "data": {
            "text/plain": [
              "<matplotlib.axes._subplots.AxesSubplot at 0x7f3bef6fba10>"
            ]
          },
          "metadata": {},
          "execution_count": 61
        },
        {
          "output_type": "display_data",
          "data": {
            "text/plain": [
              "<Figure size 432x288 with 1 Axes>"
            ],
            "image/png": "[encoded data removed]"
          },
          "metadata": {
            "needs_background": "light"
          }
        }
      ]
    },
    {
      "cell_type": "markdown",
      "source": [
        "### Plot the Individual Assets"
      ],
      "metadata": {
        "id": "1YhvXTIDhCtZ"
      }
    },
    {
      "cell_type": "code",
      "source": [
        "# Plotted on the same graph to see general trend\n",
        "figure = plt.figure()\n",
        "axis = plt.plot(portfolio_test_values.iloc[:,0:1], label='^GSPC')\n",
        "axis = plt.plot(portfolio_test_values.iloc[:,1:2], label='^FTLC')\n",
        "axis = plt.plot(portfolio_test_values.iloc[:,2:3], label='^RUT')\n",
        "axis = plt.plot(portfolio_test_values.iloc[:,3:4], label='IEUS')\n",
        "\n",
        "axis = plt.plot(portfolio_test_values.iloc[:,4:5], label='GOVT')\n",
        "axis = plt.plot(portfolio_test_values.iloc[:,5:6], label='IGOV')\n",
        "axis = plt.plot(portfolio_test_values.iloc[:,6:7], label='SIVR')\n",
        "axis = plt.plot(portfolio_test_values.iloc[:,7:8], label='SGOL')\n",
        "plt.tight_layout()\n",
        "plt.legend()\n",
        "plt.show()"
      ],
      "metadata": {
        "colab": {
          "base_uri": "https://localhost:8080/",
          "height": 297
        },
        "id": "ASQAbUAHe3xl",
        "outputId": "4cf01683-f590-4bfa-c49e-6a30c8838537"
      },
      "execution_count": 62,
      "outputs": [
        {
          "output_type": "display_data",
          "data": {
            "text/plain": [
              "<Figure size 432x288 with 1 Axes>"
            ],
            "image/png": "[encoded data removed]"
          },
          "metadata": {
            "needs_background": "light"
          }
        }
      ]
    },
    {
      "cell_type": "code",
      "source": [
        "for i in range(1,8):\n",
        "  portfolio_test_values.iloc[:,(i-1):i].plot()\n",
        "  plt.tight_layout()\n",
        "  plt.show()"
      ],
      "metadata": {
        "colab": {
          "base_uri": "https://localhost:8080/",
          "height": 1000
        },
        "id": "Te5c6MZ7mrpx",
        "outputId": "4ae11a2b-efac-46a1-df51-938bc0e6de71"
      },
      "execution_count": 63,
      "outputs": [
        {
          "output_type": "display_data",
          "data": {
            "text/plain": [
              "<Figure size 432x288 with 1 Axes>"
            ],
            "image/png": "[encoded data removed]"
          },
          "metadata": {
            "needs_background": "light"
          }
        },
        {
          "output_type": "display_data",
          "data": {
            "text/plain": [
              "<Figure size 432x288 with 1 Axes>"
            ],
            "image/png": "[encoded data removed]"
          },
          "metadata": {
            "needs_background": "light"
          }
        },
        {
          "output_type": "display_data",
          "data": {
            "text/plain": [
              "<Figure size 432x288 with 1 Axes>"
            ],
            "image/png": "[encoded data removed]"
          },
          "metadata": {
            "needs_background": "light"
          }
        },
        {
          "output_type": "display_data",
          "data": {
            "text/plain": [
              "<Figure size 432x288 with 1 Axes>"
            ],
            "image/png": "[encoded data removed]"
          },
          "metadata": {
            "needs_background": "light"
          }
        },
        {
          "output_type": "display_data",
          "data": {
            "text/plain": [
              "<Figure size 432x288 with 1 Axes>"
            ],
            "image/png": "[encoded data removed]"
          },
          "metadata": {
            "needs_background": "light"
          }
        },
        {
          "output_type": "display_data",
          "data": {
            "text/plain": [
              "<Figure size 432x288 with 1 Axes>"
            ],
            "image/png": "[encoded data removed]"
          },
          "metadata": {
            "needs_background": "light"
          }
        },
        {
          "output_type": "display_data",
          "data": {
            "text/plain": [
              "<Figure size 432x288 with 1 Axes>"
            ],
            "image/png": "[encoded data removed]"
          },
          "metadata": {
            "needs_background": "light"
          }
        }
      ]
    },
    {
      "cell_type": "markdown",
      "source": [
        "# Analyse the Test Year"
      ],
      "metadata": {
        "id": "1oIDwjllnZo5"
      }
    },
    {
      "cell_type": "markdown",
      "source": [
        "## Sharpe Ratio"
      ],
      "metadata": {
        "id": "YiV1QxPpnnaz"
      }
    },
    {
      "cell_type": "code",
      "source": [
        "#daily_stock_returns = portfolio_position_values.pct_change().dropna() # Analysing holding such portfolio position from the start\n",
        "daily_stock_returns = portfolio_test_values.pct_change().dropna()\n",
        "#print(daily_stock_returns.iloc[250,:-1])\n",
        "# To calculate sharpie ratio for individual stocks \n",
        "def sharpe_ratio(return_series, N, rf):\n",
        "    mean = return_series.mean() * N -rf\n",
        "    sigma = return_series.std() * np.sqrt(N)\n",
        "    return mean / sigma\n",
        "\n",
        "N = 252 #252 trading days in a year\n",
        "rf =0 #1% risk free rate Will need to update this to the US treasury field or something. I assume this to be 0 in my dissertation\n",
        "#The risk-free rate could be a U.S. Treasury rate or yield, such as the one-year or two-year Treasury yield.\n",
        "sharpes = daily_stock_returns.apply(sharpe_ratio, args=(N,rf,),axis=0)\n",
        "#total_stock_returns = daily_stock_returns.iloc[250,:-1]\n",
        "#sharpes2 = sharpe_ratio(total_stock_returns, N, rf)\n",
        "#print(total_stock_returns)\n",
        "# Need to look at the returns which price doesn't give\n",
        "#print(portfolio_test_values.iloc[251:252,:].drop([\"date\"],axis=1))\n",
        "#print(portfolio_test_values.iloc[251:252,:].reset_index().drop(\"Date\", axis=1))\n",
        "#val_returns = (portfolio_test_values.iloc[251:252,:].reset_index().drop(\"Date\", axis=1) - portfolio_test_values.iloc[0:1,:].reset_index().drop(\"Date\", axis=1) ) /  portfolio_test_values.iloc[0:1,:].reset_index().drop(\"Date\", axis=1)\n",
        "#print(portfolio_test_values.diff())\n",
        "#sharpes2 = portfolio_test_values.diff().apply(sharpe_ratio, args=(N,rf,),axis=0)\n",
        "#print(sharpes2)\n",
        "sharpes.plot.bar()\n",
        "sharpes"
      ],
      "metadata": {
        "colab": {
          "base_uri": "https://localhost:8080/",
          "height": 502
        },
        "id": "5j0NlsCDoEpV",
        "outputId": "f76c1f66-f648-4b0e-eb01-4194924e1e62"
      },
      "execution_count": 64,
      "outputs": [
        {
          "output_type": "execute_result",
          "data": {
            "text/plain": [
              "GOVT    NaN\n",
              "IEUS    NaN\n",
              "IGOV    NaN\n",
              "SGOL    NaN\n",
              "SIVR    NaN\n",
              "^FTLC   NaN\n",
              "^GSPC   NaN\n",
              "^RUT    NaN\n",
              "label   NaN\n",
              "Total   NaN\n",
              "dtype: float64"
            ]
          },
          "metadata": {},
          "execution_count": 64
        },
        {
          "output_type": "display_data",
          "data": {
            "text/plain": [
              "<Figure size 432x288 with 1 Axes>"
            ],
            "image/png": "[encoded data removed]"
          },
          "metadata": {
            "needs_background": "light"
          }
        }
      ]
    },
    {
      "cell_type": "markdown",
      "source": [
        "## Volatility"
      ],
      "metadata": {
        "id": "a3ol81j1onsk"
      }
    },
    {
      "cell_type": "markdown",
      "source": [
        "### Individual Stock Volatility"
      ],
      "metadata": {
        "id": "2Og6XfRLvrqr"
      }
    },
    {
      "cell_type": "markdown",
      "source": [
        "#### Rolling Volatilty for Each stock"
      ],
      "metadata": {
        "id": "mY4OONPS1Uz_"
      }
    },
    {
      "cell_type": "code",
      "source": [
        "#data = portfolio_position_values.pct_change().dropna() # Analysing holding such portfolio position from the start\n",
        "rolling_stock = pd.DataFrame()\n",
        "data = portfolio_test_values.pct_change().dropna()\n",
        "for stock in all_stocks:\n",
        "  rolling_stock[stock] = data[stock].rolling(7).std()*(252**0.5)\n",
        "f1 = plt.figure()\n",
        "for i in range(0,7):\n",
        "  rolling_stock.iloc[:,i].plot()\n",
        "  plt.tight_layout()\n",
        "  #plt.show() # To display in separate graphs instead of 1"
      ],
      "metadata": {
        "colab": {
          "base_uri": "https://localhost:8080/",
          "height": 297
        },
        "id": "9Zc8OPdqx421",
        "outputId": "299e0ab4-7c4d-42a0-ad00-2b1c8422dcdf"
      },
      "execution_count": 65,
      "outputs": [
        {
          "output_type": "display_data",
          "data": {
            "text/plain": [
              "<Figure size 432x288 with 1 Axes>"
            ],
            "image/png": "[encoded data removed]"
          },
          "metadata": {
            "needs_background": "light"
          }
        }
      ]
    },
    {
      "cell_type": "markdown",
      "source": [
        "#### Anualised volatility for Each Stock"
      ],
      "metadata": {
        "id": "MDOiJi5Q03bn"
      }
    },
    {
      "cell_type": "code",
      "source": [
        "#data = portfolio_position_values.pct_change().dropna() # Analysing holding such portfolio position from the start\n",
        "stock_volatility = pd.DataFrame()\n",
        "data = portfolio_test_values.pct_change().dropna()\n",
        "tmp = pd.DataFrame()\n",
        "i = 0 \n",
        "for stock in all_stocks:\n",
        "  tmp[stock] = data.iloc[:,i:(i+1)]\n",
        "  stock_volatility = tmp.std()*(252**0.5)\n",
        "  i = i + 1\n",
        "print(stock_volatility)"
      ],
      "metadata": {
        "colab": {
          "base_uri": "https://localhost:8080/"
        },
        "id": "qZTilRKUzSFO",
        "outputId": "813c94b8-4c06-463b-fe33-94a3289ad92b"
      },
      "execution_count": 66,
      "outputs": [
        {
          "output_type": "stream",
          "name": "stdout",
          "text": [
            "^GSPC   NaN\n",
            "^FTLC   NaN\n",
            "^RUT    NaN\n",
            "IEUS    NaN\n",
            "GOVT    NaN\n",
            "IGOV    NaN\n",
            "SIVR    NaN\n",
            "SGOL    NaN\n",
            "dtype: float64\n"
          ]
        }
      ]
    },
    {
      "cell_type": "markdown",
      "source": [
        "### Portfolio Volatility"
      ],
      "metadata": {
        "id": "K22vlVhovwjH"
      }
    },
    {
      "cell_type": "markdown",
      "source": [
        "#### Just the Anualised Volatility for the Portfolio"
      ],
      "metadata": {
        "id": "MreARAfmy5Tx"
      }
    },
    {
      "cell_type": "code",
      "source": [
        "total_portfolio_change = portfolio_test_values['Total'].pct_change().dropna()\n",
        "portfolio_vol = total_portfolio_change.std()*(252**0.5)\n",
        "portfolio_vol"
      ],
      "metadata": {
        "colab": {
          "base_uri": "https://localhost:8080/"
        },
        "id": "p-TrycZSrEAF",
        "outputId": "2759b4cc-6f09-4b0a-d4ec-d97cdbec8a3d"
      },
      "execution_count": 67,
      "outputs": [
        {
          "output_type": "execute_result",
          "data": {
            "text/plain": [
              "0.09713137131595187"
            ]
          },
          "metadata": {},
          "execution_count": 67
        }
      ]
    },
    {
      "cell_type": "markdown",
      "source": [
        "## Maximum Drawdown"
      ],
      "metadata": {
        "id": "3OpjwwfunpmH"
      }
    },
    {
      "cell_type": "code",
      "source": [
        "def max_drawdown(return_series):\n",
        "    comp_ret = (return_series+1).cumprod()\n",
        "    peak = comp_ret.expanding(min_periods=1).max()\n",
        "    dd = (comp_ret/peak)-1\n",
        "    return dd.min()\n",
        "\n",
        "daily_stock_returns = portfolio_test_values.pct_change().dropna()\n",
        "max_drawdowns = daily_stock_returns.apply(max_drawdown,axis=0)\n",
        "max_drawdowns.plot.bar()\n",
        "plt.ylabel('Max Drawdown')\n",
        "max_drawdowns"
      ],
      "metadata": {
        "colab": {
          "base_uri": "https://localhost:8080/",
          "height": 502
        },
        "id": "m0-mPR9VoPTE",
        "outputId": "84c09d88-d86b-482c-a312-cc481aae9a84"
      },
      "execution_count": 68,
      "outputs": [
        {
          "output_type": "execute_result",
          "data": {
            "text/plain": [
              "GOVT    NaN\n",
              "IEUS    NaN\n",
              "IGOV    NaN\n",
              "SGOL    NaN\n",
              "SIVR    NaN\n",
              "^FTLC   NaN\n",
              "^GSPC   NaN\n",
              "^RUT    NaN\n",
              "label   NaN\n",
              "Total   NaN\n",
              "dtype: float64"
            ]
          },
          "metadata": {},
          "execution_count": 68
        },
        {
          "output_type": "display_data",
          "data": {
            "text/plain": [
              "<Figure size 432x288 with 1 Axes>"
            ],
            "image/png": "[encoded data removed]"
          },
          "metadata": {
            "needs_background": "light"
          }
        }
      ]
    },
    {
      "cell_type": "markdown",
      "source": [
        "## Compound Annual Growth Rate (CARG)"
      ],
      "metadata": {
        "id": "gehqsfUbnvUx"
      }
    },
    {
      "cell_type": "code",
      "source": [
        "start_value = portfolio_test_values.iloc[0,:]\n",
        "end_value = portfolio_test_values.iloc[-1,:]\n",
        "number_of_years =  round(len(portfolio_test_values)/252)\n",
        "CARG = (((end_value / start_value) ** (1/number_of_years)) -1)# Shows % of values\n",
        "CARG"
      ],
      "metadata": {
        "colab": {
          "base_uri": "https://localhost:8080/"
        },
        "id": "cbyG1U8PtjiW",
        "outputId": "c851b7ab-b893-4f93-d2d0-22fba8a697d6"
      },
      "execution_count": 69,
      "outputs": [
        {
          "output_type": "execute_result",
          "data": {
            "text/plain": [
              "GOVT    -0.044503\n",
              "IEUS    -0.038433\n",
              "IGOV    -0.107903\n",
              "SGOL     0.056845\n",
              "SIVR    -0.086017\n",
              "^FTLC    0.084323\n",
              "^GSPC    0.107693\n",
              "^RUT    -0.093720\n",
              "label         NaN\n",
              "Total   -0.015214\n",
              "dtype: float64"
            ]
          },
          "metadata": {},
          "execution_count": 69
        }
      ]
    },
    {
      "cell_type": "markdown",
      "source": [
        "## Calmar Ratio"
      ],
      "metadata": {
        "id": "k9vlY18Jn09e"
      }
    },
    {
      "cell_type": "code",
      "source": [
        "#daily_stock_returns = portfolio_position_values.pct_change().dropna() # Analysing holding such portfolio position from the start\n",
        "daily_stock_returns = portfolio_test_values.pct_change().dropna()\n",
        "\n",
        "calmars = daily_stock_returns.mean()*255/abs(max_drawdowns)\n",
        "\n",
        "calmars.plot.bar()\n",
        "plt.ylabel('Calmar ratio')\n",
        "calmars"
      ],
      "metadata": {
        "colab": {
          "base_uri": "https://localhost:8080/",
          "height": 502
        },
        "id": "VoRp1tp9owR7",
        "outputId": "e193280f-c9d9-46c7-fea9-8512364b1c99"
      },
      "execution_count": 70,
      "outputs": [
        {
          "output_type": "execute_result",
          "data": {
            "text/plain": [
              "GOVT    NaN\n",
              "IEUS    NaN\n",
              "IGOV    NaN\n",
              "SGOL    NaN\n",
              "SIVR    NaN\n",
              "^FTLC   NaN\n",
              "^GSPC   NaN\n",
              "^RUT    NaN\n",
              "label   NaN\n",
              "Total   NaN\n",
              "dtype: float64"
            ]
          },
          "metadata": {},
          "execution_count": 70
        },
        {
          "output_type": "display_data",
          "data": {
            "text/plain": [
              "<Figure size 432x288 with 1 Axes>"
            ],
            "image/png": "[encoded data removed]"
          },
          "metadata": {
            "needs_background": "light"
          }
        }
      ]
    },
    {
      "cell_type": "markdown",
      "source": [
        "## Value at Risk? Haven't decided if I want to include this or not"
      ],
      "metadata": {
        "id": "kNrEjrHtn6tf"
      }
    },
    {
      "cell_type": "markdown",
      "source": [
        "# Export the Benchmark for the Test Year to a CSV"
      ],
      "metadata": {
        "id": "n_cJX947XOr9"
      }
    },
    {
      "cell_type": "code",
      "source": [
        "from google.colab import drive\n",
        "drive.mount('drive')"
      ],
      "metadata": {
        "colab": {
          "base_uri": "https://localhost:8080/"
        },
        "id": "uBIyR-8pZ3_y",
        "outputId": "f24714fc-f384-4b85-f9ea-5a8960340387"
      },
      "execution_count": 71,
      "outputs": [
        {
          "output_type": "stream",
          "name": "stdout",
          "text": [
            "Mounted at drive\n"
          ]
        }
      ]
    },
    {
      "cell_type": "code",
      "source": [
        "portfolio_test_values.to_csv('BayesianLinearRegressionData.csv')"
      ],
      "metadata": {
        "id": "abcVtYS6XXZ7"
      },
      "execution_count": 72,
      "outputs": []
    },
    {
      "cell_type": "code",
      "source": [
        "portfolio_test_values.to_csv('BayesianLinearRegressionWeights.csv')"
      ],
      "metadata": {
        "id": "hOIjeZ4Mlwsc"
      },
      "execution_count": 73,
      "outputs": []
    },
    {
      "cell_type": "code",
      "source": [
        "!cp BayesianLinearRegressionData.csv \"drive/My Drive/DisData\""
      ],
      "metadata": {
        "id": "ffx_dWWJZlhj"
      },
      "execution_count": 74,
      "outputs": []
    },
    {
      "cell_type": "code",
      "source": [
        "!cp BayesianLinearRegressionWeights.csv \"drive/My Drive/DisData\""
      ],
      "metadata": {
        "id": "N6bYXzz4l8YS"
      },
      "execution_count": 75,
      "outputs": []
    }
  ]
}