{
  "nbformat": 4,
  "nbformat_minor": 0,
  "metadata": {
    "colab": {
      "name": "Hidden Markov Model Clean Final.ipynb",
      "provenance": [],
      "collapsed_sections": [
        "SvdfZf9TFyiQ",
        "T6fqpiT7GE1N",
        "fkhLgRzCEVfL",
        "-Q99Lk_3Ejt3",
        "Jf3RUH6Bg2Ja",
        "0S0IVt6Hbn3g"
      ]
    },
    "kernelspec": {
      "name": "python3",
      "display_name": "Python 3"
    },
    "language_info": {
      "name": "python"
    }
  },
  "cells": [
    {
      "cell_type": "markdown",
      "source": [
        "# Setup Libraries"
      ],
      "metadata": {
        "id": "SvdfZf9TFyiQ"
      }
    },
    {
      "cell_type": "markdown",
      "source": [
        "Needed in google colab"
      ],
      "metadata": {
        "id": "JQwxG5G0F5xj"
      }
    },
    {
      "cell_type": "code",
      "execution_count": 1,
      "metadata": {
        "colab": {
          "base_uri": "https://localhost:8080/"
        },
        "id": "RM149AzLYri6",
        "outputId": "4d8b3d89-b50b-4dea-ca5b-ff11f6cd878e"
      },
      "outputs": [
        {
          "output_type": "stream",
          "name": "stdout",
          "text": [
            "Collecting yfinance\n",
            "  Downloading yfinance-0.1.70-py2.py3-none-any.whl (26 kB)\n",
            "Requirement already satisfied: multitasking>=0.0.7 in /usr/local/lib/python3.7/dist-packages (from yfinance) (0.0.10)\n",
            "Collecting requests>=2.26\n",
            "  Downloading requests-2.27.1-py2.py3-none-any.whl (63 kB)\n",
            "\u001b[K     |████████████████████████████████| 63 kB 1.3 MB/s \n",
            "\u001b[?25hRequirement already satisfied: pandas>=0.24.0 in /usr/local/lib/python3.7/dist-packages (from yfinance) (1.3.5)\n",
            "Collecting lxml>=4.5.1\n",
            "  Downloading lxml-4.8.0-cp37-cp37m-manylinux_2_17_x86_64.manylinux2014_x86_64.manylinux_2_24_x86_64.whl (6.4 MB)\n",
            "\u001b[K     |████████████████████████████████| 6.4 MB 12.2 MB/s \n",
            "\u001b[?25hRequirement already satisfied: numpy>=1.15 in /usr/local/lib/python3.7/dist-packages (from yfinance) (1.21.6)\n",
            "Requirement already satisfied: python-dateutil>=2.7.3 in /usr/local/lib/python3.7/dist-packages (from pandas>=0.24.0->yfinance) (2.8.2)\n",
            "Requirement already satisfied: pytz>=2017.3 in /usr/local/lib/python3.7/dist-packages (from pandas>=0.24.0->yfinance) (2022.1)\n",
            "Requirement already satisfied: six>=1.5 in /usr/local/lib/python3.7/dist-packages (from python-dateutil>=2.7.3->pandas>=0.24.0->yfinance) (1.15.0)\n",
            "Requirement already satisfied: charset-normalizer~=2.0.0 in /usr/local/lib/python3.7/dist-packages (from requests>=2.26->yfinance) (2.0.12)\n",
            "Requirement already satisfied: certifi>=2017.4.17 in /usr/local/lib/python3.7/dist-packages (from requests>=2.26->yfinance) (2021.10.8)\n",
            "Requirement already satisfied: idna<4,>=2.5 in /usr/local/lib/python3.7/dist-packages (from requests>=2.26->yfinance) (2.10)\n",
            "Requirement already satisfied: urllib3<1.27,>=1.21.1 in /usr/local/lib/python3.7/dist-packages (from requests>=2.26->yfinance) (1.24.3)\n",
            "Installing collected packages: requests, lxml, yfinance\n",
            "  Attempting uninstall: requests\n",
            "    Found existing installation: requests 2.23.0\n",
            "    Uninstalling requests-2.23.0:\n",
            "      Successfully uninstalled requests-2.23.0\n",
            "  Attempting uninstall: lxml\n",
            "    Found existing installation: lxml 4.2.6\n",
            "    Uninstalling lxml-4.2.6:\n",
            "      Successfully uninstalled lxml-4.2.6\n",
            "\u001b[31mERROR: pip's dependency resolver does not currently take into account all the packages that are installed. This behaviour is the source of the following dependency conflicts.\n",
            "google-colab 1.0.0 requires requests~=2.23.0, but you have requests 2.27.1 which is incompatible.\n",
            "datascience 0.10.6 requires folium==0.2.1, but you have folium 0.8.3 which is incompatible.\u001b[0m\n",
            "Successfully installed lxml-4.8.0 requests-2.27.1 yfinance-0.1.70\n"
          ]
        }
      ],
      "source": [
        "pip install yfinance"
      ]
    },
    {
      "cell_type": "code",
      "source": [
        "# Provides ways to work with large multidimensional arrays\n",
        "import numpy as np \n",
        "# Allows for further data manipulation and analysis\n",
        "import pandas as pd \n",
        "import matplotlib.pyplot as plt # Plotting\n",
        "import matplotlib.dates as mdates # Styling dates\n",
        "#import matplotlib.mlab as mlab \n",
        "%matplotlib inline\n",
        "\n",
        "# statistical calculation\n",
        "#from scipy.stats import norm\n",
        "\n",
        "import datetime as dt # For defining dates\n",
        "\n",
        "import time\n",
        "\n",
        "import yfinance as yf"
      ],
      "metadata": {
        "id": "Ca_QWCWpF-yU"
      },
      "execution_count": 2,
      "outputs": []
    },
    {
      "cell_type": "markdown",
      "source": [
        "# Get Stock Data"
      ],
      "metadata": {
        "id": "T6fqpiT7GE1N"
      }
    },
    {
      "cell_type": "code",
      "source": [
        "all_stocks = [\"^GSPC\", \"^FTLC\", \"^RUT\", \"IEUS\", \"GOVT\", \"IGOV\", \"SIVR\", \"SGOL\"]"
      ],
      "metadata": {
        "id": "EM5tszECGHM9"
      },
      "execution_count": 3,
      "outputs": []
    },
    {
      "cell_type": "code",
      "source": [
        "def get_all_closes_of_stocks(tickers):\n",
        "  i = 0\n",
        "  stock_list = pd.DataFrame()\n",
        "  for ticker in tickers:\n",
        "    stock = yf.Ticker(ticker)        \n",
        "    data = stock.history(start=\"2012-02-24\",end =\"2022-02-25\")\n",
        "    data.drop(data.columns[[0,1,2,4,5,6]], axis=1, inplace=True) # Just gets the adjacent close for each asset\n",
        "    data.columns = [ticker]\n",
        "    stock_list[ticker] = data.iloc[:,0]\n",
        "  return stock_list.dropna()\n",
        "stock_data = get_all_closes_of_stocks(all_stocks)\n",
        "print(stock_data)"
      ],
      "metadata": {
        "colab": {
          "base_uri": "https://localhost:8080/"
        },
        "id": "6pHUhYdCGLFq",
        "outputId": "97ef8491-6a01-44f3-ea33-dc636b8a7a39"
      },
      "execution_count": 4,
      "outputs": [
        {
          "output_type": "stream",
          "name": "stdout",
          "text": [
            "                  ^GSPC        ^FTLC         ^RUT       IEUS       GOVT  \\\n",
            "Date                                                                      \n",
            "2012-02-24  1365.739990  3144.399902   826.919983  27.285177  21.551918   \n",
            "2012-02-27  1367.589966  3133.399902   826.659973  27.201174  21.551918   \n",
            "2012-02-28  1372.180054  3141.199951   823.799988  27.445541  21.551918   \n",
            "2012-02-29  1365.680054  3112.399902   810.940002  27.155359  21.551918   \n",
            "2012-03-01  1374.089966  3142.899902   815.219971  27.117167  21.551918   \n",
            "...                 ...          ...          ...        ...        ...   \n",
            "2022-02-17  4380.259766  4240.200195  2028.089966  63.590000  25.511515   \n",
            "2022-02-18  4348.870117  4222.799805  2009.329956  62.840000  25.571404   \n",
            "2022-02-22  4304.759766  4201.799805  1980.170044  61.560001  25.581383   \n",
            "2022-02-23  4225.500000  4198.799805  1944.089966  60.889999  25.461611   \n",
            "2022-02-24  4288.700195  4042.899902  1996.010010  60.000000  25.471592   \n",
            "\n",
            "                 IGOV       SIVR       SGOL  \n",
            "Date                                         \n",
            "2012-02-24  47.279099  35.110001  17.559000  \n",
            "2012-02-27  47.222900  35.099998  17.504000  \n",
            "2012-02-28  47.592922  36.610001  17.688000  \n",
            "2012-02-29  47.358727  34.240002  16.750000  \n",
            "2012-03-01  46.416706  35.180000  16.987000  \n",
            "...               ...        ...        ...  \n",
            "2022-02-17  48.439999  22.959999  18.219999  \n",
            "2022-02-18  48.380001  23.040001  18.200001  \n",
            "2022-02-22  48.330002  23.260000  18.240000  \n",
            "2022-02-23  48.130001  23.680000  18.330000  \n",
            "2022-02-24  47.959999  23.270000  18.219999  \n",
            "\n",
            "[2401 rows x 8 columns]\n"
          ]
        }
      ]
    },
    {
      "cell_type": "markdown",
      "source": [
        "# Hidden Markov Model"
      ],
      "metadata": {
        "id": "fkhLgRzCEVfL"
      }
    },
    {
      "cell_type": "markdown",
      "source": [
        "## Setup libaries"
      ],
      "metadata": {
        "id": "-Q99Lk_3Ejt3"
      }
    },
    {
      "cell_type": "code",
      "source": [
        "pip install hmmlearn"
      ],
      "metadata": {
        "colab": {
          "base_uri": "https://localhost:8080/"
        },
        "id": "-GZxJWGIE-jN",
        "outputId": "3c0eedd5-4faa-47f7-fdef-6c95b0bac2df"
      },
      "execution_count": 109,
      "outputs": [
        {
          "output_type": "stream",
          "name": "stdout",
          "text": [
            "Requirement already satisfied: hmmlearn in /usr/local/lib/python3.7/dist-packages (0.2.7)\n",
            "Requirement already satisfied: numpy>=1.10 in /usr/local/lib/python3.7/dist-packages (from hmmlearn) (1.21.6)\n",
            "Requirement already satisfied: scikit-learn>=0.16 in /usr/local/lib/python3.7/dist-packages (from hmmlearn) (1.0.2)\n",
            "Requirement already satisfied: scipy>=0.19 in /usr/local/lib/python3.7/dist-packages (from hmmlearn) (1.4.1)\n",
            "Requirement already satisfied: joblib>=0.11 in /usr/local/lib/python3.7/dist-packages (from scikit-learn>=0.16->hmmlearn) (1.1.0)\n",
            "Requirement already satisfied: threadpoolctl>=2.0.0 in /usr/local/lib/python3.7/dist-packages (from scikit-learn>=0.16->hmmlearn) (3.1.0)\n"
          ]
        }
      ]
    },
    {
      "cell_type": "code",
      "source": [
        "import itertools\n",
        "from tqdm import tqdm\n",
        "from hmmlearn.hmm import MultinomialHMM\n",
        "from hmmlearn import hmm\n",
        "from hmmlearn.hmm import GaussianHMM\n",
        "from sklearn.metrics import r2_score"
      ],
      "metadata": {
        "id": "z7r1BPkDEVAm"
      },
      "execution_count": 110,
      "outputs": []
    },
    {
      "cell_type": "markdown",
      "source": [
        "## Model setup"
      ],
      "metadata": {
        "id": "Ahv0rTeMEmOs"
      }
    },
    {
      "cell_type": "code",
      "source": [
        "stock = yf.Ticker(\"^GSPC\")\n",
        "data = stock.history(start=\"2012-02-24\",end=\"2022-02-25\")\n",
        "test_data = data.iloc[-252:]\n",
        "data = data.iloc[:-252]"
      ],
      "metadata": {
        "id": "zR_btRRww2gi"
      },
      "execution_count": 111,
      "outputs": []
    },
    {
      "cell_type": "code",
      "source": [
        "data.drop(data.columns[[4,5,6]], axis=1, inplace=True)\n",
        "data"
      ],
      "metadata": {
        "colab": {
          "base_uri": "https://localhost:8080/",
          "height": 455
        },
        "id": "6a7a-Rh10Jvr",
        "outputId": "1d9d8020-d91d-41b1-c435-9128f764c7f7"
      },
      "execution_count": 112,
      "outputs": [
        {
          "output_type": "execute_result",
          "data": {
            "text/plain": [
              "                   Open         High          Low        Close\n",
              "Date                                                          \n",
              "2012-02-24  1363.459961  1368.920044  1363.459961  1365.739990\n",
              "2012-02-27  1365.199951  1371.939941  1354.920044  1367.589966\n",
              "2012-02-28  1367.560059  1373.089966  1365.969971  1372.180054\n",
              "2012-02-29  1372.199951  1378.040039  1363.810059  1365.680054\n",
              "2012-03-01  1365.900024  1376.170044  1365.900024  1374.089966\n",
              "...                 ...          ...          ...          ...\n",
              "2021-02-19  3921.159912  3930.409912  3903.070068  3906.709961\n",
              "2021-02-22  3885.550049  3902.919922  3874.709961  3876.500000\n",
              "2021-02-23  3857.070068  3895.979980  3805.590088  3881.370117\n",
              "2021-02-24  3873.709961  3928.649902  3859.600098  3925.429932\n",
              "2021-02-25  3915.800049  3925.020020  3814.040039  3829.340088\n",
              "\n",
              "[2266 rows x 4 columns]"
            ],
            "text/html": [
              "\n",
              "  <div id=\"df-bb324d3b-58a6-420e-a03f-fcc585caa9ab\">\n",
              "    <div class=\"colab-df-container\">\n",
              "      <div>\n",
              "<style scoped>\n",
              "    .dataframe tbody tr th:only-of-type {\n",
              "        vertical-align: middle;\n",
              "    }\n",
              "\n",
              "    .dataframe tbody tr th {\n",
              "        vertical-align: top;\n",
              "    }\n",
              "\n",
              "    .dataframe thead th {\n",
              "        text-align: right;\n",
              "    }\n",
              "</style>\n",
              "<table border=\"1\" class=\"dataframe\">\n",
              "  <thead>\n",
              "    <tr style=\"text-align: right;\">\n",
              "      <th></th>\n",
              "      <th>Open</th>\n",
              "      <th>High</th>\n",
              "      <th>Low</th>\n",
              "      <th>Close</th>\n",
              "    </tr>\n",
              "    <tr>\n",
              "      <th>Date</th>\n",
              "      <th></th>\n",
              "      <th></th>\n",
              "      <th></th>\n",
              "      <th></th>\n",
              "    </tr>\n",
              "  </thead>\n",
              "  <tbody>\n",
              "    <tr>\n",
              "      <th>2012-02-24</th>\n",
              "      <td>1363.459961</td>\n",
              "      <td>1368.920044</td>\n",
              "      <td>1363.459961</td>\n",
              "      <td>1365.739990</td>\n",
              "    </tr>\n",
              "    <tr>\n",
              "      <th>2012-02-27</th>\n",
              "      <td>1365.199951</td>\n",
              "      <td>1371.939941</td>\n",
              "      <td>1354.920044</td>\n",
              "      <td>1367.589966</td>\n",
              "    </tr>\n",
              "    <tr>\n",
              "      <th>2012-02-28</th>\n",
              "      <td>1367.560059</td>\n",
              "      <td>1373.089966</td>\n",
              "      <td>1365.969971</td>\n",
              "      <td>1372.180054</td>\n",
              "    </tr>\n",
              "    <tr>\n",
              "      <th>2012-02-29</th>\n",
              "      <td>1372.199951</td>\n",
              "      <td>1378.040039</td>\n",
              "      <td>1363.810059</td>\n",
              "      <td>1365.680054</td>\n",
              "    </tr>\n",
              "    <tr>\n",
              "      <th>2012-03-01</th>\n",
              "      <td>1365.900024</td>\n",
              "      <td>1376.170044</td>\n",
              "      <td>1365.900024</td>\n",
              "      <td>1374.089966</td>\n",
              "    </tr>\n",
              "    <tr>\n",
              "      <th>...</th>\n",
              "      <td>...</td>\n",
              "      <td>...</td>\n",
              "      <td>...</td>\n",
              "      <td>...</td>\n",
              "    </tr>\n",
              "    <tr>\n",
              "      <th>2021-02-19</th>\n",
              "      <td>3921.159912</td>\n",
              "      <td>3930.409912</td>\n",
              "      <td>3903.070068</td>\n",
              "      <td>3906.709961</td>\n",
              "    </tr>\n",
              "    <tr>\n",
              "      <th>2021-02-22</th>\n",
              "      <td>3885.550049</td>\n",
              "      <td>3902.919922</td>\n",
              "      <td>3874.709961</td>\n",
              "      <td>3876.500000</td>\n",
              "    </tr>\n",
              "    <tr>\n",
              "      <th>2021-02-23</th>\n",
              "      <td>3857.070068</td>\n",
              "      <td>3895.979980</td>\n",
              "      <td>3805.590088</td>\n",
              "      <td>3881.370117</td>\n",
              "    </tr>\n",
              "    <tr>\n",
              "      <th>2021-02-24</th>\n",
              "      <td>3873.709961</td>\n",
              "      <td>3928.649902</td>\n",
              "      <td>3859.600098</td>\n",
              "      <td>3925.429932</td>\n",
              "    </tr>\n",
              "    <tr>\n",
              "      <th>2021-02-25</th>\n",
              "      <td>3915.800049</td>\n",
              "      <td>3925.020020</td>\n",
              "      <td>3814.040039</td>\n",
              "      <td>3829.340088</td>\n",
              "    </tr>\n",
              "  </tbody>\n",
              "</table>\n",
              "<p>2266 rows × 4 columns</p>\n",
              "</div>\n",
              "      <button class=\"colab-df-convert\" onclick=\"convertToInteractive('df-bb324d3b-58a6-420e-a03f-fcc585caa9ab')\"\n",
              "              title=\"Convert this dataframe to an interactive table.\"\n",
              "              style=\"display:none;\">\n",
              "        \n",
              "  <svg xmlns=\"http://www.w3.org/2000/svg\" height=\"24px\"viewBox=\"0 0 24 24\"\n",
              "       width=\"24px\">\n",
              "    <path d=\"M0 0h24v24H0V0z\" fill=\"none\"/>\n",
              "    <path d=\"M18.56 5.44l.94 2.06.94-2.06 2.06-.94-2.06-.94-.94-2.06-.94 2.06-2.06.94zm-11 1L8.5 8.5l.94-2.06 2.06-.94-2.06-.94L8.5 2.5l-.94 2.06-2.06.94zm10 10l.94 2.06.94-2.06 2.06-.94-2.06-.94-.94-2.06-.94 2.06-2.06.94z\"/><path d=\"M17.41 7.96l-1.37-1.37c-.4-.4-.92-.59-1.43-.59-.52 0-1.04.2-1.43.59L10.3 9.45l-7.72 7.72c-.78.78-.78 2.05 0 2.83L4 21.41c.39.39.9.59 1.41.59.51 0 1.02-.2 1.41-.59l7.78-7.78 2.81-2.81c.8-.78.8-2.07 0-2.86zM5.41 20L4 18.59l7.72-7.72 1.47 1.35L5.41 20z\"/>\n",
              "  </svg>\n",
              "      </button>\n",
              "      \n",
              "  <style>\n",
              "    .colab-df-container {\n",
              "      display:flex;\n",
              "      flex-wrap:wrap;\n",
              "      gap: 12px;\n",
              "    }\n",
              "\n",
              "    .colab-df-convert {\n",
              "      background-color: #E8F0FE;\n",
              "      border: none;\n",
              "      border-radius: 50%;\n",
              "      cursor: pointer;\n",
              "      display: none;\n",
              "      fill: #1967D2;\n",
              "      height: 32px;\n",
              "      padding: 0 0 0 0;\n",
              "      width: 32px;\n",
              "    }\n",
              "\n",
              "    .colab-df-convert:hover {\n",
              "      background-color: #E2EBFA;\n",
              "      box-shadow: 0px 1px 2px rgba(60, 64, 67, 0.3), 0px 1px 3px 1px rgba(60, 64, 67, 0.15);\n",
              "      fill: #174EA6;\n",
              "    }\n",
              "\n",
              "    [theme=dark] .colab-df-convert {\n",
              "      background-color: #3B4455;\n",
              "      fill: #D2E3FC;\n",
              "    }\n",
              "\n",
              "    [theme=dark] .colab-df-convert:hover {\n",
              "      background-color: #434B5C;\n",
              "      box-shadow: 0px 1px 3px 1px rgba(0, 0, 0, 0.15);\n",
              "      filter: drop-shadow(0px 1px 2px rgba(0, 0, 0, 0.3));\n",
              "      fill: #FFFFFF;\n",
              "    }\n",
              "  </style>\n",
              "\n",
              "      <script>\n",
              "        const buttonEl =\n",
              "          document.querySelector('#df-bb324d3b-58a6-420e-a03f-fcc585caa9ab button.colab-df-convert');\n",
              "        buttonEl.style.display =\n",
              "          google.colab.kernel.accessAllowed ? 'block' : 'none';\n",
              "\n",
              "        async function convertToInteractive(key) {\n",
              "          const element = document.querySelector('#df-bb324d3b-58a6-420e-a03f-fcc585caa9ab');\n",
              "          const dataTable =\n",
              "            await google.colab.kernel.invokeFunction('convertToInteractive',\n",
              "                                                     [key], {});\n",
              "          if (!dataTable) return;\n",
              "\n",
              "          const docLinkHtml = 'Like what you see? Visit the ' +\n",
              "            '<a target=\"_blank\" href=https://colab.research.google.com/notebooks/data_table.ipynb>data table notebook</a>'\n",
              "            + ' to learn more about interactive tables.';\n",
              "          element.innerHTML = '';\n",
              "          dataTable['output_type'] = 'display_data';\n",
              "          await google.colab.output.renderOutput(dataTable, element);\n",
              "          const docLink = document.createElement('div');\n",
              "          docLink.innerHTML = docLinkHtml;\n",
              "          element.appendChild(docLink);\n",
              "        }\n",
              "      </script>\n",
              "    </div>\n",
              "  </div>\n",
              "  "
            ]
          },
          "metadata": {},
          "execution_count": 112
        }
      ]
    },
    {
      "cell_type": "code",
      "source": [
        "daily_stock_data = data.pct_change().dropna()"
      ],
      "metadata": {
        "id": "gR_ZTNjh0im2"
      },
      "execution_count": 113,
      "outputs": []
    },
    {
      "cell_type": "code",
      "source": [
        "daily_stock_data.shape"
      ],
      "metadata": {
        "colab": {
          "base_uri": "https://localhost:8080/"
        },
        "id": "f7SYDE_UC45-",
        "outputId": "524e7baf-b23a-4f7c-c4ac-09e436ac912e"
      },
      "execution_count": 114,
      "outputs": [
        {
          "output_type": "execute_result",
          "data": {
            "text/plain": [
              "(2265, 4)"
            ]
          },
          "metadata": {},
          "execution_count": 114
        }
      ]
    },
    {
      "cell_type": "markdown",
      "source": [
        "## Make Predictions for Individual Stocks"
      ],
      "metadata": {
        "id": "_4f6vgBkErID"
      }
    },
    {
      "cell_type": "code",
      "source": [
        "test_dates = training_data = stock_data.iloc[(-253):, 0:1].pct_change().dropna()"
      ],
      "metadata": {
        "id": "LF6UrPsbEboH"
      },
      "execution_count": 115,
      "outputs": []
    },
    {
      "cell_type": "code",
      "source": [
        "test_dates"
      ],
      "metadata": {
        "colab": {
          "base_uri": "https://localhost:8080/",
          "height": 455
        },
        "id": "PtZ0TX3yEiw3",
        "outputId": "4d088e18-1cdc-4bab-f3fc-8b7939c71641"
      },
      "execution_count": 116,
      "outputs": [
        {
          "output_type": "execute_result",
          "data": {
            "text/plain": [
              "               ^GSPC\n",
              "Date                \n",
              "2021-02-04  0.010853\n",
              "2021-02-05  0.003897\n",
              "2021-02-08  0.007399\n",
              "2021-02-09 -0.001114\n",
              "2021-02-10 -0.000345\n",
              "...              ...\n",
              "2022-02-17 -0.021173\n",
              "2022-02-18 -0.007166\n",
              "2022-02-22 -0.010143\n",
              "2022-02-23 -0.018412\n",
              "2022-02-24  0.014957\n",
              "\n",
              "[252 rows x 1 columns]"
            ],
            "text/html": [
              "\n",
              "  <div id=\"df-b0bb3d00-438f-4ed7-b078-20b8e44745cb\">\n",
              "    <div class=\"colab-df-container\">\n",
              "      <div>\n",
              "<style scoped>\n",
              "    .dataframe tbody tr th:only-of-type {\n",
              "        vertical-align: middle;\n",
              "    }\n",
              "\n",
              "    .dataframe tbody tr th {\n",
              "        vertical-align: top;\n",
              "    }\n",
              "\n",
              "    .dataframe thead th {\n",
              "        text-align: right;\n",
              "    }\n",
              "</style>\n",
              "<table border=\"1\" class=\"dataframe\">\n",
              "  <thead>\n",
              "    <tr style=\"text-align: right;\">\n",
              "      <th></th>\n",
              "      <th>^GSPC</th>\n",
              "    </tr>\n",
              "    <tr>\n",
              "      <th>Date</th>\n",
              "      <th></th>\n",
              "    </tr>\n",
              "  </thead>\n",
              "  <tbody>\n",
              "    <tr>\n",
              "      <th>2021-02-04</th>\n",
              "      <td>0.010853</td>\n",
              "    </tr>\n",
              "    <tr>\n",
              "      <th>2021-02-05</th>\n",
              "      <td>0.003897</td>\n",
              "    </tr>\n",
              "    <tr>\n",
              "      <th>2021-02-08</th>\n",
              "      <td>0.007399</td>\n",
              "    </tr>\n",
              "    <tr>\n",
              "      <th>2021-02-09</th>\n",
              "      <td>-0.001114</td>\n",
              "    </tr>\n",
              "    <tr>\n",
              "      <th>2021-02-10</th>\n",
              "      <td>-0.000345</td>\n",
              "    </tr>\n",
              "    <tr>\n",
              "      <th>...</th>\n",
              "      <td>...</td>\n",
              "    </tr>\n",
              "    <tr>\n",
              "      <th>2022-02-17</th>\n",
              "      <td>-0.021173</td>\n",
              "    </tr>\n",
              "    <tr>\n",
              "      <th>2022-02-18</th>\n",
              "      <td>-0.007166</td>\n",
              "    </tr>\n",
              "    <tr>\n",
              "      <th>2022-02-22</th>\n",
              "      <td>-0.010143</td>\n",
              "    </tr>\n",
              "    <tr>\n",
              "      <th>2022-02-23</th>\n",
              "      <td>-0.018412</td>\n",
              "    </tr>\n",
              "    <tr>\n",
              "      <th>2022-02-24</th>\n",
              "      <td>0.014957</td>\n",
              "    </tr>\n",
              "  </tbody>\n",
              "</table>\n",
              "<p>252 rows × 1 columns</p>\n",
              "</div>\n",
              "      <button class=\"colab-df-convert\" onclick=\"convertToInteractive('df-b0bb3d00-438f-4ed7-b078-20b8e44745cb')\"\n",
              "              title=\"Convert this dataframe to an interactive table.\"\n",
              "              style=\"display:none;\">\n",
              "        \n",
              "  <svg xmlns=\"http://www.w3.org/2000/svg\" height=\"24px\"viewBox=\"0 0 24 24\"\n",
              "       width=\"24px\">\n",
              "    <path d=\"M0 0h24v24H0V0z\" fill=\"none\"/>\n",
              "    <path d=\"M18.56 5.44l.94 2.06.94-2.06 2.06-.94-2.06-.94-.94-2.06-.94 2.06-2.06.94zm-11 1L8.5 8.5l.94-2.06 2.06-.94-2.06-.94L8.5 2.5l-.94 2.06-2.06.94zm10 10l.94 2.06.94-2.06 2.06-.94-2.06-.94-.94-2.06-.94 2.06-2.06.94z\"/><path d=\"M17.41 7.96l-1.37-1.37c-.4-.4-.92-.59-1.43-.59-.52 0-1.04.2-1.43.59L10.3 9.45l-7.72 7.72c-.78.78-.78 2.05 0 2.83L4 21.41c.39.39.9.59 1.41.59.51 0 1.02-.2 1.41-.59l7.78-7.78 2.81-2.81c.8-.78.8-2.07 0-2.86zM5.41 20L4 18.59l7.72-7.72 1.47 1.35L5.41 20z\"/>\n",
              "  </svg>\n",
              "      </button>\n",
              "      \n",
              "  <style>\n",
              "    .colab-df-container {\n",
              "      display:flex;\n",
              "      flex-wrap:wrap;\n",
              "      gap: 12px;\n",
              "    }\n",
              "\n",
              "    .colab-df-convert {\n",
              "      background-color: #E8F0FE;\n",
              "      border: none;\n",
              "      border-radius: 50%;\n",
              "      cursor: pointer;\n",
              "      display: none;\n",
              "      fill: #1967D2;\n",
              "      height: 32px;\n",
              "      padding: 0 0 0 0;\n",
              "      width: 32px;\n",
              "    }\n",
              "\n",
              "    .colab-df-convert:hover {\n",
              "      background-color: #E2EBFA;\n",
              "      box-shadow: 0px 1px 2px rgba(60, 64, 67, 0.3), 0px 1px 3px 1px rgba(60, 64, 67, 0.15);\n",
              "      fill: #174EA6;\n",
              "    }\n",
              "\n",
              "    [theme=dark] .colab-df-convert {\n",
              "      background-color: #3B4455;\n",
              "      fill: #D2E3FC;\n",
              "    }\n",
              "\n",
              "    [theme=dark] .colab-df-convert:hover {\n",
              "      background-color: #434B5C;\n",
              "      box-shadow: 0px 1px 3px 1px rgba(0, 0, 0, 0.15);\n",
              "      filter: drop-shadow(0px 1px 2px rgba(0, 0, 0, 0.3));\n",
              "      fill: #FFFFFF;\n",
              "    }\n",
              "  </style>\n",
              "\n",
              "      <script>\n",
              "        const buttonEl =\n",
              "          document.querySelector('#df-b0bb3d00-438f-4ed7-b078-20b8e44745cb button.colab-df-convert');\n",
              "        buttonEl.style.display =\n",
              "          google.colab.kernel.accessAllowed ? 'block' : 'none';\n",
              "\n",
              "        async function convertToInteractive(key) {\n",
              "          const element = document.querySelector('#df-b0bb3d00-438f-4ed7-b078-20b8e44745cb');\n",
              "          const dataTable =\n",
              "            await google.colab.kernel.invokeFunction('convertToInteractive',\n",
              "                                                     [key], {});\n",
              "          if (!dataTable) return;\n",
              "\n",
              "          const docLinkHtml = 'Like what you see? Visit the ' +\n",
              "            '<a target=\"_blank\" href=https://colab.research.google.com/notebooks/data_table.ipynb>data table notebook</a>'\n",
              "            + ' to learn more about interactive tables.';\n",
              "          element.innerHTML = '';\n",
              "          dataTable['output_type'] = 'display_data';\n",
              "          await google.colab.output.renderOutput(dataTable, element);\n",
              "          const docLink = document.createElement('div');\n",
              "          docLink.innerHTML = docLinkHtml;\n",
              "          element.appendChild(docLink);\n",
              "        }\n",
              "      </script>\n",
              "    </div>\n",
              "  </div>\n",
              "  "
            ]
          },
          "metadata": {},
          "execution_count": 116
        }
      ]
    },
    {
      "cell_type": "code",
      "source": [
        "training_data = stock_data.iloc[:-252].pct_change().dropna()"
      ],
      "metadata": {
        "id": "WmTNtkGO_zyg"
      },
      "execution_count": 117,
      "outputs": []
    },
    {
      "cell_type": "code",
      "source": [
        "training_data"
      ],
      "metadata": {
        "colab": {
          "base_uri": "https://localhost:8080/",
          "height": 455
        },
        "id": "o4iHjMwc475W",
        "outputId": "f88eaa8b-c829-4525-a2a5-9c9b395e6c4f"
      },
      "execution_count": 118,
      "outputs": [
        {
          "output_type": "execute_result",
          "data": {
            "text/plain": [
              "               ^GSPC     ^FTLC      ^RUT      IEUS      GOVT      IGOV  \\\n",
              "Date                                                                     \n",
              "2012-02-27  0.001355 -0.003498 -0.000314 -0.003079  0.000000 -0.001189   \n",
              "2012-02-28  0.003356  0.002489 -0.003460  0.008984  0.000000  0.007836   \n",
              "2012-02-29 -0.004737 -0.009168 -0.015611 -0.010573  0.000000 -0.004921   \n",
              "2012-03-01  0.006158  0.009800  0.005278 -0.001406  0.000000 -0.019891   \n",
              "2012-03-02 -0.003246 -0.002895 -0.015701 -0.002253  0.000000 -0.007479   \n",
              "...              ...       ...       ...       ...       ...       ...   \n",
              "2021-01-27 -0.025678 -0.012199 -0.019146 -0.026092  0.001104 -0.003997   \n",
              "2021-01-29 -0.009739 -0.020476 -0.016626  0.003389 -0.003308 -0.001277   \n",
              "2021-02-01  0.016052  0.009006  0.025327  0.012064  0.000775 -0.006210   \n",
              "2021-02-02  0.013898  0.008979  0.011890  0.014463 -0.002212 -0.001838   \n",
              "2021-02-03  0.001009 -0.000563  0.003839  0.001253 -0.002587 -0.001289   \n",
              "\n",
              "                SIVR      SGOL  \n",
              "Date                            \n",
              "2012-02-27 -0.000285 -0.003132  \n",
              "2012-02-28  0.043020  0.010512  \n",
              "2012-02-29 -0.064736 -0.053030  \n",
              "2012-03-01  0.027453  0.014149  \n",
              "2012-03-02 -0.020182 -0.001766  \n",
              "...              ...       ...  \n",
              "2021-01-27 -0.009756 -0.006180  \n",
              "2021-01-29  0.066092  0.000565  \n",
              "2021-02-01  0.072006  0.008475  \n",
              "2021-02-02 -0.083333 -0.011205  \n",
              "2021-02-03  0.015674 -0.001700  \n",
              "\n",
              "[2148 rows x 8 columns]"
            ],
            "text/html": [
              "\n",
              "  <div id=\"df-c1bd9c2b-b5e4-498b-8150-0b2a8c5f2686\">\n",
              "    <div class=\"colab-df-container\">\n",
              "      <div>\n",
              "<style scoped>\n",
              "    .dataframe tbody tr th:only-of-type {\n",
              "        vertical-align: middle;\n",
              "    }\n",
              "\n",
              "    .dataframe tbody tr th {\n",
              "        vertical-align: top;\n",
              "    }\n",
              "\n",
              "    .dataframe thead th {\n",
              "        text-align: right;\n",
              "    }\n",
              "</style>\n",
              "<table border=\"1\" class=\"dataframe\">\n",
              "  <thead>\n",
              "    <tr style=\"text-align: right;\">\n",
              "      <th></th>\n",
              "      <th>^GSPC</th>\n",
              "      <th>^FTLC</th>\n",
              "      <th>^RUT</th>\n",
              "      <th>IEUS</th>\n",
              "      <th>GOVT</th>\n",
              "      <th>IGOV</th>\n",
              "      <th>SIVR</th>\n",
              "      <th>SGOL</th>\n",
              "    </tr>\n",
              "    <tr>\n",
              "      <th>Date</th>\n",
              "      <th></th>\n",
              "      <th></th>\n",
              "      <th></th>\n",
              "      <th></th>\n",
              "      <th></th>\n",
              "      <th></th>\n",
              "      <th></th>\n",
              "      <th></th>\n",
              "    </tr>\n",
              "  </thead>\n",
              "  <tbody>\n",
              "    <tr>\n",
              "      <th>2012-02-27</th>\n",
              "      <td>0.001355</td>\n",
              "      <td>-0.003498</td>\n",
              "      <td>-0.000314</td>\n",
              "      <td>-0.003079</td>\n",
              "      <td>0.000000</td>\n",
              "      <td>-0.001189</td>\n",
              "      <td>-0.000285</td>\n",
              "      <td>-0.003132</td>\n",
              "    </tr>\n",
              "    <tr>\n",
              "      <th>2012-02-28</th>\n",
              "      <td>0.003356</td>\n",
              "      <td>0.002489</td>\n",
              "      <td>-0.003460</td>\n",
              "      <td>0.008984</td>\n",
              "      <td>0.000000</td>\n",
              "      <td>0.007836</td>\n",
              "      <td>0.043020</td>\n",
              "      <td>0.010512</td>\n",
              "    </tr>\n",
              "    <tr>\n",
              "      <th>2012-02-29</th>\n",
              "      <td>-0.004737</td>\n",
              "      <td>-0.009168</td>\n",
              "      <td>-0.015611</td>\n",
              "      <td>-0.010573</td>\n",
              "      <td>0.000000</td>\n",
              "      <td>-0.004921</td>\n",
              "      <td>-0.064736</td>\n",
              "      <td>-0.053030</td>\n",
              "    </tr>\n",
              "    <tr>\n",
              "      <th>2012-03-01</th>\n",
              "      <td>0.006158</td>\n",
              "      <td>0.009800</td>\n",
              "      <td>0.005278</td>\n",
              "      <td>-0.001406</td>\n",
              "      <td>0.000000</td>\n",
              "      <td>-0.019891</td>\n",
              "      <td>0.027453</td>\n",
              "      <td>0.014149</td>\n",
              "    </tr>\n",
              "    <tr>\n",
              "      <th>2012-03-02</th>\n",
              "      <td>-0.003246</td>\n",
              "      <td>-0.002895</td>\n",
              "      <td>-0.015701</td>\n",
              "      <td>-0.002253</td>\n",
              "      <td>0.000000</td>\n",
              "      <td>-0.007479</td>\n",
              "      <td>-0.020182</td>\n",
              "      <td>-0.001766</td>\n",
              "    </tr>\n",
              "    <tr>\n",
              "      <th>...</th>\n",
              "      <td>...</td>\n",
              "      <td>...</td>\n",
              "      <td>...</td>\n",
              "      <td>...</td>\n",
              "      <td>...</td>\n",
              "      <td>...</td>\n",
              "      <td>...</td>\n",
              "      <td>...</td>\n",
              "    </tr>\n",
              "    <tr>\n",
              "      <th>2021-01-27</th>\n",
              "      <td>-0.025678</td>\n",
              "      <td>-0.012199</td>\n",
              "      <td>-0.019146</td>\n",
              "      <td>-0.026092</td>\n",
              "      <td>0.001104</td>\n",
              "      <td>-0.003997</td>\n",
              "      <td>-0.009756</td>\n",
              "      <td>-0.006180</td>\n",
              "    </tr>\n",
              "    <tr>\n",
              "      <th>2021-01-29</th>\n",
              "      <td>-0.009739</td>\n",
              "      <td>-0.020476</td>\n",
              "      <td>-0.016626</td>\n",
              "      <td>0.003389</td>\n",
              "      <td>-0.003308</td>\n",
              "      <td>-0.001277</td>\n",
              "      <td>0.066092</td>\n",
              "      <td>0.000565</td>\n",
              "    </tr>\n",
              "    <tr>\n",
              "      <th>2021-02-01</th>\n",
              "      <td>0.016052</td>\n",
              "      <td>0.009006</td>\n",
              "      <td>0.025327</td>\n",
              "      <td>0.012064</td>\n",
              "      <td>0.000775</td>\n",
              "      <td>-0.006210</td>\n",
              "      <td>0.072006</td>\n",
              "      <td>0.008475</td>\n",
              "    </tr>\n",
              "    <tr>\n",
              "      <th>2021-02-02</th>\n",
              "      <td>0.013898</td>\n",
              "      <td>0.008979</td>\n",
              "      <td>0.011890</td>\n",
              "      <td>0.014463</td>\n",
              "      <td>-0.002212</td>\n",
              "      <td>-0.001838</td>\n",
              "      <td>-0.083333</td>\n",
              "      <td>-0.011205</td>\n",
              "    </tr>\n",
              "    <tr>\n",
              "      <th>2021-02-03</th>\n",
              "      <td>0.001009</td>\n",
              "      <td>-0.000563</td>\n",
              "      <td>0.003839</td>\n",
              "      <td>0.001253</td>\n",
              "      <td>-0.002587</td>\n",
              "      <td>-0.001289</td>\n",
              "      <td>0.015674</td>\n",
              "      <td>-0.001700</td>\n",
              "    </tr>\n",
              "  </tbody>\n",
              "</table>\n",
              "<p>2148 rows × 8 columns</p>\n",
              "</div>\n",
              "      <button class=\"colab-df-convert\" onclick=\"convertToInteractive('df-c1bd9c2b-b5e4-498b-8150-0b2a8c5f2686')\"\n",
              "              title=\"Convert this dataframe to an interactive table.\"\n",
              "              style=\"display:none;\">\n",
              "        \n",
              "  <svg xmlns=\"http://www.w3.org/2000/svg\" height=\"24px\"viewBox=\"0 0 24 24\"\n",
              "       width=\"24px\">\n",
              "    <path d=\"M0 0h24v24H0V0z\" fill=\"none\"/>\n",
              "    <path d=\"M18.56 5.44l.94 2.06.94-2.06 2.06-.94-2.06-.94-.94-2.06-.94 2.06-2.06.94zm-11 1L8.5 8.5l.94-2.06 2.06-.94-2.06-.94L8.5 2.5l-.94 2.06-2.06.94zm10 10l.94 2.06.94-2.06 2.06-.94-2.06-.94-.94-2.06-.94 2.06-2.06.94z\"/><path d=\"M17.41 7.96l-1.37-1.37c-.4-.4-.92-.59-1.43-.59-.52 0-1.04.2-1.43.59L10.3 9.45l-7.72 7.72c-.78.78-.78 2.05 0 2.83L4 21.41c.39.39.9.59 1.41.59.51 0 1.02-.2 1.41-.59l7.78-7.78 2.81-2.81c.8-.78.8-2.07 0-2.86zM5.41 20L4 18.59l7.72-7.72 1.47 1.35L5.41 20z\"/>\n",
              "  </svg>\n",
              "      </button>\n",
              "      \n",
              "  <style>\n",
              "    .colab-df-container {\n",
              "      display:flex;\n",
              "      flex-wrap:wrap;\n",
              "      gap: 12px;\n",
              "    }\n",
              "\n",
              "    .colab-df-convert {\n",
              "      background-color: #E8F0FE;\n",
              "      border: none;\n",
              "      border-radius: 50%;\n",
              "      cursor: pointer;\n",
              "      display: none;\n",
              "      fill: #1967D2;\n",
              "      height: 32px;\n",
              "      padding: 0 0 0 0;\n",
              "      width: 32px;\n",
              "    }\n",
              "\n",
              "    .colab-df-convert:hover {\n",
              "      background-color: #E2EBFA;\n",
              "      box-shadow: 0px 1px 2px rgba(60, 64, 67, 0.3), 0px 1px 3px 1px rgba(60, 64, 67, 0.15);\n",
              "      fill: #174EA6;\n",
              "    }\n",
              "\n",
              "    [theme=dark] .colab-df-convert {\n",
              "      background-color: #3B4455;\n",
              "      fill: #D2E3FC;\n",
              "    }\n",
              "\n",
              "    [theme=dark] .colab-df-convert:hover {\n",
              "      background-color: #434B5C;\n",
              "      box-shadow: 0px 1px 3px 1px rgba(0, 0, 0, 0.15);\n",
              "      filter: drop-shadow(0px 1px 2px rgba(0, 0, 0, 0.3));\n",
              "      fill: #FFFFFF;\n",
              "    }\n",
              "  </style>\n",
              "\n",
              "      <script>\n",
              "        const buttonEl =\n",
              "          document.querySelector('#df-c1bd9c2b-b5e4-498b-8150-0b2a8c5f2686 button.colab-df-convert');\n",
              "        buttonEl.style.display =\n",
              "          google.colab.kernel.accessAllowed ? 'block' : 'none';\n",
              "\n",
              "        async function convertToInteractive(key) {\n",
              "          const element = document.querySelector('#df-c1bd9c2b-b5e4-498b-8150-0b2a8c5f2686');\n",
              "          const dataTable =\n",
              "            await google.colab.kernel.invokeFunction('convertToInteractive',\n",
              "                                                     [key], {});\n",
              "          if (!dataTable) return;\n",
              "\n",
              "          const docLinkHtml = 'Like what you see? Visit the ' +\n",
              "            '<a target=\"_blank\" href=https://colab.research.google.com/notebooks/data_table.ipynb>data table notebook</a>'\n",
              "            + ' to learn more about interactive tables.';\n",
              "          element.innerHTML = '';\n",
              "          dataTable['output_type'] = 'display_data';\n",
              "          await google.colab.output.renderOutput(dataTable, element);\n",
              "          const docLink = document.createElement('div');\n",
              "          docLink.innerHTML = docLinkHtml;\n",
              "          element.appendChild(docLink);\n",
              "        }\n",
              "      </script>\n",
              "    </div>\n",
              "  </div>\n",
              "  "
            ]
          },
          "metadata": {},
          "execution_count": 118
        }
      ]
    },
    {
      "cell_type": "code",
      "source": [
        "days = np.array(test_dates.reset_index()['Date'], dtype=\"datetime64[ms]\")\n",
        "days"
      ],
      "metadata": {
        "colab": {
          "base_uri": "https://localhost:8080/"
        },
        "id": "Gd4lYip-G94q",
        "outputId": "ce36d686-c928-49b7-a6b1-0ce0c13ac171"
      },
      "execution_count": 119,
      "outputs": [
        {
          "output_type": "execute_result",
          "data": {
            "text/plain": [
              "array(['2021-02-04T00:00:00.000', '2021-02-05T00:00:00.000',\n",
              "       '2021-02-08T00:00:00.000', '2021-02-09T00:00:00.000',\n",
              "       '2021-02-10T00:00:00.000', '2021-02-11T00:00:00.000',\n",
              "       '2021-02-12T00:00:00.000', '2021-02-16T00:00:00.000',\n",
              "       '2021-02-18T00:00:00.000', '2021-02-19T00:00:00.000',\n",
              "       '2021-02-22T00:00:00.000', '2021-02-23T00:00:00.000',\n",
              "       '2021-02-24T00:00:00.000', '2021-02-25T00:00:00.000',\n",
              "       '2021-02-26T00:00:00.000', '2021-03-01T00:00:00.000',\n",
              "       '2021-03-02T00:00:00.000', '2021-03-04T00:00:00.000',\n",
              "       '2021-03-05T00:00:00.000', '2021-03-08T00:00:00.000',\n",
              "       '2021-03-09T00:00:00.000', '2021-03-10T00:00:00.000',\n",
              "       '2021-03-11T00:00:00.000', '2021-03-15T00:00:00.000',\n",
              "       '2021-03-16T00:00:00.000', '2021-03-17T00:00:00.000',\n",
              "       '2021-03-18T00:00:00.000', '2021-03-19T00:00:00.000',\n",
              "       '2021-03-22T00:00:00.000', '2021-03-23T00:00:00.000',\n",
              "       '2021-03-24T00:00:00.000', '2021-03-25T00:00:00.000',\n",
              "       '2021-03-26T00:00:00.000', '2021-03-29T00:00:00.000',\n",
              "       '2021-03-30T00:00:00.000', '2021-03-31T00:00:00.000',\n",
              "       '2021-04-01T00:00:00.000', '2021-04-06T00:00:00.000',\n",
              "       '2021-04-07T00:00:00.000', '2021-04-08T00:00:00.000',\n",
              "       '2021-04-09T00:00:00.000', '2021-04-12T00:00:00.000',\n",
              "       '2021-04-13T00:00:00.000', '2021-04-14T00:00:00.000',\n",
              "       '2021-04-15T00:00:00.000', '2021-04-16T00:00:00.000',\n",
              "       '2021-04-19T00:00:00.000', '2021-04-20T00:00:00.000',\n",
              "       '2021-04-21T00:00:00.000', '2021-04-22T00:00:00.000',\n",
              "       '2021-04-23T00:00:00.000', '2021-04-26T00:00:00.000',\n",
              "       '2021-04-27T00:00:00.000', '2021-04-28T00:00:00.000',\n",
              "       '2021-04-29T00:00:00.000', '2021-04-30T00:00:00.000',\n",
              "       '2021-05-04T00:00:00.000', '2021-05-06T00:00:00.000',\n",
              "       '2021-05-07T00:00:00.000', '2021-05-10T00:00:00.000',\n",
              "       '2021-05-12T00:00:00.000', '2021-05-13T00:00:00.000',\n",
              "       '2021-05-14T00:00:00.000', '2021-05-17T00:00:00.000',\n",
              "       '2021-05-18T00:00:00.000', '2021-05-19T00:00:00.000',\n",
              "       '2021-05-20T00:00:00.000', '2021-05-21T00:00:00.000',\n",
              "       '2021-05-24T00:00:00.000', '2021-05-26T00:00:00.000',\n",
              "       '2021-05-27T00:00:00.000', '2021-05-28T00:00:00.000',\n",
              "       '2021-06-01T00:00:00.000', '2021-06-02T00:00:00.000',\n",
              "       '2021-06-03T00:00:00.000', '2021-06-04T00:00:00.000',\n",
              "       '2021-06-07T00:00:00.000', '2021-06-08T00:00:00.000',\n",
              "       '2021-06-09T00:00:00.000', '2021-06-11T00:00:00.000',\n",
              "       '2021-06-14T00:00:00.000', '2021-06-15T00:00:00.000',\n",
              "       '2021-06-16T00:00:00.000', '2021-06-17T00:00:00.000',\n",
              "       '2021-06-18T00:00:00.000', '2021-06-21T00:00:00.000',\n",
              "       '2021-06-22T00:00:00.000', '2021-06-23T00:00:00.000',\n",
              "       '2021-06-24T00:00:00.000', '2021-06-25T00:00:00.000',\n",
              "       '2021-06-28T00:00:00.000', '2021-06-29T00:00:00.000',\n",
              "       '2021-06-30T00:00:00.000', '2021-07-01T00:00:00.000',\n",
              "       '2021-07-02T00:00:00.000', '2021-07-06T00:00:00.000',\n",
              "       '2021-07-07T00:00:00.000', '2021-07-08T00:00:00.000',\n",
              "       '2021-07-09T00:00:00.000', '2021-07-12T00:00:00.000',\n",
              "       '2021-07-13T00:00:00.000', '2021-07-14T00:00:00.000',\n",
              "       '2021-07-15T00:00:00.000', '2021-07-16T00:00:00.000',\n",
              "       '2021-07-19T00:00:00.000', '2021-07-20T00:00:00.000',\n",
              "       '2021-07-21T00:00:00.000', '2021-07-22T00:00:00.000',\n",
              "       '2021-07-23T00:00:00.000', '2021-07-27T00:00:00.000',\n",
              "       '2021-07-28T00:00:00.000', '2021-07-29T00:00:00.000',\n",
              "       '2021-07-30T00:00:00.000', '2021-08-02T00:00:00.000',\n",
              "       '2021-08-03T00:00:00.000', '2021-08-04T00:00:00.000',\n",
              "       '2021-08-05T00:00:00.000', '2021-08-06T00:00:00.000',\n",
              "       '2021-08-10T00:00:00.000', '2021-08-11T00:00:00.000',\n",
              "       '2021-08-12T00:00:00.000', '2021-08-13T00:00:00.000',\n",
              "       '2021-08-16T00:00:00.000', '2021-08-17T00:00:00.000',\n",
              "       '2021-08-18T00:00:00.000', '2021-08-19T00:00:00.000',\n",
              "       '2021-08-20T00:00:00.000', '2021-08-23T00:00:00.000',\n",
              "       '2021-08-24T00:00:00.000', '2021-08-25T00:00:00.000',\n",
              "       '2021-08-26T00:00:00.000', '2021-08-27T00:00:00.000',\n",
              "       '2021-08-31T00:00:00.000', '2021-09-01T00:00:00.000',\n",
              "       '2021-09-02T00:00:00.000', '2021-09-03T00:00:00.000',\n",
              "       '2021-09-07T00:00:00.000', '2021-09-08T00:00:00.000',\n",
              "       '2021-09-09T00:00:00.000', '2021-09-10T00:00:00.000',\n",
              "       '2021-09-13T00:00:00.000', '2021-09-14T00:00:00.000',\n",
              "       '2021-09-15T00:00:00.000', '2021-09-16T00:00:00.000',\n",
              "       '2021-09-17T00:00:00.000', '2021-09-20T00:00:00.000',\n",
              "       '2021-09-21T00:00:00.000', '2021-09-22T00:00:00.000',\n",
              "       '2021-09-23T00:00:00.000', '2021-09-24T00:00:00.000',\n",
              "       '2021-09-27T00:00:00.000', '2021-09-28T00:00:00.000',\n",
              "       '2021-09-29T00:00:00.000', '2021-09-30T00:00:00.000',\n",
              "       '2021-10-01T00:00:00.000', '2021-10-04T00:00:00.000',\n",
              "       '2021-10-05T00:00:00.000', '2021-10-06T00:00:00.000',\n",
              "       '2021-10-07T00:00:00.000', '2021-10-08T00:00:00.000',\n",
              "       '2021-10-11T00:00:00.000', '2021-10-12T00:00:00.000',\n",
              "       '2021-10-13T00:00:00.000', '2021-10-14T00:00:00.000',\n",
              "       '2021-10-15T00:00:00.000', '2021-10-18T00:00:00.000',\n",
              "       '2021-10-19T00:00:00.000', '2021-10-20T00:00:00.000',\n",
              "       '2021-10-21T00:00:00.000', '2021-10-22T00:00:00.000',\n",
              "       '2021-10-25T00:00:00.000', '2021-10-26T00:00:00.000',\n",
              "       '2021-10-27T00:00:00.000', '2021-10-28T00:00:00.000',\n",
              "       '2021-10-29T00:00:00.000', '2021-11-01T00:00:00.000',\n",
              "       '2021-11-02T00:00:00.000', '2021-11-03T00:00:00.000',\n",
              "       '2021-11-04T00:00:00.000', '2021-11-05T00:00:00.000',\n",
              "       '2021-11-08T00:00:00.000', '2021-11-09T00:00:00.000',\n",
              "       '2021-11-10T00:00:00.000', '2021-11-11T00:00:00.000',\n",
              "       '2021-11-12T00:00:00.000', '2021-11-15T00:00:00.000',\n",
              "       '2021-11-16T00:00:00.000', '2021-11-17T00:00:00.000',\n",
              "       '2021-11-18T00:00:00.000', '2021-11-19T00:00:00.000',\n",
              "       '2021-11-22T00:00:00.000', '2021-11-23T00:00:00.000',\n",
              "       '2021-11-24T00:00:00.000', '2021-11-26T00:00:00.000',\n",
              "       '2021-11-29T00:00:00.000', '2021-11-30T00:00:00.000',\n",
              "       '2021-12-01T00:00:00.000', '2021-12-02T00:00:00.000',\n",
              "       '2021-12-03T00:00:00.000', '2021-12-06T00:00:00.000',\n",
              "       '2021-12-07T00:00:00.000', '2021-12-08T00:00:00.000',\n",
              "       '2021-12-09T00:00:00.000', '2021-12-10T00:00:00.000',\n",
              "       '2021-12-13T00:00:00.000', '2021-12-14T00:00:00.000',\n",
              "       '2021-12-15T00:00:00.000', '2021-12-16T00:00:00.000',\n",
              "       '2021-12-17T00:00:00.000', '2021-12-20T00:00:00.000',\n",
              "       '2021-12-21T00:00:00.000', '2021-12-22T00:00:00.000',\n",
              "       '2021-12-23T00:00:00.000', '2021-12-29T00:00:00.000',\n",
              "       '2021-12-30T00:00:00.000', '2021-12-31T00:00:00.000',\n",
              "       '2022-01-04T00:00:00.000', '2022-01-05T00:00:00.000',\n",
              "       '2022-01-06T00:00:00.000', '2022-01-07T00:00:00.000',\n",
              "       '2022-01-10T00:00:00.000', '2022-01-11T00:00:00.000',\n",
              "       '2022-01-12T00:00:00.000', '2022-01-13T00:00:00.000',\n",
              "       '2022-01-14T00:00:00.000', '2022-01-18T00:00:00.000',\n",
              "       '2022-01-19T00:00:00.000', '2022-01-20T00:00:00.000',\n",
              "       '2022-01-21T00:00:00.000', '2022-01-24T00:00:00.000',\n",
              "       '2022-01-25T00:00:00.000', '2022-01-26T00:00:00.000',\n",
              "       '2022-01-27T00:00:00.000', '2022-01-28T00:00:00.000',\n",
              "       '2022-01-31T00:00:00.000', '2022-02-01T00:00:00.000',\n",
              "       '2022-02-02T00:00:00.000', '2022-02-03T00:00:00.000',\n",
              "       '2022-02-04T00:00:00.000', '2022-02-07T00:00:00.000',\n",
              "       '2022-02-08T00:00:00.000', '2022-02-09T00:00:00.000',\n",
              "       '2022-02-10T00:00:00.000', '2022-02-11T00:00:00.000',\n",
              "       '2022-02-14T00:00:00.000', '2022-02-15T00:00:00.000',\n",
              "       '2022-02-16T00:00:00.000', '2022-02-17T00:00:00.000',\n",
              "       '2022-02-18T00:00:00.000', '2022-02-22T00:00:00.000',\n",
              "       '2022-02-23T00:00:00.000', '2022-02-24T00:00:00.000'],\n",
              "      dtype='datetime64[ms]')"
            ]
          },
          "metadata": {},
          "execution_count": 119
        }
      ]
    },
    {
      "cell_type": "code",
      "source": [
        "all_samples = []\n",
        "for close in training_data:\n",
        "  print(close)\n",
        "  hmm = GaussianHMM(n_components=4)\n",
        "  #print(pd.DataFrame(training_data[close]))\n",
        "  hmm.fit(pd.DataFrame(training_data[close]))\n",
        "  samples, _ = hmm.sample(252)\n",
        "  if len(all_samples)==0:\n",
        "    test_dates[close] = samples\n",
        "    all_samples = pd.DataFrame( test_dates[close], index=days)\n",
        "  else:\n",
        "    all_samples[close] = samples\n",
        "print(all_samples)"
      ],
      "metadata": {
        "colab": {
          "base_uri": "https://localhost:8080/"
        },
        "id": "FWQd11vkAd7L",
        "outputId": "ce9e9065-7909-45ba-94c2-d5b4b6d8a809"
      },
      "execution_count": 120,
      "outputs": [
        {
          "output_type": "stream",
          "name": "stdout",
          "text": [
            "^GSPC\n",
            "^FTLC\n",
            "^RUT\n",
            "IEUS\n",
            "GOVT\n",
            "IGOV\n",
            "SIVR\n",
            "SGOL\n",
            "               ^GSPC     ^FTLC      ^RUT      IEUS      GOVT      IGOV  \\\n",
            "2021-02-04 -0.001578 -0.001360  0.017138  0.015894  0.007798 -0.005997   \n",
            "2021-02-05 -0.004707  0.037176  0.007884  0.006166  0.003688  0.004442   \n",
            "2021-02-08  0.003166  0.014966 -0.012143 -0.001056  0.005843 -0.007122   \n",
            "2021-02-09  0.014873 -0.009482  0.017960 -0.003851  0.003103 -0.001400   \n",
            "2021-02-10 -0.002696  0.017818  0.010387 -0.005299  0.012451 -0.002845   \n",
            "...              ...       ...       ...       ...       ...       ...   \n",
            "2022-02-17  0.030016  0.014652 -0.014008  0.004423  0.001239  0.006041   \n",
            "2022-02-18 -0.001812 -0.006702  0.008590  0.008131 -0.000883 -0.001588   \n",
            "2022-02-22  0.002876  0.013380  0.003978 -0.004112 -0.001563  0.000487   \n",
            "2022-02-23 -0.009926 -0.000439 -0.006889 -0.000422  0.006944 -0.011683   \n",
            "2022-02-24  0.009878  0.002502 -0.002849  0.015577 -0.002841 -0.001526   \n",
            "\n",
            "                SIVR      SGOL  \n",
            "2021-02-04  0.020844  0.002289  \n",
            "2021-02-05 -0.013574  0.008465  \n",
            "2021-02-08  0.009870 -0.006863  \n",
            "2021-02-09  0.009135  0.001773  \n",
            "2021-02-10  0.004611 -0.007899  \n",
            "...              ...       ...  \n",
            "2022-02-17  0.008861 -0.007981  \n",
            "2022-02-18 -0.013406 -0.004677  \n",
            "2022-02-22 -0.013571  0.014081  \n",
            "2022-02-23 -0.017893  0.006718  \n",
            "2022-02-24 -0.010978  0.009218  \n",
            "\n",
            "[252 rows x 8 columns]\n"
          ]
        }
      ]
    },
    {
      "cell_type": "code",
      "source": [
        "all_samples.plot()"
      ],
      "metadata": {
        "colab": {
          "base_uri": "https://localhost:8080/",
          "height": 74
        },
        "id": "LzaQy5fnGgzM",
        "outputId": "d89d1735-6ccc-430b-c04c-eec46fa67d8a"
      },
      "execution_count": 121,
      "outputs": [
        {
          "output_type": "execute_result",
          "data": {
            "text/plain": [
              "<matplotlib.axes._subplots.AxesSubplot at 0x7fa06da67d50>"
            ]
          },
          "metadata": {},
          "execution_count": 121
        },
        {
          "output_type": "display_data",
          "data": {
            "text/plain": [
              "<Figure size 432x288 with 1 Axes>"
            ],
            "image/png": "[encoded data removed]"
          },
          "metadata": {
            "needs_background": "light"
          }
        }
      ]
    },
    {
      "cell_type": "markdown",
      "source": [
        "## Calculating the resulting stock price change using cumilative product"
      ],
      "metadata": {
        "id": "Sgg1tg7ubE-V"
      }
    },
    {
      "cell_type": "code",
      "source": [
        "stock_data.iloc[-253:-252,:] #Gets the stock prices for the last day of the training data"
      ],
      "metadata": {
        "colab": {
          "base_uri": "https://localhost:8080/",
          "height": 176
        },
        "id": "EthGFgBoOPrs",
        "outputId": "04f89d7c-feff-4a98-906a-0191453ff903"
      },
      "execution_count": 122,
      "outputs": [
        {
          "output_type": "execute_result",
          "data": {
            "text/plain": [
              "                  ^GSPC   ^FTLC         ^RUT       IEUS       GOVT       IGOV  \\\n",
              "Date                                                                            \n",
              "2021-02-03  3830.169922  3728.5  2159.699951  62.261761  26.677721  54.029949   \n",
              "\n",
              "             SIVR       SGOL  \n",
              "Date                          \n",
              "2021-02-03  25.92  17.620001  "
            ],
            "text/html": [
              "\n",
              "  <div id=\"df-65a0485f-5045-4c89-afb9-d7cb38d76338\">\n",
              "    <div class=\"colab-df-container\">\n",
              "      <div>\n",
              "<style scoped>\n",
              "    .dataframe tbody tr th:only-of-type {\n",
              "        vertical-align: middle;\n",
              "    }\n",
              "\n",
              "    .dataframe tbody tr th {\n",
              "        vertical-align: top;\n",
              "    }\n",
              "\n",
              "    .dataframe thead th {\n",
              "        text-align: right;\n",
              "    }\n",
              "</style>\n",
              "<table border=\"1\" class=\"dataframe\">\n",
              "  <thead>\n",
              "    <tr style=\"text-align: right;\">\n",
              "      <th></th>\n",
              "      <th>^GSPC</th>\n",
              "      <th>^FTLC</th>\n",
              "      <th>^RUT</th>\n",
              "      <th>IEUS</th>\n",
              "      <th>GOVT</th>\n",
              "      <th>IGOV</th>\n",
              "      <th>SIVR</th>\n",
              "      <th>SGOL</th>\n",
              "    </tr>\n",
              "    <tr>\n",
              "      <th>Date</th>\n",
              "      <th></th>\n",
              "      <th></th>\n",
              "      <th></th>\n",
              "      <th></th>\n",
              "      <th></th>\n",
              "      <th></th>\n",
              "      <th></th>\n",
              "      <th></th>\n",
              "    </tr>\n",
              "  </thead>\n",
              "  <tbody>\n",
              "    <tr>\n",
              "      <th>2021-02-03</th>\n",
              "      <td>3830.169922</td>\n",
              "      <td>3728.5</td>\n",
              "      <td>2159.699951</td>\n",
              "      <td>62.261761</td>\n",
              "      <td>26.677721</td>\n",
              "      <td>54.029949</td>\n",
              "      <td>25.92</td>\n",
              "      <td>17.620001</td>\n",
              "    </tr>\n",
              "  </tbody>\n",
              "</table>\n",
              "</div>\n",
              "      <button class=\"colab-df-convert\" onclick=\"convertToInteractive('df-65a0485f-5045-4c89-afb9-d7cb38d76338')\"\n",
              "              title=\"Convert this dataframe to an interactive table.\"\n",
              "              style=\"display:none;\">\n",
              "        \n",
              "  <svg xmlns=\"http://www.w3.org/2000/svg\" height=\"24px\"viewBox=\"0 0 24 24\"\n",
              "       width=\"24px\">\n",
              "    <path d=\"M0 0h24v24H0V0z\" fill=\"none\"/>\n",
              "    <path d=\"M18.56 5.44l.94 2.06.94-2.06 2.06-.94-2.06-.94-.94-2.06-.94 2.06-2.06.94zm-11 1L8.5 8.5l.94-2.06 2.06-.94-2.06-.94L8.5 2.5l-.94 2.06-2.06.94zm10 10l.94 2.06.94-2.06 2.06-.94-2.06-.94-.94-2.06-.94 2.06-2.06.94z\"/><path d=\"M17.41 7.96l-1.37-1.37c-.4-.4-.92-.59-1.43-.59-.52 0-1.04.2-1.43.59L10.3 9.45l-7.72 7.72c-.78.78-.78 2.05 0 2.83L4 21.41c.39.39.9.59 1.41.59.51 0 1.02-.2 1.41-.59l7.78-7.78 2.81-2.81c.8-.78.8-2.07 0-2.86zM5.41 20L4 18.59l7.72-7.72 1.47 1.35L5.41 20z\"/>\n",
              "  </svg>\n",
              "      </button>\n",
              "      \n",
              "  <style>\n",
              "    .colab-df-container {\n",
              "      display:flex;\n",
              "      flex-wrap:wrap;\n",
              "      gap: 12px;\n",
              "    }\n",
              "\n",
              "    .colab-df-convert {\n",
              "      background-color: #E8F0FE;\n",
              "      border: none;\n",
              "      border-radius: 50%;\n",
              "      cursor: pointer;\n",
              "      display: none;\n",
              "      fill: #1967D2;\n",
              "      height: 32px;\n",
              "      padding: 0 0 0 0;\n",
              "      width: 32px;\n",
              "    }\n",
              "\n",
              "    .colab-df-convert:hover {\n",
              "      background-color: #E2EBFA;\n",
              "      box-shadow: 0px 1px 2px rgba(60, 64, 67, 0.3), 0px 1px 3px 1px rgba(60, 64, 67, 0.15);\n",
              "      fill: #174EA6;\n",
              "    }\n",
              "\n",
              "    [theme=dark] .colab-df-convert {\n",
              "      background-color: #3B4455;\n",
              "      fill: #D2E3FC;\n",
              "    }\n",
              "\n",
              "    [theme=dark] .colab-df-convert:hover {\n",
              "      background-color: #434B5C;\n",
              "      box-shadow: 0px 1px 3px 1px rgba(0, 0, 0, 0.15);\n",
              "      filter: drop-shadow(0px 1px 2px rgba(0, 0, 0, 0.3));\n",
              "      fill: #FFFFFF;\n",
              "    }\n",
              "  </style>\n",
              "\n",
              "      <script>\n",
              "        const buttonEl =\n",
              "          document.querySelector('#df-65a0485f-5045-4c89-afb9-d7cb38d76338 button.colab-df-convert');\n",
              "        buttonEl.style.display =\n",
              "          google.colab.kernel.accessAllowed ? 'block' : 'none';\n",
              "\n",
              "        async function convertToInteractive(key) {\n",
              "          const element = document.querySelector('#df-65a0485f-5045-4c89-afb9-d7cb38d76338');\n",
              "          const dataTable =\n",
              "            await google.colab.kernel.invokeFunction('convertToInteractive',\n",
              "                                                     [key], {});\n",
              "          if (!dataTable) return;\n",
              "\n",
              "          const docLinkHtml = 'Like what you see? Visit the ' +\n",
              "            '<a target=\"_blank\" href=https://colab.research.google.com/notebooks/data_table.ipynb>data table notebook</a>'\n",
              "            + ' to learn more about interactive tables.';\n",
              "          element.innerHTML = '';\n",
              "          dataTable['output_type'] = 'display_data';\n",
              "          await google.colab.output.renderOutput(dataTable, element);\n",
              "          const docLink = document.createElement('div');\n",
              "          docLink.innerHTML = docLinkHtml;\n",
              "          element.appendChild(docLink);\n",
              "        }\n",
              "      </script>\n",
              "    </div>\n",
              "  </div>\n",
              "  "
            ]
          },
          "metadata": {},
          "execution_count": 122
        }
      ]
    },
    {
      "cell_type": "code",
      "source": [
        "all_samples"
      ],
      "metadata": {
        "colab": {
          "base_uri": "https://localhost:8080/",
          "height": 488
        },
        "id": "xOE1nnOYOgKT",
        "outputId": "5e8f4287-072f-4284-a50f-f41416f118fb"
      },
      "execution_count": 123,
      "outputs": [
        {
          "output_type": "execute_result",
          "data": {
            "text/plain": [
              "               ^GSPC     ^FTLC      ^RUT      IEUS      GOVT      IGOV  \\\n",
              "2021-02-04 -0.001578 -0.001360  0.017138  0.015894  0.007798 -0.005997   \n",
              "2021-02-05 -0.004707  0.037176  0.007884  0.006166  0.003688  0.004442   \n",
              "2021-02-08  0.003166  0.014966 -0.012143 -0.001056  0.005843 -0.007122   \n",
              "2021-02-09  0.014873 -0.009482  0.017960 -0.003851  0.003103 -0.001400   \n",
              "2021-02-10 -0.002696  0.017818  0.010387 -0.005299  0.012451 -0.002845   \n",
              "...              ...       ...       ...       ...       ...       ...   \n",
              "2022-02-17  0.030016  0.014652 -0.014008  0.004423  0.001239  0.006041   \n",
              "2022-02-18 -0.001812 -0.006702  0.008590  0.008131 -0.000883 -0.001588   \n",
              "2022-02-22  0.002876  0.013380  0.003978 -0.004112 -0.001563  0.000487   \n",
              "2022-02-23 -0.009926 -0.000439 -0.006889 -0.000422  0.006944 -0.011683   \n",
              "2022-02-24  0.009878  0.002502 -0.002849  0.015577 -0.002841 -0.001526   \n",
              "\n",
              "                SIVR      SGOL  \n",
              "2021-02-04  0.020844  0.002289  \n",
              "2021-02-05 -0.013574  0.008465  \n",
              "2021-02-08  0.009870 -0.006863  \n",
              "2021-02-09  0.009135  0.001773  \n",
              "2021-02-10  0.004611 -0.007899  \n",
              "...              ...       ...  \n",
              "2022-02-17  0.008861 -0.007981  \n",
              "2022-02-18 -0.013406 -0.004677  \n",
              "2022-02-22 -0.013571  0.014081  \n",
              "2022-02-23 -0.017893  0.006718  \n",
              "2022-02-24 -0.010978  0.009218  \n",
              "\n",
              "[252 rows x 8 columns]"
            ],
            "text/html": [
              "\n",
              "  <div id=\"df-8330261d-996a-4529-949a-f474b209831c\">\n",
              "    <div class=\"colab-df-container\">\n",
              "      <div>\n",
              "<style scoped>\n",
              "    .dataframe tbody tr th:only-of-type {\n",
              "        vertical-align: middle;\n",
              "    }\n",
              "\n",
              "    .dataframe tbody tr th {\n",
              "        vertical-align: top;\n",
              "    }\n",
              "\n",
              "    .dataframe thead th {\n",
              "        text-align: right;\n",
              "    }\n",
              "</style>\n",
              "<table border=\"1\" class=\"dataframe\">\n",
              "  <thead>\n",
              "    <tr style=\"text-align: right;\">\n",
              "      <th></th>\n",
              "      <th>^GSPC</th>\n",
              "      <th>^FTLC</th>\n",
              "      <th>^RUT</th>\n",
              "      <th>IEUS</th>\n",
              "      <th>GOVT</th>\n",
              "      <th>IGOV</th>\n",
              "      <th>SIVR</th>\n",
              "      <th>SGOL</th>\n",
              "    </tr>\n",
              "  </thead>\n",
              "  <tbody>\n",
              "    <tr>\n",
              "      <th>2021-02-04</th>\n",
              "      <td>-0.001578</td>\n",
              "      <td>-0.001360</td>\n",
              "      <td>0.017138</td>\n",
              "      <td>0.015894</td>\n",
              "      <td>0.007798</td>\n",
              "      <td>-0.005997</td>\n",
              "      <td>0.020844</td>\n",
              "      <td>0.002289</td>\n",
              "    </tr>\n",
              "    <tr>\n",
              "      <th>2021-02-05</th>\n",
              "      <td>-0.004707</td>\n",
              "      <td>0.037176</td>\n",
              "      <td>0.007884</td>\n",
              "      <td>0.006166</td>\n",
              "      <td>0.003688</td>\n",
              "      <td>0.004442</td>\n",
              "      <td>-0.013574</td>\n",
              "      <td>0.008465</td>\n",
              "    </tr>\n",
              "    <tr>\n",
              "      <th>2021-02-08</th>\n",
              "      <td>0.003166</td>\n",
              "      <td>0.014966</td>\n",
              "      <td>-0.012143</td>\n",
              "      <td>-0.001056</td>\n",
              "      <td>0.005843</td>\n",
              "      <td>-0.007122</td>\n",
              "      <td>0.009870</td>\n",
              "      <td>-0.006863</td>\n",
              "    </tr>\n",
              "    <tr>\n",
              "      <th>2021-02-09</th>\n",
              "      <td>0.014873</td>\n",
              "      <td>-0.009482</td>\n",
              "      <td>0.017960</td>\n",
              "      <td>-0.003851</td>\n",
              "      <td>0.003103</td>\n",
              "      <td>-0.001400</td>\n",
              "      <td>0.009135</td>\n",
              "      <td>0.001773</td>\n",
              "    </tr>\n",
              "    <tr>\n",
              "      <th>2021-02-10</th>\n",
              "      <td>-0.002696</td>\n",
              "      <td>0.017818</td>\n",
              "      <td>0.010387</td>\n",
              "      <td>-0.005299</td>\n",
              "      <td>0.012451</td>\n",
              "      <td>-0.002845</td>\n",
              "      <td>0.004611</td>\n",
              "      <td>-0.007899</td>\n",
              "    </tr>\n",
              "    <tr>\n",
              "      <th>...</th>\n",
              "      <td>...</td>\n",
              "      <td>...</td>\n",
              "      <td>...</td>\n",
              "      <td>...</td>\n",
              "      <td>...</td>\n",
              "      <td>...</td>\n",
              "      <td>...</td>\n",
              "      <td>...</td>\n",
              "    </tr>\n",
              "    <tr>\n",
              "      <th>2022-02-17</th>\n",
              "      <td>0.030016</td>\n",
              "      <td>0.014652</td>\n",
              "      <td>-0.014008</td>\n",
              "      <td>0.004423</td>\n",
              "      <td>0.001239</td>\n",
              "      <td>0.006041</td>\n",
              "      <td>0.008861</td>\n",
              "      <td>-0.007981</td>\n",
              "    </tr>\n",
              "    <tr>\n",
              "      <th>2022-02-18</th>\n",
              "      <td>-0.001812</td>\n",
              "      <td>-0.006702</td>\n",
              "      <td>0.008590</td>\n",
              "      <td>0.008131</td>\n",
              "      <td>-0.000883</td>\n",
              "      <td>-0.001588</td>\n",
              "      <td>-0.013406</td>\n",
              "      <td>-0.004677</td>\n",
              "    </tr>\n",
              "    <tr>\n",
              "      <th>2022-02-22</th>\n",
              "      <td>0.002876</td>\n",
              "      <td>0.013380</td>\n",
              "      <td>0.003978</td>\n",
              "      <td>-0.004112</td>\n",
              "      <td>-0.001563</td>\n",
              "      <td>0.000487</td>\n",
              "      <td>-0.013571</td>\n",
              "      <td>0.014081</td>\n",
              "    </tr>\n",
              "    <tr>\n",
              "      <th>2022-02-23</th>\n",
              "      <td>-0.009926</td>\n",
              "      <td>-0.000439</td>\n",
              "      <td>-0.006889</td>\n",
              "      <td>-0.000422</td>\n",
              "      <td>0.006944</td>\n",
              "      <td>-0.011683</td>\n",
              "      <td>-0.017893</td>\n",
              "      <td>0.006718</td>\n",
              "    </tr>\n",
              "    <tr>\n",
              "      <th>2022-02-24</th>\n",
              "      <td>0.009878</td>\n",
              "      <td>0.002502</td>\n",
              "      <td>-0.002849</td>\n",
              "      <td>0.015577</td>\n",
              "      <td>-0.002841</td>\n",
              "      <td>-0.001526</td>\n",
              "      <td>-0.010978</td>\n",
              "      <td>0.009218</td>\n",
              "    </tr>\n",
              "  </tbody>\n",
              "</table>\n",
              "<p>252 rows × 8 columns</p>\n",
              "</div>\n",
              "      <button class=\"colab-df-convert\" onclick=\"convertToInteractive('df-8330261d-996a-4529-949a-f474b209831c')\"\n",
              "              title=\"Convert this dataframe to an interactive table.\"\n",
              "              style=\"display:none;\">\n",
              "        \n",
              "  <svg xmlns=\"http://www.w3.org/2000/svg\" height=\"24px\"viewBox=\"0 0 24 24\"\n",
              "       width=\"24px\">\n",
              "    <path d=\"M0 0h24v24H0V0z\" fill=\"none\"/>\n",
              "    <path d=\"M18.56 5.44l.94 2.06.94-2.06 2.06-.94-2.06-.94-.94-2.06-.94 2.06-2.06.94zm-11 1L8.5 8.5l.94-2.06 2.06-.94-2.06-.94L8.5 2.5l-.94 2.06-2.06.94zm10 10l.94 2.06.94-2.06 2.06-.94-2.06-.94-.94-2.06-.94 2.06-2.06.94z\"/><path d=\"M17.41 7.96l-1.37-1.37c-.4-.4-.92-.59-1.43-.59-.52 0-1.04.2-1.43.59L10.3 9.45l-7.72 7.72c-.78.78-.78 2.05 0 2.83L4 21.41c.39.39.9.59 1.41.59.51 0 1.02-.2 1.41-.59l7.78-7.78 2.81-2.81c.8-.78.8-2.07 0-2.86zM5.41 20L4 18.59l7.72-7.72 1.47 1.35L5.41 20z\"/>\n",
              "  </svg>\n",
              "      </button>\n",
              "      \n",
              "  <style>\n",
              "    .colab-df-container {\n",
              "      display:flex;\n",
              "      flex-wrap:wrap;\n",
              "      gap: 12px;\n",
              "    }\n",
              "\n",
              "    .colab-df-convert {\n",
              "      background-color: #E8F0FE;\n",
              "      border: none;\n",
              "      border-radius: 50%;\n",
              "      cursor: pointer;\n",
              "      display: none;\n",
              "      fill: #1967D2;\n",
              "      height: 32px;\n",
              "      padding: 0 0 0 0;\n",
              "      width: 32px;\n",
              "    }\n",
              "\n",
              "    .colab-df-convert:hover {\n",
              "      background-color: #E2EBFA;\n",
              "      box-shadow: 0px 1px 2px rgba(60, 64, 67, 0.3), 0px 1px 3px 1px rgba(60, 64, 67, 0.15);\n",
              "      fill: #174EA6;\n",
              "    }\n",
              "\n",
              "    [theme=dark] .colab-df-convert {\n",
              "      background-color: #3B4455;\n",
              "      fill: #D2E3FC;\n",
              "    }\n",
              "\n",
              "    [theme=dark] .colab-df-convert:hover {\n",
              "      background-color: #434B5C;\n",
              "      box-shadow: 0px 1px 3px 1px rgba(0, 0, 0, 0.15);\n",
              "      filter: drop-shadow(0px 1px 2px rgba(0, 0, 0, 0.3));\n",
              "      fill: #FFFFFF;\n",
              "    }\n",
              "  </style>\n",
              "\n",
              "      <script>\n",
              "        const buttonEl =\n",
              "          document.querySelector('#df-8330261d-996a-4529-949a-f474b209831c button.colab-df-convert');\n",
              "        buttonEl.style.display =\n",
              "          google.colab.kernel.accessAllowed ? 'block' : 'none';\n",
              "\n",
              "        async function convertToInteractive(key) {\n",
              "          const element = document.querySelector('#df-8330261d-996a-4529-949a-f474b209831c');\n",
              "          const dataTable =\n",
              "            await google.colab.kernel.invokeFunction('convertToInteractive',\n",
              "                                                     [key], {});\n",
              "          if (!dataTable) return;\n",
              "\n",
              "          const docLinkHtml = 'Like what you see? Visit the ' +\n",
              "            '<a target=\"_blank\" href=https://colab.research.google.com/notebooks/data_table.ipynb>data table notebook</a>'\n",
              "            + ' to learn more about interactive tables.';\n",
              "          element.innerHTML = '';\n",
              "          dataTable['output_type'] = 'display_data';\n",
              "          await google.colab.output.renderOutput(dataTable, element);\n",
              "          const docLink = document.createElement('div');\n",
              "          docLink.innerHTML = docLinkHtml;\n",
              "          element.appendChild(docLink);\n",
              "        }\n",
              "      </script>\n",
              "    </div>\n",
              "  </div>\n",
              "  "
            ]
          },
          "metadata": {},
          "execution_count": 123
        }
      ]
    },
    {
      "cell_type": "code",
      "source": [
        "plus_samples = 1 +all_samples"
      ],
      "metadata": {
        "id": "t4uTRcmvPcFH"
      },
      "execution_count": 124,
      "outputs": []
    },
    {
      "cell_type": "code",
      "source": [
        "plus_samples.iloc[0:1,:].reset_index()\n",
        "plus_samples"
      ],
      "metadata": {
        "colab": {
          "base_uri": "https://localhost:8080/",
          "height": 488
        },
        "id": "xNGgG3EwRu-Y",
        "outputId": "2a9be41c-b3f7-49b5-ee67-b5da1568b666"
      },
      "execution_count": 125,
      "outputs": [
        {
          "output_type": "execute_result",
          "data": {
            "text/plain": [
              "               ^GSPC     ^FTLC      ^RUT      IEUS      GOVT      IGOV  \\\n",
              "2021-02-04  0.998422  0.998640  1.017138  1.015894  1.007798  0.994003   \n",
              "2021-02-05  0.995293  1.037176  1.007884  1.006166  1.003688  1.004442   \n",
              "2021-02-08  1.003166  1.014966  0.987857  0.998944  1.005843  0.992878   \n",
              "2021-02-09  1.014873  0.990518  1.017960  0.996149  1.003103  0.998600   \n",
              "2021-02-10  0.997304  1.017818  1.010387  0.994701  1.012451  0.997155   \n",
              "...              ...       ...       ...       ...       ...       ...   \n",
              "2022-02-17  1.030016  1.014652  0.985992  1.004423  1.001239  1.006041   \n",
              "2022-02-18  0.998188  0.993298  1.008590  1.008131  0.999117  0.998412   \n",
              "2022-02-22  1.002876  1.013380  1.003978  0.995888  0.998437  1.000487   \n",
              "2022-02-23  0.990074  0.999561  0.993111  0.999578  1.006944  0.988317   \n",
              "2022-02-24  1.009878  1.002502  0.997151  1.015577  0.997159  0.998474   \n",
              "\n",
              "                SIVR      SGOL  \n",
              "2021-02-04  1.020844  1.002289  \n",
              "2021-02-05  0.986426  1.008465  \n",
              "2021-02-08  1.009870  0.993137  \n",
              "2021-02-09  1.009135  1.001773  \n",
              "2021-02-10  1.004611  0.992101  \n",
              "...              ...       ...  \n",
              "2022-02-17  1.008861  0.992019  \n",
              "2022-02-18  0.986594  0.995323  \n",
              "2022-02-22  0.986429  1.014081  \n",
              "2022-02-23  0.982107  1.006718  \n",
              "2022-02-24  0.989022  1.009218  \n",
              "\n",
              "[252 rows x 8 columns]"
            ],
            "text/html": [
              "\n",
              "  <div id=\"df-8cdeb957-3843-4870-9c0d-ae6da2e242bd\">\n",
              "    <div class=\"colab-df-container\">\n",
              "      <div>\n",
              "<style scoped>\n",
              "    .dataframe tbody tr th:only-of-type {\n",
              "        vertical-align: middle;\n",
              "    }\n",
              "\n",
              "    .dataframe tbody tr th {\n",
              "        vertical-align: top;\n",
              "    }\n",
              "\n",
              "    .dataframe thead th {\n",
              "        text-align: right;\n",
              "    }\n",
              "</style>\n",
              "<table border=\"1\" class=\"dataframe\">\n",
              "  <thead>\n",
              "    <tr style=\"text-align: right;\">\n",
              "      <th></th>\n",
              "      <th>^GSPC</th>\n",
              "      <th>^FTLC</th>\n",
              "      <th>^RUT</th>\n",
              "      <th>IEUS</th>\n",
              "      <th>GOVT</th>\n",
              "      <th>IGOV</th>\n",
              "      <th>SIVR</th>\n",
              "      <th>SGOL</th>\n",
              "    </tr>\n",
              "  </thead>\n",
              "  <tbody>\n",
              "    <tr>\n",
              "      <th>2021-02-04</th>\n",
              "      <td>0.998422</td>\n",
              "      <td>0.998640</td>\n",
              "      <td>1.017138</td>\n",
              "      <td>1.015894</td>\n",
              "      <td>1.007798</td>\n",
              "      <td>0.994003</td>\n",
              "      <td>1.020844</td>\n",
              "      <td>1.002289</td>\n",
              "    </tr>\n",
              "    <tr>\n",
              "      <th>2021-02-05</th>\n",
              "      <td>0.995293</td>\n",
              "      <td>1.037176</td>\n",
              "      <td>1.007884</td>\n",
              "      <td>1.006166</td>\n",
              "      <td>1.003688</td>\n",
              "      <td>1.004442</td>\n",
              "      <td>0.986426</td>\n",
              "      <td>1.008465</td>\n",
              "    </tr>\n",
              "    <tr>\n",
              "      <th>2021-02-08</th>\n",
              "      <td>1.003166</td>\n",
              "      <td>1.014966</td>\n",
              "      <td>0.987857</td>\n",
              "      <td>0.998944</td>\n",
              "      <td>1.005843</td>\n",
              "      <td>0.992878</td>\n",
              "      <td>1.009870</td>\n",
              "      <td>0.993137</td>\n",
              "    </tr>\n",
              "    <tr>\n",
              "      <th>2021-02-09</th>\n",
              "      <td>1.014873</td>\n",
              "      <td>0.990518</td>\n",
              "      <td>1.017960</td>\n",
              "      <td>0.996149</td>\n",
              "      <td>1.003103</td>\n",
              "      <td>0.998600</td>\n",
              "      <td>1.009135</td>\n",
              "      <td>1.001773</td>\n",
              "    </tr>\n",
              "    <tr>\n",
              "      <th>2021-02-10</th>\n",
              "      <td>0.997304</td>\n",
              "      <td>1.017818</td>\n",
              "      <td>1.010387</td>\n",
              "      <td>0.994701</td>\n",
              "      <td>1.012451</td>\n",
              "      <td>0.997155</td>\n",
              "      <td>1.004611</td>\n",
              "      <td>0.992101</td>\n",
              "    </tr>\n",
              "    <tr>\n",
              "      <th>...</th>\n",
              "      <td>...</td>\n",
              "      <td>...</td>\n",
              "      <td>...</td>\n",
              "      <td>...</td>\n",
              "      <td>...</td>\n",
              "      <td>...</td>\n",
              "      <td>...</td>\n",
              "      <td>...</td>\n",
              "    </tr>\n",
              "    <tr>\n",
              "      <th>2022-02-17</th>\n",
              "      <td>1.030016</td>\n",
              "      <td>1.014652</td>\n",
              "      <td>0.985992</td>\n",
              "      <td>1.004423</td>\n",
              "      <td>1.001239</td>\n",
              "      <td>1.006041</td>\n",
              "      <td>1.008861</td>\n",
              "      <td>0.992019</td>\n",
              "    </tr>\n",
              "    <tr>\n",
              "      <th>2022-02-18</th>\n",
              "      <td>0.998188</td>\n",
              "      <td>0.993298</td>\n",
              "      <td>1.008590</td>\n",
              "      <td>1.008131</td>\n",
              "      <td>0.999117</td>\n",
              "      <td>0.998412</td>\n",
              "      <td>0.986594</td>\n",
              "      <td>0.995323</td>\n",
              "    </tr>\n",
              "    <tr>\n",
              "      <th>2022-02-22</th>\n",
              "      <td>1.002876</td>\n",
              "      <td>1.013380</td>\n",
              "      <td>1.003978</td>\n",
              "      <td>0.995888</td>\n",
              "      <td>0.998437</td>\n",
              "      <td>1.000487</td>\n",
              "      <td>0.986429</td>\n",
              "      <td>1.014081</td>\n",
              "    </tr>\n",
              "    <tr>\n",
              "      <th>2022-02-23</th>\n",
              "      <td>0.990074</td>\n",
              "      <td>0.999561</td>\n",
              "      <td>0.993111</td>\n",
              "      <td>0.999578</td>\n",
              "      <td>1.006944</td>\n",
              "      <td>0.988317</td>\n",
              "      <td>0.982107</td>\n",
              "      <td>1.006718</td>\n",
              "    </tr>\n",
              "    <tr>\n",
              "      <th>2022-02-24</th>\n",
              "      <td>1.009878</td>\n",
              "      <td>1.002502</td>\n",
              "      <td>0.997151</td>\n",
              "      <td>1.015577</td>\n",
              "      <td>0.997159</td>\n",
              "      <td>0.998474</td>\n",
              "      <td>0.989022</td>\n",
              "      <td>1.009218</td>\n",
              "    </tr>\n",
              "  </tbody>\n",
              "</table>\n",
              "<p>252 rows × 8 columns</p>\n",
              "</div>\n",
              "      <button class=\"colab-df-convert\" onclick=\"convertToInteractive('df-8cdeb957-3843-4870-9c0d-ae6da2e242bd')\"\n",
              "              title=\"Convert this dataframe to an interactive table.\"\n",
              "              style=\"display:none;\">\n",
              "        \n",
              "  <svg xmlns=\"http://www.w3.org/2000/svg\" height=\"24px\"viewBox=\"0 0 24 24\"\n",
              "       width=\"24px\">\n",
              "    <path d=\"M0 0h24v24H0V0z\" fill=\"none\"/>\n",
              "    <path d=\"M18.56 5.44l.94 2.06.94-2.06 2.06-.94-2.06-.94-.94-2.06-.94 2.06-2.06.94zm-11 1L8.5 8.5l.94-2.06 2.06-.94-2.06-.94L8.5 2.5l-.94 2.06-2.06.94zm10 10l.94 2.06.94-2.06 2.06-.94-2.06-.94-.94-2.06-.94 2.06-2.06.94z\"/><path d=\"M17.41 7.96l-1.37-1.37c-.4-.4-.92-.59-1.43-.59-.52 0-1.04.2-1.43.59L10.3 9.45l-7.72 7.72c-.78.78-.78 2.05 0 2.83L4 21.41c.39.39.9.59 1.41.59.51 0 1.02-.2 1.41-.59l7.78-7.78 2.81-2.81c.8-.78.8-2.07 0-2.86zM5.41 20L4 18.59l7.72-7.72 1.47 1.35L5.41 20z\"/>\n",
              "  </svg>\n",
              "      </button>\n",
              "      \n",
              "  <style>\n",
              "    .colab-df-container {\n",
              "      display:flex;\n",
              "      flex-wrap:wrap;\n",
              "      gap: 12px;\n",
              "    }\n",
              "\n",
              "    .colab-df-convert {\n",
              "      background-color: #E8F0FE;\n",
              "      border: none;\n",
              "      border-radius: 50%;\n",
              "      cursor: pointer;\n",
              "      display: none;\n",
              "      fill: #1967D2;\n",
              "      height: 32px;\n",
              "      padding: 0 0 0 0;\n",
              "      width: 32px;\n",
              "    }\n",
              "\n",
              "    .colab-df-convert:hover {\n",
              "      background-color: #E2EBFA;\n",
              "      box-shadow: 0px 1px 2px rgba(60, 64, 67, 0.3), 0px 1px 3px 1px rgba(60, 64, 67, 0.15);\n",
              "      fill: #174EA6;\n",
              "    }\n",
              "\n",
              "    [theme=dark] .colab-df-convert {\n",
              "      background-color: #3B4455;\n",
              "      fill: #D2E3FC;\n",
              "    }\n",
              "\n",
              "    [theme=dark] .colab-df-convert:hover {\n",
              "      background-color: #434B5C;\n",
              "      box-shadow: 0px 1px 3px 1px rgba(0, 0, 0, 0.15);\n",
              "      filter: drop-shadow(0px 1px 2px rgba(0, 0, 0, 0.3));\n",
              "      fill: #FFFFFF;\n",
              "    }\n",
              "  </style>\n",
              "\n",
              "      <script>\n",
              "        const buttonEl =\n",
              "          document.querySelector('#df-8cdeb957-3843-4870-9c0d-ae6da2e242bd button.colab-df-convert');\n",
              "        buttonEl.style.display =\n",
              "          google.colab.kernel.accessAllowed ? 'block' : 'none';\n",
              "\n",
              "        async function convertToInteractive(key) {\n",
              "          const element = document.querySelector('#df-8cdeb957-3843-4870-9c0d-ae6da2e242bd');\n",
              "          const dataTable =\n",
              "            await google.colab.kernel.invokeFunction('convertToInteractive',\n",
              "                                                     [key], {});\n",
              "          if (!dataTable) return;\n",
              "\n",
              "          const docLinkHtml = 'Like what you see? Visit the ' +\n",
              "            '<a target=\"_blank\" href=https://colab.research.google.com/notebooks/data_table.ipynb>data table notebook</a>'\n",
              "            + ' to learn more about interactive tables.';\n",
              "          element.innerHTML = '';\n",
              "          dataTable['output_type'] = 'display_data';\n",
              "          await google.colab.output.renderOutput(dataTable, element);\n",
              "          const docLink = document.createElement('div');\n",
              "          docLink.innerHTML = docLinkHtml;\n",
              "          element.appendChild(docLink);\n",
              "        }\n",
              "      </script>\n",
              "    </div>\n",
              "  </div>\n",
              "  "
            ]
          },
          "metadata": {},
          "execution_count": 125
        }
      ]
    },
    {
      "cell_type": "code",
      "source": [
        "last_stock_price = stock_data.iloc[-253:-252,:].reset_index().drop(\"Date\", axis=1)\n",
        "last_stock_price"
      ],
      "metadata": {
        "colab": {
          "base_uri": "https://localhost:8080/",
          "height": 145
        },
        "id": "CAzXS_Z4SQM_",
        "outputId": "9dfe47d1-0c86-43d4-f35f-e827f14e5c8b"
      },
      "execution_count": 126,
      "outputs": [
        {
          "output_type": "execute_result",
          "data": {
            "text/plain": [
              "         ^GSPC   ^FTLC         ^RUT       IEUS       GOVT       IGOV   SIVR  \\\n",
              "0  3830.169922  3728.5  2159.699951  62.261761  26.677721  54.029949  25.92   \n",
              "\n",
              "        SGOL  \n",
              "0  17.620001  "
            ],
            "text/html": [
              "\n",
              "  <div id=\"df-2e9fff48-a062-4b6d-8a29-ea14a631cfbd\">\n",
              "    <div class=\"colab-df-container\">\n",
              "      <div>\n",
              "<style scoped>\n",
              "    .dataframe tbody tr th:only-of-type {\n",
              "        vertical-align: middle;\n",
              "    }\n",
              "\n",
              "    .dataframe tbody tr th {\n",
              "        vertical-align: top;\n",
              "    }\n",
              "\n",
              "    .dataframe thead th {\n",
              "        text-align: right;\n",
              "    }\n",
              "</style>\n",
              "<table border=\"1\" class=\"dataframe\">\n",
              "  <thead>\n",
              "    <tr style=\"text-align: right;\">\n",
              "      <th></th>\n",
              "      <th>^GSPC</th>\n",
              "      <th>^FTLC</th>\n",
              "      <th>^RUT</th>\n",
              "      <th>IEUS</th>\n",
              "      <th>GOVT</th>\n",
              "      <th>IGOV</th>\n",
              "      <th>SIVR</th>\n",
              "      <th>SGOL</th>\n",
              "    </tr>\n",
              "  </thead>\n",
              "  <tbody>\n",
              "    <tr>\n",
              "      <th>0</th>\n",
              "      <td>3830.169922</td>\n",
              "      <td>3728.5</td>\n",
              "      <td>2159.699951</td>\n",
              "      <td>62.261761</td>\n",
              "      <td>26.677721</td>\n",
              "      <td>54.029949</td>\n",
              "      <td>25.92</td>\n",
              "      <td>17.620001</td>\n",
              "    </tr>\n",
              "  </tbody>\n",
              "</table>\n",
              "</div>\n",
              "      <button class=\"colab-df-convert\" onclick=\"convertToInteractive('df-2e9fff48-a062-4b6d-8a29-ea14a631cfbd')\"\n",
              "              title=\"Convert this dataframe to an interactive table.\"\n",
              "              style=\"display:none;\">\n",
              "        \n",
              "  <svg xmlns=\"http://www.w3.org/2000/svg\" height=\"24px\"viewBox=\"0 0 24 24\"\n",
              "       width=\"24px\">\n",
              "    <path d=\"M0 0h24v24H0V0z\" fill=\"none\"/>\n",
              "    <path d=\"M18.56 5.44l.94 2.06.94-2.06 2.06-.94-2.06-.94-.94-2.06-.94 2.06-2.06.94zm-11 1L8.5 8.5l.94-2.06 2.06-.94-2.06-.94L8.5 2.5l-.94 2.06-2.06.94zm10 10l.94 2.06.94-2.06 2.06-.94-2.06-.94-.94-2.06-.94 2.06-2.06.94z\"/><path d=\"M17.41 7.96l-1.37-1.37c-.4-.4-.92-.59-1.43-.59-.52 0-1.04.2-1.43.59L10.3 9.45l-7.72 7.72c-.78.78-.78 2.05 0 2.83L4 21.41c.39.39.9.59 1.41.59.51 0 1.02-.2 1.41-.59l7.78-7.78 2.81-2.81c.8-.78.8-2.07 0-2.86zM5.41 20L4 18.59l7.72-7.72 1.47 1.35L5.41 20z\"/>\n",
              "  </svg>\n",
              "      </button>\n",
              "      \n",
              "  <style>\n",
              "    .colab-df-container {\n",
              "      display:flex;\n",
              "      flex-wrap:wrap;\n",
              "      gap: 12px;\n",
              "    }\n",
              "\n",
              "    .colab-df-convert {\n",
              "      background-color: #E8F0FE;\n",
              "      border: none;\n",
              "      border-radius: 50%;\n",
              "      cursor: pointer;\n",
              "      display: none;\n",
              "      fill: #1967D2;\n",
              "      height: 32px;\n",
              "      padding: 0 0 0 0;\n",
              "      width: 32px;\n",
              "    }\n",
              "\n",
              "    .colab-df-convert:hover {\n",
              "      background-color: #E2EBFA;\n",
              "      box-shadow: 0px 1px 2px rgba(60, 64, 67, 0.3), 0px 1px 3px 1px rgba(60, 64, 67, 0.15);\n",
              "      fill: #174EA6;\n",
              "    }\n",
              "\n",
              "    [theme=dark] .colab-df-convert {\n",
              "      background-color: #3B4455;\n",
              "      fill: #D2E3FC;\n",
              "    }\n",
              "\n",
              "    [theme=dark] .colab-df-convert:hover {\n",
              "      background-color: #434B5C;\n",
              "      box-shadow: 0px 1px 3px 1px rgba(0, 0, 0, 0.15);\n",
              "      filter: drop-shadow(0px 1px 2px rgba(0, 0, 0, 0.3));\n",
              "      fill: #FFFFFF;\n",
              "    }\n",
              "  </style>\n",
              "\n",
              "      <script>\n",
              "        const buttonEl =\n",
              "          document.querySelector('#df-2e9fff48-a062-4b6d-8a29-ea14a631cfbd button.colab-df-convert');\n",
              "        buttonEl.style.display =\n",
              "          google.colab.kernel.accessAllowed ? 'block' : 'none';\n",
              "\n",
              "        async function convertToInteractive(key) {\n",
              "          const element = document.querySelector('#df-2e9fff48-a062-4b6d-8a29-ea14a631cfbd');\n",
              "          const dataTable =\n",
              "            await google.colab.kernel.invokeFunction('convertToInteractive',\n",
              "                                                     [key], {});\n",
              "          if (!dataTable) return;\n",
              "\n",
              "          const docLinkHtml = 'Like what you see? Visit the ' +\n",
              "            '<a target=\"_blank\" href=https://colab.research.google.com/notebooks/data_table.ipynb>data table notebook</a>'\n",
              "            + ' to learn more about interactive tables.';\n",
              "          element.innerHTML = '';\n",
              "          dataTable['output_type'] = 'display_data';\n",
              "          await google.colab.output.renderOutput(dataTable, element);\n",
              "          const docLink = document.createElement('div');\n",
              "          docLink.innerHTML = docLinkHtml;\n",
              "          element.appendChild(docLink);\n",
              "        }\n",
              "      </script>\n",
              "    </div>\n",
              "  </div>\n",
              "  "
            ]
          },
          "metadata": {},
          "execution_count": 126
        }
      ]
    },
    {
      "cell_type": "code",
      "source": [
        "Cumulative_returns_daily = (plus_samples).cumprod().dropna()\n",
        "print(Cumulative_returns_daily.dropna())\n",
        "#print(plus_samples.cumprod())"
      ],
      "metadata": {
        "colab": {
          "base_uri": "https://localhost:8080/"
        },
        "id": "p5O7CpbxTyV7",
        "outputId": "e3ced9cf-22e4-41ce-920f-c1a2fdb8ba49"
      },
      "execution_count": 127,
      "outputs": [
        {
          "output_type": "stream",
          "name": "stdout",
          "text": [
            "               ^GSPC     ^FTLC      ^RUT      IEUS      GOVT      IGOV  \\\n",
            "2021-02-04  0.998422  0.998640  1.017138  1.015894  1.007798  0.994003   \n",
            "2021-02-05  0.993723  1.035765  1.025157  1.022158  1.011514  0.998419   \n",
            "2021-02-08  0.996869  1.051266  1.012708  1.021078  1.017424  0.991309   \n",
            "2021-02-09  1.011695  1.041299  1.030896  1.017147  1.020581  0.989921   \n",
            "2021-02-10  1.008968  1.059852  1.041604  1.011757  1.033288  0.987105   \n",
            "...              ...       ...       ...       ...       ...       ...   \n",
            "2022-02-17  1.209081  0.940732  1.541599  0.671298  1.117802  0.983059   \n",
            "2022-02-18  1.206891  0.934428  1.554842  0.676756  1.116815  0.981498   \n",
            "2022-02-22  1.210362  0.946931  1.561027  0.673973  1.115069  0.981976   \n",
            "2022-02-23  1.198348  0.946515  1.550274  0.673689  1.122812  0.970503   \n",
            "2022-02-24  1.210185  0.948883  1.545857  0.684183  1.119622  0.969022   \n",
            "\n",
            "                SIVR      SGOL  \n",
            "2021-02-04  1.020844  1.002289  \n",
            "2021-02-05  1.006988  1.010774  \n",
            "2021-02-08  1.016927  1.003836  \n",
            "2021-02-09  1.026216  1.005616  \n",
            "2021-02-10  1.030948  0.997672  \n",
            "...              ...       ...  \n",
            "2022-02-17  1.083784  1.195051  \n",
            "2022-02-18  1.069255  1.189462  \n",
            "2022-02-22  1.054744  1.206210  \n",
            "2022-02-23  1.035871  1.214314  \n",
            "2022-02-24  1.024499  1.225507  \n",
            "\n",
            "[252 rows x 8 columns]\n"
          ]
        }
      ]
    },
    {
      "cell_type": "code",
      "source": [
        "last_stock_price"
      ],
      "metadata": {
        "colab": {
          "base_uri": "https://localhost:8080/",
          "height": 145
        },
        "id": "nZPFoQDCUhfU",
        "outputId": "9f5aa7a1-7785-47ba-935c-83e90ef3fd8d"
      },
      "execution_count": 128,
      "outputs": [
        {
          "output_type": "execute_result",
          "data": {
            "text/plain": [
              "         ^GSPC   ^FTLC         ^RUT       IEUS       GOVT       IGOV   SIVR  \\\n",
              "0  3830.169922  3728.5  2159.699951  62.261761  26.677721  54.029949  25.92   \n",
              "\n",
              "        SGOL  \n",
              "0  17.620001  "
            ],
            "text/html": [
              "\n",
              "  <div id=\"df-8c1e8969-8106-49f4-bcec-a1157b5f4159\">\n",
              "    <div class=\"colab-df-container\">\n",
              "      <div>\n",
              "<style scoped>\n",
              "    .dataframe tbody tr th:only-of-type {\n",
              "        vertical-align: middle;\n",
              "    }\n",
              "\n",
              "    .dataframe tbody tr th {\n",
              "        vertical-align: top;\n",
              "    }\n",
              "\n",
              "    .dataframe thead th {\n",
              "        text-align: right;\n",
              "    }\n",
              "</style>\n",
              "<table border=\"1\" class=\"dataframe\">\n",
              "  <thead>\n",
              "    <tr style=\"text-align: right;\">\n",
              "      <th></th>\n",
              "      <th>^GSPC</th>\n",
              "      <th>^FTLC</th>\n",
              "      <th>^RUT</th>\n",
              "      <th>IEUS</th>\n",
              "      <th>GOVT</th>\n",
              "      <th>IGOV</th>\n",
              "      <th>SIVR</th>\n",
              "      <th>SGOL</th>\n",
              "    </tr>\n",
              "  </thead>\n",
              "  <tbody>\n",
              "    <tr>\n",
              "      <th>0</th>\n",
              "      <td>3830.169922</td>\n",
              "      <td>3728.5</td>\n",
              "      <td>2159.699951</td>\n",
              "      <td>62.261761</td>\n",
              "      <td>26.677721</td>\n",
              "      <td>54.029949</td>\n",
              "      <td>25.92</td>\n",
              "      <td>17.620001</td>\n",
              "    </tr>\n",
              "  </tbody>\n",
              "</table>\n",
              "</div>\n",
              "      <button class=\"colab-df-convert\" onclick=\"convertToInteractive('df-8c1e8969-8106-49f4-bcec-a1157b5f4159')\"\n",
              "              title=\"Convert this dataframe to an interactive table.\"\n",
              "              style=\"display:none;\">\n",
              "        \n",
              "  <svg xmlns=\"http://www.w3.org/2000/svg\" height=\"24px\"viewBox=\"0 0 24 24\"\n",
              "       width=\"24px\">\n",
              "    <path d=\"M0 0h24v24H0V0z\" fill=\"none\"/>\n",
              "    <path d=\"M18.56 5.44l.94 2.06.94-2.06 2.06-.94-2.06-.94-.94-2.06-.94 2.06-2.06.94zm-11 1L8.5 8.5l.94-2.06 2.06-.94-2.06-.94L8.5 2.5l-.94 2.06-2.06.94zm10 10l.94 2.06.94-2.06 2.06-.94-2.06-.94-.94-2.06-.94 2.06-2.06.94z\"/><path d=\"M17.41 7.96l-1.37-1.37c-.4-.4-.92-.59-1.43-.59-.52 0-1.04.2-1.43.59L10.3 9.45l-7.72 7.72c-.78.78-.78 2.05 0 2.83L4 21.41c.39.39.9.59 1.41.59.51 0 1.02-.2 1.41-.59l7.78-7.78 2.81-2.81c.8-.78.8-2.07 0-2.86zM5.41 20L4 18.59l7.72-7.72 1.47 1.35L5.41 20z\"/>\n",
              "  </svg>\n",
              "      </button>\n",
              "      \n",
              "  <style>\n",
              "    .colab-df-container {\n",
              "      display:flex;\n",
              "      flex-wrap:wrap;\n",
              "      gap: 12px;\n",
              "    }\n",
              "\n",
              "    .colab-df-convert {\n",
              "      background-color: #E8F0FE;\n",
              "      border: none;\n",
              "      border-radius: 50%;\n",
              "      cursor: pointer;\n",
              "      display: none;\n",
              "      fill: #1967D2;\n",
              "      height: 32px;\n",
              "      padding: 0 0 0 0;\n",
              "      width: 32px;\n",
              "    }\n",
              "\n",
              "    .colab-df-convert:hover {\n",
              "      background-color: #E2EBFA;\n",
              "      box-shadow: 0px 1px 2px rgba(60, 64, 67, 0.3), 0px 1px 3px 1px rgba(60, 64, 67, 0.15);\n",
              "      fill: #174EA6;\n",
              "    }\n",
              "\n",
              "    [theme=dark] .colab-df-convert {\n",
              "      background-color: #3B4455;\n",
              "      fill: #D2E3FC;\n",
              "    }\n",
              "\n",
              "    [theme=dark] .colab-df-convert:hover {\n",
              "      background-color: #434B5C;\n",
              "      box-shadow: 0px 1px 3px 1px rgba(0, 0, 0, 0.15);\n",
              "      filter: drop-shadow(0px 1px 2px rgba(0, 0, 0, 0.3));\n",
              "      fill: #FFFFFF;\n",
              "    }\n",
              "  </style>\n",
              "\n",
              "      <script>\n",
              "        const buttonEl =\n",
              "          document.querySelector('#df-8c1e8969-8106-49f4-bcec-a1157b5f4159 button.colab-df-convert');\n",
              "        buttonEl.style.display =\n",
              "          google.colab.kernel.accessAllowed ? 'block' : 'none';\n",
              "\n",
              "        async function convertToInteractive(key) {\n",
              "          const element = document.querySelector('#df-8c1e8969-8106-49f4-bcec-a1157b5f4159');\n",
              "          const dataTable =\n",
              "            await google.colab.kernel.invokeFunction('convertToInteractive',\n",
              "                                                     [key], {});\n",
              "          if (!dataTable) return;\n",
              "\n",
              "          const docLinkHtml = 'Like what you see? Visit the ' +\n",
              "            '<a target=\"_blank\" href=https://colab.research.google.com/notebooks/data_table.ipynb>data table notebook</a>'\n",
              "            + ' to learn more about interactive tables.';\n",
              "          element.innerHTML = '';\n",
              "          dataTable['output_type'] = 'display_data';\n",
              "          await google.colab.output.renderOutput(dataTable, element);\n",
              "          const docLink = document.createElement('div');\n",
              "          docLink.innerHTML = docLinkHtml;\n",
              "          element.appendChild(docLink);\n",
              "        }\n",
              "      </script>\n",
              "    </div>\n",
              "  </div>\n",
              "  "
            ]
          },
          "metadata": {},
          "execution_count": 128
        }
      ]
    },
    {
      "cell_type": "code",
      "source": [
        "stock_prices = Cumulative_returns_daily * last_stock_price.iloc[0,:]\n",
        "stock_prices"
      ],
      "metadata": {
        "colab": {
          "base_uri": "https://localhost:8080/",
          "height": 488
        },
        "id": "w6yI2a2pURT8",
        "outputId": "392ff932-e341-42f9-d019-ab6495c9a74e"
      },
      "execution_count": 129,
      "outputs": [
        {
          "output_type": "execute_result",
          "data": {
            "text/plain": [
              "                  ^GSPC        ^FTLC         ^RUT       IEUS       GOVT  \\\n",
              "2021-02-04  3824.127488  3723.428777  2196.711831  63.251350  26.885743   \n",
              "2021-02-05  3806.128883  3861.849641  2214.030477  63.641328  26.984887   \n",
              "2021-02-08  3818.177618  3919.646375  2187.146358  63.574131  27.142548   \n",
              "2021-02-09  3874.965639  3882.481825  2226.426905  63.329337  27.226777   \n",
              "2021-02-10  3864.518982  3951.659788  2249.552986  62.993741  27.565780   \n",
              "...                 ...          ...          ...        ...        ...   \n",
              "2022-02-17  4630.987242  3507.520838  3329.392317  41.796187  29.820410   \n",
              "2022-02-18  4622.595845  3484.014478  3357.991944  42.136039  29.794072   \n",
              "2022-02-22  4635.891478  3530.630416  3371.350441  41.962768  29.747499   \n",
              "2022-02-23  4589.875923  3529.081569  3348.125726  41.945050  29.954070   \n",
              "2022-02-24  4635.213464  3537.911276  3338.587237  42.598420  29.868973   \n",
              "\n",
              "                 IGOV       SIVR       SGOL  \n",
              "2021-02-04  53.705952  26.460287  17.660335  \n",
              "2021-02-05  53.944534  26.101125  17.809830  \n",
              "2021-02-08  53.560359  26.358747  17.687595  \n",
              "2021-02-09  53.485383  26.599522  17.718958  \n",
              "2021-02-10  53.333226  26.722185  17.578989  \n",
              "...               ...        ...        ...  \n",
              "2022-02-17  53.114635  28.091689  21.056808  \n",
              "2022-02-18  53.030275  27.715084  20.958321  \n",
              "2022-02-22  53.056094  27.338955  21.253425  \n",
              "2022-02-23  52.436217  26.849770  21.396216  \n",
              "2022-02-24  52.356206  26.555015  21.593438  \n",
              "\n",
              "[252 rows x 8 columns]"
            ],
            "text/html": [
              "\n",
              "  <div id=\"df-d27f4885-610a-47a9-8a16-0e353c21da69\">\n",
              "    <div class=\"colab-df-container\">\n",
              "      <div>\n",
              "<style scoped>\n",
              "    .dataframe tbody tr th:only-of-type {\n",
              "        vertical-align: middle;\n",
              "    }\n",
              "\n",
              "    .dataframe tbody tr th {\n",
              "        vertical-align: top;\n",
              "    }\n",
              "\n",
              "    .dataframe thead th {\n",
              "        text-align: right;\n",
              "    }\n",
              "</style>\n",
              "<table border=\"1\" class=\"dataframe\">\n",
              "  <thead>\n",
              "    <tr style=\"text-align: right;\">\n",
              "      <th></th>\n",
              "      <th>^GSPC</th>\n",
              "      <th>^FTLC</th>\n",
              "      <th>^RUT</th>\n",
              "      <th>IEUS</th>\n",
              "      <th>GOVT</th>\n",
              "      <th>IGOV</th>\n",
              "      <th>SIVR</th>\n",
              "      <th>SGOL</th>\n",
              "    </tr>\n",
              "  </thead>\n",
              "  <tbody>\n",
              "    <tr>\n",
              "      <th>2021-02-04</th>\n",
              "      <td>3824.127488</td>\n",
              "      <td>3723.428777</td>\n",
              "      <td>2196.711831</td>\n",
              "      <td>63.251350</td>\n",
              "      <td>26.885743</td>\n",
              "      <td>53.705952</td>\n",
              "      <td>26.460287</td>\n",
              "      <td>17.660335</td>\n",
              "    </tr>\n",
              "    <tr>\n",
              "      <th>2021-02-05</th>\n",
              "      <td>3806.128883</td>\n",
              "      <td>3861.849641</td>\n",
              "      <td>2214.030477</td>\n",
              "      <td>63.641328</td>\n",
              "      <td>26.984887</td>\n",
              "      <td>53.944534</td>\n",
              "      <td>26.101125</td>\n",
              "      <td>17.809830</td>\n",
              "    </tr>\n",
              "    <tr>\n",
              "      <th>2021-02-08</th>\n",
              "      <td>3818.177618</td>\n",
              "      <td>3919.646375</td>\n",
              "      <td>2187.146358</td>\n",
              "      <td>63.574131</td>\n",
              "      <td>27.142548</td>\n",
              "      <td>53.560359</td>\n",
              "      <td>26.358747</td>\n",
              "      <td>17.687595</td>\n",
              "    </tr>\n",
              "    <tr>\n",
              "      <th>2021-02-09</th>\n",
              "      <td>3874.965639</td>\n",
              "      <td>3882.481825</td>\n",
              "      <td>2226.426905</td>\n",
              "      <td>63.329337</td>\n",
              "      <td>27.226777</td>\n",
              "      <td>53.485383</td>\n",
              "      <td>26.599522</td>\n",
              "      <td>17.718958</td>\n",
              "    </tr>\n",
              "    <tr>\n",
              "      <th>2021-02-10</th>\n",
              "      <td>3864.518982</td>\n",
              "      <td>3951.659788</td>\n",
              "      <td>2249.552986</td>\n",
              "      <td>62.993741</td>\n",
              "      <td>27.565780</td>\n",
              "      <td>53.333226</td>\n",
              "      <td>26.722185</td>\n",
              "      <td>17.578989</td>\n",
              "    </tr>\n",
              "    <tr>\n",
              "      <th>...</th>\n",
              "      <td>...</td>\n",
              "      <td>...</td>\n",
              "      <td>...</td>\n",
              "      <td>...</td>\n",
              "      <td>...</td>\n",
              "      <td>...</td>\n",
              "      <td>...</td>\n",
              "      <td>...</td>\n",
              "    </tr>\n",
              "    <tr>\n",
              "      <th>2022-02-17</th>\n",
              "      <td>4630.987242</td>\n",
              "      <td>3507.520838</td>\n",
              "      <td>3329.392317</td>\n",
              "      <td>41.796187</td>\n",
              "      <td>29.820410</td>\n",
              "      <td>53.114635</td>\n",
              "      <td>28.091689</td>\n",
              "      <td>21.056808</td>\n",
              "    </tr>\n",
              "    <tr>\n",
              "      <th>2022-02-18</th>\n",
              "      <td>4622.595845</td>\n",
              "      <td>3484.014478</td>\n",
              "      <td>3357.991944</td>\n",
              "      <td>42.136039</td>\n",
              "      <td>29.794072</td>\n",
              "      <td>53.030275</td>\n",
              "      <td>27.715084</td>\n",
              "      <td>20.958321</td>\n",
              "    </tr>\n",
              "    <tr>\n",
              "      <th>2022-02-22</th>\n",
              "      <td>4635.891478</td>\n",
              "      <td>3530.630416</td>\n",
              "      <td>3371.350441</td>\n",
              "      <td>41.962768</td>\n",
              "      <td>29.747499</td>\n",
              "      <td>53.056094</td>\n",
              "      <td>27.338955</td>\n",
              "      <td>21.253425</td>\n",
              "    </tr>\n",
              "    <tr>\n",
              "      <th>2022-02-23</th>\n",
              "      <td>4589.875923</td>\n",
              "      <td>3529.081569</td>\n",
              "      <td>3348.125726</td>\n",
              "      <td>41.945050</td>\n",
              "      <td>29.954070</td>\n",
              "      <td>52.436217</td>\n",
              "      <td>26.849770</td>\n",
              "      <td>21.396216</td>\n",
              "    </tr>\n",
              "    <tr>\n",
              "      <th>2022-02-24</th>\n",
              "      <td>4635.213464</td>\n",
              "      <td>3537.911276</td>\n",
              "      <td>3338.587237</td>\n",
              "      <td>42.598420</td>\n",
              "      <td>29.868973</td>\n",
              "      <td>52.356206</td>\n",
              "      <td>26.555015</td>\n",
              "      <td>21.593438</td>\n",
              "    </tr>\n",
              "  </tbody>\n",
              "</table>\n",
              "<p>252 rows × 8 columns</p>\n",
              "</div>\n",
              "      <button class=\"colab-df-convert\" onclick=\"convertToInteractive('df-d27f4885-610a-47a9-8a16-0e353c21da69')\"\n",
              "              title=\"Convert this dataframe to an interactive table.\"\n",
              "              style=\"display:none;\">\n",
              "        \n",
              "  <svg xmlns=\"http://www.w3.org/2000/svg\" height=\"24px\"viewBox=\"0 0 24 24\"\n",
              "       width=\"24px\">\n",
              "    <path d=\"M0 0h24v24H0V0z\" fill=\"none\"/>\n",
              "    <path d=\"M18.56 5.44l.94 2.06.94-2.06 2.06-.94-2.06-.94-.94-2.06-.94 2.06-2.06.94zm-11 1L8.5 8.5l.94-2.06 2.06-.94-2.06-.94L8.5 2.5l-.94 2.06-2.06.94zm10 10l.94 2.06.94-2.06 2.06-.94-2.06-.94-.94-2.06-.94 2.06-2.06.94z\"/><path d=\"M17.41 7.96l-1.37-1.37c-.4-.4-.92-.59-1.43-.59-.52 0-1.04.2-1.43.59L10.3 9.45l-7.72 7.72c-.78.78-.78 2.05 0 2.83L4 21.41c.39.39.9.59 1.41.59.51 0 1.02-.2 1.41-.59l7.78-7.78 2.81-2.81c.8-.78.8-2.07 0-2.86zM5.41 20L4 18.59l7.72-7.72 1.47 1.35L5.41 20z\"/>\n",
              "  </svg>\n",
              "      </button>\n",
              "      \n",
              "  <style>\n",
              "    .colab-df-container {\n",
              "      display:flex;\n",
              "      flex-wrap:wrap;\n",
              "      gap: 12px;\n",
              "    }\n",
              "\n",
              "    .colab-df-convert {\n",
              "      background-color: #E8F0FE;\n",
              "      border: none;\n",
              "      border-radius: 50%;\n",
              "      cursor: pointer;\n",
              "      display: none;\n",
              "      fill: #1967D2;\n",
              "      height: 32px;\n",
              "      padding: 0 0 0 0;\n",
              "      width: 32px;\n",
              "    }\n",
              "\n",
              "    .colab-df-convert:hover {\n",
              "      background-color: #E2EBFA;\n",
              "      box-shadow: 0px 1px 2px rgba(60, 64, 67, 0.3), 0px 1px 3px 1px rgba(60, 64, 67, 0.15);\n",
              "      fill: #174EA6;\n",
              "    }\n",
              "\n",
              "    [theme=dark] .colab-df-convert {\n",
              "      background-color: #3B4455;\n",
              "      fill: #D2E3FC;\n",
              "    }\n",
              "\n",
              "    [theme=dark] .colab-df-convert:hover {\n",
              "      background-color: #434B5C;\n",
              "      box-shadow: 0px 1px 3px 1px rgba(0, 0, 0, 0.15);\n",
              "      filter: drop-shadow(0px 1px 2px rgba(0, 0, 0, 0.3));\n",
              "      fill: #FFFFFF;\n",
              "    }\n",
              "  </style>\n",
              "\n",
              "      <script>\n",
              "        const buttonEl =\n",
              "          document.querySelector('#df-d27f4885-610a-47a9-8a16-0e353c21da69 button.colab-df-convert');\n",
              "        buttonEl.style.display =\n",
              "          google.colab.kernel.accessAllowed ? 'block' : 'none';\n",
              "\n",
              "        async function convertToInteractive(key) {\n",
              "          const element = document.querySelector('#df-d27f4885-610a-47a9-8a16-0e353c21da69');\n",
              "          const dataTable =\n",
              "            await google.colab.kernel.invokeFunction('convertToInteractive',\n",
              "                                                     [key], {});\n",
              "          if (!dataTable) return;\n",
              "\n",
              "          const docLinkHtml = 'Like what you see? Visit the ' +\n",
              "            '<a target=\"_blank\" href=https://colab.research.google.com/notebooks/data_table.ipynb>data table notebook</a>'\n",
              "            + ' to learn more about interactive tables.';\n",
              "          element.innerHTML = '';\n",
              "          dataTable['output_type'] = 'display_data';\n",
              "          await google.colab.output.renderOutput(dataTable, element);\n",
              "          const docLink = document.createElement('div');\n",
              "          docLink.innerHTML = docLinkHtml;\n",
              "          element.appendChild(docLink);\n",
              "        }\n",
              "      </script>\n",
              "    </div>\n",
              "  </div>\n",
              "  "
            ]
          },
          "metadata": {},
          "execution_count": 129
        }
      ]
    },
    {
      "cell_type": "code",
      "source": [
        "stock_prices[\"^GSPC\"].plot()\n",
        "stock_data.iloc[-253:,0:1].plot()"
      ],
      "metadata": {
        "colab": {
          "base_uri": "https://localhost:8080/",
          "height": 91
        },
        "id": "tEKAEHR0Urgw",
        "outputId": "6448b533-9ff5-47f8-b141-1348e3a7bf71"
      },
      "execution_count": 130,
      "outputs": [
        {
          "output_type": "execute_result",
          "data": {
            "text/plain": [
              "<matplotlib.axes._subplots.AxesSubplot at 0x7fa07e8860d0>"
            ]
          },
          "metadata": {},
          "execution_count": 130
        },
        {
          "output_type": "display_data",
          "data": {
            "text/plain": [
              "<Figure size 432x288 with 1 Axes>"
            ],
            "image/png": "[encoded data removed]"
          },
          "metadata": {
            "needs_background": "light"
          }
        },
        {
          "output_type": "display_data",
          "data": {
            "text/plain": [
              "<Figure size 432x288 with 1 Axes>"
            ],
            "image/png": "[encoded data removed]"
          },
          "metadata": {
            "needs_background": "light"
          }
        }
      ]
    },
    {
      "cell_type": "markdown",
      "source": [
        "## Calculating stock price individually for plotting purposes"
      ],
      "metadata": {
        "id": "GNvkxsrubKjW"
      }
    },
    {
      "cell_type": "code",
      "source": [
        "open_price = test_data.iloc[-1,0]\n",
        "#print(last_close_value)\n",
        "print(samples[1,:])\n",
        "print(open_price * (1 + all_samples.iloc[0,0])) # =closing value\n",
        "closing_samples = []\n",
        "closing_samples = np.array(closing_samples)\n",
        "i = 0\n",
        "for sample in all_samples.iloc[:,0]:\n",
        "  if i == 0:\n",
        "    closing_samples = np.append(closing_samples, (open_price * (1 + sample)))\n",
        "  else:\n",
        "    closing_samples = np.append(closing_samples, (closing_samples[i-1] * (1 + sample)))\n",
        "  i += 1\n",
        "days = np.array(test_data.reset_index()['Date'], dtype=\"datetime64[ms]\")\n",
        "print(r2_score(test_data[\"Close\"],closing_samples))\n",
        "fig = plt.figure()\n",
        "axes = fig.add_subplot(111)\n",
        "axes.plot(days, closing_samples, c=\"black\", label=\"predicted\")\n",
        "axes.plot(days, test_data[\"Close\"], c=\"blue\", label=\"actual\")\n",
        "fig.autofmt_xdate()\n",
        "plt.legend()\n",
        "plt.show()"
      ],
      "metadata": {
        "colab": {
          "base_uri": "https://localhost:8080/",
          "height": 112
        },
        "id": "CuUQq-lT54hQ",
        "outputId": "9f9b0206-47db-411f-dfb6-6fd937737bf7"
      },
      "execution_count": 131,
      "outputs": [
        {
          "output_type": "stream",
          "name": "stdout",
          "text": [
            "[0.00846504]\n",
            "4149.213922624784\n",
            "-0.8711675719712948\n"
          ]
        },
        {
          "output_type": "display_data",
          "data": {
            "text/plain": [
              "<Figure size 432x288 with 1 Axes>"
            ],
            "image/png": "[encoded data removed]"
          },
          "metadata": {
            "needs_background": "light"
          }
        }
      ]
    },
    {
      "cell_type": "code",
      "source": [
        ""
      ],
      "metadata": {
        "id": "2SSqICAG5rZd"
      },
      "execution_count": 131,
      "outputs": []
    },
    {
      "cell_type": "markdown",
      "source": [
        "# Creating the Mean-Variance Portfolio Using the HMM Prediction"
      ],
      "metadata": {
        "id": "CvC23QlFi0Ua"
      }
    },
    {
      "cell_type": "markdown",
      "source": [
        "# Calculate Efiicient Frontier using pypfopt"
      ],
      "metadata": {
        "id": "Jf3RUH6Bg2Ja"
      }
    },
    {
      "cell_type": "code",
      "source": [
        "pip install PyPortfolioOpt"
      ],
      "metadata": {
        "id": "RE4HbEP9egEj",
        "colab": {
          "base_uri": "https://localhost:8080/"
        },
        "outputId": "65854407-263e-483c-f75c-433c2fe2a94f"
      },
      "execution_count": 132,
      "outputs": [
        {
          "output_type": "stream",
          "name": "stdout",
          "text": [
            "Requirement already satisfied: PyPortfolioOpt in /usr/local/lib/python3.7/dist-packages (1.5.2)\n",
            "Requirement already satisfied: cvxpy<2.0.0,>=1.1.10 in /usr/local/lib/python3.7/dist-packages (from PyPortfolioOpt) (1.2.0)\n",
            "Requirement already satisfied: pandas>=0.19 in /usr/local/lib/python3.7/dist-packages (from PyPortfolioOpt) (1.3.5)\n",
            "Requirement already satisfied: numpy<2.0,>=1.12 in /usr/local/lib/python3.7/dist-packages (from PyPortfolioOpt) (1.21.6)\n",
            "Requirement already satisfied: scipy<2.0,>=1.3 in /usr/local/lib/python3.7/dist-packages (from PyPortfolioOpt) (1.4.1)\n",
            "Requirement already satisfied: osqp>=0.4.1 in /usr/local/lib/python3.7/dist-packages (from cvxpy<2.0.0,>=1.1.10->PyPortfolioOpt) (0.6.2.post0)\n",
            "Requirement already satisfied: ecos>=2 in /usr/local/lib/python3.7/dist-packages (from cvxpy<2.0.0,>=1.1.10->PyPortfolioOpt) (2.0.10)\n",
            "Requirement already satisfied: scs>=1.1.6 in /usr/local/lib/python3.7/dist-packages (from cvxpy<2.0.0,>=1.1.10->PyPortfolioOpt) (3.2.0)\n",
            "Requirement already satisfied: qdldl in /usr/local/lib/python3.7/dist-packages (from osqp>=0.4.1->cvxpy<2.0.0,>=1.1.10->PyPortfolioOpt) (0.1.5.post2)\n",
            "Requirement already satisfied: pytz>=2017.3 in /usr/local/lib/python3.7/dist-packages (from pandas>=0.19->PyPortfolioOpt) (2022.1)\n",
            "Requirement already satisfied: python-dateutil>=2.7.3 in /usr/local/lib/python3.7/dist-packages (from pandas>=0.19->PyPortfolioOpt) (2.8.2)\n",
            "Requirement already satisfied: six>=1.5 in /usr/local/lib/python3.7/dist-packages (from python-dateutil>=2.7.3->pandas>=0.19->PyPortfolioOpt) (1.15.0)\n"
          ]
        }
      ]
    },
    {
      "cell_type": "code",
      "source": [
        "from pypfopt.expected_returns import mean_historical_return\n",
        "from pypfopt.risk_models import CovarianceShrinkage\n",
        "\n",
        "\n",
        "mu = mean_historical_return(stock_prices)\n",
        "S = CovarianceShrinkage(stock_prices).ledoit_wolf()\n",
        "\n",
        "from pypfopt.efficient_frontier import EfficientFrontier \n",
        "\n",
        "ef = EfficientFrontier(mu, S)\n",
        "weights = ef.max_sharpe() # This gets rid of most of the assets\n",
        "\n",
        "cleaned_weights = ef.clean_weights()\n",
        "print(dict(cleaned_weights))\n",
        "ef.portfolio_performance(verbose=True)"
      ],
      "metadata": {
        "colab": {
          "base_uri": "https://localhost:8080/"
        },
        "id": "bfGgshnVesfn",
        "outputId": "b829a9c4-fb65-43e4-8c8c-000ca43b172c"
      },
      "execution_count": 133,
      "outputs": [
        {
          "output_type": "stream",
          "name": "stdout",
          "text": [
            "{'^GSPC': 0.28387, '^FTLC': 0.0, '^RUT': 0.23372, 'IEUS': 0.0, 'GOVT': 0.27431, 'IGOV': 0.0, 'SIVR': 0.0, 'SGOL': 0.2081}\n",
            "Expected annual return: 26.0%\n",
            "Annual volatility: 8.7%\n",
            "Sharpe Ratio: 2.74\n"
          ]
        },
        {
          "output_type": "execute_result",
          "data": {
            "text/plain": [
              "(0.25966882153884235, 0.08741248416676588, 2.741814556849812)"
            ]
          },
          "metadata": {},
          "execution_count": 133
        }
      ]
    },
    {
      "cell_type": "markdown",
      "source": [
        "## Format the Weights for Further Use"
      ],
      "metadata": {
        "id": "h5_XRd7GnEH7"
      }
    },
    {
      "cell_type": "code",
      "source": [
        "print(dict(cleaned_weights))"
      ],
      "metadata": {
        "id": "q34TSoA5nRBF",
        "colab": {
          "base_uri": "https://localhost:8080/"
        },
        "outputId": "67d2eae1-4254-41c9-d269-f41e79233edb"
      },
      "execution_count": 134,
      "outputs": [
        {
          "output_type": "stream",
          "name": "stdout",
          "text": [
            "{'^GSPC': 0.28387, '^FTLC': 0.0, '^RUT': 0.23372, 'IEUS': 0.0, 'GOVT': 0.27431, 'IGOV': 0.0, 'SIVR': 0.0, 'SGOL': 0.2081}\n"
          ]
        }
      ]
    },
    {
      "cell_type": "code",
      "source": [
        "tmp_list = []\n",
        "for value, key in dict(cleaned_weights).items():\n",
        "  tmp_list.append(key)\n",
        "\n",
        "portfolio_weights = pd.Series(tmp_list, index=all_stocks)\n",
        "portfolio_weights"
      ],
      "metadata": {
        "colab": {
          "base_uri": "https://localhost:8080/"
        },
        "id": "n0pdvoj1chqA",
        "outputId": "d33d026b-1999-4d68-a798-4ea11b122c76"
      },
      "execution_count": 135,
      "outputs": [
        {
          "output_type": "execute_result",
          "data": {
            "text/plain": [
              "^GSPC    0.28387\n",
              "^FTLC    0.00000\n",
              "^RUT     0.23372\n",
              "IEUS     0.00000\n",
              "GOVT     0.27431\n",
              "IGOV     0.00000\n",
              "SIVR     0.00000\n",
              "SGOL     0.20810\n",
              "dtype: float64"
            ]
          },
          "metadata": {},
          "execution_count": 135
        }
      ]
    },
    {
      "cell_type": "markdown",
      "source": [
        "# Test Year"
      ],
      "metadata": {
        "id": "2zH-DRT4nRcA"
      }
    },
    {
      "cell_type": "code",
      "source": [
        "initial_investment = 10000 # 10'000 dollar invesment. Can Change to 100'000 later \n",
        "trading_year = 252 # Number of trading days in a year\n",
        "stock_returns = stock_data.pct_change() "
      ],
      "metadata": {
        "id": "mvk66HGWnYQL"
      },
      "execution_count": 136,
      "outputs": []
    },
    {
      "cell_type": "code",
      "source": [
        "weighted_portfolio = portfolio_weights * initial_investment # Calculate the dollars invested in each asset in the portfolio\n",
        "num_of_shares = weighted_portfolio / stock_data.iloc[(-trading_year),:] # Calculate the number of shares owned of each asset in the portfolio\n",
        "portfolio_test_values = num_of_shares * stock_data.iloc[(-trading_year):,:] # share * share price = position value and it is done for each day in the trading year for all assets\n",
        "portfolio_test_values['Total'] = portfolio_test_values.sum(axis=1)\n",
        "portfolio_test_values "
      ],
      "metadata": {
        "colab": {
          "base_uri": "https://localhost:8080/",
          "height": 455
        },
        "id": "GGzI4KFTdW01",
        "outputId": "1809434d-366f-4c4a-a644-ec1833045ba7"
      },
      "execution_count": 137,
      "outputs": [
        {
          "output_type": "execute_result",
          "data": {
            "text/plain": [
              "                  ^GSPC  ^FTLC         ^RUT  IEUS         GOVT  IGOV  SIVR  \\\n",
              "Date                                                                         \n",
              "2021-02-04  2838.700000    0.0  2337.200000   0.0  2743.100000   0.0   0.0   \n",
              "2021-02-05  2849.763820    0.0  2370.001745   0.0  2739.031800   0.0   0.0   \n",
              "2021-02-08  2870.850215    0.0  2429.884983   0.0  2740.049046   0.0   0.0   \n",
              "2021-02-09  2867.653451    0.0  2439.690427   0.0  2742.083146   0.0   0.0   \n",
              "2021-02-10  2866.663581    0.0  2422.116953   0.0  2747.168985   0.0   0.0   \n",
              "...                 ...    ...          ...   ...          ...   ...   ...   \n",
              "2022-02-17  3211.538850    0.0  2152.201686   0.0  2625.131614   0.0   0.0   \n",
              "2022-02-18  3188.524445    0.0  2132.293631   0.0  2631.294168   0.0   0.0   \n",
              "2022-02-22  3156.183416    0.0  2101.349239   0.0  2632.321031   0.0   0.0   \n",
              "2022-02-23  3098.071379    0.0  2063.061191   0.0  2619.996512   0.0   0.0   \n",
              "2022-02-24  3144.408787    0.0  2118.158553   0.0  2621.023572   0.0   0.0   \n",
              "\n",
              "                   SGOL         Total  \n",
              "Date                                   \n",
              "2021-02-04  2081.000000  10000.000000  \n",
              "2021-02-05  2101.520311  10060.317676  \n",
              "2021-02-08  2122.040622  10162.824866  \n",
              "2021-02-09  2128.075913  10177.502938  \n",
              "2021-02-10  2136.525642  10172.475162  \n",
              "...                 ...           ...  \n",
              "2022-02-17  2199.293450  10188.165600  \n",
              "2022-02-18  2196.879472  10148.991716  \n",
              "2022-02-22  2201.707658  10091.561344  \n",
              "2022-02-23  2212.571366   9993.700448  \n",
              "2022-02-24  2199.293450  10082.884361  \n",
              "\n",
              "[252 rows x 9 columns]"
            ],
            "text/html": [
              "\n",
              "  <div id=\"df-5916a660-8694-4e3b-9173-70057d242381\">\n",
              "    <div class=\"colab-df-container\">\n",
              "      <div>\n",
              "<style scoped>\n",
              "    .dataframe tbody tr th:only-of-type {\n",
              "        vertical-align: middle;\n",
              "    }\n",
              "\n",
              "    .dataframe tbody tr th {\n",
              "        vertical-align: top;\n",
              "    }\n",
              "\n",
              "    .dataframe thead th {\n",
              "        text-align: right;\n",
              "    }\n",
              "</style>\n",
              "<table border=\"1\" class=\"dataframe\">\n",
              "  <thead>\n",
              "    <tr style=\"text-align: right;\">\n",
              "      <th></th>\n",
              "      <th>^GSPC</th>\n",
              "      <th>^FTLC</th>\n",
              "      <th>^RUT</th>\n",
              "      <th>IEUS</th>\n",
              "      <th>GOVT</th>\n",
              "      <th>IGOV</th>\n",
              "      <th>SIVR</th>\n",
              "      <th>SGOL</th>\n",
              "      <th>Total</th>\n",
              "    </tr>\n",
              "    <tr>\n",
              "      <th>Date</th>\n",
              "      <th></th>\n",
              "      <th></th>\n",
              "      <th></th>\n",
              "      <th></th>\n",
              "      <th></th>\n",
              "      <th></th>\n",
              "      <th></th>\n",
              "      <th></th>\n",
              "      <th></th>\n",
              "    </tr>\n",
              "  </thead>\n",
              "  <tbody>\n",
              "    <tr>\n",
              "      <th>2021-02-04</th>\n",
              "      <td>2838.700000</td>\n",
              "      <td>0.0</td>\n",
              "      <td>2337.200000</td>\n",
              "      <td>0.0</td>\n",
              "      <td>2743.100000</td>\n",
              "      <td>0.0</td>\n",
              "      <td>0.0</td>\n",
              "      <td>2081.000000</td>\n",
              "      <td>10000.000000</td>\n",
              "    </tr>\n",
              "    <tr>\n",
              "      <th>2021-02-05</th>\n",
              "      <td>2849.763820</td>\n",
              "      <td>0.0</td>\n",
              "      <td>2370.001745</td>\n",
              "      <td>0.0</td>\n",
              "      <td>2739.031800</td>\n",
              "      <td>0.0</td>\n",
              "      <td>0.0</td>\n",
              "      <td>2101.520311</td>\n",
              "      <td>10060.317676</td>\n",
              "    </tr>\n",
              "    <tr>\n",
              "      <th>2021-02-08</th>\n",
              "      <td>2870.850215</td>\n",
              "      <td>0.0</td>\n",
              "      <td>2429.884983</td>\n",
              "      <td>0.0</td>\n",
              "      <td>2740.049046</td>\n",
              "      <td>0.0</td>\n",
              "      <td>0.0</td>\n",
              "      <td>2122.040622</td>\n",
              "      <td>10162.824866</td>\n",
              "    </tr>\n",
              "    <tr>\n",
              "      <th>2021-02-09</th>\n",
              "      <td>2867.653451</td>\n",
              "      <td>0.0</td>\n",
              "      <td>2439.690427</td>\n",
              "      <td>0.0</td>\n",
              "      <td>2742.083146</td>\n",
              "      <td>0.0</td>\n",
              "      <td>0.0</td>\n",
              "      <td>2128.075913</td>\n",
              "      <td>10177.502938</td>\n",
              "    </tr>\n",
              "    <tr>\n",
              "      <th>2021-02-10</th>\n",
              "      <td>2866.663581</td>\n",
              "      <td>0.0</td>\n",
              "      <td>2422.116953</td>\n",
              "      <td>0.0</td>\n",
              "      <td>2747.168985</td>\n",
              "      <td>0.0</td>\n",
              "      <td>0.0</td>\n",
              "      <td>2136.525642</td>\n",
              "      <td>10172.475162</td>\n",
              "    </tr>\n",
              "    <tr>\n",
              "      <th>...</th>\n",
              "      <td>...</td>\n",
              "      <td>...</td>\n",
              "      <td>...</td>\n",
              "      <td>...</td>\n",
              "      <td>...</td>\n",
              "      <td>...</td>\n",
              "      <td>...</td>\n",
              "      <td>...</td>\n",
              "      <td>...</td>\n",
              "    </tr>\n",
              "    <tr>\n",
              "      <th>2022-02-17</th>\n",
              "      <td>3211.538850</td>\n",
              "      <td>0.0</td>\n",
              "      <td>2152.201686</td>\n",
              "      <td>0.0</td>\n",
              "      <td>2625.131614</td>\n",
              "      <td>0.0</td>\n",
              "      <td>0.0</td>\n",
              "      <td>2199.293450</td>\n",
              "      <td>10188.165600</td>\n",
              "    </tr>\n",
              "    <tr>\n",
              "      <th>2022-02-18</th>\n",
              "      <td>3188.524445</td>\n",
              "      <td>0.0</td>\n",
              "      <td>2132.293631</td>\n",
              "      <td>0.0</td>\n",
              "      <td>2631.294168</td>\n",
              "      <td>0.0</td>\n",
              "      <td>0.0</td>\n",
              "      <td>2196.879472</td>\n",
              "      <td>10148.991716</td>\n",
              "    </tr>\n",
              "    <tr>\n",
              "      <th>2022-02-22</th>\n",
              "      <td>3156.183416</td>\n",
              "      <td>0.0</td>\n",
              "      <td>2101.349239</td>\n",
              "      <td>0.0</td>\n",
              "      <td>2632.321031</td>\n",
              "      <td>0.0</td>\n",
              "      <td>0.0</td>\n",
              "      <td>2201.707658</td>\n",
              "      <td>10091.561344</td>\n",
              "    </tr>\n",
              "    <tr>\n",
              "      <th>2022-02-23</th>\n",
              "      <td>3098.071379</td>\n",
              "      <td>0.0</td>\n",
              "      <td>2063.061191</td>\n",
              "      <td>0.0</td>\n",
              "      <td>2619.996512</td>\n",
              "      <td>0.0</td>\n",
              "      <td>0.0</td>\n",
              "      <td>2212.571366</td>\n",
              "      <td>9993.700448</td>\n",
              "    </tr>\n",
              "    <tr>\n",
              "      <th>2022-02-24</th>\n",
              "      <td>3144.408787</td>\n",
              "      <td>0.0</td>\n",
              "      <td>2118.158553</td>\n",
              "      <td>0.0</td>\n",
              "      <td>2621.023572</td>\n",
              "      <td>0.0</td>\n",
              "      <td>0.0</td>\n",
              "      <td>2199.293450</td>\n",
              "      <td>10082.884361</td>\n",
              "    </tr>\n",
              "  </tbody>\n",
              "</table>\n",
              "<p>252 rows × 9 columns</p>\n",
              "</div>\n",
              "      <button class=\"colab-df-convert\" onclick=\"convertToInteractive('df-5916a660-8694-4e3b-9173-70057d242381')\"\n",
              "              title=\"Convert this dataframe to an interactive table.\"\n",
              "              style=\"display:none;\">\n",
              "        \n",
              "  <svg xmlns=\"http://www.w3.org/2000/svg\" height=\"24px\"viewBox=\"0 0 24 24\"\n",
              "       width=\"24px\">\n",
              "    <path d=\"M0 0h24v24H0V0z\" fill=\"none\"/>\n",
              "    <path d=\"M18.56 5.44l.94 2.06.94-2.06 2.06-.94-2.06-.94-.94-2.06-.94 2.06-2.06.94zm-11 1L8.5 8.5l.94-2.06 2.06-.94-2.06-.94L8.5 2.5l-.94 2.06-2.06.94zm10 10l.94 2.06.94-2.06 2.06-.94-2.06-.94-.94-2.06-.94 2.06-2.06.94z\"/><path d=\"M17.41 7.96l-1.37-1.37c-.4-.4-.92-.59-1.43-.59-.52 0-1.04.2-1.43.59L10.3 9.45l-7.72 7.72c-.78.78-.78 2.05 0 2.83L4 21.41c.39.39.9.59 1.41.59.51 0 1.02-.2 1.41-.59l7.78-7.78 2.81-2.81c.8-.78.8-2.07 0-2.86zM5.41 20L4 18.59l7.72-7.72 1.47 1.35L5.41 20z\"/>\n",
              "  </svg>\n",
              "      </button>\n",
              "      \n",
              "  <style>\n",
              "    .colab-df-container {\n",
              "      display:flex;\n",
              "      flex-wrap:wrap;\n",
              "      gap: 12px;\n",
              "    }\n",
              "\n",
              "    .colab-df-convert {\n",
              "      background-color: #E8F0FE;\n",
              "      border: none;\n",
              "      border-radius: 50%;\n",
              "      cursor: pointer;\n",
              "      display: none;\n",
              "      fill: #1967D2;\n",
              "      height: 32px;\n",
              "      padding: 0 0 0 0;\n",
              "      width: 32px;\n",
              "    }\n",
              "\n",
              "    .colab-df-convert:hover {\n",
              "      background-color: #E2EBFA;\n",
              "      box-shadow: 0px 1px 2px rgba(60, 64, 67, 0.3), 0px 1px 3px 1px rgba(60, 64, 67, 0.15);\n",
              "      fill: #174EA6;\n",
              "    }\n",
              "\n",
              "    [theme=dark] .colab-df-convert {\n",
              "      background-color: #3B4455;\n",
              "      fill: #D2E3FC;\n",
              "    }\n",
              "\n",
              "    [theme=dark] .colab-df-convert:hover {\n",
              "      background-color: #434B5C;\n",
              "      box-shadow: 0px 1px 3px 1px rgba(0, 0, 0, 0.15);\n",
              "      filter: drop-shadow(0px 1px 2px rgba(0, 0, 0, 0.3));\n",
              "      fill: #FFFFFF;\n",
              "    }\n",
              "  </style>\n",
              "\n",
              "      <script>\n",
              "        const buttonEl =\n",
              "          document.querySelector('#df-5916a660-8694-4e3b-9173-70057d242381 button.colab-df-convert');\n",
              "        buttonEl.style.display =\n",
              "          google.colab.kernel.accessAllowed ? 'block' : 'none';\n",
              "\n",
              "        async function convertToInteractive(key) {\n",
              "          const element = document.querySelector('#df-5916a660-8694-4e3b-9173-70057d242381');\n",
              "          const dataTable =\n",
              "            await google.colab.kernel.invokeFunction('convertToInteractive',\n",
              "                                                     [key], {});\n",
              "          if (!dataTable) return;\n",
              "\n",
              "          const docLinkHtml = 'Like what you see? Visit the ' +\n",
              "            '<a target=\"_blank\" href=https://colab.research.google.com/notebooks/data_table.ipynb>data table notebook</a>'\n",
              "            + ' to learn more about interactive tables.';\n",
              "          element.innerHTML = '';\n",
              "          dataTable['output_type'] = 'display_data';\n",
              "          await google.colab.output.renderOutput(dataTable, element);\n",
              "          const docLink = document.createElement('div');\n",
              "          docLink.innerHTML = docLinkHtml;\n",
              "          element.appendChild(docLink);\n",
              "        }\n",
              "      </script>\n",
              "    </div>\n",
              "  </div>\n",
              "  "
            ]
          },
          "metadata": {},
          "execution_count": 137
        }
      ]
    },
    {
      "cell_type": "markdown",
      "source": [
        "### Plot the portfolio"
      ],
      "metadata": {
        "id": "gE0p1eIthATB"
      }
    },
    {
      "cell_type": "code",
      "source": [
        "portfolio_test_values['Total'].plot() # Need to pretty this up for the dssertation or not use it at all"
      ],
      "metadata": {
        "colab": {
          "base_uri": "https://localhost:8080/",
          "height": 296
        },
        "id": "QAz2ZtdrhEDW",
        "outputId": "793fccfc-57af-4d36-f9da-baeaf05a3e54"
      },
      "execution_count": 138,
      "outputs": [
        {
          "output_type": "execute_result",
          "data": {
            "text/plain": [
              "<matplotlib.axes._subplots.AxesSubplot at 0x7fa06de1b990>"
            ]
          },
          "metadata": {},
          "execution_count": 138
        },
        {
          "output_type": "display_data",
          "data": {
            "text/plain": [
              "<Figure size 432x288 with 1 Axes>"
            ],
            "image/png": "[encoded data removed]"
          },
          "metadata": {
            "needs_background": "light"
          }
        }
      ]
    },
    {
      "cell_type": "markdown",
      "source": [
        "### Plot the Individual Assets"
      ],
      "metadata": {
        "id": "1YhvXTIDhCtZ"
      }
    },
    {
      "cell_type": "code",
      "source": [
        "# Plotted on the same graph to see general trend\n",
        "figure = plt.figure()\n",
        "axis = plt.plot(portfolio_test_values.iloc[:,0:1], label='^GSPC')\n",
        "#axis = plt.plot(portfolio_test_values.iloc[:,1:2], label='^FTLC')\n",
        "axis = plt.plot(portfolio_test_values.iloc[:,2:3], label='^RUT')\n",
        "#axis = plt.plot(portfolio_test_values.iloc[:,3:4], label='IEUS')\n",
        "\n",
        "axis = plt.plot(portfolio_test_values.iloc[:,4:5], label='GOVT')\n",
        "#axis = plt.plot(portfolio_test_values.iloc[:,5:6], label='IGOV')\n",
        "#axis = plt.plot(portfolio_test_values.iloc[:,6:7], label='SIVR')\n",
        "axis = plt.plot(portfolio_test_values.iloc[:,7:8], label='SGOL')\n",
        "plt.tight_layout()\n",
        "plt.legend()\n",
        "plt.show()"
      ],
      "metadata": {
        "colab": {
          "base_uri": "https://localhost:8080/",
          "height": 297
        },
        "id": "ASQAbUAHe3xl",
        "outputId": "2382ced3-a1d6-4077-ce27-5a7574e2f8d6"
      },
      "execution_count": 159,
      "outputs": [
        {
          "output_type": "display_data",
          "data": {
            "text/plain": [
              "<Figure size 432x288 with 1 Axes>"
            ],
            "image/png": "[encoded data removed]"
          },
          "metadata": {
            "needs_background": "light"
          }
        }
      ]
    },
    {
      "cell_type": "markdown",
      "source": [
        "# Analyse the Test Year"
      ],
      "metadata": {
        "id": "1oIDwjllnZo5"
      }
    },
    {
      "cell_type": "markdown",
      "source": [
        "## Sharpe Ratio"
      ],
      "metadata": {
        "id": "YiV1QxPpnnaz"
      }
    },
    {
      "cell_type": "code",
      "source": [
        "#daily_stock_returns = portfolio_position_values.pct_change().dropna() # Analysing holding such portfolio position from the start\n",
        "daily_stock_returns = portfolio_test_values.pct_change()\n",
        "daily_stock_returns.drop(daily_stock_returns.columns[[1,3,5,6]], axis=1, inplace=True)\n",
        "daily_stock_returns = daily_stock_returns.dropna()\n",
        "#print(daily_stock_returns)\n",
        "# To calculate sharpie ratio for individual stocks \n",
        "def sharpe_ratio(return_series, N, rf):\n",
        "    mean = return_series.mean() * N -rf\n",
        "    sigma = return_series.std() * np.sqrt(N)\n",
        "    return mean / sigma\n",
        "\n",
        "N = 252 #252 trading days in a year\n",
        "rf =0.01 #1% risk free rate Will need to update this to the US treasury field or something\n",
        "#The risk-free rate could be a U.S. Treasury rate or yield, such as the one-year or two-year Treasury yield.\n",
        "sharpes = daily_stock_returns.apply(sharpe_ratio, args=(N,rf,),axis=0)\n",
        "sharpes.plot.bar()\n",
        "sharpes"
      ],
      "metadata": {
        "colab": {
          "base_uri": "https://localhost:8080/",
          "height": 406
        },
        "id": "5j0NlsCDoEpV",
        "outputId": "1e0a5746-8330-48fc-d483-ad2f3454b18f"
      },
      "execution_count": 147,
      "outputs": [
        {
          "output_type": "execute_result",
          "data": {
            "text/plain": [
              "^GSPC    0.706807\n",
              "^RUT    -0.354477\n",
              "GOVT    -1.019086\n",
              "SGOL     0.411152\n",
              "Total    0.033882\n",
              "dtype: float64"
            ]
          },
          "metadata": {},
          "execution_count": 147
        },
        {
          "output_type": "display_data",
          "data": {
            "text/plain": [
              "<Figure size 432x288 with 1 Axes>"
            ],
            "image/png": "[encoded data removed]"
          },
          "metadata": {
            "needs_background": "light"
          }
        }
      ]
    },
    {
      "cell_type": "markdown",
      "source": [
        "## Volatility"
      ],
      "metadata": {
        "id": "a3ol81j1onsk"
      }
    },
    {
      "cell_type": "markdown",
      "source": [
        "### Individual Stock Volatility"
      ],
      "metadata": {
        "id": "2Og6XfRLvrqr"
      }
    },
    {
      "cell_type": "markdown",
      "source": [
        "#### Rolling Volatilty for Each stock"
      ],
      "metadata": {
        "id": "mY4OONPS1Uz_"
      }
    },
    {
      "cell_type": "code",
      "source": [
        "#data = portfolio_position_values.pct_change().dropna() # Analysing holding such portfolio position from the start\n",
        "rolling_stock = pd.DataFrame()\n",
        "daily_stock_returns = portfolio_test_values.pct_change()\n",
        "daily_stock_returns.drop(daily_stock_returns.columns[[1,3,5,6]], axis=1, inplace=True)\n",
        "data = daily_stock_returns.dropna()\n",
        "#print(data)\n",
        "for stock in [\"^GSPC\",\"^RUT\",\"GOVT\",\"SGOL\", \"Total\"]:\n",
        "  rolling_stock[stock] = data[stock].rolling(7).std()*(252**0.5)\n",
        "f1 = plt.figure()\n",
        "for i in range(0,3):\n",
        "  rolling_stock.iloc[:,i].plot()\n",
        "  plt.tight_layout()\n",
        "  #plt.show() # To display in separate graphs instead of 1"
      ],
      "metadata": {
        "colab": {
          "base_uri": "https://localhost:8080/",
          "height": 297
        },
        "id": "9Zc8OPdqx421",
        "outputId": "58ac3c18-7fed-4f3d-811d-5d19ea46614c"
      },
      "execution_count": 152,
      "outputs": [
        {
          "output_type": "display_data",
          "data": {
            "text/plain": [
              "<Figure size 432x288 with 1 Axes>"
            ],
            "image/png": "[encoded data removed]"
          },
          "metadata": {
            "needs_background": "light"
          }
        }
      ]
    },
    {
      "cell_type": "markdown",
      "source": [
        "#### Anualised volatility for Each Stock"
      ],
      "metadata": {
        "id": "MDOiJi5Q03bn"
      }
    },
    {
      "cell_type": "code",
      "source": [
        "#data = portfolio_position_values.pct_change().dropna() # Analysing holding such portfolio position from the start\n",
        "stock_volatility = pd.DataFrame()\n",
        "daily_stock_returns = portfolio_test_values.pct_change()\n",
        "daily_stock_returns.drop(daily_stock_returns.columns[[1,3,5,6]], axis=1, inplace=True)\n",
        "data = daily_stock_returns.dropna()\n",
        "tmp = pd.DataFrame()\n",
        "i = 0 \n",
        "for stock in [\"^GSPC\",\"^RUT\",\"GOVT\",\"SGOL\", \"Total\"]:\n",
        "  tmp[stock] = data.iloc[:,i:(i+1)]\n",
        "  stock_volatility = tmp.std()*(252**0.5)\n",
        "  i = i + 1\n",
        "print(stock_volatility)"
      ],
      "metadata": {
        "colab": {
          "base_uri": "https://localhost:8080/"
        },
        "id": "qZTilRKUzSFO",
        "outputId": "0b4887f9-aef5-4d40-dacb-932610d6a0e1"
      },
      "execution_count": 154,
      "outputs": [
        {
          "output_type": "stream",
          "name": "stdout",
          "text": [
            "^GSPC    0.146273\n",
            "^RUT     0.231481\n",
            "GOVT     0.053270\n",
            "SGOL     0.131792\n",
            "Total    0.101672\n",
            "dtype: float64\n"
          ]
        }
      ]
    },
    {
      "cell_type": "markdown",
      "source": [
        "### Portfolio Volatility"
      ],
      "metadata": {
        "id": "K22vlVhovwjH"
      }
    },
    {
      "cell_type": "markdown",
      "source": [
        "#### Just the Anualised Volatility for the Portfolio"
      ],
      "metadata": {
        "id": "MreARAfmy5Tx"
      }
    },
    {
      "cell_type": "code",
      "source": [
        "total_portfolio_change = portfolio_test_values['Total'].pct_change().dropna()\n",
        "portfolio_vol = total_portfolio_change.std()*(252**0.5)\n",
        "portfolio_vol"
      ],
      "metadata": {
        "colab": {
          "base_uri": "https://localhost:8080/"
        },
        "id": "p-TrycZSrEAF",
        "outputId": "4c43aba5-e6ed-4be7-cf7e-e9b071b573ce"
      },
      "execution_count": 155,
      "outputs": [
        {
          "output_type": "execute_result",
          "data": {
            "text/plain": [
              "0.10167159141516882"
            ]
          },
          "metadata": {},
          "execution_count": 155
        }
      ]
    },
    {
      "cell_type": "markdown",
      "source": [
        "## Maximum Drawdown"
      ],
      "metadata": {
        "id": "3OpjwwfunpmH"
      }
    },
    {
      "cell_type": "code",
      "source": [
        "def max_drawdown(return_series):\n",
        "    comp_ret = (return_series+1).cumprod()\n",
        "    peak = comp_ret.expanding(min_periods=1).max()\n",
        "    dd = (comp_ret/peak)-1\n",
        "    return dd.min()\n",
        "\n",
        "daily_stock_returns = portfolio_test_values.pct_change()\n",
        "daily_stock_returns.drop(daily_stock_returns.columns[[1,3,5,6]], axis=1, inplace=True)\n",
        "daily_stock_returns = daily_stock_returns.dropna()\n",
        "max_drawdowns = daily_stock_returns.apply(max_drawdown,axis=0)\n",
        "max_drawdowns.plot.bar()\n",
        "plt.ylabel('Max Drawdown')\n",
        "max_drawdowns"
      ],
      "metadata": {
        "colab": {
          "base_uri": "https://localhost:8080/",
          "height": 410
        },
        "id": "m0-mPR9VoPTE",
        "outputId": "94722d41-2523-4f94-c172-f29cbde7f886"
      },
      "execution_count": 156,
      "outputs": [
        {
          "output_type": "execute_result",
          "data": {
            "text/plain": [
              "^GSPC   -0.118501\n",
              "^RUT    -0.209376\n",
              "GOVT    -0.053063\n",
              "SGOL    -0.097056\n",
              "Total   -0.083548\n",
              "dtype: float64"
            ]
          },
          "metadata": {},
          "execution_count": 156
        },
        {
          "output_type": "display_data",
          "data": {
            "text/plain": [
              "<Figure size 432x288 with 1 Axes>"
            ],
            "image/png": "[encoded data removed]"
          },
          "metadata": {
            "needs_background": "light"
          }
        }
      ]
    },
    {
      "cell_type": "markdown",
      "source": [
        "## Compound Annual Growth Rate (CARG)"
      ],
      "metadata": {
        "id": "gehqsfUbnvUx"
      }
    },
    {
      "cell_type": "code",
      "source": [
        "start_value = portfolio_test_values.iloc[0,:]\n",
        "end_value = portfolio_test_values.iloc[-1,:]\n",
        "number_of_years =  round(len(portfolio_test_values)/252)\n",
        "CARG = (((end_value / start_value) ** (1/number_of_years)) -1)# Shows % of values\n",
        "CARG"
      ],
      "metadata": {
        "colab": {
          "base_uri": "https://localhost:8080/"
        },
        "id": "cbyG1U8PtjiW",
        "outputId": "83b09bba-92d7-42e2-9480-091ed7aa8289"
      },
      "execution_count": 157,
      "outputs": [
        {
          "output_type": "execute_result",
          "data": {
            "text/plain": [
              "^GSPC    0.107693\n",
              "^FTLC         NaN\n",
              "^RUT    -0.093720\n",
              "IEUS          NaN\n",
              "GOVT    -0.044503\n",
              "IGOV          NaN\n",
              "SIVR          NaN\n",
              "SGOL     0.056845\n",
              "Total    0.008288\n",
              "dtype: float64"
            ]
          },
          "metadata": {},
          "execution_count": 157
        }
      ]
    },
    {
      "cell_type": "markdown",
      "source": [
        "## Calmar Ratio"
      ],
      "metadata": {
        "id": "k9vlY18Jn09e"
      }
    },
    {
      "cell_type": "code",
      "source": [
        "#daily_stock_returns = portfolio_position_values.pct_change().dropna() # Analysing holding such portfolio position from the start\n",
        "daily_stock_returns = portfolio_test_values.pct_change()\n",
        "daily_stock_returns.drop(daily_stock_returns.columns[[1,3,5,6]], axis=1, inplace=True)\n",
        "daily_stock_returns = daily_stock_returns.dropna()\n",
        "calmars = daily_stock_returns.mean()*255/abs(max_drawdowns)\n",
        "\n",
        "calmars.plot.bar()\n",
        "plt.ylabel('Calmar ratio')\n",
        "calmars"
      ],
      "metadata": {
        "colab": {
          "base_uri": "https://localhost:8080/",
          "height": 406
        },
        "id": "VoRp1tp9owR7",
        "outputId": "5d145608-266b-4e73-8379-6508bc826b7d"
      },
      "execution_count": 158,
      "outputs": [
        {
          "output_type": "execute_result",
          "data": {
            "text/plain": [
              "^GSPC    0.968235\n",
              "^RUT    -0.348238\n",
              "GOVT    -0.844544\n",
              "SGOL     0.669212\n",
              "Total    0.162839\n",
              "dtype: float64"
            ]
          },
          "metadata": {},
          "execution_count": 158
        },
        {
          "output_type": "display_data",
          "data": {
            "text/plain": [
              "<Figure size 432x288 with 1 Axes>"
            ],
            "image/png": "[encoded data removed]"
          },
          "metadata": {
            "needs_background": "light"
          }
        }
      ]
    },
    {
      "cell_type": "markdown",
      "source": [
        "## Value at Risk? Haven't decided if I want to include this or not"
      ],
      "metadata": {
        "id": "kNrEjrHtn6tf"
      }
    },
    {
      "cell_type": "markdown",
      "source": [
        "# Export Test Year to CSV"
      ],
      "metadata": {
        "id": "0S0IVt6Hbn3g"
      }
    },
    {
      "cell_type": "code",
      "source": [
        "from google.colab import drive\n",
        "drive.mount('drive')"
      ],
      "metadata": {
        "colab": {
          "base_uri": "https://localhost:8080/"
        },
        "id": "uBIyR-8pZ3_y",
        "outputId": "07774037-7ec6-4da0-bd5e-028801940823"
      },
      "execution_count": 164,
      "outputs": [
        {
          "output_type": "stream",
          "name": "stdout",
          "text": [
            "Drive already mounted at drive; to attempt to forcibly remount, call drive.mount(\"drive\", force_remount=True).\n"
          ]
        }
      ]
    },
    {
      "cell_type": "code",
      "source": [
        "portfolio_test_values.to_csv('HiddenMarkovModelData.csv')"
      ],
      "metadata": {
        "id": "abcVtYS6XXZ7"
      },
      "execution_count": 165,
      "outputs": []
    },
    {
      "cell_type": "code",
      "source": [
        "portfolio_weights.to_csv('HiddenMarkovModelWeights.csv')"
      ],
      "metadata": {
        "id": "ZKxhXGQSenY8"
      },
      "execution_count": 166,
      "outputs": []
    },
    {
      "cell_type": "code",
      "source": [
        "!cp HiddenMarkovModelWeights.csv \"drive/My Drive/DisData\""
      ],
      "metadata": {
        "id": "ffx_dWWJZlhj"
      },
      "execution_count": 167,
      "outputs": []
    },
    {
      "cell_type": "code",
      "source": [
        "!cp HiddenMarkovModelData.csv \"drive/My Drive/DisData\""
      ],
      "metadata": {
        "id": "M4m82sfEF_-y"
      },
      "execution_count": 168,
      "outputs": []
    }
  ]
}