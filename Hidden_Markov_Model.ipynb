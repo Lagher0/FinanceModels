{
  "nbformat": 4,
  "nbformat_minor": 0,
  "metadata": {
    "colab": {
      "name": "Hidden Markov Model Clean Final.ipynb",
      "provenance": [],
      "collapsed_sections": [
        "SvdfZf9TFyiQ",
        "T6fqpiT7GE1N",
        "fkhLgRzCEVfL",
        "-Q99Lk_3Ejt3",
        "CvC23QlFi0Ua",
        "2zH-DRT4nRcA",
        "0S0IVt6Hbn3g"
      ]
    },
    "kernelspec": {
      "name": "python3",
      "display_name": "Python 3"
    },
    "language_info": {
      "name": "python"
    }
  },
  "cells": [
    {
      "cell_type": "markdown",
      "source": [
        "# Setup Libraries"
      ],
      "metadata": {
        "id": "SvdfZf9TFyiQ"
      }
    },
    {
      "cell_type": "markdown",
      "source": [
        "Needed in google colab"
      ],
      "metadata": {
        "id": "JQwxG5G0F5xj"
      }
    },
    {
      "cell_type": "code",
      "execution_count": null,
      "metadata": {
        "colab": {
          "base_uri": "https://localhost:8080/"
        },
        "id": "RM149AzLYri6",
        "outputId": "6af6c49b-3928-407a-ef15-df4c79881ba1"
      },
      "outputs": [
        {
          "output_type": "stream",
          "name": "stdout",
          "text": [
            "Collecting yfinance\n",
            "  Downloading yfinance-0.1.70-py2.py3-none-any.whl (26 kB)\n",
            "Requirement already satisfied: numpy>=1.15 in /usr/local/lib/python3.7/dist-packages (from yfinance) (1.21.6)\n",
            "Collecting lxml>=4.5.1\n",
            "  Downloading lxml-4.8.0-cp37-cp37m-manylinux_2_17_x86_64.manylinux2014_x86_64.manylinux_2_24_x86_64.whl (6.4 MB)\n",
            "\u001b[K     |████████████████████████████████| 6.4 MB 7.3 MB/s \n",
            "\u001b[?25hCollecting requests>=2.26\n",
            "  Downloading requests-2.27.1-py2.py3-none-any.whl (63 kB)\n",
            "\u001b[K     |████████████████████████████████| 63 kB 597 kB/s \n",
            "\u001b[?25hRequirement already satisfied: multitasking>=0.0.7 in /usr/local/lib/python3.7/dist-packages (from yfinance) (0.0.10)\n",
            "Requirement already satisfied: pandas>=0.24.0 in /usr/local/lib/python3.7/dist-packages (from yfinance) (1.3.5)\n",
            "Requirement already satisfied: pytz>=2017.3 in /usr/local/lib/python3.7/dist-packages (from pandas>=0.24.0->yfinance) (2022.1)\n",
            "Requirement already satisfied: python-dateutil>=2.7.3 in /usr/local/lib/python3.7/dist-packages (from pandas>=0.24.0->yfinance) (2.8.2)\n",
            "Requirement already satisfied: six>=1.5 in /usr/local/lib/python3.7/dist-packages (from python-dateutil>=2.7.3->pandas>=0.24.0->yfinance) (1.15.0)\n",
            "Requirement already satisfied: urllib3<1.27,>=1.21.1 in /usr/local/lib/python3.7/dist-packages (from requests>=2.26->yfinance) (1.24.3)\n",
            "Requirement already satisfied: certifi>=2017.4.17 in /usr/local/lib/python3.7/dist-packages (from requests>=2.26->yfinance) (2021.10.8)\n",
            "Requirement already satisfied: charset-normalizer~=2.0.0 in /usr/local/lib/python3.7/dist-packages (from requests>=2.26->yfinance) (2.0.12)\n",
            "Requirement already satisfied: idna<4,>=2.5 in /usr/local/lib/python3.7/dist-packages (from requests>=2.26->yfinance) (2.10)\n",
            "Installing collected packages: requests, lxml, yfinance\n",
            "  Attempting uninstall: requests\n",
            "    Found existing installation: requests 2.23.0\n",
            "    Uninstalling requests-2.23.0:\n",
            "      Successfully uninstalled requests-2.23.0\n",
            "  Attempting uninstall: lxml\n",
            "    Found existing installation: lxml 4.2.6\n",
            "    Uninstalling lxml-4.2.6:\n",
            "      Successfully uninstalled lxml-4.2.6\n",
            "\u001b[31mERROR: pip's dependency resolver does not currently take into account all the packages that are installed. This behaviour is the source of the following dependency conflicts.\n",
            "google-colab 1.0.0 requires requests~=2.23.0, but you have requests 2.27.1 which is incompatible.\n",
            "datascience 0.10.6 requires folium==0.2.1, but you have folium 0.8.3 which is incompatible.\u001b[0m\n",
            "Successfully installed lxml-4.8.0 requests-2.27.1 yfinance-0.1.70\n"
          ]
        }
      ],
      "source": [
        "pip install yfinance"
      ]
    },
    {
      "cell_type": "code",
      "source": [
        "# Provides ways to work with large multidimensional arrays\n",
        "import numpy as np \n",
        "# Allows for further data manipulation and analysis\n",
        "import pandas as pd \n",
        "import matplotlib.pyplot as plt # Plotting\n",
        "import matplotlib.dates as mdates # Styling dates\n",
        "#import matplotlib.mlab as mlab \n",
        "%matplotlib inline\n",
        "\n",
        "# statistical calculation\n",
        "#from scipy.stats import norm\n",
        "\n",
        "import datetime as dt # For defining dates\n",
        "\n",
        "import time\n",
        "\n",
        "import yfinance as yf"
      ],
      "metadata": {
        "id": "Ca_QWCWpF-yU"
      },
      "execution_count": null,
      "outputs": []
    },
    {
      "cell_type": "markdown",
      "source": [
        "# Get Stock Data"
      ],
      "metadata": {
        "id": "T6fqpiT7GE1N"
      }
    },
    {
      "cell_type": "code",
      "source": [
        "all_stocks = [\"^GSPC\", \"^FTLC\", \"^RUT\", \"IEUS\", \"GOVT\", \"IGOV\", \"SIVR\", \"SGOL\"]"
      ],
      "metadata": {
        "id": "EM5tszECGHM9"
      },
      "execution_count": null,
      "outputs": []
    },
    {
      "cell_type": "code",
      "source": [
        "def get_all_closes_of_stocks(tickers):\n",
        "  i = 0\n",
        "  stock_list = pd.DataFrame()\n",
        "  for ticker in tickers:\n",
        "    stock = yf.Ticker(ticker)        \n",
        "    data = stock.history(start=\"2012-02-24\",end =\"2022-02-25\")\n",
        "    data.drop(data.columns[[0,1,2,4,5,6]], axis=1, inplace=True) # Just gets the adjacent close for each asset\n",
        "    data.columns = [ticker]\n",
        "    stock_list[ticker] = data.iloc[:,0]\n",
        "  return stock_list.dropna()\n",
        "stock_data = get_all_closes_of_stocks(all_stocks)\n",
        "print(stock_data)"
      ],
      "metadata": {
        "colab": {
          "base_uri": "https://localhost:8080/"
        },
        "id": "6pHUhYdCGLFq",
        "outputId": "2ff22ab1-d033-4a82-c0d7-7e65979b0dcd"
      },
      "execution_count": null,
      "outputs": [
        {
          "output_type": "stream",
          "name": "stdout",
          "text": [
            "                  ^GSPC        ^FTLC         ^RUT       IEUS       GOVT  \\\n",
            "Date                                                                      \n",
            "2012-02-24  1365.739990  3144.399902   826.919983  27.285173  21.551908   \n",
            "2012-02-27  1367.589966  3133.399902   826.659973  27.201170  21.551908   \n",
            "2012-02-28  1372.180054  3141.199951   823.799988  27.445536  21.551908   \n",
            "2012-02-29  1365.680054  3112.399902   810.940002  27.155359  21.551908   \n",
            "2012-03-01  1374.089966  3142.899902   815.219971  27.117172  21.551908   \n",
            "...                 ...          ...          ...        ...        ...   \n",
            "2022-02-17  4380.259766  4240.200195  2028.089966  63.590000  25.511515   \n",
            "2022-02-18  4348.870117  4222.799805  2009.329956  62.840000  25.571404   \n",
            "2022-02-22  4304.759766  4201.799805  1980.170044  61.560001  25.581383   \n",
            "2022-02-23  4225.500000  4198.799805  1944.089966  60.889999  25.461611   \n",
            "2022-02-24  4288.700195  4042.899902  1996.010010  60.000000  25.471592   \n",
            "\n",
            "                 IGOV       SIVR       SGOL  \n",
            "Date                                         \n",
            "2012-02-24  47.279083  35.110001  17.559000  \n",
            "2012-02-27  47.222900  35.099998  17.504000  \n",
            "2012-02-28  47.592926  36.610001  17.688000  \n",
            "2012-02-29  47.358727  34.240002  16.750000  \n",
            "2012-03-01  46.416683  35.180000  16.987000  \n",
            "...               ...        ...        ...  \n",
            "2022-02-17  48.439999  22.959999  18.219999  \n",
            "2022-02-18  48.380001  23.040001  18.200001  \n",
            "2022-02-22  48.330002  23.260000  18.240000  \n",
            "2022-02-23  48.130001  23.680000  18.330000  \n",
            "2022-02-24  47.959999  23.270000  18.219999  \n",
            "\n",
            "[2401 rows x 8 columns]\n"
          ]
        }
      ]
    },
    {
      "cell_type": "markdown",
      "source": [
        "# Hidden Markov Model"
      ],
      "metadata": {
        "id": "fkhLgRzCEVfL"
      }
    },
    {
      "cell_type": "markdown",
      "source": [
        "## Setup libaries"
      ],
      "metadata": {
        "id": "-Q99Lk_3Ejt3"
      }
    },
    {
      "cell_type": "code",
      "source": [
        "pip install hmmlearn"
      ],
      "metadata": {
        "colab": {
          "base_uri": "https://localhost:8080/"
        },
        "id": "-GZxJWGIE-jN",
        "outputId": "e6bf668b-127b-4cb6-f41e-2cb3ed129e41"
      },
      "execution_count": null,
      "outputs": [
        {
          "output_type": "stream",
          "name": "stdout",
          "text": [
            "Requirement already satisfied: hmmlearn in /usr/local/lib/python3.7/dist-packages (0.2.7)\n",
            "Requirement already satisfied: scikit-learn>=0.16 in /usr/local/lib/python3.7/dist-packages (from hmmlearn) (1.0.2)\n",
            "Requirement already satisfied: numpy>=1.10 in /usr/local/lib/python3.7/dist-packages (from hmmlearn) (1.21.6)\n",
            "Requirement already satisfied: scipy>=0.19 in /usr/local/lib/python3.7/dist-packages (from hmmlearn) (1.4.1)\n",
            "Requirement already satisfied: joblib>=0.11 in /usr/local/lib/python3.7/dist-packages (from scikit-learn>=0.16->hmmlearn) (1.1.0)\n",
            "Requirement already satisfied: threadpoolctl>=2.0.0 in /usr/local/lib/python3.7/dist-packages (from scikit-learn>=0.16->hmmlearn) (3.1.0)\n"
          ]
        }
      ]
    },
    {
      "cell_type": "code",
      "source": [
        "import itertools\n",
        "from tqdm import tqdm\n",
        "from hmmlearn.hmm import MultinomialHMM\n",
        "from hmmlearn import hmm\n",
        "from hmmlearn.hmm import GaussianHMM\n",
        "from sklearn.metrics import r2_score"
      ],
      "metadata": {
        "id": "z7r1BPkDEVAm"
      },
      "execution_count": null,
      "outputs": []
    },
    {
      "cell_type": "markdown",
      "source": [
        "## Model setup"
      ],
      "metadata": {
        "id": "Ahv0rTeMEmOs"
      }
    },
    {
      "cell_type": "code",
      "source": [
        "stock = yf.Ticker(\"^GSPC\")\n",
        "data = stock.history(start=\"2012-02-24\",end=\"2022-02-25\")\n",
        "test_data = data.iloc[-252:]\n",
        "data = data.iloc[:-252]"
      ],
      "metadata": {
        "id": "zR_btRRww2gi"
      },
      "execution_count": null,
      "outputs": []
    },
    {
      "cell_type": "code",
      "source": [
        "data.drop(data.columns[[4,5,6]], axis=1, inplace=True)\n",
        "data"
      ],
      "metadata": {
        "colab": {
          "base_uri": "https://localhost:8080/",
          "height": 519
        },
        "id": "6a7a-Rh10Jvr",
        "outputId": "5ea2a060-059b-4eef-8529-f4fe523ddf52"
      },
      "execution_count": null,
      "outputs": [
        {
          "output_type": "execute_result",
          "data": {
            "text/plain": [
              "                   Open         High          Low        Close\n",
              "Date                                                          \n",
              "2012-02-24  1363.459961  1368.920044  1363.459961  1365.739990\n",
              "2012-02-27  1365.199951  1371.939941  1354.920044  1367.589966\n",
              "2012-02-28  1367.560059  1373.089966  1365.969971  1372.180054\n",
              "2012-02-29  1372.199951  1378.040039  1363.810059  1365.680054\n",
              "2012-03-01  1365.900024  1376.170044  1365.900024  1374.089966\n",
              "...                 ...          ...          ...          ...\n",
              "2021-02-19  3921.159912  3930.409912  3903.070068  3906.709961\n",
              "2021-02-22  3885.550049  3902.919922  3874.709961  3876.500000\n",
              "2021-02-23  3857.070068  3895.979980  3805.590088  3881.370117\n",
              "2021-02-24  3873.709961  3928.649902  3859.600098  3925.429932\n",
              "2021-02-25  3915.800049  3925.020020  3814.040039  3829.340088\n",
              "\n",
              "[2266 rows x 4 columns]"
            ],
            "text/html": [
              "\n",
              "  <div id=\"df-8a2cd013-f0d2-4cdf-ba68-82ec5afce97e\">\n",
              "    <div class=\"colab-df-container\">\n",
              "      <div>\n",
              "<style scoped>\n",
              "    .dataframe tbody tr th:only-of-type {\n",
              "        vertical-align: middle;\n",
              "    }\n",
              "\n",
              "    .dataframe tbody tr th {\n",
              "        vertical-align: top;\n",
              "    }\n",
              "\n",
              "    .dataframe thead th {\n",
              "        text-align: right;\n",
              "    }\n",
              "</style>\n",
              "<table border=\"1\" class=\"dataframe\">\n",
              "  <thead>\n",
              "    <tr style=\"text-align: right;\">\n",
              "      <th></th>\n",
              "      <th>Open</th>\n",
              "      <th>High</th>\n",
              "      <th>Low</th>\n",
              "      <th>Close</th>\n",
              "    </tr>\n",
              "    <tr>\n",
              "      <th>Date</th>\n",
              "      <th></th>\n",
              "      <th></th>\n",
              "      <th></th>\n",
              "      <th></th>\n",
              "    </tr>\n",
              "  </thead>\n",
              "  <tbody>\n",
              "    <tr>\n",
              "      <th>2012-02-24</th>\n",
              "      <td>1363.459961</td>\n",
              "      <td>1368.920044</td>\n",
              "      <td>1363.459961</td>\n",
              "      <td>1365.739990</td>\n",
              "    </tr>\n",
              "    <tr>\n",
              "      <th>2012-02-27</th>\n",
              "      <td>1365.199951</td>\n",
              "      <td>1371.939941</td>\n",
              "      <td>1354.920044</td>\n",
              "      <td>1367.589966</td>\n",
              "    </tr>\n",
              "    <tr>\n",
              "      <th>2012-02-28</th>\n",
              "      <td>1367.560059</td>\n",
              "      <td>1373.089966</td>\n",
              "      <td>1365.969971</td>\n",
              "      <td>1372.180054</td>\n",
              "    </tr>\n",
              "    <tr>\n",
              "      <th>2012-02-29</th>\n",
              "      <td>1372.199951</td>\n",
              "      <td>1378.040039</td>\n",
              "      <td>1363.810059</td>\n",
              "      <td>1365.680054</td>\n",
              "    </tr>\n",
              "    <tr>\n",
              "      <th>2012-03-01</th>\n",
              "      <td>1365.900024</td>\n",
              "      <td>1376.170044</td>\n",
              "      <td>1365.900024</td>\n",
              "      <td>1374.089966</td>\n",
              "    </tr>\n",
              "    <tr>\n",
              "      <th>...</th>\n",
              "      <td>...</td>\n",
              "      <td>...</td>\n",
              "      <td>...</td>\n",
              "      <td>...</td>\n",
              "    </tr>\n",
              "    <tr>\n",
              "      <th>2021-02-19</th>\n",
              "      <td>3921.159912</td>\n",
              "      <td>3930.409912</td>\n",
              "      <td>3903.070068</td>\n",
              "      <td>3906.709961</td>\n",
              "    </tr>\n",
              "    <tr>\n",
              "      <th>2021-02-22</th>\n",
              "      <td>3885.550049</td>\n",
              "      <td>3902.919922</td>\n",
              "      <td>3874.709961</td>\n",
              "      <td>3876.500000</td>\n",
              "    </tr>\n",
              "    <tr>\n",
              "      <th>2021-02-23</th>\n",
              "      <td>3857.070068</td>\n",
              "      <td>3895.979980</td>\n",
              "      <td>3805.590088</td>\n",
              "      <td>3881.370117</td>\n",
              "    </tr>\n",
              "    <tr>\n",
              "      <th>2021-02-24</th>\n",
              "      <td>3873.709961</td>\n",
              "      <td>3928.649902</td>\n",
              "      <td>3859.600098</td>\n",
              "      <td>3925.429932</td>\n",
              "    </tr>\n",
              "    <tr>\n",
              "      <th>2021-02-25</th>\n",
              "      <td>3915.800049</td>\n",
              "      <td>3925.020020</td>\n",
              "      <td>3814.040039</td>\n",
              "      <td>3829.340088</td>\n",
              "    </tr>\n",
              "  </tbody>\n",
              "</table>\n",
              "<p>2266 rows × 4 columns</p>\n",
              "</div>\n",
              "      <button class=\"colab-df-convert\" onclick=\"convertToInteractive('df-8a2cd013-f0d2-4cdf-ba68-82ec5afce97e')\"\n",
              "              title=\"Convert this dataframe to an interactive table.\"\n",
              "              style=\"display:none;\">\n",
              "        \n",
              "  <svg xmlns=\"http://www.w3.org/2000/svg\" height=\"24px\"viewBox=\"0 0 24 24\"\n",
              "       width=\"24px\">\n",
              "    <path d=\"M0 0h24v24H0V0z\" fill=\"none\"/>\n",
              "    <path d=\"M18.56 5.44l.94 2.06.94-2.06 2.06-.94-2.06-.94-.94-2.06-.94 2.06-2.06.94zm-11 1L8.5 8.5l.94-2.06 2.06-.94-2.06-.94L8.5 2.5l-.94 2.06-2.06.94zm10 10l.94 2.06.94-2.06 2.06-.94-2.06-.94-.94-2.06-.94 2.06-2.06.94z\"/><path d=\"M17.41 7.96l-1.37-1.37c-.4-.4-.92-.59-1.43-.59-.52 0-1.04.2-1.43.59L10.3 9.45l-7.72 7.72c-.78.78-.78 2.05 0 2.83L4 21.41c.39.39.9.59 1.41.59.51 0 1.02-.2 1.41-.59l7.78-7.78 2.81-2.81c.8-.78.8-2.07 0-2.86zM5.41 20L4 18.59l7.72-7.72 1.47 1.35L5.41 20z\"/>\n",
              "  </svg>\n",
              "      </button>\n",
              "      \n",
              "  <style>\n",
              "    .colab-df-container {\n",
              "      display:flex;\n",
              "      flex-wrap:wrap;\n",
              "      gap: 12px;\n",
              "    }\n",
              "\n",
              "    .colab-df-convert {\n",
              "      background-color: #E8F0FE;\n",
              "      border: none;\n",
              "      border-radius: 50%;\n",
              "      cursor: pointer;\n",
              "      display: none;\n",
              "      fill: #1967D2;\n",
              "      height: 32px;\n",
              "      padding: 0 0 0 0;\n",
              "      width: 32px;\n",
              "    }\n",
              "\n",
              "    .colab-df-convert:hover {\n",
              "      background-color: #E2EBFA;\n",
              "      box-shadow: 0px 1px 2px rgba(60, 64, 67, 0.3), 0px 1px 3px 1px rgba(60, 64, 67, 0.15);\n",
              "      fill: #174EA6;\n",
              "    }\n",
              "\n",
              "    [theme=dark] .colab-df-convert {\n",
              "      background-color: #3B4455;\n",
              "      fill: #D2E3FC;\n",
              "    }\n",
              "\n",
              "    [theme=dark] .colab-df-convert:hover {\n",
              "      background-color: #434B5C;\n",
              "      box-shadow: 0px 1px 3px 1px rgba(0, 0, 0, 0.15);\n",
              "      filter: drop-shadow(0px 1px 2px rgba(0, 0, 0, 0.3));\n",
              "      fill: #FFFFFF;\n",
              "    }\n",
              "  </style>\n",
              "\n",
              "      <script>\n",
              "        const buttonEl =\n",
              "          document.querySelector('#df-8a2cd013-f0d2-4cdf-ba68-82ec5afce97e button.colab-df-convert');\n",
              "        buttonEl.style.display =\n",
              "          google.colab.kernel.accessAllowed ? 'block' : 'none';\n",
              "\n",
              "        async function convertToInteractive(key) {\n",
              "          const element = document.querySelector('#df-8a2cd013-f0d2-4cdf-ba68-82ec5afce97e');\n",
              "          const dataTable =\n",
              "            await google.colab.kernel.invokeFunction('convertToInteractive',\n",
              "                                                     [key], {});\n",
              "          if (!dataTable) return;\n",
              "\n",
              "          const docLinkHtml = 'Like what you see? Visit the ' +\n",
              "            '<a target=\"_blank\" href=https://colab.research.google.com/notebooks/data_table.ipynb>data table notebook</a>'\n",
              "            + ' to learn more about interactive tables.';\n",
              "          element.innerHTML = '';\n",
              "          dataTable['output_type'] = 'display_data';\n",
              "          await google.colab.output.renderOutput(dataTable, element);\n",
              "          const docLink = document.createElement('div');\n",
              "          docLink.innerHTML = docLinkHtml;\n",
              "          element.appendChild(docLink);\n",
              "        }\n",
              "      </script>\n",
              "    </div>\n",
              "  </div>\n",
              "  "
            ]
          },
          "metadata": {},
          "execution_count": 141
        }
      ]
    },
    {
      "cell_type": "code",
      "source": [
        "daily_stock_data = data.pct_change().dropna()"
      ],
      "metadata": {
        "id": "gR_ZTNjh0im2"
      },
      "execution_count": null,
      "outputs": []
    },
    {
      "cell_type": "code",
      "source": [
        "daily_stock_data.shape"
      ],
      "metadata": {
        "colab": {
          "base_uri": "https://localhost:8080/"
        },
        "id": "f7SYDE_UC45-",
        "outputId": "6aa58366-b70b-4473-b1ed-6c14c6824324"
      },
      "execution_count": null,
      "outputs": [
        {
          "output_type": "execute_result",
          "data": {
            "text/plain": [
              "(2265, 4)"
            ]
          },
          "metadata": {},
          "execution_count": 143
        }
      ]
    },
    {
      "cell_type": "markdown",
      "source": [
        "## Make Predictions for Individual Stocks"
      ],
      "metadata": {
        "id": "_4f6vgBkErID"
      }
    },
    {
      "cell_type": "code",
      "source": [
        "test_dates = training_data = stock_data.iloc[(-253):, 0:1].pct_change().dropna()"
      ],
      "metadata": {
        "id": "LF6UrPsbEboH"
      },
      "execution_count": null,
      "outputs": []
    },
    {
      "cell_type": "code",
      "source": [
        "test_dates"
      ],
      "metadata": {
        "colab": {
          "base_uri": "https://localhost:8080/",
          "height": 519
        },
        "id": "PtZ0TX3yEiw3",
        "outputId": "e20d3016-8f23-449a-c543-8dd25a3eb3eb"
      },
      "execution_count": null,
      "outputs": [
        {
          "output_type": "execute_result",
          "data": {
            "text/plain": [
              "               ^GSPC\n",
              "Date                \n",
              "2021-02-04  0.010853\n",
              "2021-02-05  0.003897\n",
              "2021-02-08  0.007399\n",
              "2021-02-09 -0.001114\n",
              "2021-02-10 -0.000345\n",
              "...              ...\n",
              "2022-02-17 -0.021173\n",
              "2022-02-18 -0.007166\n",
              "2022-02-22 -0.010143\n",
              "2022-02-23 -0.018412\n",
              "2022-02-24  0.014957\n",
              "\n",
              "[252 rows x 1 columns]"
            ],
            "text/html": [
              "\n",
              "  <div id=\"df-81b44e18-80e1-4567-a635-2143f8213f3a\">\n",
              "    <div class=\"colab-df-container\">\n",
              "      <div>\n",
              "<style scoped>\n",
              "    .dataframe tbody tr th:only-of-type {\n",
              "        vertical-align: middle;\n",
              "    }\n",
              "\n",
              "    .dataframe tbody tr th {\n",
              "        vertical-align: top;\n",
              "    }\n",
              "\n",
              "    .dataframe thead th {\n",
              "        text-align: right;\n",
              "    }\n",
              "</style>\n",
              "<table border=\"1\" class=\"dataframe\">\n",
              "  <thead>\n",
              "    <tr style=\"text-align: right;\">\n",
              "      <th></th>\n",
              "      <th>^GSPC</th>\n",
              "    </tr>\n",
              "    <tr>\n",
              "      <th>Date</th>\n",
              "      <th></th>\n",
              "    </tr>\n",
              "  </thead>\n",
              "  <tbody>\n",
              "    <tr>\n",
              "      <th>2021-02-04</th>\n",
              "      <td>0.010853</td>\n",
              "    </tr>\n",
              "    <tr>\n",
              "      <th>2021-02-05</th>\n",
              "      <td>0.003897</td>\n",
              "    </tr>\n",
              "    <tr>\n",
              "      <th>2021-02-08</th>\n",
              "      <td>0.007399</td>\n",
              "    </tr>\n",
              "    <tr>\n",
              "      <th>2021-02-09</th>\n",
              "      <td>-0.001114</td>\n",
              "    </tr>\n",
              "    <tr>\n",
              "      <th>2021-02-10</th>\n",
              "      <td>-0.000345</td>\n",
              "    </tr>\n",
              "    <tr>\n",
              "      <th>...</th>\n",
              "      <td>...</td>\n",
              "    </tr>\n",
              "    <tr>\n",
              "      <th>2022-02-17</th>\n",
              "      <td>-0.021173</td>\n",
              "    </tr>\n",
              "    <tr>\n",
              "      <th>2022-02-18</th>\n",
              "      <td>-0.007166</td>\n",
              "    </tr>\n",
              "    <tr>\n",
              "      <th>2022-02-22</th>\n",
              "      <td>-0.010143</td>\n",
              "    </tr>\n",
              "    <tr>\n",
              "      <th>2022-02-23</th>\n",
              "      <td>-0.018412</td>\n",
              "    </tr>\n",
              "    <tr>\n",
              "      <th>2022-02-24</th>\n",
              "      <td>0.014957</td>\n",
              "    </tr>\n",
              "  </tbody>\n",
              "</table>\n",
              "<p>252 rows × 1 columns</p>\n",
              "</div>\n",
              "      <button class=\"colab-df-convert\" onclick=\"convertToInteractive('df-81b44e18-80e1-4567-a635-2143f8213f3a')\"\n",
              "              title=\"Convert this dataframe to an interactive table.\"\n",
              "              style=\"display:none;\">\n",
              "        \n",
              "  <svg xmlns=\"http://www.w3.org/2000/svg\" height=\"24px\"viewBox=\"0 0 24 24\"\n",
              "       width=\"24px\">\n",
              "    <path d=\"M0 0h24v24H0V0z\" fill=\"none\"/>\n",
              "    <path d=\"M18.56 5.44l.94 2.06.94-2.06 2.06-.94-2.06-.94-.94-2.06-.94 2.06-2.06.94zm-11 1L8.5 8.5l.94-2.06 2.06-.94-2.06-.94L8.5 2.5l-.94 2.06-2.06.94zm10 10l.94 2.06.94-2.06 2.06-.94-2.06-.94-.94-2.06-.94 2.06-2.06.94z\"/><path d=\"M17.41 7.96l-1.37-1.37c-.4-.4-.92-.59-1.43-.59-.52 0-1.04.2-1.43.59L10.3 9.45l-7.72 7.72c-.78.78-.78 2.05 0 2.83L4 21.41c.39.39.9.59 1.41.59.51 0 1.02-.2 1.41-.59l7.78-7.78 2.81-2.81c.8-.78.8-2.07 0-2.86zM5.41 20L4 18.59l7.72-7.72 1.47 1.35L5.41 20z\"/>\n",
              "  </svg>\n",
              "      </button>\n",
              "      \n",
              "  <style>\n",
              "    .colab-df-container {\n",
              "      display:flex;\n",
              "      flex-wrap:wrap;\n",
              "      gap: 12px;\n",
              "    }\n",
              "\n",
              "    .colab-df-convert {\n",
              "      background-color: #E8F0FE;\n",
              "      border: none;\n",
              "      border-radius: 50%;\n",
              "      cursor: pointer;\n",
              "      display: none;\n",
              "      fill: #1967D2;\n",
              "      height: 32px;\n",
              "      padding: 0 0 0 0;\n",
              "      width: 32px;\n",
              "    }\n",
              "\n",
              "    .colab-df-convert:hover {\n",
              "      background-color: #E2EBFA;\n",
              "      box-shadow: 0px 1px 2px rgba(60, 64, 67, 0.3), 0px 1px 3px 1px rgba(60, 64, 67, 0.15);\n",
              "      fill: #174EA6;\n",
              "    }\n",
              "\n",
              "    [theme=dark] .colab-df-convert {\n",
              "      background-color: #3B4455;\n",
              "      fill: #D2E3FC;\n",
              "    }\n",
              "\n",
              "    [theme=dark] .colab-df-convert:hover {\n",
              "      background-color: #434B5C;\n",
              "      box-shadow: 0px 1px 3px 1px rgba(0, 0, 0, 0.15);\n",
              "      filter: drop-shadow(0px 1px 2px rgba(0, 0, 0, 0.3));\n",
              "      fill: #FFFFFF;\n",
              "    }\n",
              "  </style>\n",
              "\n",
              "      <script>\n",
              "        const buttonEl =\n",
              "          document.querySelector('#df-81b44e18-80e1-4567-a635-2143f8213f3a button.colab-df-convert');\n",
              "        buttonEl.style.display =\n",
              "          google.colab.kernel.accessAllowed ? 'block' : 'none';\n",
              "\n",
              "        async function convertToInteractive(key) {\n",
              "          const element = document.querySelector('#df-81b44e18-80e1-4567-a635-2143f8213f3a');\n",
              "          const dataTable =\n",
              "            await google.colab.kernel.invokeFunction('convertToInteractive',\n",
              "                                                     [key], {});\n",
              "          if (!dataTable) return;\n",
              "\n",
              "          const docLinkHtml = 'Like what you see? Visit the ' +\n",
              "            '<a target=\"_blank\" href=https://colab.research.google.com/notebooks/data_table.ipynb>data table notebook</a>'\n",
              "            + ' to learn more about interactive tables.';\n",
              "          element.innerHTML = '';\n",
              "          dataTable['output_type'] = 'display_data';\n",
              "          await google.colab.output.renderOutput(dataTable, element);\n",
              "          const docLink = document.createElement('div');\n",
              "          docLink.innerHTML = docLinkHtml;\n",
              "          element.appendChild(docLink);\n",
              "        }\n",
              "      </script>\n",
              "    </div>\n",
              "  </div>\n",
              "  "
            ]
          },
          "metadata": {},
          "execution_count": 145
        }
      ]
    },
    {
      "cell_type": "code",
      "source": [
        "training_data = stock_data.iloc[:-252].pct_change().dropna()"
      ],
      "metadata": {
        "id": "WmTNtkGO_zyg"
      },
      "execution_count": null,
      "outputs": []
    },
    {
      "cell_type": "code",
      "source": [
        "training_data"
      ],
      "metadata": {
        "colab": {
          "base_uri": "https://localhost:8080/",
          "height": 519
        },
        "id": "o4iHjMwc475W",
        "outputId": "58f92201-bc92-4a33-e0aa-e50b20460452"
      },
      "execution_count": null,
      "outputs": [
        {
          "output_type": "execute_result",
          "data": {
            "text/plain": [
              "               ^GSPC     ^FTLC      ^RUT      IEUS      GOVT      IGOV  \\\n",
              "Date                                                                     \n",
              "2012-02-27  0.001355 -0.003498 -0.000314 -0.003079  0.000000 -0.001189   \n",
              "2012-02-28  0.003356  0.002489 -0.003460  0.008984  0.000000  0.007836   \n",
              "2012-02-29 -0.004737 -0.009168 -0.015611 -0.010573  0.000000 -0.004921   \n",
              "2012-03-01  0.006158  0.009800  0.005278 -0.001406  0.000000 -0.019891   \n",
              "2012-03-02 -0.003246 -0.002895 -0.015701 -0.002253  0.000000 -0.007479   \n",
              "...              ...       ...       ...       ...       ...       ...   \n",
              "2021-01-27 -0.025678 -0.012199 -0.019146 -0.026092  0.001103 -0.003997   \n",
              "2021-01-29 -0.009739 -0.020476 -0.016626  0.003389 -0.003307 -0.001277   \n",
              "2021-02-01  0.016052  0.009006  0.025327  0.012064  0.000775 -0.006210   \n",
              "2021-02-02  0.013898  0.008979  0.011890  0.014463 -0.002213 -0.001838   \n",
              "2021-02-03  0.001009 -0.000563  0.003839  0.001253 -0.002587 -0.001289   \n",
              "\n",
              "                SIVR      SGOL  \n",
              "Date                            \n",
              "2012-02-27 -0.000285 -0.003132  \n",
              "2012-02-28  0.043020  0.010512  \n",
              "2012-02-29 -0.064736 -0.053030  \n",
              "2012-03-01  0.027453  0.014149  \n",
              "2012-03-02 -0.020182 -0.001766  \n",
              "...              ...       ...  \n",
              "2021-01-27 -0.009756 -0.006180  \n",
              "2021-01-29  0.066092  0.000565  \n",
              "2021-02-01  0.072006  0.008475  \n",
              "2021-02-02 -0.083333 -0.011205  \n",
              "2021-02-03  0.015674 -0.001700  \n",
              "\n",
              "[2148 rows x 8 columns]"
            ],
            "text/html": [
              "\n",
              "  <div id=\"df-f0850d8f-4196-41d6-a252-274aca2f3cd8\">\n",
              "    <div class=\"colab-df-container\">\n",
              "      <div>\n",
              "<style scoped>\n",
              "    .dataframe tbody tr th:only-of-type {\n",
              "        vertical-align: middle;\n",
              "    }\n",
              "\n",
              "    .dataframe tbody tr th {\n",
              "        vertical-align: top;\n",
              "    }\n",
              "\n",
              "    .dataframe thead th {\n",
              "        text-align: right;\n",
              "    }\n",
              "</style>\n",
              "<table border=\"1\" class=\"dataframe\">\n",
              "  <thead>\n",
              "    <tr style=\"text-align: right;\">\n",
              "      <th></th>\n",
              "      <th>^GSPC</th>\n",
              "      <th>^FTLC</th>\n",
              "      <th>^RUT</th>\n",
              "      <th>IEUS</th>\n",
              "      <th>GOVT</th>\n",
              "      <th>IGOV</th>\n",
              "      <th>SIVR</th>\n",
              "      <th>SGOL</th>\n",
              "    </tr>\n",
              "    <tr>\n",
              "      <th>Date</th>\n",
              "      <th></th>\n",
              "      <th></th>\n",
              "      <th></th>\n",
              "      <th></th>\n",
              "      <th></th>\n",
              "      <th></th>\n",
              "      <th></th>\n",
              "      <th></th>\n",
              "    </tr>\n",
              "  </thead>\n",
              "  <tbody>\n",
              "    <tr>\n",
              "      <th>2012-02-27</th>\n",
              "      <td>0.001355</td>\n",
              "      <td>-0.003498</td>\n",
              "      <td>-0.000314</td>\n",
              "      <td>-0.003079</td>\n",
              "      <td>0.000000</td>\n",
              "      <td>-0.001189</td>\n",
              "      <td>-0.000285</td>\n",
              "      <td>-0.003132</td>\n",
              "    </tr>\n",
              "    <tr>\n",
              "      <th>2012-02-28</th>\n",
              "      <td>0.003356</td>\n",
              "      <td>0.002489</td>\n",
              "      <td>-0.003460</td>\n",
              "      <td>0.008984</td>\n",
              "      <td>0.000000</td>\n",
              "      <td>0.007836</td>\n",
              "      <td>0.043020</td>\n",
              "      <td>0.010512</td>\n",
              "    </tr>\n",
              "    <tr>\n",
              "      <th>2012-02-29</th>\n",
              "      <td>-0.004737</td>\n",
              "      <td>-0.009168</td>\n",
              "      <td>-0.015611</td>\n",
              "      <td>-0.010573</td>\n",
              "      <td>0.000000</td>\n",
              "      <td>-0.004921</td>\n",
              "      <td>-0.064736</td>\n",
              "      <td>-0.053030</td>\n",
              "    </tr>\n",
              "    <tr>\n",
              "      <th>2012-03-01</th>\n",
              "      <td>0.006158</td>\n",
              "      <td>0.009800</td>\n",
              "      <td>0.005278</td>\n",
              "      <td>-0.001406</td>\n",
              "      <td>0.000000</td>\n",
              "      <td>-0.019891</td>\n",
              "      <td>0.027453</td>\n",
              "      <td>0.014149</td>\n",
              "    </tr>\n",
              "    <tr>\n",
              "      <th>2012-03-02</th>\n",
              "      <td>-0.003246</td>\n",
              "      <td>-0.002895</td>\n",
              "      <td>-0.015701</td>\n",
              "      <td>-0.002253</td>\n",
              "      <td>0.000000</td>\n",
              "      <td>-0.007479</td>\n",
              "      <td>-0.020182</td>\n",
              "      <td>-0.001766</td>\n",
              "    </tr>\n",
              "    <tr>\n",
              "      <th>...</th>\n",
              "      <td>...</td>\n",
              "      <td>...</td>\n",
              "      <td>...</td>\n",
              "      <td>...</td>\n",
              "      <td>...</td>\n",
              "      <td>...</td>\n",
              "      <td>...</td>\n",
              "      <td>...</td>\n",
              "    </tr>\n",
              "    <tr>\n",
              "      <th>2021-01-27</th>\n",
              "      <td>-0.025678</td>\n",
              "      <td>-0.012199</td>\n",
              "      <td>-0.019146</td>\n",
              "      <td>-0.026092</td>\n",
              "      <td>0.001103</td>\n",
              "      <td>-0.003997</td>\n",
              "      <td>-0.009756</td>\n",
              "      <td>-0.006180</td>\n",
              "    </tr>\n",
              "    <tr>\n",
              "      <th>2021-01-29</th>\n",
              "      <td>-0.009739</td>\n",
              "      <td>-0.020476</td>\n",
              "      <td>-0.016626</td>\n",
              "      <td>0.003389</td>\n",
              "      <td>-0.003307</td>\n",
              "      <td>-0.001277</td>\n",
              "      <td>0.066092</td>\n",
              "      <td>0.000565</td>\n",
              "    </tr>\n",
              "    <tr>\n",
              "      <th>2021-02-01</th>\n",
              "      <td>0.016052</td>\n",
              "      <td>0.009006</td>\n",
              "      <td>0.025327</td>\n",
              "      <td>0.012064</td>\n",
              "      <td>0.000775</td>\n",
              "      <td>-0.006210</td>\n",
              "      <td>0.072006</td>\n",
              "      <td>0.008475</td>\n",
              "    </tr>\n",
              "    <tr>\n",
              "      <th>2021-02-02</th>\n",
              "      <td>0.013898</td>\n",
              "      <td>0.008979</td>\n",
              "      <td>0.011890</td>\n",
              "      <td>0.014463</td>\n",
              "      <td>-0.002213</td>\n",
              "      <td>-0.001838</td>\n",
              "      <td>-0.083333</td>\n",
              "      <td>-0.011205</td>\n",
              "    </tr>\n",
              "    <tr>\n",
              "      <th>2021-02-03</th>\n",
              "      <td>0.001009</td>\n",
              "      <td>-0.000563</td>\n",
              "      <td>0.003839</td>\n",
              "      <td>0.001253</td>\n",
              "      <td>-0.002587</td>\n",
              "      <td>-0.001289</td>\n",
              "      <td>0.015674</td>\n",
              "      <td>-0.001700</td>\n",
              "    </tr>\n",
              "  </tbody>\n",
              "</table>\n",
              "<p>2148 rows × 8 columns</p>\n",
              "</div>\n",
              "      <button class=\"colab-df-convert\" onclick=\"convertToInteractive('df-f0850d8f-4196-41d6-a252-274aca2f3cd8')\"\n",
              "              title=\"Convert this dataframe to an interactive table.\"\n",
              "              style=\"display:none;\">\n",
              "        \n",
              "  <svg xmlns=\"http://www.w3.org/2000/svg\" height=\"24px\"viewBox=\"0 0 24 24\"\n",
              "       width=\"24px\">\n",
              "    <path d=\"M0 0h24v24H0V0z\" fill=\"none\"/>\n",
              "    <path d=\"M18.56 5.44l.94 2.06.94-2.06 2.06-.94-2.06-.94-.94-2.06-.94 2.06-2.06.94zm-11 1L8.5 8.5l.94-2.06 2.06-.94-2.06-.94L8.5 2.5l-.94 2.06-2.06.94zm10 10l.94 2.06.94-2.06 2.06-.94-2.06-.94-.94-2.06-.94 2.06-2.06.94z\"/><path d=\"M17.41 7.96l-1.37-1.37c-.4-.4-.92-.59-1.43-.59-.52 0-1.04.2-1.43.59L10.3 9.45l-7.72 7.72c-.78.78-.78 2.05 0 2.83L4 21.41c.39.39.9.59 1.41.59.51 0 1.02-.2 1.41-.59l7.78-7.78 2.81-2.81c.8-.78.8-2.07 0-2.86zM5.41 20L4 18.59l7.72-7.72 1.47 1.35L5.41 20z\"/>\n",
              "  </svg>\n",
              "      </button>\n",
              "      \n",
              "  <style>\n",
              "    .colab-df-container {\n",
              "      display:flex;\n",
              "      flex-wrap:wrap;\n",
              "      gap: 12px;\n",
              "    }\n",
              "\n",
              "    .colab-df-convert {\n",
              "      background-color: #E8F0FE;\n",
              "      border: none;\n",
              "      border-radius: 50%;\n",
              "      cursor: pointer;\n",
              "      display: none;\n",
              "      fill: #1967D2;\n",
              "      height: 32px;\n",
              "      padding: 0 0 0 0;\n",
              "      width: 32px;\n",
              "    }\n",
              "\n",
              "    .colab-df-convert:hover {\n",
              "      background-color: #E2EBFA;\n",
              "      box-shadow: 0px 1px 2px rgba(60, 64, 67, 0.3), 0px 1px 3px 1px rgba(60, 64, 67, 0.15);\n",
              "      fill: #174EA6;\n",
              "    }\n",
              "\n",
              "    [theme=dark] .colab-df-convert {\n",
              "      background-color: #3B4455;\n",
              "      fill: #D2E3FC;\n",
              "    }\n",
              "\n",
              "    [theme=dark] .colab-df-convert:hover {\n",
              "      background-color: #434B5C;\n",
              "      box-shadow: 0px 1px 3px 1px rgba(0, 0, 0, 0.15);\n",
              "      filter: drop-shadow(0px 1px 2px rgba(0, 0, 0, 0.3));\n",
              "      fill: #FFFFFF;\n",
              "    }\n",
              "  </style>\n",
              "\n",
              "      <script>\n",
              "        const buttonEl =\n",
              "          document.querySelector('#df-f0850d8f-4196-41d6-a252-274aca2f3cd8 button.colab-df-convert');\n",
              "        buttonEl.style.display =\n",
              "          google.colab.kernel.accessAllowed ? 'block' : 'none';\n",
              "\n",
              "        async function convertToInteractive(key) {\n",
              "          const element = document.querySelector('#df-f0850d8f-4196-41d6-a252-274aca2f3cd8');\n",
              "          const dataTable =\n",
              "            await google.colab.kernel.invokeFunction('convertToInteractive',\n",
              "                                                     [key], {});\n",
              "          if (!dataTable) return;\n",
              "\n",
              "          const docLinkHtml = 'Like what you see? Visit the ' +\n",
              "            '<a target=\"_blank\" href=https://colab.research.google.com/notebooks/data_table.ipynb>data table notebook</a>'\n",
              "            + ' to learn more about interactive tables.';\n",
              "          element.innerHTML = '';\n",
              "          dataTable['output_type'] = 'display_data';\n",
              "          await google.colab.output.renderOutput(dataTable, element);\n",
              "          const docLink = document.createElement('div');\n",
              "          docLink.innerHTML = docLinkHtml;\n",
              "          element.appendChild(docLink);\n",
              "        }\n",
              "      </script>\n",
              "    </div>\n",
              "  </div>\n",
              "  "
            ]
          },
          "metadata": {},
          "execution_count": 147
        }
      ]
    },
    {
      "cell_type": "code",
      "source": [
        "days = np.array(test_dates.reset_index()['Date'], dtype=\"datetime64[ms]\")\n",
        "days"
      ],
      "metadata": {
        "colab": {
          "base_uri": "https://localhost:8080/"
        },
        "id": "Gd4lYip-G94q",
        "outputId": "4c6c705b-0b95-4282-ec9a-c9541dfc238b"
      },
      "execution_count": null,
      "outputs": [
        {
          "output_type": "execute_result",
          "data": {
            "text/plain": [
              "array(['2021-02-04T00:00:00.000', '2021-02-05T00:00:00.000',\n",
              "       '2021-02-08T00:00:00.000', '2021-02-09T00:00:00.000',\n",
              "       '2021-02-10T00:00:00.000', '2021-02-11T00:00:00.000',\n",
              "       '2021-02-12T00:00:00.000', '2021-02-16T00:00:00.000',\n",
              "       '2021-02-18T00:00:00.000', '2021-02-19T00:00:00.000',\n",
              "       '2021-02-22T00:00:00.000', '2021-02-23T00:00:00.000',\n",
              "       '2021-02-24T00:00:00.000', '2021-02-25T00:00:00.000',\n",
              "       '2021-02-26T00:00:00.000', '2021-03-01T00:00:00.000',\n",
              "       '2021-03-02T00:00:00.000', '2021-03-04T00:00:00.000',\n",
              "       '2021-03-05T00:00:00.000', '2021-03-08T00:00:00.000',\n",
              "       '2021-03-09T00:00:00.000', '2021-03-10T00:00:00.000',\n",
              "       '2021-03-11T00:00:00.000', '2021-03-15T00:00:00.000',\n",
              "       '2021-03-16T00:00:00.000', '2021-03-17T00:00:00.000',\n",
              "       '2021-03-18T00:00:00.000', '2021-03-19T00:00:00.000',\n",
              "       '2021-03-22T00:00:00.000', '2021-03-23T00:00:00.000',\n",
              "       '2021-03-24T00:00:00.000', '2021-03-25T00:00:00.000',\n",
              "       '2021-03-26T00:00:00.000', '2021-03-29T00:00:00.000',\n",
              "       '2021-03-30T00:00:00.000', '2021-03-31T00:00:00.000',\n",
              "       '2021-04-01T00:00:00.000', '2021-04-06T00:00:00.000',\n",
              "       '2021-04-07T00:00:00.000', '2021-04-08T00:00:00.000',\n",
              "       '2021-04-09T00:00:00.000', '2021-04-12T00:00:00.000',\n",
              "       '2021-04-13T00:00:00.000', '2021-04-14T00:00:00.000',\n",
              "       '2021-04-15T00:00:00.000', '2021-04-16T00:00:00.000',\n",
              "       '2021-04-19T00:00:00.000', '2021-04-20T00:00:00.000',\n",
              "       '2021-04-21T00:00:00.000', '2021-04-22T00:00:00.000',\n",
              "       '2021-04-23T00:00:00.000', '2021-04-26T00:00:00.000',\n",
              "       '2021-04-27T00:00:00.000', '2021-04-28T00:00:00.000',\n",
              "       '2021-04-29T00:00:00.000', '2021-04-30T00:00:00.000',\n",
              "       '2021-05-04T00:00:00.000', '2021-05-06T00:00:00.000',\n",
              "       '2021-05-07T00:00:00.000', '2021-05-10T00:00:00.000',\n",
              "       '2021-05-12T00:00:00.000', '2021-05-13T00:00:00.000',\n",
              "       '2021-05-14T00:00:00.000', '2021-05-17T00:00:00.000',\n",
              "       '2021-05-18T00:00:00.000', '2021-05-19T00:00:00.000',\n",
              "       '2021-05-20T00:00:00.000', '2021-05-21T00:00:00.000',\n",
              "       '2021-05-24T00:00:00.000', '2021-05-26T00:00:00.000',\n",
              "       '2021-05-27T00:00:00.000', '2021-05-28T00:00:00.000',\n",
              "       '2021-06-01T00:00:00.000', '2021-06-02T00:00:00.000',\n",
              "       '2021-06-03T00:00:00.000', '2021-06-04T00:00:00.000',\n",
              "       '2021-06-07T00:00:00.000', '2021-06-08T00:00:00.000',\n",
              "       '2021-06-09T00:00:00.000', '2021-06-11T00:00:00.000',\n",
              "       '2021-06-14T00:00:00.000', '2021-06-15T00:00:00.000',\n",
              "       '2021-06-16T00:00:00.000', '2021-06-17T00:00:00.000',\n",
              "       '2021-06-18T00:00:00.000', '2021-06-21T00:00:00.000',\n",
              "       '2021-06-22T00:00:00.000', '2021-06-23T00:00:00.000',\n",
              "       '2021-06-24T00:00:00.000', '2021-06-25T00:00:00.000',\n",
              "       '2021-06-28T00:00:00.000', '2021-06-29T00:00:00.000',\n",
              "       '2021-06-30T00:00:00.000', '2021-07-01T00:00:00.000',\n",
              "       '2021-07-02T00:00:00.000', '2021-07-06T00:00:00.000',\n",
              "       '2021-07-07T00:00:00.000', '2021-07-08T00:00:00.000',\n",
              "       '2021-07-09T00:00:00.000', '2021-07-12T00:00:00.000',\n",
              "       '2021-07-13T00:00:00.000', '2021-07-14T00:00:00.000',\n",
              "       '2021-07-15T00:00:00.000', '2021-07-16T00:00:00.000',\n",
              "       '2021-07-19T00:00:00.000', '2021-07-20T00:00:00.000',\n",
              "       '2021-07-21T00:00:00.000', '2021-07-22T00:00:00.000',\n",
              "       '2021-07-23T00:00:00.000', '2021-07-27T00:00:00.000',\n",
              "       '2021-07-28T00:00:00.000', '2021-07-29T00:00:00.000',\n",
              "       '2021-07-30T00:00:00.000', '2021-08-02T00:00:00.000',\n",
              "       '2021-08-03T00:00:00.000', '2021-08-04T00:00:00.000',\n",
              "       '2021-08-05T00:00:00.000', '2021-08-06T00:00:00.000',\n",
              "       '2021-08-10T00:00:00.000', '2021-08-11T00:00:00.000',\n",
              "       '2021-08-12T00:00:00.000', '2021-08-13T00:00:00.000',\n",
              "       '2021-08-16T00:00:00.000', '2021-08-17T00:00:00.000',\n",
              "       '2021-08-18T00:00:00.000', '2021-08-19T00:00:00.000',\n",
              "       '2021-08-20T00:00:00.000', '2021-08-23T00:00:00.000',\n",
              "       '2021-08-24T00:00:00.000', '2021-08-25T00:00:00.000',\n",
              "       '2021-08-26T00:00:00.000', '2021-08-27T00:00:00.000',\n",
              "       '2021-08-31T00:00:00.000', '2021-09-01T00:00:00.000',\n",
              "       '2021-09-02T00:00:00.000', '2021-09-03T00:00:00.000',\n",
              "       '2021-09-07T00:00:00.000', '2021-09-08T00:00:00.000',\n",
              "       '2021-09-09T00:00:00.000', '2021-09-10T00:00:00.000',\n",
              "       '2021-09-13T00:00:00.000', '2021-09-14T00:00:00.000',\n",
              "       '2021-09-15T00:00:00.000', '2021-09-16T00:00:00.000',\n",
              "       '2021-09-17T00:00:00.000', '2021-09-20T00:00:00.000',\n",
              "       '2021-09-21T00:00:00.000', '2021-09-22T00:00:00.000',\n",
              "       '2021-09-23T00:00:00.000', '2021-09-24T00:00:00.000',\n",
              "       '2021-09-27T00:00:00.000', '2021-09-28T00:00:00.000',\n",
              "       '2021-09-29T00:00:00.000', '2021-09-30T00:00:00.000',\n",
              "       '2021-10-01T00:00:00.000', '2021-10-04T00:00:00.000',\n",
              "       '2021-10-05T00:00:00.000', '2021-10-06T00:00:00.000',\n",
              "       '2021-10-07T00:00:00.000', '2021-10-08T00:00:00.000',\n",
              "       '2021-10-11T00:00:00.000', '2021-10-12T00:00:00.000',\n",
              "       '2021-10-13T00:00:00.000', '2021-10-14T00:00:00.000',\n",
              "       '2021-10-15T00:00:00.000', '2021-10-18T00:00:00.000',\n",
              "       '2021-10-19T00:00:00.000', '2021-10-20T00:00:00.000',\n",
              "       '2021-10-21T00:00:00.000', '2021-10-22T00:00:00.000',\n",
              "       '2021-10-25T00:00:00.000', '2021-10-26T00:00:00.000',\n",
              "       '2021-10-27T00:00:00.000', '2021-10-28T00:00:00.000',\n",
              "       '2021-10-29T00:00:00.000', '2021-11-01T00:00:00.000',\n",
              "       '2021-11-02T00:00:00.000', '2021-11-03T00:00:00.000',\n",
              "       '2021-11-04T00:00:00.000', '2021-11-05T00:00:00.000',\n",
              "       '2021-11-08T00:00:00.000', '2021-11-09T00:00:00.000',\n",
              "       '2021-11-10T00:00:00.000', '2021-11-11T00:00:00.000',\n",
              "       '2021-11-12T00:00:00.000', '2021-11-15T00:00:00.000',\n",
              "       '2021-11-16T00:00:00.000', '2021-11-17T00:00:00.000',\n",
              "       '2021-11-18T00:00:00.000', '2021-11-19T00:00:00.000',\n",
              "       '2021-11-22T00:00:00.000', '2021-11-23T00:00:00.000',\n",
              "       '2021-11-24T00:00:00.000', '2021-11-26T00:00:00.000',\n",
              "       '2021-11-29T00:00:00.000', '2021-11-30T00:00:00.000',\n",
              "       '2021-12-01T00:00:00.000', '2021-12-02T00:00:00.000',\n",
              "       '2021-12-03T00:00:00.000', '2021-12-06T00:00:00.000',\n",
              "       '2021-12-07T00:00:00.000', '2021-12-08T00:00:00.000',\n",
              "       '2021-12-09T00:00:00.000', '2021-12-10T00:00:00.000',\n",
              "       '2021-12-13T00:00:00.000', '2021-12-14T00:00:00.000',\n",
              "       '2021-12-15T00:00:00.000', '2021-12-16T00:00:00.000',\n",
              "       '2021-12-17T00:00:00.000', '2021-12-20T00:00:00.000',\n",
              "       '2021-12-21T00:00:00.000', '2021-12-22T00:00:00.000',\n",
              "       '2021-12-23T00:00:00.000', '2021-12-29T00:00:00.000',\n",
              "       '2021-12-30T00:00:00.000', '2021-12-31T00:00:00.000',\n",
              "       '2022-01-04T00:00:00.000', '2022-01-05T00:00:00.000',\n",
              "       '2022-01-06T00:00:00.000', '2022-01-07T00:00:00.000',\n",
              "       '2022-01-10T00:00:00.000', '2022-01-11T00:00:00.000',\n",
              "       '2022-01-12T00:00:00.000', '2022-01-13T00:00:00.000',\n",
              "       '2022-01-14T00:00:00.000', '2022-01-18T00:00:00.000',\n",
              "       '2022-01-19T00:00:00.000', '2022-01-20T00:00:00.000',\n",
              "       '2022-01-21T00:00:00.000', '2022-01-24T00:00:00.000',\n",
              "       '2022-01-25T00:00:00.000', '2022-01-26T00:00:00.000',\n",
              "       '2022-01-27T00:00:00.000', '2022-01-28T00:00:00.000',\n",
              "       '2022-01-31T00:00:00.000', '2022-02-01T00:00:00.000',\n",
              "       '2022-02-02T00:00:00.000', '2022-02-03T00:00:00.000',\n",
              "       '2022-02-04T00:00:00.000', '2022-02-07T00:00:00.000',\n",
              "       '2022-02-08T00:00:00.000', '2022-02-09T00:00:00.000',\n",
              "       '2022-02-10T00:00:00.000', '2022-02-11T00:00:00.000',\n",
              "       '2022-02-14T00:00:00.000', '2022-02-15T00:00:00.000',\n",
              "       '2022-02-16T00:00:00.000', '2022-02-17T00:00:00.000',\n",
              "       '2022-02-18T00:00:00.000', '2022-02-22T00:00:00.000',\n",
              "       '2022-02-23T00:00:00.000', '2022-02-24T00:00:00.000'],\n",
              "      dtype='datetime64[ms]')"
            ]
          },
          "metadata": {},
          "execution_count": 148
        }
      ]
    },
    {
      "cell_type": "code",
      "source": [
        "all_samples = []\n",
        "for close in training_data:\n",
        "  print(close)\n",
        "  hmm = GaussianHMM(n_components=4)\n",
        "  #print(pd.DataFrame(training_data[close]))\n",
        "  hmm.fit(pd.DataFrame(training_data[close]))\n",
        "  samples, _ = hmm.sample(252)\n",
        "  if len(all_samples)==0:\n",
        "    test_dates[close] = samples\n",
        "    all_samples = pd.DataFrame( test_dates[close], index=days)\n",
        "  else:\n",
        "    all_samples[close] = samples\n",
        "print(all_samples)"
      ],
      "metadata": {
        "colab": {
          "base_uri": "https://localhost:8080/"
        },
        "id": "FWQd11vkAd7L",
        "outputId": "d30e1702-d597-4f2c-bf66-c294f62ea097"
      },
      "execution_count": null,
      "outputs": [
        {
          "output_type": "stream",
          "name": "stdout",
          "text": [
            "^GSPC\n",
            "^FTLC\n",
            "^RUT\n",
            "IEUS\n",
            "GOVT\n",
            "IGOV\n",
            "SIVR\n",
            "SGOL\n",
            "               ^GSPC     ^FTLC      ^RUT      IEUS      GOVT      IGOV  \\\n",
            "2021-02-04 -0.010307  0.007558  0.013225 -0.011663  0.000767  0.003214   \n",
            "2021-02-05  0.007197  0.009218 -0.001597 -0.003947 -0.001431  0.002831   \n",
            "2021-02-08  0.002876  0.009048  0.006321 -0.011854 -0.000963 -0.003745   \n",
            "2021-02-09  0.000985  0.004728 -0.011199 -0.004659  0.003468  0.003281   \n",
            "2021-02-10  0.001214  0.069803  0.000681  0.009745  0.004562 -0.002624   \n",
            "...              ...       ...       ...       ...       ...       ...   \n",
            "2022-02-17  0.009361  0.006727 -0.005631  0.007611  0.003904 -0.000497   \n",
            "2022-02-18  0.001717  0.014321 -0.015088  0.011493  0.007274 -0.001274   \n",
            "2022-02-22 -0.004819  0.006589 -0.027943  0.000711 -0.008312 -0.007245   \n",
            "2022-02-23 -0.001432  0.003649  0.005201  0.012505  0.003869 -0.012937   \n",
            "2022-02-24  0.000785  0.001777 -0.014113  0.001266  0.017552  0.004139   \n",
            "\n",
            "                SIVR      SGOL  \n",
            "2021-02-04  0.004775 -0.006643  \n",
            "2021-02-05 -0.006994 -0.011162  \n",
            "2021-02-08 -0.012379  0.000228  \n",
            "2021-02-09 -0.003643 -0.004354  \n",
            "2021-02-10  0.004535  0.003847  \n",
            "...              ...       ...  \n",
            "2022-02-17  0.005502 -0.018500  \n",
            "2022-02-18 -0.020951 -0.009638  \n",
            "2022-02-22 -0.015007  0.001138  \n",
            "2022-02-23  0.010813  0.002934  \n",
            "2022-02-24  0.028842 -0.001296  \n",
            "\n",
            "[252 rows x 8 columns]\n"
          ]
        }
      ]
    },
    {
      "cell_type": "code",
      "source": [
        "all_samples.plot()"
      ],
      "metadata": {
        "colab": {
          "base_uri": "https://localhost:8080/",
          "height": 74
        },
        "id": "LzaQy5fnGgzM",
        "outputId": "c354eb58-797c-4db5-afdf-4f0976908d4c"
      },
      "execution_count": null,
      "outputs": [
        {
          "output_type": "execute_result",
          "data": {
            "text/plain": [
              "<matplotlib.axes._subplots.AxesSubplot at 0x7ff0cc7b5f90>"
            ]
          },
          "metadata": {},
          "execution_count": 150
        },
        {
          "output_type": "display_data",
          "data": {
            "text/plain": [
              "<Figure size 432x288 with 1 Axes>"
            ],
            "image/png": "[encoded data removed]"
          },
          "metadata": {
            "needs_background": "light"
          }
        }
      ]
    },
    {
      "cell_type": "markdown",
      "source": [
        "## Calculating the resulting stock price change using cumilative product"
      ],
      "metadata": {
        "id": "Sgg1tg7ubE-V"
      }
    },
    {
      "cell_type": "code",
      "source": [
        "stock_data.iloc[-253:-252,:] #Gets the stock prices for the last day of the training data"
      ],
      "metadata": {
        "colab": {
          "base_uri": "https://localhost:8080/",
          "height": 176
        },
        "id": "EthGFgBoOPrs",
        "outputId": "c5dd008a-739c-4078-b6f7-7799239f2eab"
      },
      "execution_count": null,
      "outputs": [
        {
          "output_type": "execute_result",
          "data": {
            "text/plain": [
              "                  ^GSPC   ^FTLC         ^RUT       IEUS       GOVT       IGOV  \\\n",
              "Date                                                                            \n",
              "2021-02-03  3830.169922  3728.5  2159.699951  62.261761  26.677723  54.029949   \n",
              "\n",
              "             SIVR       SGOL  \n",
              "Date                          \n",
              "2021-02-03  25.92  17.620001  "
            ],
            "text/html": [
              "\n",
              "  <div id=\"df-5e3bc641-71b6-4197-bd5c-561fd374b776\">\n",
              "    <div class=\"colab-df-container\">\n",
              "      <div>\n",
              "<style scoped>\n",
              "    .dataframe tbody tr th:only-of-type {\n",
              "        vertical-align: middle;\n",
              "    }\n",
              "\n",
              "    .dataframe tbody tr th {\n",
              "        vertical-align: top;\n",
              "    }\n",
              "\n",
              "    .dataframe thead th {\n",
              "        text-align: right;\n",
              "    }\n",
              "</style>\n",
              "<table border=\"1\" class=\"dataframe\">\n",
              "  <thead>\n",
              "    <tr style=\"text-align: right;\">\n",
              "      <th></th>\n",
              "      <th>^GSPC</th>\n",
              "      <th>^FTLC</th>\n",
              "      <th>^RUT</th>\n",
              "      <th>IEUS</th>\n",
              "      <th>GOVT</th>\n",
              "      <th>IGOV</th>\n",
              "      <th>SIVR</th>\n",
              "      <th>SGOL</th>\n",
              "    </tr>\n",
              "    <tr>\n",
              "      <th>Date</th>\n",
              "      <th></th>\n",
              "      <th></th>\n",
              "      <th></th>\n",
              "      <th></th>\n",
              "      <th></th>\n",
              "      <th></th>\n",
              "      <th></th>\n",
              "      <th></th>\n",
              "    </tr>\n",
              "  </thead>\n",
              "  <tbody>\n",
              "    <tr>\n",
              "      <th>2021-02-03</th>\n",
              "      <td>3830.169922</td>\n",
              "      <td>3728.5</td>\n",
              "      <td>2159.699951</td>\n",
              "      <td>62.261761</td>\n",
              "      <td>26.677723</td>\n",
              "      <td>54.029949</td>\n",
              "      <td>25.92</td>\n",
              "      <td>17.620001</td>\n",
              "    </tr>\n",
              "  </tbody>\n",
              "</table>\n",
              "</div>\n",
              "      <button class=\"colab-df-convert\" onclick=\"convertToInteractive('df-5e3bc641-71b6-4197-bd5c-561fd374b776')\"\n",
              "              title=\"Convert this dataframe to an interactive table.\"\n",
              "              style=\"display:none;\">\n",
              "        \n",
              "  <svg xmlns=\"http://www.w3.org/2000/svg\" height=\"24px\"viewBox=\"0 0 24 24\"\n",
              "       width=\"24px\">\n",
              "    <path d=\"M0 0h24v24H0V0z\" fill=\"none\"/>\n",
              "    <path d=\"M18.56 5.44l.94 2.06.94-2.06 2.06-.94-2.06-.94-.94-2.06-.94 2.06-2.06.94zm-11 1L8.5 8.5l.94-2.06 2.06-.94-2.06-.94L8.5 2.5l-.94 2.06-2.06.94zm10 10l.94 2.06.94-2.06 2.06-.94-2.06-.94-.94-2.06-.94 2.06-2.06.94z\"/><path d=\"M17.41 7.96l-1.37-1.37c-.4-.4-.92-.59-1.43-.59-.52 0-1.04.2-1.43.59L10.3 9.45l-7.72 7.72c-.78.78-.78 2.05 0 2.83L4 21.41c.39.39.9.59 1.41.59.51 0 1.02-.2 1.41-.59l7.78-7.78 2.81-2.81c.8-.78.8-2.07 0-2.86zM5.41 20L4 18.59l7.72-7.72 1.47 1.35L5.41 20z\"/>\n",
              "  </svg>\n",
              "      </button>\n",
              "      \n",
              "  <style>\n",
              "    .colab-df-container {\n",
              "      display:flex;\n",
              "      flex-wrap:wrap;\n",
              "      gap: 12px;\n",
              "    }\n",
              "\n",
              "    .colab-df-convert {\n",
              "      background-color: #E8F0FE;\n",
              "      border: none;\n",
              "      border-radius: 50%;\n",
              "      cursor: pointer;\n",
              "      display: none;\n",
              "      fill: #1967D2;\n",
              "      height: 32px;\n",
              "      padding: 0 0 0 0;\n",
              "      width: 32px;\n",
              "    }\n",
              "\n",
              "    .colab-df-convert:hover {\n",
              "      background-color: #E2EBFA;\n",
              "      box-shadow: 0px 1px 2px rgba(60, 64, 67, 0.3), 0px 1px 3px 1px rgba(60, 64, 67, 0.15);\n",
              "      fill: #174EA6;\n",
              "    }\n",
              "\n",
              "    [theme=dark] .colab-df-convert {\n",
              "      background-color: #3B4455;\n",
              "      fill: #D2E3FC;\n",
              "    }\n",
              "\n",
              "    [theme=dark] .colab-df-convert:hover {\n",
              "      background-color: #434B5C;\n",
              "      box-shadow: 0px 1px 3px 1px rgba(0, 0, 0, 0.15);\n",
              "      filter: drop-shadow(0px 1px 2px rgba(0, 0, 0, 0.3));\n",
              "      fill: #FFFFFF;\n",
              "    }\n",
              "  </style>\n",
              "\n",
              "      <script>\n",
              "        const buttonEl =\n",
              "          document.querySelector('#df-5e3bc641-71b6-4197-bd5c-561fd374b776 button.colab-df-convert');\n",
              "        buttonEl.style.display =\n",
              "          google.colab.kernel.accessAllowed ? 'block' : 'none';\n",
              "\n",
              "        async function convertToInteractive(key) {\n",
              "          const element = document.querySelector('#df-5e3bc641-71b6-4197-bd5c-561fd374b776');\n",
              "          const dataTable =\n",
              "            await google.colab.kernel.invokeFunction('convertToInteractive',\n",
              "                                                     [key], {});\n",
              "          if (!dataTable) return;\n",
              "\n",
              "          const docLinkHtml = 'Like what you see? Visit the ' +\n",
              "            '<a target=\"_blank\" href=https://colab.research.google.com/notebooks/data_table.ipynb>data table notebook</a>'\n",
              "            + ' to learn more about interactive tables.';\n",
              "          element.innerHTML = '';\n",
              "          dataTable['output_type'] = 'display_data';\n",
              "          await google.colab.output.renderOutput(dataTable, element);\n",
              "          const docLink = document.createElement('div');\n",
              "          docLink.innerHTML = docLinkHtml;\n",
              "          element.appendChild(docLink);\n",
              "        }\n",
              "      </script>\n",
              "    </div>\n",
              "  </div>\n",
              "  "
            ]
          },
          "metadata": {},
          "execution_count": 151
        }
      ]
    },
    {
      "cell_type": "code",
      "source": [
        "all_samples"
      ],
      "metadata": {
        "colab": {
          "base_uri": "https://localhost:8080/",
          "height": 488
        },
        "id": "xOE1nnOYOgKT",
        "outputId": "55fc895b-6cdf-43c6-866e-c676ea0835d1"
      },
      "execution_count": null,
      "outputs": [
        {
          "output_type": "execute_result",
          "data": {
            "text/plain": [
              "               ^GSPC     ^FTLC      ^RUT      IEUS      GOVT      IGOV  \\\n",
              "2021-02-04 -0.010307  0.007558  0.013225 -0.011663  0.000767  0.003214   \n",
              "2021-02-05  0.007197  0.009218 -0.001597 -0.003947 -0.001431  0.002831   \n",
              "2021-02-08  0.002876  0.009048  0.006321 -0.011854 -0.000963 -0.003745   \n",
              "2021-02-09  0.000985  0.004728 -0.011199 -0.004659  0.003468  0.003281   \n",
              "2021-02-10  0.001214  0.069803  0.000681  0.009745  0.004562 -0.002624   \n",
              "...              ...       ...       ...       ...       ...       ...   \n",
              "2022-02-17  0.009361  0.006727 -0.005631  0.007611  0.003904 -0.000497   \n",
              "2022-02-18  0.001717  0.014321 -0.015088  0.011493  0.007274 -0.001274   \n",
              "2022-02-22 -0.004819  0.006589 -0.027943  0.000711 -0.008312 -0.007245   \n",
              "2022-02-23 -0.001432  0.003649  0.005201  0.012505  0.003869 -0.012937   \n",
              "2022-02-24  0.000785  0.001777 -0.014113  0.001266  0.017552  0.004139   \n",
              "\n",
              "                SIVR      SGOL  \n",
              "2021-02-04  0.004775 -0.006643  \n",
              "2021-02-05 -0.006994 -0.011162  \n",
              "2021-02-08 -0.012379  0.000228  \n",
              "2021-02-09 -0.003643 -0.004354  \n",
              "2021-02-10  0.004535  0.003847  \n",
              "...              ...       ...  \n",
              "2022-02-17  0.005502 -0.018500  \n",
              "2022-02-18 -0.020951 -0.009638  \n",
              "2022-02-22 -0.015007  0.001138  \n",
              "2022-02-23  0.010813  0.002934  \n",
              "2022-02-24  0.028842 -0.001296  \n",
              "\n",
              "[252 rows x 8 columns]"
            ],
            "text/html": [
              "\n",
              "  <div id=\"df-50670e62-f217-4b02-bdf2-519562887020\">\n",
              "    <div class=\"colab-df-container\">\n",
              "      <div>\n",
              "<style scoped>\n",
              "    .dataframe tbody tr th:only-of-type {\n",
              "        vertical-align: middle;\n",
              "    }\n",
              "\n",
              "    .dataframe tbody tr th {\n",
              "        vertical-align: top;\n",
              "    }\n",
              "\n",
              "    .dataframe thead th {\n",
              "        text-align: right;\n",
              "    }\n",
              "</style>\n",
              "<table border=\"1\" class=\"dataframe\">\n",
              "  <thead>\n",
              "    <tr style=\"text-align: right;\">\n",
              "      <th></th>\n",
              "      <th>^GSPC</th>\n",
              "      <th>^FTLC</th>\n",
              "      <th>^RUT</th>\n",
              "      <th>IEUS</th>\n",
              "      <th>GOVT</th>\n",
              "      <th>IGOV</th>\n",
              "      <th>SIVR</th>\n",
              "      <th>SGOL</th>\n",
              "    </tr>\n",
              "  </thead>\n",
              "  <tbody>\n",
              "    <tr>\n",
              "      <th>2021-02-04</th>\n",
              "      <td>-0.010307</td>\n",
              "      <td>0.007558</td>\n",
              "      <td>0.013225</td>\n",
              "      <td>-0.011663</td>\n",
              "      <td>0.000767</td>\n",
              "      <td>0.003214</td>\n",
              "      <td>0.004775</td>\n",
              "      <td>-0.006643</td>\n",
              "    </tr>\n",
              "    <tr>\n",
              "      <th>2021-02-05</th>\n",
              "      <td>0.007197</td>\n",
              "      <td>0.009218</td>\n",
              "      <td>-0.001597</td>\n",
              "      <td>-0.003947</td>\n",
              "      <td>-0.001431</td>\n",
              "      <td>0.002831</td>\n",
              "      <td>-0.006994</td>\n",
              "      <td>-0.011162</td>\n",
              "    </tr>\n",
              "    <tr>\n",
              "      <th>2021-02-08</th>\n",
              "      <td>0.002876</td>\n",
              "      <td>0.009048</td>\n",
              "      <td>0.006321</td>\n",
              "      <td>-0.011854</td>\n",
              "      <td>-0.000963</td>\n",
              "      <td>-0.003745</td>\n",
              "      <td>-0.012379</td>\n",
              "      <td>0.000228</td>\n",
              "    </tr>\n",
              "    <tr>\n",
              "      <th>2021-02-09</th>\n",
              "      <td>0.000985</td>\n",
              "      <td>0.004728</td>\n",
              "      <td>-0.011199</td>\n",
              "      <td>-0.004659</td>\n",
              "      <td>0.003468</td>\n",
              "      <td>0.003281</td>\n",
              "      <td>-0.003643</td>\n",
              "      <td>-0.004354</td>\n",
              "    </tr>\n",
              "    <tr>\n",
              "      <th>2021-02-10</th>\n",
              "      <td>0.001214</td>\n",
              "      <td>0.069803</td>\n",
              "      <td>0.000681</td>\n",
              "      <td>0.009745</td>\n",
              "      <td>0.004562</td>\n",
              "      <td>-0.002624</td>\n",
              "      <td>0.004535</td>\n",
              "      <td>0.003847</td>\n",
              "    </tr>\n",
              "    <tr>\n",
              "      <th>...</th>\n",
              "      <td>...</td>\n",
              "      <td>...</td>\n",
              "      <td>...</td>\n",
              "      <td>...</td>\n",
              "      <td>...</td>\n",
              "      <td>...</td>\n",
              "      <td>...</td>\n",
              "      <td>...</td>\n",
              "    </tr>\n",
              "    <tr>\n",
              "      <th>2022-02-17</th>\n",
              "      <td>0.009361</td>\n",
              "      <td>0.006727</td>\n",
              "      <td>-0.005631</td>\n",
              "      <td>0.007611</td>\n",
              "      <td>0.003904</td>\n",
              "      <td>-0.000497</td>\n",
              "      <td>0.005502</td>\n",
              "      <td>-0.018500</td>\n",
              "    </tr>\n",
              "    <tr>\n",
              "      <th>2022-02-18</th>\n",
              "      <td>0.001717</td>\n",
              "      <td>0.014321</td>\n",
              "      <td>-0.015088</td>\n",
              "      <td>0.011493</td>\n",
              "      <td>0.007274</td>\n",
              "      <td>-0.001274</td>\n",
              "      <td>-0.020951</td>\n",
              "      <td>-0.009638</td>\n",
              "    </tr>\n",
              "    <tr>\n",
              "      <th>2022-02-22</th>\n",
              "      <td>-0.004819</td>\n",
              "      <td>0.006589</td>\n",
              "      <td>-0.027943</td>\n",
              "      <td>0.000711</td>\n",
              "      <td>-0.008312</td>\n",
              "      <td>-0.007245</td>\n",
              "      <td>-0.015007</td>\n",
              "      <td>0.001138</td>\n",
              "    </tr>\n",
              "    <tr>\n",
              "      <th>2022-02-23</th>\n",
              "      <td>-0.001432</td>\n",
              "      <td>0.003649</td>\n",
              "      <td>0.005201</td>\n",
              "      <td>0.012505</td>\n",
              "      <td>0.003869</td>\n",
              "      <td>-0.012937</td>\n",
              "      <td>0.010813</td>\n",
              "      <td>0.002934</td>\n",
              "    </tr>\n",
              "    <tr>\n",
              "      <th>2022-02-24</th>\n",
              "      <td>0.000785</td>\n",
              "      <td>0.001777</td>\n",
              "      <td>-0.014113</td>\n",
              "      <td>0.001266</td>\n",
              "      <td>0.017552</td>\n",
              "      <td>0.004139</td>\n",
              "      <td>0.028842</td>\n",
              "      <td>-0.001296</td>\n",
              "    </tr>\n",
              "  </tbody>\n",
              "</table>\n",
              "<p>252 rows × 8 columns</p>\n",
              "</div>\n",
              "      <button class=\"colab-df-convert\" onclick=\"convertToInteractive('df-50670e62-f217-4b02-bdf2-519562887020')\"\n",
              "              title=\"Convert this dataframe to an interactive table.\"\n",
              "              style=\"display:none;\">\n",
              "        \n",
              "  <svg xmlns=\"http://www.w3.org/2000/svg\" height=\"24px\"viewBox=\"0 0 24 24\"\n",
              "       width=\"24px\">\n",
              "    <path d=\"M0 0h24v24H0V0z\" fill=\"none\"/>\n",
              "    <path d=\"M18.56 5.44l.94 2.06.94-2.06 2.06-.94-2.06-.94-.94-2.06-.94 2.06-2.06.94zm-11 1L8.5 8.5l.94-2.06 2.06-.94-2.06-.94L8.5 2.5l-.94 2.06-2.06.94zm10 10l.94 2.06.94-2.06 2.06-.94-2.06-.94-.94-2.06-.94 2.06-2.06.94z\"/><path d=\"M17.41 7.96l-1.37-1.37c-.4-.4-.92-.59-1.43-.59-.52 0-1.04.2-1.43.59L10.3 9.45l-7.72 7.72c-.78.78-.78 2.05 0 2.83L4 21.41c.39.39.9.59 1.41.59.51 0 1.02-.2 1.41-.59l7.78-7.78 2.81-2.81c.8-.78.8-2.07 0-2.86zM5.41 20L4 18.59l7.72-7.72 1.47 1.35L5.41 20z\"/>\n",
              "  </svg>\n",
              "      </button>\n",
              "      \n",
              "  <style>\n",
              "    .colab-df-container {\n",
              "      display:flex;\n",
              "      flex-wrap:wrap;\n",
              "      gap: 12px;\n",
              "    }\n",
              "\n",
              "    .colab-df-convert {\n",
              "      background-color: #E8F0FE;\n",
              "      border: none;\n",
              "      border-radius: 50%;\n",
              "      cursor: pointer;\n",
              "      display: none;\n",
              "      fill: #1967D2;\n",
              "      height: 32px;\n",
              "      padding: 0 0 0 0;\n",
              "      width: 32px;\n",
              "    }\n",
              "\n",
              "    .colab-df-convert:hover {\n",
              "      background-color: #E2EBFA;\n",
              "      box-shadow: 0px 1px 2px rgba(60, 64, 67, 0.3), 0px 1px 3px 1px rgba(60, 64, 67, 0.15);\n",
              "      fill: #174EA6;\n",
              "    }\n",
              "\n",
              "    [theme=dark] .colab-df-convert {\n",
              "      background-color: #3B4455;\n",
              "      fill: #D2E3FC;\n",
              "    }\n",
              "\n",
              "    [theme=dark] .colab-df-convert:hover {\n",
              "      background-color: #434B5C;\n",
              "      box-shadow: 0px 1px 3px 1px rgba(0, 0, 0, 0.15);\n",
              "      filter: drop-shadow(0px 1px 2px rgba(0, 0, 0, 0.3));\n",
              "      fill: #FFFFFF;\n",
              "    }\n",
              "  </style>\n",
              "\n",
              "      <script>\n",
              "        const buttonEl =\n",
              "          document.querySelector('#df-50670e62-f217-4b02-bdf2-519562887020 button.colab-df-convert');\n",
              "        buttonEl.style.display =\n",
              "          google.colab.kernel.accessAllowed ? 'block' : 'none';\n",
              "\n",
              "        async function convertToInteractive(key) {\n",
              "          const element = document.querySelector('#df-50670e62-f217-4b02-bdf2-519562887020');\n",
              "          const dataTable =\n",
              "            await google.colab.kernel.invokeFunction('convertToInteractive',\n",
              "                                                     [key], {});\n",
              "          if (!dataTable) return;\n",
              "\n",
              "          const docLinkHtml = 'Like what you see? Visit the ' +\n",
              "            '<a target=\"_blank\" href=https://colab.research.google.com/notebooks/data_table.ipynb>data table notebook</a>'\n",
              "            + ' to learn more about interactive tables.';\n",
              "          element.innerHTML = '';\n",
              "          dataTable['output_type'] = 'display_data';\n",
              "          await google.colab.output.renderOutput(dataTable, element);\n",
              "          const docLink = document.createElement('div');\n",
              "          docLink.innerHTML = docLinkHtml;\n",
              "          element.appendChild(docLink);\n",
              "        }\n",
              "      </script>\n",
              "    </div>\n",
              "  </div>\n",
              "  "
            ]
          },
          "metadata": {},
          "execution_count": 152
        }
      ]
    },
    {
      "cell_type": "code",
      "source": [
        "plus_samples = 1 +all_samples"
      ],
      "metadata": {
        "id": "t4uTRcmvPcFH"
      },
      "execution_count": null,
      "outputs": []
    },
    {
      "cell_type": "code",
      "source": [
        "plus_samples.iloc[0:1,:].reset_index()\n",
        "plus_samples"
      ],
      "metadata": {
        "colab": {
          "base_uri": "https://localhost:8080/",
          "height": 488
        },
        "id": "xNGgG3EwRu-Y",
        "outputId": "765a5408-ed65-49b6-f98e-ed46635b0806"
      },
      "execution_count": null,
      "outputs": [
        {
          "output_type": "execute_result",
          "data": {
            "text/plain": [
              "               ^GSPC     ^FTLC      ^RUT      IEUS      GOVT      IGOV  \\\n",
              "2021-02-04  0.989693  1.007558  1.013225  0.988337  1.000767  1.003214   \n",
              "2021-02-05  1.007197  1.009218  0.998403  0.996053  0.998569  1.002831   \n",
              "2021-02-08  1.002876  1.009048  1.006321  0.988146  0.999037  0.996255   \n",
              "2021-02-09  1.000985  1.004728  0.988801  0.995341  1.003468  1.003281   \n",
              "2021-02-10  1.001214  1.069803  1.000681  1.009745  1.004562  0.997376   \n",
              "...              ...       ...       ...       ...       ...       ...   \n",
              "2022-02-17  1.009361  1.006727  0.994369  1.007611  1.003904  0.999503   \n",
              "2022-02-18  1.001717  1.014321  0.984912  1.011493  1.007274  0.998726   \n",
              "2022-02-22  0.995181  1.006589  0.972057  1.000711  0.991688  0.992755   \n",
              "2022-02-23  0.998568  1.003649  1.005201  1.012505  1.003869  0.987063   \n",
              "2022-02-24  1.000785  1.001777  0.985887  1.001266  1.017552  1.004139   \n",
              "\n",
              "                SIVR      SGOL  \n",
              "2021-02-04  1.004775  0.993357  \n",
              "2021-02-05  0.993006  0.988838  \n",
              "2021-02-08  0.987621  1.000228  \n",
              "2021-02-09  0.996357  0.995646  \n",
              "2021-02-10  1.004535  1.003847  \n",
              "...              ...       ...  \n",
              "2022-02-17  1.005502  0.981500  \n",
              "2022-02-18  0.979049  0.990362  \n",
              "2022-02-22  0.984993  1.001138  \n",
              "2022-02-23  1.010813  1.002934  \n",
              "2022-02-24  1.028842  0.998704  \n",
              "\n",
              "[252 rows x 8 columns]"
            ],
            "text/html": [
              "\n",
              "  <div id=\"df-50682f4e-182d-46e7-b6b6-5a956f4a49e9\">\n",
              "    <div class=\"colab-df-container\">\n",
              "      <div>\n",
              "<style scoped>\n",
              "    .dataframe tbody tr th:only-of-type {\n",
              "        vertical-align: middle;\n",
              "    }\n",
              "\n",
              "    .dataframe tbody tr th {\n",
              "        vertical-align: top;\n",
              "    }\n",
              "\n",
              "    .dataframe thead th {\n",
              "        text-align: right;\n",
              "    }\n",
              "</style>\n",
              "<table border=\"1\" class=\"dataframe\">\n",
              "  <thead>\n",
              "    <tr style=\"text-align: right;\">\n",
              "      <th></th>\n",
              "      <th>^GSPC</th>\n",
              "      <th>^FTLC</th>\n",
              "      <th>^RUT</th>\n",
              "      <th>IEUS</th>\n",
              "      <th>GOVT</th>\n",
              "      <th>IGOV</th>\n",
              "      <th>SIVR</th>\n",
              "      <th>SGOL</th>\n",
              "    </tr>\n",
              "  </thead>\n",
              "  <tbody>\n",
              "    <tr>\n",
              "      <th>2021-02-04</th>\n",
              "      <td>0.989693</td>\n",
              "      <td>1.007558</td>\n",
              "      <td>1.013225</td>\n",
              "      <td>0.988337</td>\n",
              "      <td>1.000767</td>\n",
              "      <td>1.003214</td>\n",
              "      <td>1.004775</td>\n",
              "      <td>0.993357</td>\n",
              "    </tr>\n",
              "    <tr>\n",
              "      <th>2021-02-05</th>\n",
              "      <td>1.007197</td>\n",
              "      <td>1.009218</td>\n",
              "      <td>0.998403</td>\n",
              "      <td>0.996053</td>\n",
              "      <td>0.998569</td>\n",
              "      <td>1.002831</td>\n",
              "      <td>0.993006</td>\n",
              "      <td>0.988838</td>\n",
              "    </tr>\n",
              "    <tr>\n",
              "      <th>2021-02-08</th>\n",
              "      <td>1.002876</td>\n",
              "      <td>1.009048</td>\n",
              "      <td>1.006321</td>\n",
              "      <td>0.988146</td>\n",
              "      <td>0.999037</td>\n",
              "      <td>0.996255</td>\n",
              "      <td>0.987621</td>\n",
              "      <td>1.000228</td>\n",
              "    </tr>\n",
              "    <tr>\n",
              "      <th>2021-02-09</th>\n",
              "      <td>1.000985</td>\n",
              "      <td>1.004728</td>\n",
              "      <td>0.988801</td>\n",
              "      <td>0.995341</td>\n",
              "      <td>1.003468</td>\n",
              "      <td>1.003281</td>\n",
              "      <td>0.996357</td>\n",
              "      <td>0.995646</td>\n",
              "    </tr>\n",
              "    <tr>\n",
              "      <th>2021-02-10</th>\n",
              "      <td>1.001214</td>\n",
              "      <td>1.069803</td>\n",
              "      <td>1.000681</td>\n",
              "      <td>1.009745</td>\n",
              "      <td>1.004562</td>\n",
              "      <td>0.997376</td>\n",
              "      <td>1.004535</td>\n",
              "      <td>1.003847</td>\n",
              "    </tr>\n",
              "    <tr>\n",
              "      <th>...</th>\n",
              "      <td>...</td>\n",
              "      <td>...</td>\n",
              "      <td>...</td>\n",
              "      <td>...</td>\n",
              "      <td>...</td>\n",
              "      <td>...</td>\n",
              "      <td>...</td>\n",
              "      <td>...</td>\n",
              "    </tr>\n",
              "    <tr>\n",
              "      <th>2022-02-17</th>\n",
              "      <td>1.009361</td>\n",
              "      <td>1.006727</td>\n",
              "      <td>0.994369</td>\n",
              "      <td>1.007611</td>\n",
              "      <td>1.003904</td>\n",
              "      <td>0.999503</td>\n",
              "      <td>1.005502</td>\n",
              "      <td>0.981500</td>\n",
              "    </tr>\n",
              "    <tr>\n",
              "      <th>2022-02-18</th>\n",
              "      <td>1.001717</td>\n",
              "      <td>1.014321</td>\n",
              "      <td>0.984912</td>\n",
              "      <td>1.011493</td>\n",
              "      <td>1.007274</td>\n",
              "      <td>0.998726</td>\n",
              "      <td>0.979049</td>\n",
              "      <td>0.990362</td>\n",
              "    </tr>\n",
              "    <tr>\n",
              "      <th>2022-02-22</th>\n",
              "      <td>0.995181</td>\n",
              "      <td>1.006589</td>\n",
              "      <td>0.972057</td>\n",
              "      <td>1.000711</td>\n",
              "      <td>0.991688</td>\n",
              "      <td>0.992755</td>\n",
              "      <td>0.984993</td>\n",
              "      <td>1.001138</td>\n",
              "    </tr>\n",
              "    <tr>\n",
              "      <th>2022-02-23</th>\n",
              "      <td>0.998568</td>\n",
              "      <td>1.003649</td>\n",
              "      <td>1.005201</td>\n",
              "      <td>1.012505</td>\n",
              "      <td>1.003869</td>\n",
              "      <td>0.987063</td>\n",
              "      <td>1.010813</td>\n",
              "      <td>1.002934</td>\n",
              "    </tr>\n",
              "    <tr>\n",
              "      <th>2022-02-24</th>\n",
              "      <td>1.000785</td>\n",
              "      <td>1.001777</td>\n",
              "      <td>0.985887</td>\n",
              "      <td>1.001266</td>\n",
              "      <td>1.017552</td>\n",
              "      <td>1.004139</td>\n",
              "      <td>1.028842</td>\n",
              "      <td>0.998704</td>\n",
              "    </tr>\n",
              "  </tbody>\n",
              "</table>\n",
              "<p>252 rows × 8 columns</p>\n",
              "</div>\n",
              "      <button class=\"colab-df-convert\" onclick=\"convertToInteractive('df-50682f4e-182d-46e7-b6b6-5a956f4a49e9')\"\n",
              "              title=\"Convert this dataframe to an interactive table.\"\n",
              "              style=\"display:none;\">\n",
              "        \n",
              "  <svg xmlns=\"http://www.w3.org/2000/svg\" height=\"24px\"viewBox=\"0 0 24 24\"\n",
              "       width=\"24px\">\n",
              "    <path d=\"M0 0h24v24H0V0z\" fill=\"none\"/>\n",
              "    <path d=\"M18.56 5.44l.94 2.06.94-2.06 2.06-.94-2.06-.94-.94-2.06-.94 2.06-2.06.94zm-11 1L8.5 8.5l.94-2.06 2.06-.94-2.06-.94L8.5 2.5l-.94 2.06-2.06.94zm10 10l.94 2.06.94-2.06 2.06-.94-2.06-.94-.94-2.06-.94 2.06-2.06.94z\"/><path d=\"M17.41 7.96l-1.37-1.37c-.4-.4-.92-.59-1.43-.59-.52 0-1.04.2-1.43.59L10.3 9.45l-7.72 7.72c-.78.78-.78 2.05 0 2.83L4 21.41c.39.39.9.59 1.41.59.51 0 1.02-.2 1.41-.59l7.78-7.78 2.81-2.81c.8-.78.8-2.07 0-2.86zM5.41 20L4 18.59l7.72-7.72 1.47 1.35L5.41 20z\"/>\n",
              "  </svg>\n",
              "      </button>\n",
              "      \n",
              "  <style>\n",
              "    .colab-df-container {\n",
              "      display:flex;\n",
              "      flex-wrap:wrap;\n",
              "      gap: 12px;\n",
              "    }\n",
              "\n",
              "    .colab-df-convert {\n",
              "      background-color: #E8F0FE;\n",
              "      border: none;\n",
              "      border-radius: 50%;\n",
              "      cursor: pointer;\n",
              "      display: none;\n",
              "      fill: #1967D2;\n",
              "      height: 32px;\n",
              "      padding: 0 0 0 0;\n",
              "      width: 32px;\n",
              "    }\n",
              "\n",
              "    .colab-df-convert:hover {\n",
              "      background-color: #E2EBFA;\n",
              "      box-shadow: 0px 1px 2px rgba(60, 64, 67, 0.3), 0px 1px 3px 1px rgba(60, 64, 67, 0.15);\n",
              "      fill: #174EA6;\n",
              "    }\n",
              "\n",
              "    [theme=dark] .colab-df-convert {\n",
              "      background-color: #3B4455;\n",
              "      fill: #D2E3FC;\n",
              "    }\n",
              "\n",
              "    [theme=dark] .colab-df-convert:hover {\n",
              "      background-color: #434B5C;\n",
              "      box-shadow: 0px 1px 3px 1px rgba(0, 0, 0, 0.15);\n",
              "      filter: drop-shadow(0px 1px 2px rgba(0, 0, 0, 0.3));\n",
              "      fill: #FFFFFF;\n",
              "    }\n",
              "  </style>\n",
              "\n",
              "      <script>\n",
              "        const buttonEl =\n",
              "          document.querySelector('#df-50682f4e-182d-46e7-b6b6-5a956f4a49e9 button.colab-df-convert');\n",
              "        buttonEl.style.display =\n",
              "          google.colab.kernel.accessAllowed ? 'block' : 'none';\n",
              "\n",
              "        async function convertToInteractive(key) {\n",
              "          const element = document.querySelector('#df-50682f4e-182d-46e7-b6b6-5a956f4a49e9');\n",
              "          const dataTable =\n",
              "            await google.colab.kernel.invokeFunction('convertToInteractive',\n",
              "                                                     [key], {});\n",
              "          if (!dataTable) return;\n",
              "\n",
              "          const docLinkHtml = 'Like what you see? Visit the ' +\n",
              "            '<a target=\"_blank\" href=https://colab.research.google.com/notebooks/data_table.ipynb>data table notebook</a>'\n",
              "            + ' to learn more about interactive tables.';\n",
              "          element.innerHTML = '';\n",
              "          dataTable['output_type'] = 'display_data';\n",
              "          await google.colab.output.renderOutput(dataTable, element);\n",
              "          const docLink = document.createElement('div');\n",
              "          docLink.innerHTML = docLinkHtml;\n",
              "          element.appendChild(docLink);\n",
              "        }\n",
              "      </script>\n",
              "    </div>\n",
              "  </div>\n",
              "  "
            ]
          },
          "metadata": {},
          "execution_count": 154
        }
      ]
    },
    {
      "cell_type": "code",
      "source": [
        "last_stock_price = stock_data.iloc[-253:-252,:].reset_index().drop(\"Date\", axis=1)\n",
        "last_stock_price"
      ],
      "metadata": {
        "colab": {
          "base_uri": "https://localhost:8080/",
          "height": 145
        },
        "id": "CAzXS_Z4SQM_",
        "outputId": "6350fb47-0fb0-47ac-d68f-c10bf71c7748"
      },
      "execution_count": null,
      "outputs": [
        {
          "output_type": "execute_result",
          "data": {
            "text/plain": [
              "         ^GSPC   ^FTLC         ^RUT       IEUS       GOVT       IGOV   SIVR  \\\n",
              "0  3830.169922  3728.5  2159.699951  62.261761  26.677723  54.029949  25.92   \n",
              "\n",
              "        SGOL  \n",
              "0  17.620001  "
            ],
            "text/html": [
              "\n",
              "  <div id=\"df-9ba66d00-f51c-4b7e-b2d1-386835801aea\">\n",
              "    <div class=\"colab-df-container\">\n",
              "      <div>\n",
              "<style scoped>\n",
              "    .dataframe tbody tr th:only-of-type {\n",
              "        vertical-align: middle;\n",
              "    }\n",
              "\n",
              "    .dataframe tbody tr th {\n",
              "        vertical-align: top;\n",
              "    }\n",
              "\n",
              "    .dataframe thead th {\n",
              "        text-align: right;\n",
              "    }\n",
              "</style>\n",
              "<table border=\"1\" class=\"dataframe\">\n",
              "  <thead>\n",
              "    <tr style=\"text-align: right;\">\n",
              "      <th></th>\n",
              "      <th>^GSPC</th>\n",
              "      <th>^FTLC</th>\n",
              "      <th>^RUT</th>\n",
              "      <th>IEUS</th>\n",
              "      <th>GOVT</th>\n",
              "      <th>IGOV</th>\n",
              "      <th>SIVR</th>\n",
              "      <th>SGOL</th>\n",
              "    </tr>\n",
              "  </thead>\n",
              "  <tbody>\n",
              "    <tr>\n",
              "      <th>0</th>\n",
              "      <td>3830.169922</td>\n",
              "      <td>3728.5</td>\n",
              "      <td>2159.699951</td>\n",
              "      <td>62.261761</td>\n",
              "      <td>26.677723</td>\n",
              "      <td>54.029949</td>\n",
              "      <td>25.92</td>\n",
              "      <td>17.620001</td>\n",
              "    </tr>\n",
              "  </tbody>\n",
              "</table>\n",
              "</div>\n",
              "      <button class=\"colab-df-convert\" onclick=\"convertToInteractive('df-9ba66d00-f51c-4b7e-b2d1-386835801aea')\"\n",
              "              title=\"Convert this dataframe to an interactive table.\"\n",
              "              style=\"display:none;\">\n",
              "        \n",
              "  <svg xmlns=\"http://www.w3.org/2000/svg\" height=\"24px\"viewBox=\"0 0 24 24\"\n",
              "       width=\"24px\">\n",
              "    <path d=\"M0 0h24v24H0V0z\" fill=\"none\"/>\n",
              "    <path d=\"M18.56 5.44l.94 2.06.94-2.06 2.06-.94-2.06-.94-.94-2.06-.94 2.06-2.06.94zm-11 1L8.5 8.5l.94-2.06 2.06-.94-2.06-.94L8.5 2.5l-.94 2.06-2.06.94zm10 10l.94 2.06.94-2.06 2.06-.94-2.06-.94-.94-2.06-.94 2.06-2.06.94z\"/><path d=\"M17.41 7.96l-1.37-1.37c-.4-.4-.92-.59-1.43-.59-.52 0-1.04.2-1.43.59L10.3 9.45l-7.72 7.72c-.78.78-.78 2.05 0 2.83L4 21.41c.39.39.9.59 1.41.59.51 0 1.02-.2 1.41-.59l7.78-7.78 2.81-2.81c.8-.78.8-2.07 0-2.86zM5.41 20L4 18.59l7.72-7.72 1.47 1.35L5.41 20z\"/>\n",
              "  </svg>\n",
              "      </button>\n",
              "      \n",
              "  <style>\n",
              "    .colab-df-container {\n",
              "      display:flex;\n",
              "      flex-wrap:wrap;\n",
              "      gap: 12px;\n",
              "    }\n",
              "\n",
              "    .colab-df-convert {\n",
              "      background-color: #E8F0FE;\n",
              "      border: none;\n",
              "      border-radius: 50%;\n",
              "      cursor: pointer;\n",
              "      display: none;\n",
              "      fill: #1967D2;\n",
              "      height: 32px;\n",
              "      padding: 0 0 0 0;\n",
              "      width: 32px;\n",
              "    }\n",
              "\n",
              "    .colab-df-convert:hover {\n",
              "      background-color: #E2EBFA;\n",
              "      box-shadow: 0px 1px 2px rgba(60, 64, 67, 0.3), 0px 1px 3px 1px rgba(60, 64, 67, 0.15);\n",
              "      fill: #174EA6;\n",
              "    }\n",
              "\n",
              "    [theme=dark] .colab-df-convert {\n",
              "      background-color: #3B4455;\n",
              "      fill: #D2E3FC;\n",
              "    }\n",
              "\n",
              "    [theme=dark] .colab-df-convert:hover {\n",
              "      background-color: #434B5C;\n",
              "      box-shadow: 0px 1px 3px 1px rgba(0, 0, 0, 0.15);\n",
              "      filter: drop-shadow(0px 1px 2px rgba(0, 0, 0, 0.3));\n",
              "      fill: #FFFFFF;\n",
              "    }\n",
              "  </style>\n",
              "\n",
              "      <script>\n",
              "        const buttonEl =\n",
              "          document.querySelector('#df-9ba66d00-f51c-4b7e-b2d1-386835801aea button.colab-df-convert');\n",
              "        buttonEl.style.display =\n",
              "          google.colab.kernel.accessAllowed ? 'block' : 'none';\n",
              "\n",
              "        async function convertToInteractive(key) {\n",
              "          const element = document.querySelector('#df-9ba66d00-f51c-4b7e-b2d1-386835801aea');\n",
              "          const dataTable =\n",
              "            await google.colab.kernel.invokeFunction('convertToInteractive',\n",
              "                                                     [key], {});\n",
              "          if (!dataTable) return;\n",
              "\n",
              "          const docLinkHtml = 'Like what you see? Visit the ' +\n",
              "            '<a target=\"_blank\" href=https://colab.research.google.com/notebooks/data_table.ipynb>data table notebook</a>'\n",
              "            + ' to learn more about interactive tables.';\n",
              "          element.innerHTML = '';\n",
              "          dataTable['output_type'] = 'display_data';\n",
              "          await google.colab.output.renderOutput(dataTable, element);\n",
              "          const docLink = document.createElement('div');\n",
              "          docLink.innerHTML = docLinkHtml;\n",
              "          element.appendChild(docLink);\n",
              "        }\n",
              "      </script>\n",
              "    </div>\n",
              "  </div>\n",
              "  "
            ]
          },
          "metadata": {},
          "execution_count": 155
        }
      ]
    },
    {
      "cell_type": "code",
      "source": [
        "Cumulative_returns_daily = (plus_samples).cumprod().dropna()\n",
        "print(Cumulative_returns_daily.dropna())\n",
        "#print(plus_samples.cumprod())"
      ],
      "metadata": {
        "colab": {
          "base_uri": "https://localhost:8080/"
        },
        "id": "p5O7CpbxTyV7",
        "outputId": "388cbb70-2352-4b58-d8c8-d75acafbdd72"
      },
      "execution_count": null,
      "outputs": [
        {
          "output_type": "stream",
          "name": "stdout",
          "text": [
            "               ^GSPC     ^FTLC      ^RUT      IEUS      GOVT      IGOV  \\\n",
            "2021-02-04  0.989693  1.007558  1.013225  0.988337  1.000767  1.003214   \n",
            "2021-02-05  0.996816  1.016845  1.011607  0.984436  0.999335  1.006054   \n",
            "2021-02-08  0.999682  1.026045  1.018001  0.972767  0.998373  1.002286   \n",
            "2021-02-09  1.000667  1.030896  1.006600  0.968234  1.001835  1.005575   \n",
            "2021-02-10  1.001882  1.102856  1.007286  0.977670  1.006405  1.002937   \n",
            "...              ...       ...       ...       ...       ...       ...   \n",
            "2022-02-17  1.182365  1.029796  0.996858  1.388157  1.026781  0.923769   \n",
            "2022-02-18  1.184395  1.044543  0.981818  1.404111  1.034251  0.922593   \n",
            "2022-02-22  1.178687  1.051425  0.954383  1.405109  1.025654  0.915909   \n",
            "2022-02-23  1.177000  1.055262  0.959347  1.422679  1.029622  0.904060   \n",
            "2022-02-24  1.177924  1.057138  0.945808  1.424480  1.047693  0.907802   \n",
            "\n",
            "                SIVR      SGOL  \n",
            "2021-02-04  1.004775  0.993357  \n",
            "2021-02-05  0.997747  0.982270  \n",
            "2021-02-08  0.985396  0.982494  \n",
            "2021-02-09  0.981806  0.978216  \n",
            "2021-02-10  0.986259  0.981980  \n",
            "...              ...       ...  \n",
            "2022-02-17  0.885813  0.940021  \n",
            "2022-02-18  0.867254  0.930961  \n",
            "2022-02-22  0.854239  0.932021  \n",
            "2022-02-23  0.863476  0.934755  \n",
            "2022-02-24  0.888380  0.933544  \n",
            "\n",
            "[252 rows x 8 columns]\n"
          ]
        }
      ]
    },
    {
      "cell_type": "code",
      "source": [
        "last_stock_price"
      ],
      "metadata": {
        "colab": {
          "base_uri": "https://localhost:8080/",
          "height": 145
        },
        "id": "nZPFoQDCUhfU",
        "outputId": "5658dbc1-c21c-411a-ef84-f26bce7939ae"
      },
      "execution_count": null,
      "outputs": [
        {
          "output_type": "execute_result",
          "data": {
            "text/plain": [
              "         ^GSPC   ^FTLC         ^RUT       IEUS       GOVT       IGOV   SIVR  \\\n",
              "0  3830.169922  3728.5  2159.699951  62.261761  26.677723  54.029949  25.92   \n",
              "\n",
              "        SGOL  \n",
              "0  17.620001  "
            ],
            "text/html": [
              "\n",
              "  <div id=\"df-9e257f15-014f-4b55-ada4-167e8f33fad6\">\n",
              "    <div class=\"colab-df-container\">\n",
              "      <div>\n",
              "<style scoped>\n",
              "    .dataframe tbody tr th:only-of-type {\n",
              "        vertical-align: middle;\n",
              "    }\n",
              "\n",
              "    .dataframe tbody tr th {\n",
              "        vertical-align: top;\n",
              "    }\n",
              "\n",
              "    .dataframe thead th {\n",
              "        text-align: right;\n",
              "    }\n",
              "</style>\n",
              "<table border=\"1\" class=\"dataframe\">\n",
              "  <thead>\n",
              "    <tr style=\"text-align: right;\">\n",
              "      <th></th>\n",
              "      <th>^GSPC</th>\n",
              "      <th>^FTLC</th>\n",
              "      <th>^RUT</th>\n",
              "      <th>IEUS</th>\n",
              "      <th>GOVT</th>\n",
              "      <th>IGOV</th>\n",
              "      <th>SIVR</th>\n",
              "      <th>SGOL</th>\n",
              "    </tr>\n",
              "  </thead>\n",
              "  <tbody>\n",
              "    <tr>\n",
              "      <th>0</th>\n",
              "      <td>3830.169922</td>\n",
              "      <td>3728.5</td>\n",
              "      <td>2159.699951</td>\n",
              "      <td>62.261761</td>\n",
              "      <td>26.677723</td>\n",
              "      <td>54.029949</td>\n",
              "      <td>25.92</td>\n",
              "      <td>17.620001</td>\n",
              "    </tr>\n",
              "  </tbody>\n",
              "</table>\n",
              "</div>\n",
              "      <button class=\"colab-df-convert\" onclick=\"convertToInteractive('df-9e257f15-014f-4b55-ada4-167e8f33fad6')\"\n",
              "              title=\"Convert this dataframe to an interactive table.\"\n",
              "              style=\"display:none;\">\n",
              "        \n",
              "  <svg xmlns=\"http://www.w3.org/2000/svg\" height=\"24px\"viewBox=\"0 0 24 24\"\n",
              "       width=\"24px\">\n",
              "    <path d=\"M0 0h24v24H0V0z\" fill=\"none\"/>\n",
              "    <path d=\"M18.56 5.44l.94 2.06.94-2.06 2.06-.94-2.06-.94-.94-2.06-.94 2.06-2.06.94zm-11 1L8.5 8.5l.94-2.06 2.06-.94-2.06-.94L8.5 2.5l-.94 2.06-2.06.94zm10 10l.94 2.06.94-2.06 2.06-.94-2.06-.94-.94-2.06-.94 2.06-2.06.94z\"/><path d=\"M17.41 7.96l-1.37-1.37c-.4-.4-.92-.59-1.43-.59-.52 0-1.04.2-1.43.59L10.3 9.45l-7.72 7.72c-.78.78-.78 2.05 0 2.83L4 21.41c.39.39.9.59 1.41.59.51 0 1.02-.2 1.41-.59l7.78-7.78 2.81-2.81c.8-.78.8-2.07 0-2.86zM5.41 20L4 18.59l7.72-7.72 1.47 1.35L5.41 20z\"/>\n",
              "  </svg>\n",
              "      </button>\n",
              "      \n",
              "  <style>\n",
              "    .colab-df-container {\n",
              "      display:flex;\n",
              "      flex-wrap:wrap;\n",
              "      gap: 12px;\n",
              "    }\n",
              "\n",
              "    .colab-df-convert {\n",
              "      background-color: #E8F0FE;\n",
              "      border: none;\n",
              "      border-radius: 50%;\n",
              "      cursor: pointer;\n",
              "      display: none;\n",
              "      fill: #1967D2;\n",
              "      height: 32px;\n",
              "      padding: 0 0 0 0;\n",
              "      width: 32px;\n",
              "    }\n",
              "\n",
              "    .colab-df-convert:hover {\n",
              "      background-color: #E2EBFA;\n",
              "      box-shadow: 0px 1px 2px rgba(60, 64, 67, 0.3), 0px 1px 3px 1px rgba(60, 64, 67, 0.15);\n",
              "      fill: #174EA6;\n",
              "    }\n",
              "\n",
              "    [theme=dark] .colab-df-convert {\n",
              "      background-color: #3B4455;\n",
              "      fill: #D2E3FC;\n",
              "    }\n",
              "\n",
              "    [theme=dark] .colab-df-convert:hover {\n",
              "      background-color: #434B5C;\n",
              "      box-shadow: 0px 1px 3px 1px rgba(0, 0, 0, 0.15);\n",
              "      filter: drop-shadow(0px 1px 2px rgba(0, 0, 0, 0.3));\n",
              "      fill: #FFFFFF;\n",
              "    }\n",
              "  </style>\n",
              "\n",
              "      <script>\n",
              "        const buttonEl =\n",
              "          document.querySelector('#df-9e257f15-014f-4b55-ada4-167e8f33fad6 button.colab-df-convert');\n",
              "        buttonEl.style.display =\n",
              "          google.colab.kernel.accessAllowed ? 'block' : 'none';\n",
              "\n",
              "        async function convertToInteractive(key) {\n",
              "          const element = document.querySelector('#df-9e257f15-014f-4b55-ada4-167e8f33fad6');\n",
              "          const dataTable =\n",
              "            await google.colab.kernel.invokeFunction('convertToInteractive',\n",
              "                                                     [key], {});\n",
              "          if (!dataTable) return;\n",
              "\n",
              "          const docLinkHtml = 'Like what you see? Visit the ' +\n",
              "            '<a target=\"_blank\" href=https://colab.research.google.com/notebooks/data_table.ipynb>data table notebook</a>'\n",
              "            + ' to learn more about interactive tables.';\n",
              "          element.innerHTML = '';\n",
              "          dataTable['output_type'] = 'display_data';\n",
              "          await google.colab.output.renderOutput(dataTable, element);\n",
              "          const docLink = document.createElement('div');\n",
              "          docLink.innerHTML = docLinkHtml;\n",
              "          element.appendChild(docLink);\n",
              "        }\n",
              "      </script>\n",
              "    </div>\n",
              "  </div>\n",
              "  "
            ]
          },
          "metadata": {},
          "execution_count": 157
        }
      ]
    },
    {
      "cell_type": "code",
      "source": [
        "stock_prices = Cumulative_returns_daily * last_stock_price.iloc[0,:]\n",
        "stock_prices"
      ],
      "metadata": {
        "colab": {
          "base_uri": "https://localhost:8080/",
          "height": 488
        },
        "id": "w6yI2a2pURT8",
        "outputId": "ff6756b0-afb3-48a1-bc22-9b77cd8df933"
      },
      "execution_count": null,
      "outputs": [
        {
          "output_type": "execute_result",
          "data": {
            "text/plain": [
              "                  ^GSPC        ^FTLC         ^RUT       IEUS       GOVT  \\\n",
              "2021-02-04  3790.694239  3756.678437  2188.261628  61.535610  26.698188   \n",
              "2021-02-05  3817.974001  3791.306064  2184.767742  61.292744  26.659971   \n",
              "2021-02-08  3828.953029  3825.608316  2198.577272  60.566185  26.634307   \n",
              "2021-02-09  3832.723807  3843.696412  2173.954691  60.283981  26.726673   \n",
              "2021-02-10  3837.377580  4111.997516  2175.435051  60.871454  26.848596   \n",
              "...                 ...          ...          ...        ...        ...   \n",
              "2022-02-17  4528.657177  3839.594451  2152.915089  86.429069  27.392191   \n",
              "2022-02-18  4536.433338  3894.579985  2120.432616  87.422395  27.591451   \n",
              "2022-02-22  4514.572591  3920.239647  2061.181538  87.484551  27.362102   \n",
              "2022-02-23  4508.109098  3934.544249  2071.900790  88.578521  27.467962   \n",
              "2022-02-24  4511.649386  3941.537230  2042.660535  88.690647  27.950071   \n",
              "\n",
              "                 IGOV       SIVR       SGOL  \n",
              "2021-02-04  54.203625  26.043756  17.502960  \n",
              "2021-02-05  54.357052  25.861614  17.307597  \n",
              "2021-02-08  54.153486  25.541471  17.311550  \n",
              "2021-02-09  54.331180  25.448421  17.236175  \n",
              "2021-02-10  54.188611  25.563830  17.302485  \n",
              "...               ...        ...        ...  \n",
              "2022-02-17  49.911218  22.960268  16.563178  \n",
              "2022-02-18  49.847639  22.479216  16.403535  \n",
              "2022-02-22  49.486496  22.141870  16.422210  \n",
              "2022-02-23  48.846292  22.381287  16.470390  \n",
              "2022-02-24  49.048483  23.026814  16.449046  \n",
              "\n",
              "[252 rows x 8 columns]"
            ],
            "text/html": [
              "\n",
              "  <div id=\"df-80a27ec0-5dcc-425c-944e-8998bf496179\">\n",
              "    <div class=\"colab-df-container\">\n",
              "      <div>\n",
              "<style scoped>\n",
              "    .dataframe tbody tr th:only-of-type {\n",
              "        vertical-align: middle;\n",
              "    }\n",
              "\n",
              "    .dataframe tbody tr th {\n",
              "        vertical-align: top;\n",
              "    }\n",
              "\n",
              "    .dataframe thead th {\n",
              "        text-align: right;\n",
              "    }\n",
              "</style>\n",
              "<table border=\"1\" class=\"dataframe\">\n",
              "  <thead>\n",
              "    <tr style=\"text-align: right;\">\n",
              "      <th></th>\n",
              "      <th>^GSPC</th>\n",
              "      <th>^FTLC</th>\n",
              "      <th>^RUT</th>\n",
              "      <th>IEUS</th>\n",
              "      <th>GOVT</th>\n",
              "      <th>IGOV</th>\n",
              "      <th>SIVR</th>\n",
              "      <th>SGOL</th>\n",
              "    </tr>\n",
              "  </thead>\n",
              "  <tbody>\n",
              "    <tr>\n",
              "      <th>2021-02-04</th>\n",
              "      <td>3790.694239</td>\n",
              "      <td>3756.678437</td>\n",
              "      <td>2188.261628</td>\n",
              "      <td>61.535610</td>\n",
              "      <td>26.698188</td>\n",
              "      <td>54.203625</td>\n",
              "      <td>26.043756</td>\n",
              "      <td>17.502960</td>\n",
              "    </tr>\n",
              "    <tr>\n",
              "      <th>2021-02-05</th>\n",
              "      <td>3817.974001</td>\n",
              "      <td>3791.306064</td>\n",
              "      <td>2184.767742</td>\n",
              "      <td>61.292744</td>\n",
              "      <td>26.659971</td>\n",
              "      <td>54.357052</td>\n",
              "      <td>25.861614</td>\n",
              "      <td>17.307597</td>\n",
              "    </tr>\n",
              "    <tr>\n",
              "      <th>2021-02-08</th>\n",
              "      <td>3828.953029</td>\n",
              "      <td>3825.608316</td>\n",
              "      <td>2198.577272</td>\n",
              "      <td>60.566185</td>\n",
              "      <td>26.634307</td>\n",
              "      <td>54.153486</td>\n",
              "      <td>25.541471</td>\n",
              "      <td>17.311550</td>\n",
              "    </tr>\n",
              "    <tr>\n",
              "      <th>2021-02-09</th>\n",
              "      <td>3832.723807</td>\n",
              "      <td>3843.696412</td>\n",
              "      <td>2173.954691</td>\n",
              "      <td>60.283981</td>\n",
              "      <td>26.726673</td>\n",
              "      <td>54.331180</td>\n",
              "      <td>25.448421</td>\n",
              "      <td>17.236175</td>\n",
              "    </tr>\n",
              "    <tr>\n",
              "      <th>2021-02-10</th>\n",
              "      <td>3837.377580</td>\n",
              "      <td>4111.997516</td>\n",
              "      <td>2175.435051</td>\n",
              "      <td>60.871454</td>\n",
              "      <td>26.848596</td>\n",
              "      <td>54.188611</td>\n",
              "      <td>25.563830</td>\n",
              "      <td>17.302485</td>\n",
              "    </tr>\n",
              "    <tr>\n",
              "      <th>...</th>\n",
              "      <td>...</td>\n",
              "      <td>...</td>\n",
              "      <td>...</td>\n",
              "      <td>...</td>\n",
              "      <td>...</td>\n",
              "      <td>...</td>\n",
              "      <td>...</td>\n",
              "      <td>...</td>\n",
              "    </tr>\n",
              "    <tr>\n",
              "      <th>2022-02-17</th>\n",
              "      <td>4528.657177</td>\n",
              "      <td>3839.594451</td>\n",
              "      <td>2152.915089</td>\n",
              "      <td>86.429069</td>\n",
              "      <td>27.392191</td>\n",
              "      <td>49.911218</td>\n",
              "      <td>22.960268</td>\n",
              "      <td>16.563178</td>\n",
              "    </tr>\n",
              "    <tr>\n",
              "      <th>2022-02-18</th>\n",
              "      <td>4536.433338</td>\n",
              "      <td>3894.579985</td>\n",
              "      <td>2120.432616</td>\n",
              "      <td>87.422395</td>\n",
              "      <td>27.591451</td>\n",
              "      <td>49.847639</td>\n",
              "      <td>22.479216</td>\n",
              "      <td>16.403535</td>\n",
              "    </tr>\n",
              "    <tr>\n",
              "      <th>2022-02-22</th>\n",
              "      <td>4514.572591</td>\n",
              "      <td>3920.239647</td>\n",
              "      <td>2061.181538</td>\n",
              "      <td>87.484551</td>\n",
              "      <td>27.362102</td>\n",
              "      <td>49.486496</td>\n",
              "      <td>22.141870</td>\n",
              "      <td>16.422210</td>\n",
              "    </tr>\n",
              "    <tr>\n",
              "      <th>2022-02-23</th>\n",
              "      <td>4508.109098</td>\n",
              "      <td>3934.544249</td>\n",
              "      <td>2071.900790</td>\n",
              "      <td>88.578521</td>\n",
              "      <td>27.467962</td>\n",
              "      <td>48.846292</td>\n",
              "      <td>22.381287</td>\n",
              "      <td>16.470390</td>\n",
              "    </tr>\n",
              "    <tr>\n",
              "      <th>2022-02-24</th>\n",
              "      <td>4511.649386</td>\n",
              "      <td>3941.537230</td>\n",
              "      <td>2042.660535</td>\n",
              "      <td>88.690647</td>\n",
              "      <td>27.950071</td>\n",
              "      <td>49.048483</td>\n",
              "      <td>23.026814</td>\n",
              "      <td>16.449046</td>\n",
              "    </tr>\n",
              "  </tbody>\n",
              "</table>\n",
              "<p>252 rows × 8 columns</p>\n",
              "</div>\n",
              "      <button class=\"colab-df-convert\" onclick=\"convertToInteractive('df-80a27ec0-5dcc-425c-944e-8998bf496179')\"\n",
              "              title=\"Convert this dataframe to an interactive table.\"\n",
              "              style=\"display:none;\">\n",
              "        \n",
              "  <svg xmlns=\"http://www.w3.org/2000/svg\" height=\"24px\"viewBox=\"0 0 24 24\"\n",
              "       width=\"24px\">\n",
              "    <path d=\"M0 0h24v24H0V0z\" fill=\"none\"/>\n",
              "    <path d=\"M18.56 5.44l.94 2.06.94-2.06 2.06-.94-2.06-.94-.94-2.06-.94 2.06-2.06.94zm-11 1L8.5 8.5l.94-2.06 2.06-.94-2.06-.94L8.5 2.5l-.94 2.06-2.06.94zm10 10l.94 2.06.94-2.06 2.06-.94-2.06-.94-.94-2.06-.94 2.06-2.06.94z\"/><path d=\"M17.41 7.96l-1.37-1.37c-.4-.4-.92-.59-1.43-.59-.52 0-1.04.2-1.43.59L10.3 9.45l-7.72 7.72c-.78.78-.78 2.05 0 2.83L4 21.41c.39.39.9.59 1.41.59.51 0 1.02-.2 1.41-.59l7.78-7.78 2.81-2.81c.8-.78.8-2.07 0-2.86zM5.41 20L4 18.59l7.72-7.72 1.47 1.35L5.41 20z\"/>\n",
              "  </svg>\n",
              "      </button>\n",
              "      \n",
              "  <style>\n",
              "    .colab-df-container {\n",
              "      display:flex;\n",
              "      flex-wrap:wrap;\n",
              "      gap: 12px;\n",
              "    }\n",
              "\n",
              "    .colab-df-convert {\n",
              "      background-color: #E8F0FE;\n",
              "      border: none;\n",
              "      border-radius: 50%;\n",
              "      cursor: pointer;\n",
              "      display: none;\n",
              "      fill: #1967D2;\n",
              "      height: 32px;\n",
              "      padding: 0 0 0 0;\n",
              "      width: 32px;\n",
              "    }\n",
              "\n",
              "    .colab-df-convert:hover {\n",
              "      background-color: #E2EBFA;\n",
              "      box-shadow: 0px 1px 2px rgba(60, 64, 67, 0.3), 0px 1px 3px 1px rgba(60, 64, 67, 0.15);\n",
              "      fill: #174EA6;\n",
              "    }\n",
              "\n",
              "    [theme=dark] .colab-df-convert {\n",
              "      background-color: #3B4455;\n",
              "      fill: #D2E3FC;\n",
              "    }\n",
              "\n",
              "    [theme=dark] .colab-df-convert:hover {\n",
              "      background-color: #434B5C;\n",
              "      box-shadow: 0px 1px 3px 1px rgba(0, 0, 0, 0.15);\n",
              "      filter: drop-shadow(0px 1px 2px rgba(0, 0, 0, 0.3));\n",
              "      fill: #FFFFFF;\n",
              "    }\n",
              "  </style>\n",
              "\n",
              "      <script>\n",
              "        const buttonEl =\n",
              "          document.querySelector('#df-80a27ec0-5dcc-425c-944e-8998bf496179 button.colab-df-convert');\n",
              "        buttonEl.style.display =\n",
              "          google.colab.kernel.accessAllowed ? 'block' : 'none';\n",
              "\n",
              "        async function convertToInteractive(key) {\n",
              "          const element = document.querySelector('#df-80a27ec0-5dcc-425c-944e-8998bf496179');\n",
              "          const dataTable =\n",
              "            await google.colab.kernel.invokeFunction('convertToInteractive',\n",
              "                                                     [key], {});\n",
              "          if (!dataTable) return;\n",
              "\n",
              "          const docLinkHtml = 'Like what you see? Visit the ' +\n",
              "            '<a target=\"_blank\" href=https://colab.research.google.com/notebooks/data_table.ipynb>data table notebook</a>'\n",
              "            + ' to learn more about interactive tables.';\n",
              "          element.innerHTML = '';\n",
              "          dataTable['output_type'] = 'display_data';\n",
              "          await google.colab.output.renderOutput(dataTable, element);\n",
              "          const docLink = document.createElement('div');\n",
              "          docLink.innerHTML = docLinkHtml;\n",
              "          element.appendChild(docLink);\n",
              "        }\n",
              "      </script>\n",
              "    </div>\n",
              "  </div>\n",
              "  "
            ]
          },
          "metadata": {},
          "execution_count": 158
        }
      ]
    },
    {
      "cell_type": "code",
      "source": [
        "stock_prices[\"^GSPC\"].plot()\n",
        "stock_data.iloc[-253:,0:1].plot()"
      ],
      "metadata": {
        "colab": {
          "base_uri": "https://localhost:8080/",
          "height": 91
        },
        "id": "tEKAEHR0Urgw",
        "outputId": "65188267-55b1-46d2-f7b4-461f44c4cef0"
      },
      "execution_count": null,
      "outputs": [
        {
          "output_type": "execute_result",
          "data": {
            "text/plain": [
              "<matplotlib.axes._subplots.AxesSubplot at 0x7ff0cc6029d0>"
            ]
          },
          "metadata": {},
          "execution_count": 159
        },
        {
          "output_type": "display_data",
          "data": {
            "text/plain": [
              "<Figure size 432x288 with 1 Axes>"
            ],
            "image/png": "[encoded data removed]"
          },
          "metadata": {
            "needs_background": "light"
          }
        },
        {
          "output_type": "display_data",
          "data": {
            "text/plain": [
              "<Figure size 432x288 with 1 Axes>"
            ],
            "image/png": "[encoded data removed]"
          },
          "metadata": {
            "needs_background": "light"
          }
        }
      ]
    },
    {
      "cell_type": "markdown",
      "source": [
        "## Calculating stock price individually for plotting purposes"
      ],
      "metadata": {
        "id": "GNvkxsrubKjW"
      }
    },
    {
      "cell_type": "code",
      "source": [
        "open_price = test_data.iloc[-1,0]\n",
        "#print(last_close_value)\n",
        "print(samples[1,:])\n",
        "print(open_price * (1 + all_samples.iloc[0,0])) # =closing value\n",
        "closing_samples = []\n",
        "closing_samples = np.array(closing_samples)\n",
        "i = 0\n",
        "for sample in all_samples.iloc[:,0]:\n",
        "  if i == 0:\n",
        "    closing_samples = np.append(closing_samples, (open_price * (1 + sample)))\n",
        "  else:\n",
        "    closing_samples = np.append(closing_samples, (closing_samples[i-1] * (1 + sample)))\n",
        "  i += 1\n",
        "days = np.array(test_data.reset_index()['Date'], dtype=\"datetime64[ms]\")\n",
        "print(r2_score(test_data[\"Close\"],closing_samples))\n",
        "fig = plt.figure()\n",
        "axes = fig.add_subplot(111)\n",
        "axes.plot(days, closing_samples, c=\"black\", label=\"predicted\")\n",
        "axes.plot(days, test_data[\"Close\"], c=\"blue\", label=\"actual\")\n",
        "fig.autofmt_xdate()\n",
        "plt.legend()\n",
        "plt.show()"
      ],
      "metadata": {
        "colab": {
          "base_uri": "https://localhost:8080/",
          "height": 112
        },
        "id": "CuUQq-lT54hQ",
        "outputId": "ab546cef-b990-4d9f-b815-cc7fe0329e9c"
      },
      "execution_count": null,
      "outputs": [
        {
          "output_type": "stream",
          "name": "stdout",
          "text": [
            "[-0.01116167]\n",
            "4112.9385359720545\n",
            "-0.31220730661010476\n"
          ]
        },
        {
          "output_type": "display_data",
          "data": {
            "text/plain": [
              "<Figure size 432x288 with 1 Axes>"
            ],
            "image/png": "[encoded data removed]"
          },
          "metadata": {
            "needs_background": "light"
          }
        }
      ]
    },
    {
      "cell_type": "code",
      "source": [
        ""
      ],
      "metadata": {
        "id": "2SSqICAG5rZd"
      },
      "execution_count": null,
      "outputs": []
    },
    {
      "cell_type": "markdown",
      "source": [
        "# Creating the Mean-Variance Portfolio Using the HMM Prediction"
      ],
      "metadata": {
        "id": "CvC23QlFi0Ua"
      }
    },
    {
      "cell_type": "code",
      "source": [
        "pip install PyPortfolioOpt"
      ],
      "metadata": {
        "id": "RE4HbEP9egEj",
        "colab": {
          "base_uri": "https://localhost:8080/"
        },
        "outputId": "28796b17-d74f-4b72-ba8c-3427ff9758a2"
      },
      "execution_count": null,
      "outputs": [
        {
          "output_type": "stream",
          "name": "stdout",
          "text": [
            "Requirement already satisfied: PyPortfolioOpt in /usr/local/lib/python3.7/dist-packages (1.5.2)\n",
            "Requirement already satisfied: pandas>=0.19 in /usr/local/lib/python3.7/dist-packages (from PyPortfolioOpt) (1.3.5)\n",
            "Requirement already satisfied: numpy<2.0,>=1.12 in /usr/local/lib/python3.7/dist-packages (from PyPortfolioOpt) (1.21.6)\n",
            "Requirement already satisfied: scipy<2.0,>=1.3 in /usr/local/lib/python3.7/dist-packages (from PyPortfolioOpt) (1.4.1)\n",
            "Requirement already satisfied: cvxpy<2.0.0,>=1.1.10 in /usr/local/lib/python3.7/dist-packages (from PyPortfolioOpt) (1.2.0)\n",
            "Requirement already satisfied: ecos>=2 in /usr/local/lib/python3.7/dist-packages (from cvxpy<2.0.0,>=1.1.10->PyPortfolioOpt) (2.0.10)\n",
            "Requirement already satisfied: osqp>=0.4.1 in /usr/local/lib/python3.7/dist-packages (from cvxpy<2.0.0,>=1.1.10->PyPortfolioOpt) (0.6.2.post0)\n",
            "Requirement already satisfied: scs>=1.1.6 in /usr/local/lib/python3.7/dist-packages (from cvxpy<2.0.0,>=1.1.10->PyPortfolioOpt) (3.2.0)\n",
            "Requirement already satisfied: qdldl in /usr/local/lib/python3.7/dist-packages (from osqp>=0.4.1->cvxpy<2.0.0,>=1.1.10->PyPortfolioOpt) (0.1.5.post2)\n",
            "Requirement already satisfied: python-dateutil>=2.7.3 in /usr/local/lib/python3.7/dist-packages (from pandas>=0.19->PyPortfolioOpt) (2.8.2)\n",
            "Requirement already satisfied: pytz>=2017.3 in /usr/local/lib/python3.7/dist-packages (from pandas>=0.19->PyPortfolioOpt) (2022.1)\n",
            "Requirement already satisfied: six>=1.5 in /usr/local/lib/python3.7/dist-packages (from python-dateutil>=2.7.3->pandas>=0.19->PyPortfolioOpt) (1.15.0)\n"
          ]
        }
      ]
    },
    {
      "cell_type": "code",
      "source": [
        "from pypfopt.expected_returns import mean_historical_return\n",
        "from pypfopt.risk_models import CovarianceShrinkage\n",
        "\n",
        "\n",
        "mu = mean_historical_return(stock_prices)\n",
        "S = CovarianceShrinkage(stock_prices).ledoit_wolf()\n",
        "\n",
        "from pypfopt.efficient_frontier import EfficientFrontier \n",
        "\n",
        "ef = EfficientFrontier(mu, S)\n",
        "weights = ef.max_sharpe() # This gets rid of most of the assets\n",
        "\n",
        "cleaned_weights = ef.clean_weights()\n",
        "print(dict(cleaned_weights))\n",
        "ef.portfolio_performance(verbose=True)"
      ],
      "metadata": {
        "colab": {
          "base_uri": "https://localhost:8080/"
        },
        "id": "bfGgshnVesfn",
        "outputId": "ee257f51-8755-4674-e007-0ad7bac3749c"
      },
      "execution_count": null,
      "outputs": [
        {
          "output_type": "stream",
          "name": "stdout",
          "text": [
            "{'^GSPC': 0.37874, '^FTLC': 0.04216, '^RUT': 0.0, 'IEUS': 0.5363, 'GOVT': 0.0428, 'IGOV': 0.0, 'SIVR': 0.0, 'SGOL': 0.0}\n",
            "Expected annual return: 31.4%\n",
            "Annual volatility: 11.2%\n",
            "Sharpe Ratio: 2.62\n"
          ]
        },
        {
          "output_type": "execute_result",
          "data": {
            "text/plain": [
              "(0.3142327785500421, 0.11227031704998751, 2.620753074198919)"
            ]
          },
          "metadata": {},
          "execution_count": 162
        }
      ]
    },
    {
      "cell_type": "markdown",
      "source": [
        "## Format the Weights for Further Use"
      ],
      "metadata": {
        "id": "h5_XRd7GnEH7"
      }
    },
    {
      "cell_type": "code",
      "source": [
        "print(dict(cleaned_weights))"
      ],
      "metadata": {
        "id": "q34TSoA5nRBF",
        "colab": {
          "base_uri": "https://localhost:8080/"
        },
        "outputId": "c5769983-fd27-42f4-d6c5-f4f354acb322"
      },
      "execution_count": null,
      "outputs": [
        {
          "output_type": "stream",
          "name": "stdout",
          "text": [
            "{'^GSPC': 0.37874, '^FTLC': 0.04216, '^RUT': 0.0, 'IEUS': 0.5363, 'GOVT': 0.0428, 'IGOV': 0.0, 'SIVR': 0.0, 'SGOL': 0.0}\n"
          ]
        }
      ]
    },
    {
      "cell_type": "code",
      "source": [
        "tmp_list = []\n",
        "for value, key in dict(cleaned_weights).items():\n",
        "  tmp_list.append(key)\n",
        "\n",
        "portfolio_weights = pd.Series(tmp_list, index=all_stocks)\n",
        "portfolio_weights"
      ],
      "metadata": {
        "colab": {
          "base_uri": "https://localhost:8080/"
        },
        "id": "n0pdvoj1chqA",
        "outputId": "1f20a222-40a0-4b95-9b3c-30e5725acf31"
      },
      "execution_count": null,
      "outputs": [
        {
          "output_type": "execute_result",
          "data": {
            "text/plain": [
              "^GSPC    0.37874\n",
              "^FTLC    0.04216\n",
              "^RUT     0.00000\n",
              "IEUS     0.53630\n",
              "GOVT     0.04280\n",
              "IGOV     0.00000\n",
              "SIVR     0.00000\n",
              "SGOL     0.00000\n",
              "dtype: float64"
            ]
          },
          "metadata": {},
          "execution_count": 164
        }
      ]
    },
    {
      "cell_type": "markdown",
      "source": [
        "# Test Year"
      ],
      "metadata": {
        "id": "2zH-DRT4nRcA"
      }
    },
    {
      "cell_type": "code",
      "source": [
        "initial_investment = 10000 # 10'000 dollar invesment. Can Change to 100'000 later \n",
        "trading_year = 252 # Number of trading days in a year\n",
        "stock_returns = stock_data.pct_change() "
      ],
      "metadata": {
        "id": "mvk66HGWnYQL"
      },
      "execution_count": null,
      "outputs": []
    },
    {
      "cell_type": "code",
      "source": [
        "weighted_portfolio = portfolio_weights * initial_investment # Calculate the dollars invested in each asset in the portfolio\n",
        "num_of_shares = weighted_portfolio / stock_data.iloc[(-trading_year),:] # Calculate the number of shares owned of each asset in the portfolio\n",
        "portfolio_test_values = num_of_shares * stock_data.iloc[(-trading_year):,:] # share * share price = position value and it is done for each day in the trading year for all assets\n",
        "portfolio_test_values['Total'] = portfolio_test_values.sum(axis=1)\n",
        "portfolio_test_values "
      ],
      "metadata": {
        "colab": {
          "base_uri": "https://localhost:8080/",
          "height": 455
        },
        "id": "GGzI4KFTdW01",
        "outputId": "9963cca4-af49-4a48-9f51-449bfd3fb3c3"
      },
      "execution_count": null,
      "outputs": [
        {
          "output_type": "execute_result",
          "data": {
            "text/plain": [
              "                  ^GSPC       ^FTLC  ^RUT         IEUS        GOVT  IGOV  \\\n",
              "Date                                                                       \n",
              "2021-02-04  3787.400000  421.600000   0.0  5363.000000  428.000000   0.0   \n",
              "2021-02-05  3802.161373  421.780931   0.0  5419.099807  427.365248   0.0   \n",
              "2021-02-08  3830.294890  423.669277   0.0  5448.405764  427.523997   0.0   \n",
              "2021-02-09  3826.029761  424.189406   0.0  5473.525530  427.841312   0.0   \n",
              "2021-02-10  3824.709073  423.375271   0.0  5448.405764  428.634814   0.0   \n",
              "...                 ...         ...   ...          ...         ...   ...   \n",
              "2022-02-17  4284.842442  479.460481   0.0  5465.436753  409.593617   0.0   \n",
              "2022-02-18  4254.136570  477.492932   0.0  5400.975713  410.555147   0.0   \n",
              "2022-02-22  4210.987096  475.118358   0.0  5290.962309  410.715366   0.0   \n",
              "2022-02-23  4133.453884  474.779133   0.0  5233.376942  408.792398   0.0   \n",
              "2022-02-24  4195.277359  457.150757   0.0  5156.883227  408.952648   0.0   \n",
              "\n",
              "            SIVR  SGOL         Total  \n",
              "Date                                  \n",
              "2021-02-04   0.0   0.0  10000.000000  \n",
              "2021-02-05   0.0   0.0  10070.407358  \n",
              "2021-02-08   0.0   0.0  10129.893928  \n",
              "2021-02-09   0.0   0.0  10151.586008  \n",
              "2021-02-10   0.0   0.0  10125.124922  \n",
              "...          ...   ...           ...  \n",
              "2022-02-17   0.0   0.0  10639.333293  \n",
              "2022-02-18   0.0   0.0  10543.160362  \n",
              "2022-02-22   0.0   0.0  10387.783128  \n",
              "2022-02-23   0.0   0.0  10250.402357  \n",
              "2022-02-24   0.0   0.0  10218.263991  \n",
              "\n",
              "[252 rows x 9 columns]"
            ],
            "text/html": [
              "\n",
              "  <div id=\"df-8e7c2864-1e88-483f-95c2-1be8adea8c88\">\n",
              "    <div class=\"colab-df-container\">\n",
              "      <div>\n",
              "<style scoped>\n",
              "    .dataframe tbody tr th:only-of-type {\n",
              "        vertical-align: middle;\n",
              "    }\n",
              "\n",
              "    .dataframe tbody tr th {\n",
              "        vertical-align: top;\n",
              "    }\n",
              "\n",
              "    .dataframe thead th {\n",
              "        text-align: right;\n",
              "    }\n",
              "</style>\n",
              "<table border=\"1\" class=\"dataframe\">\n",
              "  <thead>\n",
              "    <tr style=\"text-align: right;\">\n",
              "      <th></th>\n",
              "      <th>^GSPC</th>\n",
              "      <th>^FTLC</th>\n",
              "      <th>^RUT</th>\n",
              "      <th>IEUS</th>\n",
              "      <th>GOVT</th>\n",
              "      <th>IGOV</th>\n",
              "      <th>SIVR</th>\n",
              "      <th>SGOL</th>\n",
              "      <th>Total</th>\n",
              "    </tr>\n",
              "    <tr>\n",
              "      <th>Date</th>\n",
              "      <th></th>\n",
              "      <th></th>\n",
              "      <th></th>\n",
              "      <th></th>\n",
              "      <th></th>\n",
              "      <th></th>\n",
              "      <th></th>\n",
              "      <th></th>\n",
              "      <th></th>\n",
              "    </tr>\n",
              "  </thead>\n",
              "  <tbody>\n",
              "    <tr>\n",
              "      <th>2021-02-04</th>\n",
              "      <td>3787.400000</td>\n",
              "      <td>421.600000</td>\n",
              "      <td>0.0</td>\n",
              "      <td>5363.000000</td>\n",
              "      <td>428.000000</td>\n",
              "      <td>0.0</td>\n",
              "      <td>0.0</td>\n",
              "      <td>0.0</td>\n",
              "      <td>10000.000000</td>\n",
              "    </tr>\n",
              "    <tr>\n",
              "      <th>2021-02-05</th>\n",
              "      <td>3802.161373</td>\n",
              "      <td>421.780931</td>\n",
              "      <td>0.0</td>\n",
              "      <td>5419.099807</td>\n",
              "      <td>427.365248</td>\n",
              "      <td>0.0</td>\n",
              "      <td>0.0</td>\n",
              "      <td>0.0</td>\n",
              "      <td>10070.407358</td>\n",
              "    </tr>\n",
              "    <tr>\n",
              "      <th>2021-02-08</th>\n",
              "      <td>3830.294890</td>\n",
              "      <td>423.669277</td>\n",
              "      <td>0.0</td>\n",
              "      <td>5448.405764</td>\n",
              "      <td>427.523997</td>\n",
              "      <td>0.0</td>\n",
              "      <td>0.0</td>\n",
              "      <td>0.0</td>\n",
              "      <td>10129.893928</td>\n",
              "    </tr>\n",
              "    <tr>\n",
              "      <th>2021-02-09</th>\n",
              "      <td>3826.029761</td>\n",
              "      <td>424.189406</td>\n",
              "      <td>0.0</td>\n",
              "      <td>5473.525530</td>\n",
              "      <td>427.841312</td>\n",
              "      <td>0.0</td>\n",
              "      <td>0.0</td>\n",
              "      <td>0.0</td>\n",
              "      <td>10151.586008</td>\n",
              "    </tr>\n",
              "    <tr>\n",
              "      <th>2021-02-10</th>\n",
              "      <td>3824.709073</td>\n",
              "      <td>423.375271</td>\n",
              "      <td>0.0</td>\n",
              "      <td>5448.405764</td>\n",
              "      <td>428.634814</td>\n",
              "      <td>0.0</td>\n",
              "      <td>0.0</td>\n",
              "      <td>0.0</td>\n",
              "      <td>10125.124922</td>\n",
              "    </tr>\n",
              "    <tr>\n",
              "      <th>...</th>\n",
              "      <td>...</td>\n",
              "      <td>...</td>\n",
              "      <td>...</td>\n",
              "      <td>...</td>\n",
              "      <td>...</td>\n",
              "      <td>...</td>\n",
              "      <td>...</td>\n",
              "      <td>...</td>\n",
              "      <td>...</td>\n",
              "    </tr>\n",
              "    <tr>\n",
              "      <th>2022-02-17</th>\n",
              "      <td>4284.842442</td>\n",
              "      <td>479.460481</td>\n",
              "      <td>0.0</td>\n",
              "      <td>5465.436753</td>\n",
              "      <td>409.593617</td>\n",
              "      <td>0.0</td>\n",
              "      <td>0.0</td>\n",
              "      <td>0.0</td>\n",
              "      <td>10639.333293</td>\n",
              "    </tr>\n",
              "    <tr>\n",
              "      <th>2022-02-18</th>\n",
              "      <td>4254.136570</td>\n",
              "      <td>477.492932</td>\n",
              "      <td>0.0</td>\n",
              "      <td>5400.975713</td>\n",
              "      <td>410.555147</td>\n",
              "      <td>0.0</td>\n",
              "      <td>0.0</td>\n",
              "      <td>0.0</td>\n",
              "      <td>10543.160362</td>\n",
              "    </tr>\n",
              "    <tr>\n",
              "      <th>2022-02-22</th>\n",
              "      <td>4210.987096</td>\n",
              "      <td>475.118358</td>\n",
              "      <td>0.0</td>\n",
              "      <td>5290.962309</td>\n",
              "      <td>410.715366</td>\n",
              "      <td>0.0</td>\n",
              "      <td>0.0</td>\n",
              "      <td>0.0</td>\n",
              "      <td>10387.783128</td>\n",
              "    </tr>\n",
              "    <tr>\n",
              "      <th>2022-02-23</th>\n",
              "      <td>4133.453884</td>\n",
              "      <td>474.779133</td>\n",
              "      <td>0.0</td>\n",
              "      <td>5233.376942</td>\n",
              "      <td>408.792398</td>\n",
              "      <td>0.0</td>\n",
              "      <td>0.0</td>\n",
              "      <td>0.0</td>\n",
              "      <td>10250.402357</td>\n",
              "    </tr>\n",
              "    <tr>\n",
              "      <th>2022-02-24</th>\n",
              "      <td>4195.277359</td>\n",
              "      <td>457.150757</td>\n",
              "      <td>0.0</td>\n",
              "      <td>5156.883227</td>\n",
              "      <td>408.952648</td>\n",
              "      <td>0.0</td>\n",
              "      <td>0.0</td>\n",
              "      <td>0.0</td>\n",
              "      <td>10218.263991</td>\n",
              "    </tr>\n",
              "  </tbody>\n",
              "</table>\n",
              "<p>252 rows × 9 columns</p>\n",
              "</div>\n",
              "      <button class=\"colab-df-convert\" onclick=\"convertToInteractive('df-8e7c2864-1e88-483f-95c2-1be8adea8c88')\"\n",
              "              title=\"Convert this dataframe to an interactive table.\"\n",
              "              style=\"display:none;\">\n",
              "        \n",
              "  <svg xmlns=\"http://www.w3.org/2000/svg\" height=\"24px\"viewBox=\"0 0 24 24\"\n",
              "       width=\"24px\">\n",
              "    <path d=\"M0 0h24v24H0V0z\" fill=\"none\"/>\n",
              "    <path d=\"M18.56 5.44l.94 2.06.94-2.06 2.06-.94-2.06-.94-.94-2.06-.94 2.06-2.06.94zm-11 1L8.5 8.5l.94-2.06 2.06-.94-2.06-.94L8.5 2.5l-.94 2.06-2.06.94zm10 10l.94 2.06.94-2.06 2.06-.94-2.06-.94-.94-2.06-.94 2.06-2.06.94z\"/><path d=\"M17.41 7.96l-1.37-1.37c-.4-.4-.92-.59-1.43-.59-.52 0-1.04.2-1.43.59L10.3 9.45l-7.72 7.72c-.78.78-.78 2.05 0 2.83L4 21.41c.39.39.9.59 1.41.59.51 0 1.02-.2 1.41-.59l7.78-7.78 2.81-2.81c.8-.78.8-2.07 0-2.86zM5.41 20L4 18.59l7.72-7.72 1.47 1.35L5.41 20z\"/>\n",
              "  </svg>\n",
              "      </button>\n",
              "      \n",
              "  <style>\n",
              "    .colab-df-container {\n",
              "      display:flex;\n",
              "      flex-wrap:wrap;\n",
              "      gap: 12px;\n",
              "    }\n",
              "\n",
              "    .colab-df-convert {\n",
              "      background-color: #E8F0FE;\n",
              "      border: none;\n",
              "      border-radius: 50%;\n",
              "      cursor: pointer;\n",
              "      display: none;\n",
              "      fill: #1967D2;\n",
              "      height: 32px;\n",
              "      padding: 0 0 0 0;\n",
              "      width: 32px;\n",
              "    }\n",
              "\n",
              "    .colab-df-convert:hover {\n",
              "      background-color: #E2EBFA;\n",
              "      box-shadow: 0px 1px 2px rgba(60, 64, 67, 0.3), 0px 1px 3px 1px rgba(60, 64, 67, 0.15);\n",
              "      fill: #174EA6;\n",
              "    }\n",
              "\n",
              "    [theme=dark] .colab-df-convert {\n",
              "      background-color: #3B4455;\n",
              "      fill: #D2E3FC;\n",
              "    }\n",
              "\n",
              "    [theme=dark] .colab-df-convert:hover {\n",
              "      background-color: #434B5C;\n",
              "      box-shadow: 0px 1px 3px 1px rgba(0, 0, 0, 0.15);\n",
              "      filter: drop-shadow(0px 1px 2px rgba(0, 0, 0, 0.3));\n",
              "      fill: #FFFFFF;\n",
              "    }\n",
              "  </style>\n",
              "\n",
              "      <script>\n",
              "        const buttonEl =\n",
              "          document.querySelector('#df-8e7c2864-1e88-483f-95c2-1be8adea8c88 button.colab-df-convert');\n",
              "        buttonEl.style.display =\n",
              "          google.colab.kernel.accessAllowed ? 'block' : 'none';\n",
              "\n",
              "        async function convertToInteractive(key) {\n",
              "          const element = document.querySelector('#df-8e7c2864-1e88-483f-95c2-1be8adea8c88');\n",
              "          const dataTable =\n",
              "            await google.colab.kernel.invokeFunction('convertToInteractive',\n",
              "                                                     [key], {});\n",
              "          if (!dataTable) return;\n",
              "\n",
              "          const docLinkHtml = 'Like what you see? Visit the ' +\n",
              "            '<a target=\"_blank\" href=https://colab.research.google.com/notebooks/data_table.ipynb>data table notebook</a>'\n",
              "            + ' to learn more about interactive tables.';\n",
              "          element.innerHTML = '';\n",
              "          dataTable['output_type'] = 'display_data';\n",
              "          await google.colab.output.renderOutput(dataTable, element);\n",
              "          const docLink = document.createElement('div');\n",
              "          docLink.innerHTML = docLinkHtml;\n",
              "          element.appendChild(docLink);\n",
              "        }\n",
              "      </script>\n",
              "    </div>\n",
              "  </div>\n",
              "  "
            ]
          },
          "metadata": {},
          "execution_count": 166
        }
      ]
    },
    {
      "cell_type": "markdown",
      "source": [
        "### Plot the portfolio"
      ],
      "metadata": {
        "id": "gE0p1eIthATB"
      }
    },
    {
      "cell_type": "code",
      "source": [
        "portfolio_test_values['Total'].plot() # Need to pretty this up for the dssertation or not use it at all"
      ],
      "metadata": {
        "colab": {
          "base_uri": "https://localhost:8080/",
          "height": 74
        },
        "id": "QAz2ZtdrhEDW",
        "outputId": "a4bba42a-ddd3-4fc0-fb23-f3b2af110dca"
      },
      "execution_count": null,
      "outputs": [
        {
          "output_type": "execute_result",
          "data": {
            "text/plain": [
              "<matplotlib.axes._subplots.AxesSubplot at 0x7ff0cc652950>"
            ]
          },
          "metadata": {},
          "execution_count": 167
        },
        {
          "output_type": "display_data",
          "data": {
            "text/plain": [
              "<Figure size 432x288 with 1 Axes>"
            ],
            "image/png": "[encoded data removed]"
          },
          "metadata": {
            "needs_background": "light"
          }
        }
      ]
    },
    {
      "cell_type": "markdown",
      "source": [
        "### Plot the Individual Assets"
      ],
      "metadata": {
        "id": "1YhvXTIDhCtZ"
      }
    },
    {
      "cell_type": "code",
      "source": [
        "# Plotted on the same graph to see general trend\n",
        "figure = plt.figure()\n",
        "axis = plt.plot(portfolio_test_values.iloc[:,0:1], label='^GSPC')\n",
        "#axis = plt.plot(portfolio_test_values.iloc[:,1:2], label='^FTLC')\n",
        "axis = plt.plot(portfolio_test_values.iloc[:,2:3], label='^RUT')\n",
        "#axis = plt.plot(portfolio_test_values.iloc[:,3:4], label='IEUS')\n",
        "\n",
        "axis = plt.plot(portfolio_test_values.iloc[:,4:5], label='GOVT')\n",
        "#axis = plt.plot(portfolio_test_values.iloc[:,5:6], label='IGOV')\n",
        "#axis = plt.plot(portfolio_test_values.iloc[:,6:7], label='SIVR')\n",
        "axis = plt.plot(portfolio_test_values.iloc[:,7:8], label='SGOL')\n",
        "plt.tight_layout()\n",
        "plt.legend()\n",
        "plt.show()"
      ],
      "metadata": {
        "colab": {
          "base_uri": "https://localhost:8080/",
          "height": 54
        },
        "id": "ASQAbUAHe3xl",
        "outputId": "e8ba8c18-6cc7-4850-9d2c-fd69a9047ab2"
      },
      "execution_count": null,
      "outputs": [
        {
          "output_type": "display_data",
          "data": {
            "text/plain": [
              "<Figure size 432x288 with 1 Axes>"
            ],
            "image/png": "[encoded data removed]"
          },
          "metadata": {
            "needs_background": "light"
          }
        }
      ]
    },
    {
      "cell_type": "markdown",
      "source": [
        "# Analyse the Test Year"
      ],
      "metadata": {
        "id": "1oIDwjllnZo5"
      }
    },
    {
      "cell_type": "markdown",
      "source": [
        "## Sharpe Ratio"
      ],
      "metadata": {
        "id": "YiV1QxPpnnaz"
      }
    },
    {
      "cell_type": "code",
      "source": [
        "#daily_stock_returns = portfolio_position_values.pct_change().dropna() # Analysing holding such portfolio position from the start\n",
        "daily_stock_returns = portfolio_test_values.pct_change()\n",
        "daily_stock_returns.drop(daily_stock_returns.columns[[2,5,6,7]], axis=1, inplace=True)\n",
        "daily_stock_returns = daily_stock_returns.dropna()\n",
        "#print(daily_stock_returns)\n",
        "# To calculate sharpie ratio for individual stocks \n",
        "def sharpe_ratio(return_series, N, rf):\n",
        "    mean = return_series.mean() * N -rf\n",
        "    sigma = return_series.std() * np.sqrt(N)\n",
        "    return mean / sigma\n",
        "\n",
        "N = 252 #252 trading days in a year\n",
        "rf = 0 #I assume this to be 0 in my dissertation due to there not being a trully risk free asset\n",
        "sharpes = daily_stock_returns.apply(sharpe_ratio, args=(N,rf,),axis=0)\n",
        "sharpes.plot.bar()\n",
        "sharpes"
      ],
      "metadata": {
        "colab": {
          "base_uri": "https://localhost:8080/",
          "height": 406
        },
        "id": "5j0NlsCDoEpV",
        "outputId": "32b00f56-5005-45b0-d6fe-d30389162e89"
      },
      "execution_count": null,
      "outputs": [
        {
          "output_type": "execute_result",
          "data": {
            "text/plain": [
              "^GSPC    0.775173\n",
              "^FTLC    0.693307\n",
              "IEUS    -0.162606\n",
              "GOVT    -0.831363\n",
              "Total    0.227708\n",
              "dtype: float64"
            ]
          },
          "metadata": {},
          "execution_count": 10
        },
        {
          "output_type": "display_data",
          "data": {
            "text/plain": [
              "<Figure size 432x288 with 1 Axes>"
            ],
            "image/png": "[encoded data removed]"
          },
          "metadata": {
            "needs_background": "light"
          }
        }
      ]
    },
    {
      "cell_type": "markdown",
      "source": [
        "## Volatility"
      ],
      "metadata": {
        "id": "a3ol81j1onsk"
      }
    },
    {
      "cell_type": "markdown",
      "source": [
        "### Individual Stock Volatility"
      ],
      "metadata": {
        "id": "2Og6XfRLvrqr"
      }
    },
    {
      "cell_type": "markdown",
      "source": [
        "#### Rolling Volatilty for Each stock"
      ],
      "metadata": {
        "id": "mY4OONPS1Uz_"
      }
    },
    {
      "cell_type": "code",
      "source": [
        "#data = portfolio_position_values.pct_change().dropna() # Analysing holding such portfolio position from the start\n",
        "rolling_stock = pd.DataFrame()\n",
        "daily_stock_returns = portfolio_test_values.pct_change()\n",
        "daily_stock_returns.drop(daily_stock_returns.columns[[2,5,6,7]], axis=1, inplace=True)\n",
        "data = daily_stock_returns.dropna()\n",
        "#print(data)\n",
        "for stock in [\"^GSPC\",\"^FTLC\",\"GOVT\",\"IEUS\", \"Total\"]:\n",
        "  rolling_stock[stock] = data[stock].rolling(7).std()*(252**0.5)\n",
        "f1 = plt.figure()\n",
        "for i in range(0,3):\n",
        "  rolling_stock.iloc[:,i].plot()\n",
        "  plt.tight_layout()\n",
        "  #plt.show() # To display in separate graphs instead of 1"
      ],
      "metadata": {
        "colab": {
          "base_uri": "https://localhost:8080/",
          "height": 297
        },
        "id": "9Zc8OPdqx421",
        "outputId": "5d893f94-3c47-4bed-de8d-cdf9cbf1c144"
      },
      "execution_count": null,
      "outputs": [
        {
          "output_type": "display_data",
          "data": {
            "text/plain": [
              "<Figure size 432x288 with 1 Axes>"
            ],
            "image/png": "[encoded data removed]"
          },
          "metadata": {
            "needs_background": "light"
          }
        }
      ]
    },
    {
      "cell_type": "markdown",
      "source": [
        "#### Anualised volatility for Each Stock"
      ],
      "metadata": {
        "id": "MDOiJi5Q03bn"
      }
    },
    {
      "cell_type": "code",
      "source": [
        "#data = portfolio_position_values.pct_change().dropna() # Analysing holding such portfolio position from the start\n",
        "stock_volatility = pd.DataFrame()\n",
        "daily_stock_returns = portfolio_test_values.pct_change()\n",
        "daily_stock_returns.drop(daily_stock_returns.columns[[2,5,6,7]], axis=1, inplace=True)\n",
        "data = daily_stock_returns.dropna()\n",
        "tmp = pd.DataFrame()\n",
        "i = 0 \n",
        "for stock in [\"^GSPC\",\"^RUT\",\"GOVT\",\"SGOL\", \"Total\"]:\n",
        "  tmp[stock] = data.iloc[:,i:(i+1)]\n",
        "  stock_volatility = tmp.std()*(252**0.5)\n",
        "  i = i + 1\n",
        "print(stock_volatility)"
      ],
      "metadata": {
        "colab": {
          "base_uri": "https://localhost:8080/"
        },
        "id": "qZTilRKUzSFO",
        "outputId": "9a4dc662-b03e-4969-e342-ec406acca56d"
      },
      "execution_count": null,
      "outputs": [
        {
          "output_type": "stream",
          "name": "stdout",
          "text": [
            "^GSPC    0.146273\n",
            "^RUT     0.129323\n",
            "GOVT     0.161712\n",
            "SGOL     0.053270\n",
            "Total    0.135348\n",
            "dtype: float64\n"
          ]
        }
      ]
    },
    {
      "cell_type": "markdown",
      "source": [
        "### Portfolio Volatility"
      ],
      "metadata": {
        "id": "K22vlVhovwjH"
      }
    },
    {
      "cell_type": "markdown",
      "source": [
        "#### Just the Anualised Volatility for the Portfolio"
      ],
      "metadata": {
        "id": "MreARAfmy5Tx"
      }
    },
    {
      "cell_type": "code",
      "source": [
        "total_portfolio_change = portfolio_test_values['Total'].pct_change().dropna()\n",
        "portfolio_vol = total_portfolio_change.std()*(252**0.5)\n",
        "portfolio_vol"
      ],
      "metadata": {
        "colab": {
          "base_uri": "https://localhost:8080/"
        },
        "id": "p-TrycZSrEAF",
        "outputId": "3251e5cf-955d-4727-b83d-c77175c882ab"
      },
      "execution_count": null,
      "outputs": [
        {
          "output_type": "execute_result",
          "data": {
            "text/plain": [
              "0.13534837315954762"
            ]
          },
          "metadata": {},
          "execution_count": 13
        }
      ]
    },
    {
      "cell_type": "markdown",
      "source": [
        "## Maximum Drawdown"
      ],
      "metadata": {
        "id": "3OpjwwfunpmH"
      }
    },
    {
      "cell_type": "code",
      "source": [
        "def max_drawdown(return_series):\n",
        "    comp_ret = (return_series+1).cumprod()\n",
        "    peak = comp_ret.expanding(min_periods=1).max()\n",
        "    dd = (comp_ret/peak)-1\n",
        "    return dd.min()\n",
        "\n",
        "daily_stock_returns = portfolio_test_values.pct_change()\n",
        "daily_stock_returns.drop(daily_stock_returns.columns[[2,5,6,7]], axis=1, inplace=True)\n",
        "daily_stock_returns = daily_stock_returns.dropna()\n",
        "max_drawdowns = daily_stock_returns.apply(max_drawdown,axis=0)\n",
        "max_drawdowns.plot.bar()\n",
        "plt.ylabel('Max Drawdown')\n",
        "max_drawdowns"
      ],
      "metadata": {
        "colab": {
          "base_uri": "https://localhost:8080/",
          "height": 410
        },
        "id": "m0-mPR9VoPTE",
        "outputId": "42d30257-776b-441f-b6a5-cc7a74d2ba92"
      },
      "execution_count": null,
      "outputs": [
        {
          "output_type": "execute_result",
          "data": {
            "text/plain": [
              "^GSPC   -0.118501\n",
              "^FTLC   -0.065139\n",
              "IEUS    -0.187752\n",
              "GOVT    -0.053062\n",
              "Total   -0.125477\n",
              "dtype: float64"
            ]
          },
          "metadata": {},
          "execution_count": 14
        },
        {
          "output_type": "display_data",
          "data": {
            "text/plain": [
              "<Figure size 432x288 with 1 Axes>"
            ],
            "image/png": "[encoded data removed]"
          },
          "metadata": {
            "needs_background": "light"
          }
        }
      ]
    },
    {
      "cell_type": "markdown",
      "source": [
        "## Compound Annual Growth Rate (CARG)"
      ],
      "metadata": {
        "id": "gehqsfUbnvUx"
      }
    },
    {
      "cell_type": "code",
      "source": [
        "start_value = portfolio_test_values.iloc[0,:]\n",
        "end_value = portfolio_test_values.iloc[-1,:]\n",
        "number_of_years =  round(len(portfolio_test_values)/252)\n",
        "CARG = (((end_value / start_value) ** (1/number_of_years)) -1)# Shows % of values\n",
        "CARG"
      ],
      "metadata": {
        "colab": {
          "base_uri": "https://localhost:8080/"
        },
        "id": "cbyG1U8PtjiW",
        "outputId": "3b67d482-f241-4ce9-f1fa-ec848ac52843"
      },
      "execution_count": null,
      "outputs": [
        {
          "output_type": "execute_result",
          "data": {
            "text/plain": [
              "^GSPC    0.107693\n",
              "^FTLC    0.084323\n",
              "^RUT          NaN\n",
              "IEUS    -0.038433\n",
              "GOVT    -0.044503\n",
              "IGOV          NaN\n",
              "SIVR          NaN\n",
              "SGOL          NaN\n",
              "Total    0.021826\n",
              "dtype: float64"
            ]
          },
          "metadata": {},
          "execution_count": 15
        }
      ]
    },
    {
      "cell_type": "markdown",
      "source": [
        "## Calmar Ratio"
      ],
      "metadata": {
        "id": "k9vlY18Jn09e"
      }
    },
    {
      "cell_type": "code",
      "source": [
        "#daily_stock_returns = portfolio_position_values.pct_change().dropna() # Analysing holding such portfolio position from the start\n",
        "daily_stock_returns = portfolio_test_values.pct_change()\n",
        "daily_stock_returns.drop(daily_stock_returns.columns[[2,5,6,7]], axis=1, inplace=True)\n",
        "daily_stock_returns = daily_stock_returns.dropna()\n",
        "calmars = daily_stock_returns.mean()*252/abs(max_drawdowns)\n",
        "\n",
        "calmars.plot.bar()\n",
        "plt.ylabel('Calmar ratio')\n",
        "calmars"
      ],
      "metadata": {
        "colab": {
          "base_uri": "https://localhost:8080/",
          "height": 406
        },
        "id": "VoRp1tp9owR7",
        "outputId": "7b0d5d33-2f55-4f05-a85a-78e58da8cd81"
      },
      "execution_count": null,
      "outputs": [
        {
          "output_type": "execute_result",
          "data": {
            "text/plain": [
              "^GSPC    0.956844\n",
              "^FTLC    1.376445\n",
              "IEUS    -0.140054\n",
              "GOVT    -0.834610\n",
              "Total    0.245622\n",
              "dtype: float64"
            ]
          },
          "metadata": {},
          "execution_count": 16
        },
        {
          "output_type": "display_data",
          "data": {
            "text/plain": [
              "<Figure size 432x288 with 1 Axes>"
            ],
            "image/png": "[encoded data removed]"
          },
          "metadata": {
            "needs_background": "light"
          }
        }
      ]
    },
    {
      "cell_type": "markdown",
      "source": [
        "# Export Test Year to CSV"
      ],
      "metadata": {
        "id": "0S0IVt6Hbn3g"
      }
    },
    {
      "cell_type": "code",
      "source": [
        "from google.colab import drive\n",
        "drive.mount('drive')"
      ],
      "metadata": {
        "colab": {
          "base_uri": "https://localhost:8080/"
        },
        "id": "uBIyR-8pZ3_y",
        "outputId": "aacefe65-92d9-4666-ba90-6a36f5d68f4a"
      },
      "execution_count": null,
      "outputs": [
        {
          "output_type": "stream",
          "name": "stdout",
          "text": [
            "Mounted at drive\n"
          ]
        }
      ]
    },
    {
      "cell_type": "code",
      "source": [
        "portfolio_test_values.to_csv('HiddenMarkovModelData.csv')"
      ],
      "metadata": {
        "id": "abcVtYS6XXZ7"
      },
      "execution_count": null,
      "outputs": []
    },
    {
      "cell_type": "code",
      "source": [
        "portfolio_weights.to_csv('HiddenMarkovModelWeights.csv')"
      ],
      "metadata": {
        "id": "ZKxhXGQSenY8"
      },
      "execution_count": null,
      "outputs": []
    },
    {
      "cell_type": "code",
      "source": [
        "!cp HiddenMarkovModelWeights.csv \"drive/My Drive/DisData\""
      ],
      "metadata": {
        "id": "ffx_dWWJZlhj"
      },
      "execution_count": null,
      "outputs": []
    },
    {
      "cell_type": "code",
      "source": [
        "!cp HiddenMarkovModelData.csv \"drive/My Drive/DisData\""
      ],
      "metadata": {
        "id": "M4m82sfEF_-y"
      },
      "execution_count": null,
      "outputs": []
    },
    {
      "cell_type": "markdown",
      "source": [
        "# Recreating\n"
      ],
      "metadata": {
        "id": "FTCjQetUgLJS"
      }
    },
    {
      "cell_type": "markdown",
      "source": [
        "Unfortunetly due to the unreliability of the Hidden Markov Model predictions we can't recreate the exact same results due to it outputting completetly different predictions each time. The weights of the model are saved so we know what output we were working with."
      ],
      "metadata": {
        "id": "FK3XzXEZgN5W"
      }
    }
  ]
}