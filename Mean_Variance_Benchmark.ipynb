{
  "nbformat": 4,
  "nbformat_minor": 0,
  "metadata": {
    "colab": {
      "name": "Mean-Variance Benchmark.ipynb",
      "provenance": [],
      "collapsed_sections": [
        "SvdfZf9TFyiQ",
        "T6fqpiT7GE1N"
      ]
    },
    "kernelspec": {
      "name": "python3",
      "display_name": "Python 3"
    },
    "language_info": {
      "name": "python"
    }
  },
  "cells": [
    {
      "cell_type": "markdown",
      "source": [
        "# Setup Libraries"
      ],
      "metadata": {
        "id": "SvdfZf9TFyiQ"
      }
    },
    {
      "cell_type": "markdown",
      "source": [
        "Needed in google colab"
      ],
      "metadata": {
        "id": "JQwxG5G0F5xj"
      }
    },
    {
      "cell_type": "code",
      "execution_count": 1,
      "metadata": {
        "colab": {
          "base_uri": "https://localhost:8080/"
        },
        "id": "RM149AzLYri6",
        "outputId": "50fa66b1-433a-4bc5-821c-02d50f02d742"
      },
      "outputs": [
        {
          "output_type": "stream",
          "name": "stdout",
          "text": [
            "Collecting yfinance\n",
            "  Downloading yfinance-0.1.70-py2.py3-none-any.whl (26 kB)\n",
            "Requirement already satisfied: pandas>=0.24.0 in /usr/local/lib/python3.7/dist-packages (from yfinance) (1.3.5)\n",
            "Requirement already satisfied: numpy>=1.15 in /usr/local/lib/python3.7/dist-packages (from yfinance) (1.21.6)\n",
            "Collecting requests>=2.26\n",
            "  Downloading requests-2.27.1-py2.py3-none-any.whl (63 kB)\n",
            "\u001b[K     |████████████████████████████████| 63 kB 947 kB/s \n",
            "\u001b[?25hRequirement already satisfied: multitasking>=0.0.7 in /usr/local/lib/python3.7/dist-packages (from yfinance) (0.0.10)\n",
            "Collecting lxml>=4.5.1\n",
            "  Downloading lxml-4.8.0-cp37-cp37m-manylinux_2_17_x86_64.manylinux2014_x86_64.manylinux_2_24_x86_64.whl (6.4 MB)\n",
            "\u001b[K     |████████████████████████████████| 6.4 MB 19.8 MB/s \n",
            "\u001b[?25hRequirement already satisfied: python-dateutil>=2.7.3 in /usr/local/lib/python3.7/dist-packages (from pandas>=0.24.0->yfinance) (2.8.2)\n",
            "Requirement already satisfied: pytz>=2017.3 in /usr/local/lib/python3.7/dist-packages (from pandas>=0.24.0->yfinance) (2022.1)\n",
            "Requirement already satisfied: six>=1.5 in /usr/local/lib/python3.7/dist-packages (from python-dateutil>=2.7.3->pandas>=0.24.0->yfinance) (1.15.0)\n",
            "Requirement already satisfied: idna<4,>=2.5 in /usr/local/lib/python3.7/dist-packages (from requests>=2.26->yfinance) (2.10)\n",
            "Requirement already satisfied: urllib3<1.27,>=1.21.1 in /usr/local/lib/python3.7/dist-packages (from requests>=2.26->yfinance) (1.24.3)\n",
            "Requirement already satisfied: certifi>=2017.4.17 in /usr/local/lib/python3.7/dist-packages (from requests>=2.26->yfinance) (2021.10.8)\n",
            "Requirement already satisfied: charset-normalizer~=2.0.0 in /usr/local/lib/python3.7/dist-packages (from requests>=2.26->yfinance) (2.0.12)\n",
            "Installing collected packages: requests, lxml, yfinance\n",
            "  Attempting uninstall: requests\n",
            "    Found existing installation: requests 2.23.0\n",
            "    Uninstalling requests-2.23.0:\n",
            "      Successfully uninstalled requests-2.23.0\n",
            "  Attempting uninstall: lxml\n",
            "    Found existing installation: lxml 4.2.6\n",
            "    Uninstalling lxml-4.2.6:\n",
            "      Successfully uninstalled lxml-4.2.6\n",
            "\u001b[31mERROR: pip's dependency resolver does not currently take into account all the packages that are installed. This behaviour is the source of the following dependency conflicts.\n",
            "google-colab 1.0.0 requires requests~=2.23.0, but you have requests 2.27.1 which is incompatible.\n",
            "datascience 0.10.6 requires folium==0.2.1, but you have folium 0.8.3 which is incompatible.\u001b[0m\n",
            "Successfully installed lxml-4.8.0 requests-2.27.1 yfinance-0.1.70\n"
          ]
        }
      ],
      "source": [
        "pip install yfinance"
      ]
    },
    {
      "cell_type": "code",
      "source": [
        "# Provides ways to work with large multidimensional arrays\n",
        "import numpy as np \n",
        "# Allows for further data manipulation and analysis\n",
        "import pandas as pd \n",
        "import matplotlib.pyplot as plt # Plotting\n",
        "import matplotlib.dates as mdates # Styling dates\n",
        "#import matplotlib.mlab as mlab \n",
        "%matplotlib inline\n",
        "\n",
        "# statistical calculation\n",
        "#from scipy.stats import norm\n",
        "\n",
        "import datetime as dt # For defining dates\n",
        "\n",
        "import time\n",
        "\n",
        "import yfinance as yf"
      ],
      "metadata": {
        "id": "Ca_QWCWpF-yU"
      },
      "execution_count": 2,
      "outputs": []
    },
    {
      "cell_type": "markdown",
      "source": [
        "# Get Stock Data"
      ],
      "metadata": {
        "id": "T6fqpiT7GE1N"
      }
    },
    {
      "cell_type": "code",
      "source": [
        "all_stocks = [\"^GSPC\", \"^FTLC\", \"^RUT\", \"IEUS\", \"GOVT\", \"IGOV\", \"SIVR\", \"SGOL\"]"
      ],
      "metadata": {
        "id": "EM5tszECGHM9"
      },
      "execution_count": 3,
      "outputs": []
    },
    {
      "cell_type": "code",
      "source": [
        "def get_all_closes_of_stocks(tickers):\n",
        "  i = 0\n",
        "  stock_list = pd.DataFrame()\n",
        "  for ticker in tickers:\n",
        "    stock = yf.Ticker(ticker)        \n",
        "    data = stock.history(start=\"2012-02-24\",end =\"2022-02-25\")\n",
        "    data.drop(data.columns[[0,1,2,4,5,6]], axis=1, inplace=True) # Just gets the adjacent close for each asset\n",
        "    data.columns = [ticker]\n",
        "    stock_list[ticker] = data.iloc[:,0]\n",
        "  return stock_list.dropna()\n",
        "stock_data = get_all_closes_of_stocks(all_stocks)\n",
        "print(stock_data)"
      ],
      "metadata": {
        "colab": {
          "base_uri": "https://localhost:8080/"
        },
        "id": "6pHUhYdCGLFq",
        "outputId": "19e24a5e-33f3-400d-9b17-aea702db2b46"
      },
      "execution_count": 4,
      "outputs": [
        {
          "output_type": "stream",
          "name": "stdout",
          "text": [
            "                  ^GSPC        ^FTLC         ^RUT       IEUS       GOVT  \\\n",
            "Date                                                                      \n",
            "2012-02-24  1365.739990  3144.399902   826.919983  27.285177  21.551907   \n",
            "2012-02-27  1367.589966  3133.399902   826.659973  27.201168  21.551907   \n",
            "2012-02-28  1372.180054  3141.199951   823.799988  27.445547  21.551907   \n",
            "2012-02-29  1365.680054  3112.399902   810.940002  27.155359  21.551907   \n",
            "2012-03-01  1374.089966  3142.899902   815.219971  27.117172  21.551907   \n",
            "...                 ...          ...          ...        ...        ...   \n",
            "2022-02-17  4380.259766  4240.200195  2028.089966  63.590000  25.511517   \n",
            "2022-02-18  4348.870117  4222.799805  2009.329956  62.840000  25.571404   \n",
            "2022-02-22  4304.759766  4201.799805  1980.170044  61.560001  25.581383   \n",
            "2022-02-23  4225.500000  4198.799805  1944.089966  60.889999  25.461611   \n",
            "2022-02-24  4288.700195  4042.899902  1996.010010  60.000000  25.471592   \n",
            "\n",
            "                 IGOV       SIVR       SGOL  \n",
            "Date                                         \n",
            "2012-02-24  47.279110  35.110001  17.559000  \n",
            "2012-02-27  47.222897  35.099998  17.504000  \n",
            "2012-02-28  47.592907  36.610001  17.688000  \n",
            "2012-02-29  47.358719  34.240002  16.750000  \n",
            "2012-03-01  46.416706  35.180000  16.987000  \n",
            "...               ...        ...        ...  \n",
            "2022-02-17  48.439999  22.959999  18.219999  \n",
            "2022-02-18  48.380001  23.040001  18.200001  \n",
            "2022-02-22  48.330002  23.260000  18.240000  \n",
            "2022-02-23  48.130001  23.680000  18.330000  \n",
            "2022-02-24  47.959999  23.270000  18.219999  \n",
            "\n",
            "[2401 rows x 8 columns]\n"
          ]
        }
      ]
    },
    {
      "cell_type": "markdown",
      "source": [
        "# Calculate Efiicient Frontier using pypfopt"
      ],
      "metadata": {
        "id": "Jf3RUH6Bg2Ja"
      }
    },
    {
      "cell_type": "code",
      "source": [
        "pip install PyPortfolioOpt"
      ],
      "metadata": {
        "id": "RE4HbEP9egEj",
        "colab": {
          "base_uri": "https://localhost:8080/"
        },
        "outputId": "abd89c00-00a9-4818-d9dd-a003c44086f4"
      },
      "execution_count": 5,
      "outputs": [
        {
          "output_type": "stream",
          "name": "stdout",
          "text": [
            "Collecting PyPortfolioOpt\n",
            "  Downloading pyportfolioopt-1.5.2-py3-none-any.whl (61 kB)\n",
            "\u001b[?25l\r\u001b[K     |█████▍                          | 10 kB 18.4 MB/s eta 0:00:01\r\u001b[K     |██████████▊                     | 20 kB 22.5 MB/s eta 0:00:01\r\u001b[K     |████████████████                | 30 kB 21.1 MB/s eta 0:00:01\r\u001b[K     |█████████████████████▍          | 40 kB 17.5 MB/s eta 0:00:01\r\u001b[K     |██████████████████████████▊     | 51 kB 8.7 MB/s eta 0:00:01\r\u001b[K     |████████████████████████████████| 61 kB 4.5 MB/s \n",
            "\u001b[?25hRequirement already satisfied: pandas>=0.19 in /usr/local/lib/python3.7/dist-packages (from PyPortfolioOpt) (1.3.5)\n",
            "Requirement already satisfied: numpy<2.0,>=1.12 in /usr/local/lib/python3.7/dist-packages (from PyPortfolioOpt) (1.21.6)\n",
            "Requirement already satisfied: scipy<2.0,>=1.3 in /usr/local/lib/python3.7/dist-packages (from PyPortfolioOpt) (1.4.1)\n",
            "Collecting cvxpy<2.0.0,>=1.1.10\n",
            "  Downloading cvxpy-1.2.0-cp37-cp37m-manylinux_2_24_x86_64.whl (2.8 MB)\n",
            "\u001b[K     |████████████████████████████████| 2.8 MB 17.3 MB/s \n",
            "\u001b[?25hRequirement already satisfied: ecos>=2 in /usr/local/lib/python3.7/dist-packages (from cvxpy<2.0.0,>=1.1.10->PyPortfolioOpt) (2.0.10)\n",
            "Requirement already satisfied: osqp>=0.4.1 in /usr/local/lib/python3.7/dist-packages (from cvxpy<2.0.0,>=1.1.10->PyPortfolioOpt) (0.6.2.post0)\n",
            "Requirement already satisfied: scs>=1.1.6 in /usr/local/lib/python3.7/dist-packages (from cvxpy<2.0.0,>=1.1.10->PyPortfolioOpt) (3.2.0)\n",
            "Requirement already satisfied: qdldl in /usr/local/lib/python3.7/dist-packages (from osqp>=0.4.1->cvxpy<2.0.0,>=1.1.10->PyPortfolioOpt) (0.1.5.post2)\n",
            "Requirement already satisfied: python-dateutil>=2.7.3 in /usr/local/lib/python3.7/dist-packages (from pandas>=0.19->PyPortfolioOpt) (2.8.2)\n",
            "Requirement already satisfied: pytz>=2017.3 in /usr/local/lib/python3.7/dist-packages (from pandas>=0.19->PyPortfolioOpt) (2022.1)\n",
            "Requirement already satisfied: six>=1.5 in /usr/local/lib/python3.7/dist-packages (from python-dateutil>=2.7.3->pandas>=0.19->PyPortfolioOpt) (1.15.0)\n",
            "Installing collected packages: cvxpy, PyPortfolioOpt\n",
            "  Attempting uninstall: cvxpy\n",
            "    Found existing installation: cvxpy 1.0.31\n",
            "    Uninstalling cvxpy-1.0.31:\n",
            "      Successfully uninstalled cvxpy-1.0.31\n",
            "Successfully installed PyPortfolioOpt-1.5.2 cvxpy-1.2.0\n"
          ]
        }
      ]
    },
    {
      "cell_type": "code",
      "source": [
        "from pypfopt.expected_returns import mean_historical_return\n",
        "from pypfopt.risk_models import CovarianceShrinkage\n",
        "\n",
        "\n",
        "mu = mean_historical_return(stock_data)\n",
        "S = CovarianceShrinkage(stock_data).ledoit_wolf()\n",
        "\n",
        "from pypfopt.efficient_frontier import EfficientFrontier \n",
        "\n",
        "ef = EfficientFrontier(mu, S)\n",
        "weights = ef.max_sharpe() # This gets rid of most of the assets\n",
        "\n",
        "cleaned_weights = ef.clean_weights()\n",
        "print(dict(cleaned_weights))\n",
        "ef.portfolio_performance(verbose=True)"
      ],
      "metadata": {
        "colab": {
          "base_uri": "https://localhost:8080/"
        },
        "id": "bfGgshnVesfn",
        "outputId": "c48dcafa-1d9f-47b1-89d4-ba60ffb31817"
      },
      "execution_count": 6,
      "outputs": [
        {
          "output_type": "stream",
          "name": "stdout",
          "text": [
            "{'^GSPC': 0.51714, '^FTLC': 0.0, '^RUT': 0.0, 'IEUS': 0.0, 'GOVT': 0.48286, 'IGOV': 0.0, 'SIVR': 0.0, 'SGOL': 0.0}\n",
            "Expected annual return: 7.5%\n",
            "Annual volatility: 8.2%\n",
            "Sharpe Ratio: 0.66\n"
          ]
        },
        {
          "output_type": "execute_result",
          "data": {
            "text/plain": [
              "(0.07456821950972643, 0.08248375096660072, 0.6615632639187585)"
            ]
          },
          "metadata": {},
          "execution_count": 6
        }
      ]
    },
    {
      "cell_type": "code",
      "source": [
        "from pypfopt import plotting\n",
        "ef = EfficientFrontier(mu, S, weight_bounds=(None, None))\n",
        "ef.add_constraint(lambda w: w[0] >= 0.2)\n",
        "ef.add_constraint(lambda w: w[2] == 0.15)\n",
        "ef.add_constraint(lambda w: w[3] + w[4] <= 0.10)\n",
        "\n",
        "fig, ax = plt.subplots()\n",
        "plotting.plot_efficient_frontier(ef, ax=ax, show_assets=True)\n",
        "plt.show()"
      ],
      "metadata": {
        "colab": {
          "base_uri": "https://localhost:8080/",
          "height": 297
        },
        "id": "4Q_SQPxAhd-B",
        "outputId": "0d258efe-c2ca-4796-9043-14569a675f6c"
      },
      "execution_count": 7,
      "outputs": [
        {
          "output_type": "display_data",
          "data": {
            "text/plain": [
              "<Figure size 432x288 with 1 Axes>"
            ],
            "image/png": "[encoded data removed]"
          },
          "metadata": {
            "needs_background": "light"
          }
        }
      ]
    },
    {
      "cell_type": "markdown",
      "source": [
        "## Format the Weights for Further Use"
      ],
      "metadata": {
        "id": "h5_XRd7GnEH7"
      }
    },
    {
      "cell_type": "code",
      "source": [
        "print(dict(cleaned_weights))"
      ],
      "metadata": {
        "id": "q34TSoA5nRBF",
        "colab": {
          "base_uri": "https://localhost:8080/"
        },
        "outputId": "f9ee15be-ac80-424b-a374-2ba9b9bd1cac"
      },
      "execution_count": 8,
      "outputs": [
        {
          "output_type": "stream",
          "name": "stdout",
          "text": [
            "{'^GSPC': 0.51714, '^FTLC': 0.0, '^RUT': 0.0, 'IEUS': 0.0, 'GOVT': 0.48286, 'IGOV': 0.0, 'SIVR': 0.0, 'SGOL': 0.0}\n"
          ]
        }
      ]
    },
    {
      "cell_type": "code",
      "source": [
        "tmp_list = []\n",
        "for value, key in dict(cleaned_weights).items():\n",
        "  tmp_list.append(key)\n",
        "\n",
        "portfolio_weights = pd.Series(tmp_list, index=all_stocks)\n",
        "portfolio_weights"
      ],
      "metadata": {
        "colab": {
          "base_uri": "https://localhost:8080/"
        },
        "id": "n0pdvoj1chqA",
        "outputId": "669a1655-de0e-4275-83d8-88368acc98fd"
      },
      "execution_count": 9,
      "outputs": [
        {
          "output_type": "execute_result",
          "data": {
            "text/plain": [
              "^GSPC    0.51714\n",
              "^FTLC    0.00000\n",
              "^RUT     0.00000\n",
              "IEUS     0.00000\n",
              "GOVT     0.48286\n",
              "IGOV     0.00000\n",
              "SIVR     0.00000\n",
              "SGOL     0.00000\n",
              "dtype: float64"
            ]
          },
          "metadata": {},
          "execution_count": 9
        }
      ]
    },
    {
      "cell_type": "markdown",
      "source": [
        "# Backtesting"
      ],
      "metadata": {
        "id": "SutuKtAKnH6p"
      }
    },
    {
      "cell_type": "markdown",
      "source": [
        "## Test Year"
      ],
      "metadata": {
        "id": "2zH-DRT4nRcA"
      }
    },
    {
      "cell_type": "code",
      "source": [
        "initial_investment = 10000 # 10'000 dollar invesment. Can Change to 100'000 later \n",
        "trading_year = 252 # Number of trading days in a year\n",
        "stock_returns = stock_data.pct_change() "
      ],
      "metadata": {
        "id": "mvk66HGWnYQL"
      },
      "execution_count": 10,
      "outputs": []
    },
    {
      "cell_type": "code",
      "source": [
        "weighted_portfolio = portfolio_weights * initial_investment # Calculate the dollars invested in each asset in the portfolio\n",
        "num_of_shares = weighted_portfolio / stock_data.iloc[(-trading_year),:] # Calculate the number of shares owned of each asset in the portfolio\n",
        "portfolio_test_values = num_of_shares * stock_data.iloc[(-trading_year):,:] # share * share price = position value and it is done for each day in the trading year for all assets\n",
        "portfolio_test_values['Total'] = portfolio_test_values.sum(axis=1)\n",
        "portfolio_test_values"
      ],
      "metadata": {
        "colab": {
          "base_uri": "https://localhost:8080/",
          "height": 455
        },
        "id": "GGzI4KFTdW01",
        "outputId": "d8e1da53-d8b9-4398-d89b-885f0357c2b7"
      },
      "execution_count": 11,
      "outputs": [
        {
          "output_type": "execute_result",
          "data": {
            "text/plain": [
              "                  ^GSPC  ^FTLC  ^RUT  IEUS         GOVT  IGOV  SIVR  SGOL  \\\n",
              "Date                                                                        \n",
              "2021-02-04  5171.400000    0.0   0.0   0.0  4828.600000   0.0   0.0   0.0   \n",
              "2021-02-05  5191.555506    0.0   0.0   0.0  4821.438520   0.0   0.0   0.0   \n",
              "2021-02-08  5229.969634    0.0   0.0   0.0  4823.229149   0.0   0.0   0.0   \n",
              "2021-02-09  5224.145932    0.0   0.0   0.0  4826.809371   0.0   0.0   0.0   \n",
              "2021-02-10  5222.342636    0.0   0.0   0.0  4835.761480   0.0   0.0   0.0   \n",
              "...                 ...    ...   ...   ...          ...   ...   ...   ...   \n",
              "2022-02-17  5850.618949    0.0   0.0   0.0  4620.943329   0.0   0.0   0.0   \n",
              "2022-02-18  5808.692469    0.0   0.0   0.0  4631.790748   0.0   0.0   0.0   \n",
              "2022-02-22  5749.775219    0.0   0.0   0.0  4633.598306   0.0   0.0   0.0   \n",
              "2022-02-23  5643.909652    0.0   0.0   0.0  4611.903813   0.0   0.0   0.0   \n",
              "2022-02-24  5728.324796    0.0   0.0   0.0  4613.711716   0.0   0.0   0.0   \n",
              "\n",
              "                   Total  \n",
              "Date                      \n",
              "2021-02-04  10000.000000  \n",
              "2021-02-05  10012.994026  \n",
              "2021-02-08  10053.198783  \n",
              "2021-02-09  10050.955303  \n",
              "2021-02-10  10058.104116  \n",
              "...                  ...  \n",
              "2022-02-17  10471.562278  \n",
              "2022-02-18  10440.483217  \n",
              "2022-02-22  10383.373525  \n",
              "2022-02-23  10255.813464  \n",
              "2022-02-24  10342.036512  \n",
              "\n",
              "[252 rows x 9 columns]"
            ],
            "text/html": [
              "\n",
              "  <div id=\"df-3c3a56a4-eb4d-47a5-997a-124916cbe0da\">\n",
              "    <div class=\"colab-df-container\">\n",
              "      <div>\n",
              "<style scoped>\n",
              "    .dataframe tbody tr th:only-of-type {\n",
              "        vertical-align: middle;\n",
              "    }\n",
              "\n",
              "    .dataframe tbody tr th {\n",
              "        vertical-align: top;\n",
              "    }\n",
              "\n",
              "    .dataframe thead th {\n",
              "        text-align: right;\n",
              "    }\n",
              "</style>\n",
              "<table border=\"1\" class=\"dataframe\">\n",
              "  <thead>\n",
              "    <tr style=\"text-align: right;\">\n",
              "      <th></th>\n",
              "      <th>^GSPC</th>\n",
              "      <th>^FTLC</th>\n",
              "      <th>^RUT</th>\n",
              "      <th>IEUS</th>\n",
              "      <th>GOVT</th>\n",
              "      <th>IGOV</th>\n",
              "      <th>SIVR</th>\n",
              "      <th>SGOL</th>\n",
              "      <th>Total</th>\n",
              "    </tr>\n",
              "    <tr>\n",
              "      <th>Date</th>\n",
              "      <th></th>\n",
              "      <th></th>\n",
              "      <th></th>\n",
              "      <th></th>\n",
              "      <th></th>\n",
              "      <th></th>\n",
              "      <th></th>\n",
              "      <th></th>\n",
              "      <th></th>\n",
              "    </tr>\n",
              "  </thead>\n",
              "  <tbody>\n",
              "    <tr>\n",
              "      <th>2021-02-04</th>\n",
              "      <td>5171.400000</td>\n",
              "      <td>0.0</td>\n",
              "      <td>0.0</td>\n",
              "      <td>0.0</td>\n",
              "      <td>4828.600000</td>\n",
              "      <td>0.0</td>\n",
              "      <td>0.0</td>\n",
              "      <td>0.0</td>\n",
              "      <td>10000.000000</td>\n",
              "    </tr>\n",
              "    <tr>\n",
              "      <th>2021-02-05</th>\n",
              "      <td>5191.555506</td>\n",
              "      <td>0.0</td>\n",
              "      <td>0.0</td>\n",
              "      <td>0.0</td>\n",
              "      <td>4821.438520</td>\n",
              "      <td>0.0</td>\n",
              "      <td>0.0</td>\n",
              "      <td>0.0</td>\n",
              "      <td>10012.994026</td>\n",
              "    </tr>\n",
              "    <tr>\n",
              "      <th>2021-02-08</th>\n",
              "      <td>5229.969634</td>\n",
              "      <td>0.0</td>\n",
              "      <td>0.0</td>\n",
              "      <td>0.0</td>\n",
              "      <td>4823.229149</td>\n",
              "      <td>0.0</td>\n",
              "      <td>0.0</td>\n",
              "      <td>0.0</td>\n",
              "      <td>10053.198783</td>\n",
              "    </tr>\n",
              "    <tr>\n",
              "      <th>2021-02-09</th>\n",
              "      <td>5224.145932</td>\n",
              "      <td>0.0</td>\n",
              "      <td>0.0</td>\n",
              "      <td>0.0</td>\n",
              "      <td>4826.809371</td>\n",
              "      <td>0.0</td>\n",
              "      <td>0.0</td>\n",
              "      <td>0.0</td>\n",
              "      <td>10050.955303</td>\n",
              "    </tr>\n",
              "    <tr>\n",
              "      <th>2021-02-10</th>\n",
              "      <td>5222.342636</td>\n",
              "      <td>0.0</td>\n",
              "      <td>0.0</td>\n",
              "      <td>0.0</td>\n",
              "      <td>4835.761480</td>\n",
              "      <td>0.0</td>\n",
              "      <td>0.0</td>\n",
              "      <td>0.0</td>\n",
              "      <td>10058.104116</td>\n",
              "    </tr>\n",
              "    <tr>\n",
              "      <th>...</th>\n",
              "      <td>...</td>\n",
              "      <td>...</td>\n",
              "      <td>...</td>\n",
              "      <td>...</td>\n",
              "      <td>...</td>\n",
              "      <td>...</td>\n",
              "      <td>...</td>\n",
              "      <td>...</td>\n",
              "      <td>...</td>\n",
              "    </tr>\n",
              "    <tr>\n",
              "      <th>2022-02-17</th>\n",
              "      <td>5850.618949</td>\n",
              "      <td>0.0</td>\n",
              "      <td>0.0</td>\n",
              "      <td>0.0</td>\n",
              "      <td>4620.943329</td>\n",
              "      <td>0.0</td>\n",
              "      <td>0.0</td>\n",
              "      <td>0.0</td>\n",
              "      <td>10471.562278</td>\n",
              "    </tr>\n",
              "    <tr>\n",
              "      <th>2022-02-18</th>\n",
              "      <td>5808.692469</td>\n",
              "      <td>0.0</td>\n",
              "      <td>0.0</td>\n",
              "      <td>0.0</td>\n",
              "      <td>4631.790748</td>\n",
              "      <td>0.0</td>\n",
              "      <td>0.0</td>\n",
              "      <td>0.0</td>\n",
              "      <td>10440.483217</td>\n",
              "    </tr>\n",
              "    <tr>\n",
              "      <th>2022-02-22</th>\n",
              "      <td>5749.775219</td>\n",
              "      <td>0.0</td>\n",
              "      <td>0.0</td>\n",
              "      <td>0.0</td>\n",
              "      <td>4633.598306</td>\n",
              "      <td>0.0</td>\n",
              "      <td>0.0</td>\n",
              "      <td>0.0</td>\n",
              "      <td>10383.373525</td>\n",
              "    </tr>\n",
              "    <tr>\n",
              "      <th>2022-02-23</th>\n",
              "      <td>5643.909652</td>\n",
              "      <td>0.0</td>\n",
              "      <td>0.0</td>\n",
              "      <td>0.0</td>\n",
              "      <td>4611.903813</td>\n",
              "      <td>0.0</td>\n",
              "      <td>0.0</td>\n",
              "      <td>0.0</td>\n",
              "      <td>10255.813464</td>\n",
              "    </tr>\n",
              "    <tr>\n",
              "      <th>2022-02-24</th>\n",
              "      <td>5728.324796</td>\n",
              "      <td>0.0</td>\n",
              "      <td>0.0</td>\n",
              "      <td>0.0</td>\n",
              "      <td>4613.711716</td>\n",
              "      <td>0.0</td>\n",
              "      <td>0.0</td>\n",
              "      <td>0.0</td>\n",
              "      <td>10342.036512</td>\n",
              "    </tr>\n",
              "  </tbody>\n",
              "</table>\n",
              "<p>252 rows × 9 columns</p>\n",
              "</div>\n",
              "      <button class=\"colab-df-convert\" onclick=\"convertToInteractive('df-3c3a56a4-eb4d-47a5-997a-124916cbe0da')\"\n",
              "              title=\"Convert this dataframe to an interactive table.\"\n",
              "              style=\"display:none;\">\n",
              "        \n",
              "  <svg xmlns=\"http://www.w3.org/2000/svg\" height=\"24px\"viewBox=\"0 0 24 24\"\n",
              "       width=\"24px\">\n",
              "    <path d=\"M0 0h24v24H0V0z\" fill=\"none\"/>\n",
              "    <path d=\"M18.56 5.44l.94 2.06.94-2.06 2.06-.94-2.06-.94-.94-2.06-.94 2.06-2.06.94zm-11 1L8.5 8.5l.94-2.06 2.06-.94-2.06-.94L8.5 2.5l-.94 2.06-2.06.94zm10 10l.94 2.06.94-2.06 2.06-.94-2.06-.94-.94-2.06-.94 2.06-2.06.94z\"/><path d=\"M17.41 7.96l-1.37-1.37c-.4-.4-.92-.59-1.43-.59-.52 0-1.04.2-1.43.59L10.3 9.45l-7.72 7.72c-.78.78-.78 2.05 0 2.83L4 21.41c.39.39.9.59 1.41.59.51 0 1.02-.2 1.41-.59l7.78-7.78 2.81-2.81c.8-.78.8-2.07 0-2.86zM5.41 20L4 18.59l7.72-7.72 1.47 1.35L5.41 20z\"/>\n",
              "  </svg>\n",
              "      </button>\n",
              "      \n",
              "  <style>\n",
              "    .colab-df-container {\n",
              "      display:flex;\n",
              "      flex-wrap:wrap;\n",
              "      gap: 12px;\n",
              "    }\n",
              "\n",
              "    .colab-df-convert {\n",
              "      background-color: #E8F0FE;\n",
              "      border: none;\n",
              "      border-radius: 50%;\n",
              "      cursor: pointer;\n",
              "      display: none;\n",
              "      fill: #1967D2;\n",
              "      height: 32px;\n",
              "      padding: 0 0 0 0;\n",
              "      width: 32px;\n",
              "    }\n",
              "\n",
              "    .colab-df-convert:hover {\n",
              "      background-color: #E2EBFA;\n",
              "      box-shadow: 0px 1px 2px rgba(60, 64, 67, 0.3), 0px 1px 3px 1px rgba(60, 64, 67, 0.15);\n",
              "      fill: #174EA6;\n",
              "    }\n",
              "\n",
              "    [theme=dark] .colab-df-convert {\n",
              "      background-color: #3B4455;\n",
              "      fill: #D2E3FC;\n",
              "    }\n",
              "\n",
              "    [theme=dark] .colab-df-convert:hover {\n",
              "      background-color: #434B5C;\n",
              "      box-shadow: 0px 1px 3px 1px rgba(0, 0, 0, 0.15);\n",
              "      filter: drop-shadow(0px 1px 2px rgba(0, 0, 0, 0.3));\n",
              "      fill: #FFFFFF;\n",
              "    }\n",
              "  </style>\n",
              "\n",
              "      <script>\n",
              "        const buttonEl =\n",
              "          document.querySelector('#df-3c3a56a4-eb4d-47a5-997a-124916cbe0da button.colab-df-convert');\n",
              "        buttonEl.style.display =\n",
              "          google.colab.kernel.accessAllowed ? 'block' : 'none';\n",
              "\n",
              "        async function convertToInteractive(key) {\n",
              "          const element = document.querySelector('#df-3c3a56a4-eb4d-47a5-997a-124916cbe0da');\n",
              "          const dataTable =\n",
              "            await google.colab.kernel.invokeFunction('convertToInteractive',\n",
              "                                                     [key], {});\n",
              "          if (!dataTable) return;\n",
              "\n",
              "          const docLinkHtml = 'Like what you see? Visit the ' +\n",
              "            '<a target=\"_blank\" href=https://colab.research.google.com/notebooks/data_table.ipynb>data table notebook</a>'\n",
              "            + ' to learn more about interactive tables.';\n",
              "          element.innerHTML = '';\n",
              "          dataTable['output_type'] = 'display_data';\n",
              "          await google.colab.output.renderOutput(dataTable, element);\n",
              "          const docLink = document.createElement('div');\n",
              "          docLink.innerHTML = docLinkHtml;\n",
              "          element.appendChild(docLink);\n",
              "        }\n",
              "      </script>\n",
              "    </div>\n",
              "  </div>\n",
              "  "
            ]
          },
          "metadata": {},
          "execution_count": 11
        }
      ]
    },
    {
      "cell_type": "markdown",
      "source": [
        "### Plot the portfolio"
      ],
      "metadata": {
        "id": "gE0p1eIthATB"
      }
    },
    {
      "cell_type": "code",
      "source": [
        "portfolio_test_values['Total'].plot() # Need to pretty this up for the dssertation or not use it at all"
      ],
      "metadata": {
        "colab": {
          "base_uri": "https://localhost:8080/",
          "height": 296
        },
        "id": "QAz2ZtdrhEDW",
        "outputId": "b91a6f0f-366c-43ba-dab2-2d95b2d41486"
      },
      "execution_count": 12,
      "outputs": [
        {
          "output_type": "execute_result",
          "data": {
            "text/plain": [
              "<matplotlib.axes._subplots.AxesSubplot at 0x7fd0f2e9c3d0>"
            ]
          },
          "metadata": {},
          "execution_count": 12
        },
        {
          "output_type": "display_data",
          "data": {
            "text/plain": [
              "<Figure size 432x288 with 1 Axes>"
            ],
            "image/png": "[encoded data removed]"
          },
          "metadata": {
            "needs_background": "light"
          }
        }
      ]
    },
    {
      "cell_type": "markdown",
      "source": [
        "### Plot the Individual Assets"
      ],
      "metadata": {
        "id": "1YhvXTIDhCtZ"
      }
    },
    {
      "cell_type": "code",
      "source": [
        "# Plotted on the same graph to see general trend\n",
        "figure = plt.figure()\n",
        "axis = plt.plot(portfolio_test_values.iloc[:,0:1], label='^GSPC')\n",
        "\n",
        "axis = plt.plot(portfolio_test_values.iloc[:,4:5], label='GOVT')\n",
        "plt.tight_layout()\n",
        "plt.legend()\n",
        "plt.show()"
      ],
      "metadata": {
        "colab": {
          "base_uri": "https://localhost:8080/",
          "height": 297
        },
        "id": "ASQAbUAHe3xl",
        "outputId": "4a9484b9-6c88-4a38-942e-5ed28cea027d"
      },
      "execution_count": 13,
      "outputs": [
        {
          "output_type": "display_data",
          "data": {
            "text/plain": [
              "<Figure size 432x288 with 1 Axes>"
            ],
            "image/png": "[encoded data removed]"
          },
          "metadata": {
            "needs_background": "light"
          }
        }
      ]
    },
    {
      "cell_type": "markdown",
      "source": [
        "# Analyse the Test Year"
      ],
      "metadata": {
        "id": "1oIDwjllnZo5"
      }
    },
    {
      "cell_type": "markdown",
      "source": [
        "## Sharpe Ratio"
      ],
      "metadata": {
        "id": "YiV1QxPpnnaz"
      }
    },
    {
      "cell_type": "code",
      "source": [
        "#daily_stock_returns = portfolio_position_values.pct_change().dropna() # Analysing holding such portfolio position from the start\n",
        "daily_stock_returns = portfolio_test_values.pct_change()\n",
        "daily_stock_returns.drop(daily_stock_returns.columns[[1,2,3,5,6,7]], axis=1, inplace=True)\n",
        "daily_stock_returns = daily_stock_returns.dropna()\n",
        "#print(daily_stock_returns)\n",
        "# To calculate sharpie ratio for individual stocks \n",
        "def sharpe_ratio(return_series, N, rf):\n",
        "    mean = return_series.mean() * N -rf\n",
        "    sigma = return_series.std() * np.sqrt(N)\n",
        "    return mean / sigma\n",
        "\n",
        "N = 252 #252 trading days in a year\n",
        "rf = 0 # I assume this to be 0 in my dissertation due to there not being a trully risk free asset\n",
        "sharpes = daily_stock_returns.apply(sharpe_ratio, args=(N,rf,),axis=0)\n",
        "sharpes.plot.bar()\n",
        "sharpes"
      ],
      "metadata": {
        "colab": {
          "base_uri": "https://localhost:8080/",
          "height": 368
        },
        "id": "5j0NlsCDoEpV",
        "outputId": "abdf621c-c4aa-478e-bfc6-28e6794bf161"
      },
      "execution_count": 14,
      "outputs": [
        {
          "output_type": "execute_result",
          "data": {
            "text/plain": [
              "^GSPC    0.775173\n",
              "GOVT    -0.831363\n",
              "Total    0.449883\n",
              "dtype: float64"
            ]
          },
          "metadata": {},
          "execution_count": 14
        },
        {
          "output_type": "display_data",
          "data": {
            "text/plain": [
              "<Figure size 432x288 with 1 Axes>"
            ],
            "image/png": "[encoded data removed]"
          },
          "metadata": {
            "needs_background": "light"
          }
        }
      ]
    },
    {
      "cell_type": "markdown",
      "source": [
        "## Volatility"
      ],
      "metadata": {
        "id": "a3ol81j1onsk"
      }
    },
    {
      "cell_type": "markdown",
      "source": [
        "### Individual Stock Volatility"
      ],
      "metadata": {
        "id": "2Og6XfRLvrqr"
      }
    },
    {
      "cell_type": "markdown",
      "source": [
        "#### Rolling Volatilty for Each stock"
      ],
      "metadata": {
        "id": "mY4OONPS1Uz_"
      }
    },
    {
      "cell_type": "code",
      "source": [
        "#data = portfolio_position_values.pct_change().dropna() # Analysing holding such portfolio position from the start\n",
        "rolling_stock = pd.DataFrame()\n",
        "daily_stock_returns = portfolio_test_values.pct_change()\n",
        "daily_stock_returns.drop(daily_stock_returns.columns[[1,2,3,5,6,7]], axis=1, inplace=True)\n",
        "data = daily_stock_returns.dropna()\n",
        "#print(data)\n",
        "for stock in [\"^GSPC\",\"GOVT\", \"Total\"]:\n",
        "  rolling_stock[stock] = data[stock].rolling(7).std()*(252**0.5)\n",
        "f1 = plt.figure()\n",
        "for i in range(0,3):\n",
        "  rolling_stock.iloc[:,i].plot()\n",
        "  plt.tight_layout()\n",
        "  #plt.show() # To display in separate graphs instead of 1"
      ],
      "metadata": {
        "colab": {
          "base_uri": "https://localhost:8080/",
          "height": 297
        },
        "id": "9Zc8OPdqx421",
        "outputId": "2557b3ae-79ea-48cd-f63e-eea7dc51ed0a"
      },
      "execution_count": 15,
      "outputs": [
        {
          "output_type": "display_data",
          "data": {
            "text/plain": [
              "<Figure size 432x288 with 1 Axes>"
            ],
            "image/png": "[encoded data removed]"
          },
          "metadata": {
            "needs_background": "light"
          }
        }
      ]
    },
    {
      "cell_type": "markdown",
      "source": [
        "#### Anualised volatility for Each Stock"
      ],
      "metadata": {
        "id": "MDOiJi5Q03bn"
      }
    },
    {
      "cell_type": "code",
      "source": [
        "#data = portfolio_position_values.pct_change().dropna() # Analysing holding such portfolio position from the start\n",
        "stock_volatility = pd.DataFrame()\n",
        "daily_stock_returns = portfolio_test_values.pct_change()\n",
        "daily_stock_returns.drop(daily_stock_returns.columns[[1,2,3,5,6,7]], axis=1, inplace=True)\n",
        "data = daily_stock_returns.dropna()\n",
        "tmp = pd.DataFrame()\n",
        "i = 0 \n",
        "for stock in [\"^GSPC\",\"GOVT\", \"Total\"]:\n",
        "  tmp[stock] = data.iloc[:,i:(i+1)]\n",
        "  stock_volatility = tmp.std()*(252**0.5)\n",
        "  i = i + 1\n",
        "print(stock_volatility)"
      ],
      "metadata": {
        "colab": {
          "base_uri": "https://localhost:8080/"
        },
        "id": "qZTilRKUzSFO",
        "outputId": "33679f2f-2947-48e8-999d-b54da6fb3381"
      },
      "execution_count": 16,
      "outputs": [
        {
          "output_type": "stream",
          "name": "stdout",
          "text": [
            "^GSPC    0.146273\n",
            "GOVT     0.053270\n",
            "Total    0.082634\n",
            "dtype: float64\n"
          ]
        }
      ]
    },
    {
      "cell_type": "markdown",
      "source": [
        "### Portfolio Volatility"
      ],
      "metadata": {
        "id": "K22vlVhovwjH"
      }
    },
    {
      "cell_type": "markdown",
      "source": [
        "#### Just the Anualised Volatility for the Portfolio"
      ],
      "metadata": {
        "id": "MreARAfmy5Tx"
      }
    },
    {
      "cell_type": "code",
      "source": [
        "total_portfolio_change = portfolio_test_values['Total'].pct_change().dropna()\n",
        "portfolio_vol = total_portfolio_change.std()*(252**0.5)\n",
        "portfolio_vol"
      ],
      "metadata": {
        "colab": {
          "base_uri": "https://localhost:8080/"
        },
        "id": "p-TrycZSrEAF",
        "outputId": "5ad63dcf-6f22-4791-b3f5-e1a15144806a"
      },
      "execution_count": 17,
      "outputs": [
        {
          "output_type": "execute_result",
          "data": {
            "text/plain": [
              "0.08263421142922617"
            ]
          },
          "metadata": {},
          "execution_count": 17
        }
      ]
    },
    {
      "cell_type": "markdown",
      "source": [
        "## Maximum Drawdown"
      ],
      "metadata": {
        "id": "3OpjwwfunpmH"
      }
    },
    {
      "cell_type": "code",
      "source": [
        "def max_drawdown(return_series):\n",
        "    comp_ret = (return_series+1).cumprod()\n",
        "    peak = comp_ret.expanding(min_periods=1).max()\n",
        "    dd = (comp_ret/peak)-1\n",
        "    return dd.min()\n",
        "\n",
        "daily_stock_returns = portfolio_test_values.pct_change()\n",
        "daily_stock_returns.drop(daily_stock_returns.columns[[1,2,3,5,6,7]], axis=1, inplace=True)\n",
        "daily_stock_returns = daily_stock_returns.dropna()\n",
        "max_drawdowns = daily_stock_returns.apply(max_drawdown,axis=0)\n",
        "max_drawdowns.plot.bar()\n",
        "plt.ylabel('Max Drawdown')\n",
        "max_drawdowns"
      ],
      "metadata": {
        "colab": {
          "base_uri": "https://localhost:8080/",
          "height": 372
        },
        "id": "m0-mPR9VoPTE",
        "outputId": "574ae896-1829-4d58-9323-4dcf04869aa4"
      },
      "execution_count": 18,
      "outputs": [
        {
          "output_type": "execute_result",
          "data": {
            "text/plain": [
              "^GSPC   -0.118501\n",
              "GOVT    -0.053063\n",
              "Total   -0.083094\n",
              "dtype: float64"
            ]
          },
          "metadata": {},
          "execution_count": 18
        },
        {
          "output_type": "display_data",
          "data": {
            "text/plain": [
              "<Figure size 432x288 with 1 Axes>"
            ],
            "image/png": "[encoded data removed]"
          },
          "metadata": {
            "needs_background": "light"
          }
        }
      ]
    },
    {
      "cell_type": "markdown",
      "source": [
        "## Compound Annual Growth Rate (CARG)"
      ],
      "metadata": {
        "id": "gehqsfUbnvUx"
      }
    },
    {
      "cell_type": "code",
      "source": [
        "start_value = portfolio_test_values.iloc[0,:]\n",
        "end_value = portfolio_test_values.iloc[-1,:]\n",
        "number_of_years =  round(len(portfolio_test_values)/252)\n",
        "CARG = (((end_value / start_value) ** (1/number_of_years)) -1)# Shows % of values\n",
        "CARG"
      ],
      "metadata": {
        "colab": {
          "base_uri": "https://localhost:8080/"
        },
        "id": "cbyG1U8PtjiW",
        "outputId": "4c24164b-7ff2-429e-d1c7-a6f3b16f8931"
      },
      "execution_count": 19,
      "outputs": [
        {
          "output_type": "execute_result",
          "data": {
            "text/plain": [
              "^GSPC    0.107693\n",
              "^FTLC         NaN\n",
              "^RUT          NaN\n",
              "IEUS          NaN\n",
              "GOVT    -0.044503\n",
              "IGOV          NaN\n",
              "SIVR          NaN\n",
              "SGOL          NaN\n",
              "Total    0.034204\n",
              "dtype: float64"
            ]
          },
          "metadata": {},
          "execution_count": 19
        }
      ]
    },
    {
      "cell_type": "markdown",
      "source": [
        "## Calmar Ratio"
      ],
      "metadata": {
        "id": "k9vlY18Jn09e"
      }
    },
    {
      "cell_type": "code",
      "source": [
        "#daily_stock_returns = portfolio_position_values.pct_change().dropna() # Analysing holding such portfolio position from the start\n",
        "daily_stock_returns = portfolio_test_values.pct_change()\n",
        "daily_stock_returns.drop(daily_stock_returns.columns[[1,2,3,5,6,7]], axis=1, inplace=True)\n",
        "daily_stock_returns = daily_stock_returns.dropna()\n",
        "calmars = daily_stock_returns.mean()*255/abs(max_drawdowns)\n",
        "\n",
        "calmars.plot.bar()\n",
        "plt.ylabel('Calmar ratio')\n",
        "calmars"
      ],
      "metadata": {
        "colab": {
          "base_uri": "https://localhost:8080/",
          "height": 368
        },
        "id": "VoRp1tp9owR7",
        "outputId": "82b5d40a-beb1-4eac-d6b6-ef9ca33f88fc"
      },
      "execution_count": 20,
      "outputs": [
        {
          "output_type": "execute_result",
          "data": {
            "text/plain": [
              "^GSPC    0.968235\n",
              "GOVT    -0.844546\n",
              "Total    0.452719\n",
              "dtype: float64"
            ]
          },
          "metadata": {},
          "execution_count": 20
        },
        {
          "output_type": "display_data",
          "data": {
            "text/plain": [
              "<Figure size 432x288 with 1 Axes>"
            ],
            "image/png": "[encoded data removed]"
          },
          "metadata": {
            "needs_background": "light"
          }
        }
      ]
    },
    {
      "cell_type": "markdown",
      "source": [
        "## Value at Risk? Haven't decided if I want to include this or not"
      ],
      "metadata": {
        "id": "kNrEjrHtn6tf"
      }
    },
    {
      "cell_type": "markdown",
      "source": [
        "# Export Test Year to CSV"
      ],
      "metadata": {
        "id": "0S0IVt6Hbn3g"
      }
    },
    {
      "cell_type": "code",
      "source": [
        "from google.colab import drive\n",
        "drive.mount('drive')"
      ],
      "metadata": {
        "colab": {
          "base_uri": "https://localhost:8080/"
        },
        "id": "uBIyR-8pZ3_y",
        "outputId": "4be3c79a-00af-43a3-ad65-21b1c3df2bae"
      },
      "execution_count": 61,
      "outputs": [
        {
          "output_type": "stream",
          "name": "stdout",
          "text": [
            "Mounted at drive\n"
          ]
        }
      ]
    },
    {
      "cell_type": "code",
      "source": [
        "portfolio_test_values.to_csv('Mean-VarianceBenchmark.csv')"
      ],
      "metadata": {
        "id": "abcVtYS6XXZ7"
      },
      "execution_count": 62,
      "outputs": []
    },
    {
      "cell_type": "code",
      "source": [
        "!cp Mean-VarianceBenchmark.csv \"drive/My Drive/DisData\""
      ],
      "metadata": {
        "id": "ffx_dWWJZlhj"
      },
      "execution_count": 64,
      "outputs": []
    },
    {
      "cell_type": "code",
      "source": [
        ""
      ],
      "metadata": {
        "id": "0IkERIo9tX3C"
      },
      "execution_count": null,
      "outputs": []
    }
  ]
}