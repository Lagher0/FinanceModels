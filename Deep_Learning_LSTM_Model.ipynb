{
  "nbformat": 4,
  "nbformat_minor": 0,
  "metadata": {
    "colab": {
      "name": "Final Clean Deep Learning Model.ipynb",
      "provenance": [],
      "collapsed_sections": [
        "SvdfZf9TFyiQ",
        "T6fqpiT7GE1N"
      ]
    },
    "kernelspec": {
      "name": "python3",
      "display_name": "Python 3"
    },
    "language_info": {
      "name": "python"
    }
  },
  "cells": [
    {
      "cell_type": "markdown",
      "source": [
        "# Setup Libraries"
      ],
      "metadata": {
        "id": "SvdfZf9TFyiQ"
      }
    },
    {
      "cell_type": "markdown",
      "source": [
        "Needed in google colab"
      ],
      "metadata": {
        "id": "JQwxG5G0F5xj"
      }
    },
    {
      "cell_type": "code",
      "execution_count": null,
      "metadata": {
        "colab": {
          "base_uri": "https://localhost:8080/"
        },
        "id": "RM149AzLYri6",
        "outputId": "2f93cc0b-5a7c-4b6c-a700-c4a4b2c133d2"
      },
      "outputs": [
        {
          "output_type": "stream",
          "name": "stdout",
          "text": [
            "Collecting yfinance\n",
            "  Downloading yfinance-0.1.70-py2.py3-none-any.whl (26 kB)\n",
            "Requirement already satisfied: pandas>=0.24.0 in /usr/local/lib/python3.7/dist-packages (from yfinance) (1.3.5)\n",
            "Requirement already satisfied: multitasking>=0.0.7 in /usr/local/lib/python3.7/dist-packages (from yfinance) (0.0.10)\n",
            "Collecting requests>=2.26\n",
            "  Downloading requests-2.27.1-py2.py3-none-any.whl (63 kB)\n",
            "\u001b[K     |████████████████████████████████| 63 kB 1.4 MB/s \n",
            "\u001b[?25hCollecting lxml>=4.5.1\n",
            "  Downloading lxml-4.8.0-cp37-cp37m-manylinux_2_17_x86_64.manylinux2014_x86_64.manylinux_2_24_x86_64.whl (6.4 MB)\n",
            "\u001b[K     |████████████████████████████████| 6.4 MB 13.6 MB/s \n",
            "\u001b[?25hRequirement already satisfied: numpy>=1.15 in /usr/local/lib/python3.7/dist-packages (from yfinance) (1.21.6)\n",
            "Requirement already satisfied: pytz>=2017.3 in /usr/local/lib/python3.7/dist-packages (from pandas>=0.24.0->yfinance) (2022.1)\n",
            "Requirement already satisfied: python-dateutil>=2.7.3 in /usr/local/lib/python3.7/dist-packages (from pandas>=0.24.0->yfinance) (2.8.2)\n",
            "Requirement already satisfied: six>=1.5 in /usr/local/lib/python3.7/dist-packages (from python-dateutil>=2.7.3->pandas>=0.24.0->yfinance) (1.15.0)\n",
            "Requirement already satisfied: idna<4,>=2.5 in /usr/local/lib/python3.7/dist-packages (from requests>=2.26->yfinance) (2.10)\n",
            "Requirement already satisfied: certifi>=2017.4.17 in /usr/local/lib/python3.7/dist-packages (from requests>=2.26->yfinance) (2021.10.8)\n",
            "Requirement already satisfied: urllib3<1.27,>=1.21.1 in /usr/local/lib/python3.7/dist-packages (from requests>=2.26->yfinance) (1.24.3)\n",
            "Requirement already satisfied: charset-normalizer~=2.0.0 in /usr/local/lib/python3.7/dist-packages (from requests>=2.26->yfinance) (2.0.12)\n",
            "Installing collected packages: requests, lxml, yfinance\n",
            "  Attempting uninstall: requests\n",
            "    Found existing installation: requests 2.23.0\n",
            "    Uninstalling requests-2.23.0:\n",
            "      Successfully uninstalled requests-2.23.0\n",
            "  Attempting uninstall: lxml\n",
            "    Found existing installation: lxml 4.2.6\n",
            "    Uninstalling lxml-4.2.6:\n",
            "      Successfully uninstalled lxml-4.2.6\n",
            "\u001b[31mERROR: pip's dependency resolver does not currently take into account all the packages that are installed. This behaviour is the source of the following dependency conflicts.\n",
            "google-colab 1.0.0 requires requests~=2.23.0, but you have requests 2.27.1 which is incompatible.\n",
            "datascience 0.10.6 requires folium==0.2.1, but you have folium 0.8.3 which is incompatible.\u001b[0m\n",
            "Successfully installed lxml-4.8.0 requests-2.27.1 yfinance-0.1.70\n"
          ]
        }
      ],
      "source": [
        "pip install yfinance"
      ]
    },
    {
      "cell_type": "code",
      "source": [
        "# Provides ways to work with large multidimensional arrays\n",
        "import numpy as np \n",
        "# Allows for further data manipulation and analysis\n",
        "import pandas as pd \n",
        "import matplotlib.pyplot as plt # Plotting\n",
        "import matplotlib.dates as mdates # Styling dates\n",
        "#import matplotlib.mlab as mlab \n",
        "%matplotlib inline\n",
        "\n",
        "# statistical calculation\n",
        "#from scipy.stats import norm\n",
        "\n",
        "import datetime as dt # For defining dates\n",
        "\n",
        "import time\n",
        "\n",
        "import yfinance as yf"
      ],
      "metadata": {
        "id": "Ca_QWCWpF-yU"
      },
      "execution_count": null,
      "outputs": []
    },
    {
      "cell_type": "markdown",
      "source": [
        "# Get Stock Data"
      ],
      "metadata": {
        "id": "T6fqpiT7GE1N"
      }
    },
    {
      "cell_type": "code",
      "source": [
        "all_stocks = [\"^GSPC\", \"^FTLC\", \"^RUT\", \"IEUS\", \"GOVT\", \"IGOV\", \"SIVR\", \"SGOL\"]"
      ],
      "metadata": {
        "id": "EM5tszECGHM9"
      },
      "execution_count": null,
      "outputs": []
    },
    {
      "cell_type": "code",
      "source": [
        "def get_all_closes_of_stocks(tickers):\n",
        "  i = 0\n",
        "  stock_list = pd.DataFrame()\n",
        "  for ticker in tickers:\n",
        "    stock = yf.Ticker(ticker)        \n",
        "    data = stock.history(start=\"2012-02-24\",end =\"2022-02-25\")\n",
        "    data.drop(data.columns[[0,1,2,4,5,6]], axis=1, inplace=True) # Just gets the adjacent close for each asset\n",
        "    data.columns = [ticker]\n",
        "    stock_list[ticker] = data.iloc[:,0]\n",
        "  return stock_list.dropna()\n",
        "stock_data = get_all_closes_of_stocks(all_stocks)\n",
        "print(stock_data)"
      ],
      "metadata": {
        "colab": {
          "base_uri": "https://localhost:8080/"
        },
        "id": "6pHUhYdCGLFq",
        "outputId": "283bcb61-0ba8-4848-f437-fe9745f2f82c"
      },
      "execution_count": null,
      "outputs": [
        {
          "output_type": "stream",
          "name": "stdout",
          "text": [
            "                  ^GSPC        ^FTLC         ^RUT       IEUS       GOVT  \\\n",
            "Date                                                                      \n",
            "2012-02-24  1365.739990  3144.399902   826.919983  27.285179  21.551908   \n",
            "2012-02-27  1367.589966  3133.399902   826.659973  27.201174  21.551908   \n",
            "2012-02-28  1372.180054  3141.199951   823.799988  27.445539  21.551908   \n",
            "2012-02-29  1365.680054  3112.399902   810.940002  27.155354  21.551908   \n",
            "2012-03-01  1374.089966  3142.899902   815.219971  27.117176  21.551908   \n",
            "...                 ...          ...          ...        ...        ...   \n",
            "2022-02-17  4380.259766  4240.200195  2028.089966  63.590000  25.511517   \n",
            "2022-02-18  4348.870117  4222.799805  2009.329956  62.840000  25.571404   \n",
            "2022-02-22  4304.759766  4201.799805  1980.170044  61.560001  25.581383   \n",
            "2022-02-23  4225.500000  4198.799805  1944.089966  60.889999  25.461611   \n",
            "2022-02-24  4288.700195  4042.899902  1996.010010  60.000000  25.471592   \n",
            "\n",
            "                 IGOV       SIVR       SGOL  \n",
            "Date                                         \n",
            "2012-02-24  47.279099  35.110001  17.559000  \n",
            "2012-02-27  47.222900  35.099998  17.504000  \n",
            "2012-02-28  47.592918  36.610001  17.688000  \n",
            "2012-02-29  47.358734  34.240002  16.750000  \n",
            "2012-03-01  46.416687  35.180000  16.987000  \n",
            "...               ...        ...        ...  \n",
            "2022-02-17  48.439999  22.959999  18.219999  \n",
            "2022-02-18  48.380001  23.040001  18.200001  \n",
            "2022-02-22  48.330002  23.260000  18.240000  \n",
            "2022-02-23  48.130001  23.680000  18.330000  \n",
            "2022-02-24  47.959999  23.270000  18.219999  \n",
            "\n",
            "[2401 rows x 8 columns]\n"
          ]
        }
      ]
    },
    {
      "cell_type": "markdown",
      "source": [
        "# Pytorch Clean start"
      ],
      "metadata": {
        "id": "EMbmzUGqT1vc"
      }
    },
    {
      "cell_type": "markdown",
      "source": [
        "## Data Preprocessing"
      ],
      "metadata": {
        "id": "vfiZnLoqT4nT"
      }
    },
    {
      "cell_type": "code",
      "source": [
        "import torch\n",
        "import torch.nn as nn\n",
        "from torch.utils.data import Dataset, DataLoader"
      ],
      "metadata": {
        "id": "c91cVskuVDz9"
      },
      "execution_count": null,
      "outputs": []
    },
    {
      "cell_type": "markdown",
      "source": [
        "Length references the number of values in a single sample. It would be 8 for me"
      ],
      "metadata": {
        "id": "k3E5HKy2UjL0"
      }
    },
    {
      "cell_type": "markdown",
      "source": [
        "Predicting the next value using the half a years worth of input data"
      ],
      "metadata": {
        "id": "blEs8VR1U1Oc"
      }
    },
    {
      "cell_type": "markdown",
      "source": [
        "Use price change and maybe some standarsation like standard scaling "
      ],
      "metadata": {
        "id": "CptjRafDbBnF"
      }
    },
    {
      "cell_type": "markdown",
      "source": [
        "Use pct_change(). That'll give me normalised daily returns change"
      ],
      "metadata": {
        "id": "HpcjCDvvnSF3"
      }
    },
    {
      "cell_type": "markdown",
      "source": [
        "Try just standerising the values"
      ],
      "metadata": {
        "id": "jpG_dZ7KqCXk"
      }
    },
    {
      "cell_type": "code",
      "source": [
        "norm_stock_data = stock_data.pct_change().dropna() # Gives us a % change\n",
        "norm_stock_data = norm_stock_data.to_numpy()\n",
        "\n",
        "test_size = 252\n",
        "validate_size = 252"
      ],
      "metadata": {
        "id": "e_Gue6SOnL4h"
      },
      "execution_count": null,
      "outputs": []
    },
    {
      "cell_type": "code",
      "source": [
        "print(norm_stock_data.shape)"
      ],
      "metadata": {
        "colab": {
          "base_uri": "https://localhost:8080/"
        },
        "id": "RMfZKC06uqZA",
        "outputId": "385d7662-8a11-4eff-ff7c-4c96a691323a"
      },
      "execution_count": null,
      "outputs": [
        {
          "output_type": "stream",
          "name": "stdout",
          "text": [
            "(2400, 8)\n"
          ]
        }
      ]
    },
    {
      "cell_type": "markdown",
      "source": [
        "### Remove test year from data"
      ],
      "metadata": {
        "id": "_8gTaY8Tu2tj"
      }
    },
    {
      "cell_type": "markdown",
      "source": [
        "We don't want to train on the test year"
      ],
      "metadata": {
        "id": "meNhxe6ev7Yx"
      }
    },
    {
      "cell_type": "code",
      "source": [
        "test_stock_data = norm_stock_data[-test_size*2:-test_size] ## This is the year previous the test year that we will actually input into the LSTM to make a prediction on the test year"
      ],
      "metadata": {
        "id": "WXl7vcMUyRQ5"
      },
      "execution_count": null,
      "outputs": []
    },
    {
      "cell_type": "code",
      "source": [
        "norm_stock_data = norm_stock_data[:-test_size]"
      ],
      "metadata": {
        "id": "oN5abSB3ueNs"
      },
      "execution_count": null,
      "outputs": []
    },
    {
      "cell_type": "code",
      "source": [
        "print(norm_stock_data.shape)\n",
        "#print(norm_stock_data[2399])"
      ],
      "metadata": {
        "colab": {
          "base_uri": "https://localhost:8080/"
        },
        "id": "63oJca0Bqa8k",
        "outputId": "5407f41d-91bf-4dd2-8923-4f597cf8c449"
      },
      "execution_count": null,
      "outputs": [
        {
          "output_type": "stream",
          "name": "stdout",
          "text": [
            "(2148, 8)\n"
          ]
        }
      ]
    },
    {
      "cell_type": "markdown",
      "source": [
        "### Setup Train data"
      ],
      "metadata": {
        "id": "4b-Zto4su7k0"
      }
    },
    {
      "cell_type": "code",
      "source": [
        "trainX = []\n",
        "trainY = []\n",
        "\n",
        "n_future = 252 # Could do 252 days tested it on 20  # Number of days we want to look into the future based on the past days.\n",
        "n_past = 252 # Could do 252 days tested it on 126 # Number of past days we want to use to predict the future.\n",
        "\n",
        "#Reformat input data into a shape: (n_samples x timesteps x n_features)\n",
        "#In my example, my df_for_training_scaled has a shape (12823, 5)\n",
        "#12823 refers to the number of data points and 5 refers to the columns (multi-variables).\n",
        "for i in range(n_past, len(norm_stock_data) - n_future +1):\n",
        "    trainX.append(norm_stock_data[i - n_past:i, 0:norm_stock_data.shape[1]])\n",
        "    trainY.append(norm_stock_data[i + n_future - 1:i + n_future, 0:norm_stock_data.shape[1]])\n",
        "trainX, trainY = np.array(trainX), np.array(trainY)"
      ],
      "metadata": {
        "id": "M1vnk2NOT39U"
      },
      "execution_count": null,
      "outputs": []
    },
    {
      "cell_type": "code",
      "source": [
        "print(trainX.shape)\n",
        "print(trainY[0])"
      ],
      "metadata": {
        "colab": {
          "base_uri": "https://localhost:8080/"
        },
        "id": "DeHq486YU723",
        "outputId": "99569aec-4ced-4744-90aa-db9984d0bc83"
      },
      "execution_count": null,
      "outputs": [
        {
          "output_type": "stream",
          "name": "stdout",
          "text": [
            "(1645, 252, 8)\n",
            "[[-0.0117011  -0.00989251 -0.01227998 -0.00869367  0.00203627  0.00155149\n",
            "  -0.00523563  0.00334897]]\n"
          ]
        }
      ]
    },
    {
      "cell_type": "markdown",
      "source": [
        "### Test Year"
      ],
      "metadata": {
        "id": "sPpv-jM_xQ49"
      }
    },
    {
      "cell_type": "markdown",
      "source": [
        "To actually predict the asset allocation for the test year we need to input the year previous the test year. Here we just format it"
      ],
      "metadata": {
        "id": "qKrzgYq40Jpk"
      }
    },
    {
      "cell_type": "code",
      "source": [
        "test_stock_data = np.expand_dims(test_stock_data, axis = 0)\n",
        "test_stock_data.shape"
      ],
      "metadata": {
        "colab": {
          "base_uri": "https://localhost:8080/"
        },
        "id": "SCnKN_BryOFS",
        "outputId": "c995a120-9875-497b-ea3d-14b6d72585e4"
      },
      "execution_count": null,
      "outputs": [
        {
          "output_type": "execute_result",
          "data": {
            "text/plain": [
              "(1, 252, 8)"
            ]
          },
          "metadata": {},
          "execution_count": 13
        }
      ]
    },
    {
      "cell_type": "markdown",
      "source": [
        "## Pytorch Dataset"
      ],
      "metadata": {
        "id": "YCc7cH5qlYrF"
      }
    },
    {
      "cell_type": "code",
      "source": [
        "class StockDataset(Dataset):\n",
        "  def __init__(self, sequences, labels):\n",
        "    self.sequences = sequences\n",
        "    self.labels = labels\n",
        "  def __len__ (self):\n",
        "    return len(self.sequences)\n",
        "  def __getitem__(self, idx):\n",
        "    sequence = torch.tensor(self.sequences[idx], dtype=torch.double)\n",
        "    label = torch.tensor(self.labels[idx], dtype=torch.double)# Add .float if needed\n",
        "    return sequence, label"
      ],
      "metadata": {
        "id": "bFdGtmSZrkr1"
      },
      "execution_count": null,
      "outputs": []
    },
    {
      "cell_type": "code",
      "source": [
        "train_dataset = StockDataset(trainX, trainY)"
      ],
      "metadata": {
        "id": "_MYIhD0MtvOK"
      },
      "execution_count": null,
      "outputs": []
    },
    {
      "cell_type": "code",
      "source": [
        "train_loader = torch.utils.data.DataLoader(dataset=train_dataset, batch_size=25, shuffle=False, num_workers=1)"
      ],
      "metadata": {
        "id": "-KNtm5zRtycr"
      },
      "execution_count": null,
      "outputs": []
    },
    {
      "cell_type": "markdown",
      "source": [
        "## Weight Prediction Model"
      ],
      "metadata": {
        "id": "Pv7DmF5Vpe72"
      }
    },
    {
      "cell_type": "markdown",
      "source": [
        "## Custom Loss Function. Calculates the Sharpe ratio for the y range prediction"
      ],
      "metadata": {
        "id": "P6H5y0SZUugd"
      }
    },
    {
      "cell_type": "code",
      "source": [
        "def portfolio_returns(weights, y):\n",
        "  return torch.sum(torch.mul(weights, y), dim=2) # Calculate the return over the timestep I'm not doing logs"
      ],
      "metadata": {
        "id": "iYAobU0ERCof"
      },
      "execution_count": null,
      "outputs": []
    },
    {
      "cell_type": "code",
      "source": [
        "def sharpe_ratio_loss(weights, future_values, rf = 0.00): # representing the evolution over the next `horizon` timesteps.\n",
        "  predicted_returns = torch.sum(torch.mul(weights, future_values), dim=2)\n",
        "  #print(predicted_returns)\n",
        "  return -(torch.mean(predicted_returns,dim=0) - rf) / (torch.std(predicted_returns,dim=0))\n",
        "class SharpeRatioMSE(nn.Module):\n",
        "  def __init__(self):\n",
        "    super(SharpeRatioMSE,self).__init__()\n",
        "  def forward(self, input, target):\n",
        "    return sharpe_ratio_loss(input,target)"
      ],
      "metadata": {
        "id": "_ibr7dY_CBE8"
      },
      "execution_count": null,
      "outputs": []
    },
    {
      "cell_type": "markdown",
      "source": [
        "### Define the model"
      ],
      "metadata": {
        "id": "gKe2bNrsVSkE"
      }
    },
    {
      "cell_type": "markdown",
      "source": [
        "n_hidden is the hidden number of features in the LSTM"
      ],
      "metadata": {
        "id": "EjcdpRLdVv2d"
      }
    },
    {
      "cell_type": "markdown",
      "source": [
        "Features are the number of stocks I will be using"
      ],
      "metadata": {
        "id": "QeVzh2VpdVZ2"
      }
    },
    {
      "cell_type": "markdown",
      "source": [
        "batch_first – If True, then the input and output tensors are provided as (batch, seq, feature) instead of (seq, batch, feature). Note that this does not apply to hidden or cell states. See the Inputs/Outputs sections below for details. Default: False"
      ],
      "metadata": {
        "id": "aDzaSLEVdrdJ"
      }
    },
    {
      "cell_type": "markdown",
      "source": [
        "num_layers – Number of recurrent layers. E.g., setting num_layers=2 would mean stacking two LSTMs together to form a stacked LSTM, with the second LSTM taking in outputs of the first LSTM and computing the final results. Default: 1"
      ],
      "metadata": {
        "id": "OrRWWzVueYrN"
      }
    },
    {
      "cell_type": "markdown",
      "source": [
        "a sequence of 126 datapoints in each batch containing 8 features each"
      ],
      "metadata": {
        "id": "kn3Oas6nd_Se"
      }
    },
    {
      "cell_type": "code",
      "source": [
        "class MV_LSTM(torch.nn.Module):  \n",
        "  def __init__(self,n_features,seq_length):\n",
        "    super(MV_LSTM, self).__init__()\n",
        "    self.n_features = n_features\n",
        "    self.seq_len = seq_length\n",
        "    self.n_hidden = 50 # number of hidden states\n",
        "    self.n_layers = 1 # number of LSTM layers (stacked)\n",
        "\n",
        "    self.l_lstm = torch.nn.LSTM(input_size = n_features, \n",
        "                              hidden_size = self.n_hidden,\n",
        "                              num_layers = self.n_layers, \n",
        "                              batch_first = True)\n",
        "    # according to pytorch docs LSTM output is \n",
        "    # (batch_size,seq_len, num_directions * hidden_size)\n",
        "    # when considering batch_first = True\n",
        "    self.l_linear = torch.nn.Linear(self.n_hidden*self.seq_len, 8)\n",
        "    self.softmax = torch.nn.Softmax(dim=1)\n",
        "\n",
        "    \n",
        "  def init_hidden(self, batch_size):\n",
        "    # even with batch_first = True this remains same as docs\n",
        "    hidden_state = torch.zeros(self.n_layers,batch_size,self.n_hidden)\n",
        "    cell_state = torch.zeros(self.n_layers,batch_size,self.n_hidden)\n",
        "    self.hidden = (hidden_state, cell_state)\n",
        "    \n",
        "    \n",
        "  def forward(self, x):\n",
        "    #print(\"x\")\n",
        "    #print(x.shape) \n",
        "    batch_size, seq_len, _ = x.size()\n",
        "\n",
        "    lstm_out, self.hidden = self.l_lstm(x,self.hidden)\n",
        "    #print(\"x\")\n",
        "    #print(x.shape) \n",
        "    # lstm_out(with batch_first = True) is \n",
        "    # (batch_size,seq_len,num_directions * hidden_size)\n",
        "    # for following linear layer we want to keep batch_size dimension and merge rest       \n",
        "    # .contiguous() -> solves tensor compatibility error\n",
        "    #print(x.shape)\n",
        "    x = lstm_out.contiguous().view(batch_size,-1)\n",
        "\n",
        "    x = self.l_linear(x)\n",
        "    #print(x.shape)\n",
        "    #print(x)\n",
        "    #\n",
        "    weights = self.softmax(x)\n",
        "    return weights"
      ],
      "metadata": {
        "id": "aQ6lx9brVWD7"
      },
      "execution_count": null,
      "outputs": []
    },
    {
      "cell_type": "markdown",
      "source": [
        "### Initialisation"
      ],
      "metadata": {
        "id": "gt13GmqqVWEA"
      }
    },
    {
      "cell_type": "code",
      "source": [
        "n_features = 8 # this is number of parallel inputs\n",
        "n_timesteps = 252 # this is number of timesteps\n",
        "\n",
        "# create NN\n",
        "mv_net = MV_LSTM(n_features,n_timesteps)\n",
        "mv_net = mv_net.double()\n",
        "torch.set_default_tensor_type(torch.DoubleTensor)"
      ],
      "metadata": {
        "id": "gSl7bhFPVWEE"
      },
      "execution_count": null,
      "outputs": []
    },
    {
      "cell_type": "code",
      "source": [
        "print(mv_net)"
      ],
      "metadata": {
        "colab": {
          "base_uri": "https://localhost:8080/"
        },
        "outputId": "98d825f1-0cb4-4648-9640-120e66c1d899",
        "id": "oipT7ztCVWEF"
      },
      "execution_count": null,
      "outputs": [
        {
          "output_type": "stream",
          "name": "stdout",
          "text": [
            "MV_LSTM(\n",
            "  (l_lstm): LSTM(8, 50, batch_first=True)\n",
            "  (l_linear): Linear(in_features=12600, out_features=8, bias=True)\n",
            "  (softmax): Softmax(dim=1)\n",
            ")\n"
          ]
        }
      ]
    },
    {
      "cell_type": "markdown",
      "source": [
        "### Pytorch training Loop"
      ],
      "metadata": {
        "id": "N9s7n4gZVWEI"
      }
    },
    {
      "cell_type": "markdown",
      "source": [
        "It looks like without the shuffle that it does it in sequence meaning I should be able to track what date it is and calculate the "
      ],
      "metadata": {
        "id": "0oCk8XPnVWEK"
      }
    },
    {
      "cell_type": "code",
      "source": [
        "#criterion = torch.nn.MSELoss() # reduction='sum' created huge loss value\n",
        "#optim = torch.optim.Adam(mv_net.parameters(), lr=0.18)#1e-1\n",
        "optim = torch.optim.SGD(mv_net.parameters(), lr = 0.22) # Defines the optimiser  0.2-0.25 works quite well\n",
        "criterion = SharpeRatioMSE()"
      ],
      "metadata": {
        "id": "yjLCLn1IVWEL"
      },
      "execution_count": null,
      "outputs": []
    },
    {
      "cell_type": "code",
      "source": [
        "num_epochs = 50"
      ],
      "metadata": {
        "id": "lNzJaUkgtUIe"
      },
      "execution_count": null,
      "outputs": []
    },
    {
      "cell_type": "markdown",
      "source": [
        "Sometimes it gets very jumpy and doesn't converge restart if it does that"
      ],
      "metadata": {
        "id": "4DlFGyJOVWEN"
      }
    },
    {
      "cell_type": "code",
      "source": [
        "mv_net.train()\n",
        "for epoch in range(num_epochs): # Loops through all epochs\n",
        "  total_loss = 0\n",
        "  for i, (sequences, labels) in enumerate(train_loader): # Loops through all batches of the epoch\n",
        "    mv_net.init_hidden(sequences.size(0))\n",
        "    #print(sequences.shape)\n",
        "    #print(sequences.shape)\n",
        "    output = mv_net(sequences) # Uses the model to predict the output\n",
        "    #print(labels)\n",
        "    #loss.requires_grad = True\n",
        "    print(output)\n",
        "    #tmp_test = output\n",
        "    #print(labels)\n",
        "    loss = criterion(output.unsqueeze(dim=1), labels) # Calculates the loss for the batch\n",
        "    #print(loss)\n",
        "    loss.backward() # Calculates the backwars propagation\n",
        "    optim.step() # Adjusts the network\n",
        "    optim.zero_grad() # Resets the gradients of the optimiser\n",
        "    total_loss += loss.detach().numpy()[0]\n",
        "  print('Total loss over epoch {}: {:.2f}'.format(epoch+1,total_loss))"
      ],
      "metadata": {
        "id": "T7lmvQ5WVWEO"
      },
      "execution_count": null,
      "outputs": []
    },
    {
      "cell_type": "markdown",
      "source": [
        "## Get the Test Year Predicted Portfolio Weights"
      ],
      "metadata": {
        "id": "PFXLLiT2ULIG"
      }
    },
    {
      "cell_type": "markdown",
      "source": [
        "Format the year previous to the test year so that we make a test year prediction"
      ],
      "metadata": {
        "id": "z3bup1DlLvwY"
      }
    },
    {
      "cell_type": "code",
      "source": [
        "test_year = torch.tensor(test_stock_data,dtype=torch.double)\n",
        "test_year.size(0)"
      ],
      "metadata": {
        "id": "xkFZ8XjqhB3_",
        "colab": {
          "base_uri": "https://localhost:8080/"
        },
        "outputId": "2fb39f77-1dbf-406c-88b5-3bbe5f1b655c"
      },
      "execution_count": null,
      "outputs": [
        {
          "output_type": "execute_result",
          "data": {
            "text/plain": [
              "1"
            ]
          },
          "metadata": {},
          "execution_count": 144
        }
      ]
    },
    {
      "cell_type": "code",
      "source": [
        "print(test_year.size(0))"
      ],
      "metadata": {
        "colab": {
          "base_uri": "https://localhost:8080/"
        },
        "id": "o0lBW1e16WpP",
        "outputId": "c640ecc3-838a-44f0-e6ab-9c9bf0aad017"
      },
      "execution_count": null,
      "outputs": [
        {
          "output_type": "stream",
          "name": "stdout",
          "text": [
            "1\n"
          ]
        }
      ]
    },
    {
      "cell_type": "code",
      "source": [
        "mv_net.eval()\n",
        "mv_net.init_hidden(test_year.size(0))\n",
        "with torch.no_grad():\n",
        "  y_predict = mv_net(test_year)\n",
        "  print(y_predict)\n",
        "weights = y_predict.numpy()\n",
        "portfolio_weights = pd.DataFrame(weights,columns=all_stocks)\n",
        "portfolio_weights = portfolio_weights.iloc[0,:]\n",
        "portfolio_weights"
      ],
      "metadata": {
        "colab": {
          "base_uri": "https://localhost:8080/"
        },
        "id": "rh5PTGE-gtYs",
        "outputId": "7c1a9ee6-4fc9-46b8-8c6f-1ea8d29f4ffe"
      },
      "execution_count": null,
      "outputs": [
        {
          "output_type": "stream",
          "name": "stdout",
          "text": [
            "tensor([[0.2086, 0.0672, 0.0984, 0.1118, 0.3458, 0.0780, 0.0418, 0.0483]])\n"
          ]
        },
        {
          "output_type": "execute_result",
          "data": {
            "text/plain": [
              "^GSPC    0.208600\n",
              "^FTLC    0.067247\n",
              "^RUT     0.098428\n",
              "IEUS     0.111784\n",
              "GOVT     0.345843\n",
              "IGOV     0.077961\n",
              "SIVR     0.041844\n",
              "SGOL     0.048293\n",
              "Name: 0, dtype: float64"
            ]
          },
          "metadata": {},
          "execution_count": 146
        }
      ]
    },
    {
      "cell_type": "markdown",
      "source": [
        "# Benchmark the Test Year"
      ],
      "metadata": {
        "id": "6wMeAdtWL-QA"
      }
    },
    {
      "cell_type": "code",
      "source": [
        "initial_investment = 10000 # 10'000 dollar invesment. Can Change to 100'000 later \n",
        "trading_year = 252 # Number of trading days in a year\n",
        "stock_returns = stock_data.pct_change() "
      ],
      "metadata": {
        "id": "mvk66HGWnYQL"
      },
      "execution_count": null,
      "outputs": []
    },
    {
      "cell_type": "code",
      "source": [
        "weighted_portfolio = portfolio_weights * initial_investment # Calculate the dollars invested in each asset in the portfolio\n",
        "num_of_shares = weighted_portfolio / stock_data.iloc[(-trading_year),:] # Calculate the number of shares owned of each asset in the portfolio\n",
        "portfolio_test_values = num_of_shares * stock_data.iloc[(-trading_year):,:] # share * share price = position value and it is done for each day in the trading year for all assets\n",
        "portfolio_test_values['Total'] = portfolio_test_values.sum(axis=1)\n",
        "portfolio_test_values"
      ],
      "metadata": {
        "colab": {
          "base_uri": "https://localhost:8080/",
          "height": 455
        },
        "id": "GGzI4KFTdW01",
        "outputId": "4d46bea9-647d-4756-9252-ae0bb7c5e111"
      },
      "execution_count": null,
      "outputs": [
        {
          "output_type": "execute_result",
          "data": {
            "text/plain": [
              "                  ^GSPC       ^FTLC         ^RUT         IEUS         GOVT  \\\n",
              "Date                                                                         \n",
              "2021-02-04  2086.001354  672.471084   984.280156  1117.835239  3458.430350   \n",
              "2021-02-05  2094.131535  672.759677   998.094167  1129.528453  3453.301516   \n",
              "2021-02-08  2109.626743  675.771675  1023.313182  1135.636900  3454.583539   \n",
              "2021-02-09  2107.277621  676.601304  1027.442612  1140.872663  3457.147585   \n",
              "2021-02-10  2106.550221  675.302723  1020.041782  1135.636900  3463.559680   \n",
              "...                 ...         ...          ...          ...          ...   \n",
              "2022-02-17  2359.979706  764.761170   906.370619  1139.186681  3309.698352   \n",
              "2022-02-18  2343.067710  761.622841   897.986611  1125.750763  3317.467941   \n",
              "2022-02-22  2319.302103  757.835288   884.954799  1102.820152  3318.762584   \n",
              "2022-02-23  2276.598828  757.294209   868.830306  1090.817363  3303.224147   \n",
              "2022-02-24  2310.649589  729.176152   892.033814  1074.873419  3304.519038   \n",
              "\n",
              "                  IGOV        SIVR        SGOL         Total  \n",
              "Date                                                          \n",
              "2021-02-04  779.611482  418.435846  482.934489  10000.000000  \n",
              "2021-02-05  783.222845  426.489038  487.696606  10045.223837  \n",
              "2021-02-08  784.089521  434.049137  492.458723  10109.529421  \n",
              "2021-02-09  788.856489  431.912597  493.859324  10123.970194  \n",
              "2021-02-10  787.845320  428.789933  495.820240  10113.546798  \n",
              "...                ...         ...         ...           ...  \n",
              "2022-02-17  702.449422  377.348271  510.386669  10070.180889  \n",
              "2022-02-18  701.579371  378.663104  509.826461  10035.964803  \n",
              "2022-02-22  700.854310  382.278799  510.946930   9977.754966  \n",
              "2022-02-23  697.954013  389.181513  513.468054   9897.368433  \n",
              "2022-02-24  695.488740  382.443153  510.386669   9899.570573  \n",
              "\n",
              "[252 rows x 9 columns]"
            ],
            "text/html": [
              "\n",
              "  <div id=\"df-dfb499f8-2622-4078-872a-06c25bf3850f\">\n",
              "    <div class=\"colab-df-container\">\n",
              "      <div>\n",
              "<style scoped>\n",
              "    .dataframe tbody tr th:only-of-type {\n",
              "        vertical-align: middle;\n",
              "    }\n",
              "\n",
              "    .dataframe tbody tr th {\n",
              "        vertical-align: top;\n",
              "    }\n",
              "\n",
              "    .dataframe thead th {\n",
              "        text-align: right;\n",
              "    }\n",
              "</style>\n",
              "<table border=\"1\" class=\"dataframe\">\n",
              "  <thead>\n",
              "    <tr style=\"text-align: right;\">\n",
              "      <th></th>\n",
              "      <th>^GSPC</th>\n",
              "      <th>^FTLC</th>\n",
              "      <th>^RUT</th>\n",
              "      <th>IEUS</th>\n",
              "      <th>GOVT</th>\n",
              "      <th>IGOV</th>\n",
              "      <th>SIVR</th>\n",
              "      <th>SGOL</th>\n",
              "      <th>Total</th>\n",
              "    </tr>\n",
              "    <tr>\n",
              "      <th>Date</th>\n",
              "      <th></th>\n",
              "      <th></th>\n",
              "      <th></th>\n",
              "      <th></th>\n",
              "      <th></th>\n",
              "      <th></th>\n",
              "      <th></th>\n",
              "      <th></th>\n",
              "      <th></th>\n",
              "    </tr>\n",
              "  </thead>\n",
              "  <tbody>\n",
              "    <tr>\n",
              "      <th>2021-02-04</th>\n",
              "      <td>2086.001354</td>\n",
              "      <td>672.471084</td>\n",
              "      <td>984.280156</td>\n",
              "      <td>1117.835239</td>\n",
              "      <td>3458.430350</td>\n",
              "      <td>779.611482</td>\n",
              "      <td>418.435846</td>\n",
              "      <td>482.934489</td>\n",
              "      <td>10000.000000</td>\n",
              "    </tr>\n",
              "    <tr>\n",
              "      <th>2021-02-05</th>\n",
              "      <td>2094.131535</td>\n",
              "      <td>672.759677</td>\n",
              "      <td>998.094167</td>\n",
              "      <td>1129.528453</td>\n",
              "      <td>3453.301516</td>\n",
              "      <td>783.222845</td>\n",
              "      <td>426.489038</td>\n",
              "      <td>487.696606</td>\n",
              "      <td>10045.223837</td>\n",
              "    </tr>\n",
              "    <tr>\n",
              "      <th>2021-02-08</th>\n",
              "      <td>2109.626743</td>\n",
              "      <td>675.771675</td>\n",
              "      <td>1023.313182</td>\n",
              "      <td>1135.636900</td>\n",
              "      <td>3454.583539</td>\n",
              "      <td>784.089521</td>\n",
              "      <td>434.049137</td>\n",
              "      <td>492.458723</td>\n",
              "      <td>10109.529421</td>\n",
              "    </tr>\n",
              "    <tr>\n",
              "      <th>2021-02-09</th>\n",
              "      <td>2107.277621</td>\n",
              "      <td>676.601304</td>\n",
              "      <td>1027.442612</td>\n",
              "      <td>1140.872663</td>\n",
              "      <td>3457.147585</td>\n",
              "      <td>788.856489</td>\n",
              "      <td>431.912597</td>\n",
              "      <td>493.859324</td>\n",
              "      <td>10123.970194</td>\n",
              "    </tr>\n",
              "    <tr>\n",
              "      <th>2021-02-10</th>\n",
              "      <td>2106.550221</td>\n",
              "      <td>675.302723</td>\n",
              "      <td>1020.041782</td>\n",
              "      <td>1135.636900</td>\n",
              "      <td>3463.559680</td>\n",
              "      <td>787.845320</td>\n",
              "      <td>428.789933</td>\n",
              "      <td>495.820240</td>\n",
              "      <td>10113.546798</td>\n",
              "    </tr>\n",
              "    <tr>\n",
              "      <th>...</th>\n",
              "      <td>...</td>\n",
              "      <td>...</td>\n",
              "      <td>...</td>\n",
              "      <td>...</td>\n",
              "      <td>...</td>\n",
              "      <td>...</td>\n",
              "      <td>...</td>\n",
              "      <td>...</td>\n",
              "      <td>...</td>\n",
              "    </tr>\n",
              "    <tr>\n",
              "      <th>2022-02-17</th>\n",
              "      <td>2359.979706</td>\n",
              "      <td>764.761170</td>\n",
              "      <td>906.370619</td>\n",
              "      <td>1139.186681</td>\n",
              "      <td>3309.698352</td>\n",
              "      <td>702.449422</td>\n",
              "      <td>377.348271</td>\n",
              "      <td>510.386669</td>\n",
              "      <td>10070.180889</td>\n",
              "    </tr>\n",
              "    <tr>\n",
              "      <th>2022-02-18</th>\n",
              "      <td>2343.067710</td>\n",
              "      <td>761.622841</td>\n",
              "      <td>897.986611</td>\n",
              "      <td>1125.750763</td>\n",
              "      <td>3317.467941</td>\n",
              "      <td>701.579371</td>\n",
              "      <td>378.663104</td>\n",
              "      <td>509.826461</td>\n",
              "      <td>10035.964803</td>\n",
              "    </tr>\n",
              "    <tr>\n",
              "      <th>2022-02-22</th>\n",
              "      <td>2319.302103</td>\n",
              "      <td>757.835288</td>\n",
              "      <td>884.954799</td>\n",
              "      <td>1102.820152</td>\n",
              "      <td>3318.762584</td>\n",
              "      <td>700.854310</td>\n",
              "      <td>382.278799</td>\n",
              "      <td>510.946930</td>\n",
              "      <td>9977.754966</td>\n",
              "    </tr>\n",
              "    <tr>\n",
              "      <th>2022-02-23</th>\n",
              "      <td>2276.598828</td>\n",
              "      <td>757.294209</td>\n",
              "      <td>868.830306</td>\n",
              "      <td>1090.817363</td>\n",
              "      <td>3303.224147</td>\n",
              "      <td>697.954013</td>\n",
              "      <td>389.181513</td>\n",
              "      <td>513.468054</td>\n",
              "      <td>9897.368433</td>\n",
              "    </tr>\n",
              "    <tr>\n",
              "      <th>2022-02-24</th>\n",
              "      <td>2310.649589</td>\n",
              "      <td>729.176152</td>\n",
              "      <td>892.033814</td>\n",
              "      <td>1074.873419</td>\n",
              "      <td>3304.519038</td>\n",
              "      <td>695.488740</td>\n",
              "      <td>382.443153</td>\n",
              "      <td>510.386669</td>\n",
              "      <td>9899.570573</td>\n",
              "    </tr>\n",
              "  </tbody>\n",
              "</table>\n",
              "<p>252 rows × 9 columns</p>\n",
              "</div>\n",
              "      <button class=\"colab-df-convert\" onclick=\"convertToInteractive('df-dfb499f8-2622-4078-872a-06c25bf3850f')\"\n",
              "              title=\"Convert this dataframe to an interactive table.\"\n",
              "              style=\"display:none;\">\n",
              "        \n",
              "  <svg xmlns=\"http://www.w3.org/2000/svg\" height=\"24px\"viewBox=\"0 0 24 24\"\n",
              "       width=\"24px\">\n",
              "    <path d=\"M0 0h24v24H0V0z\" fill=\"none\"/>\n",
              "    <path d=\"M18.56 5.44l.94 2.06.94-2.06 2.06-.94-2.06-.94-.94-2.06-.94 2.06-2.06.94zm-11 1L8.5 8.5l.94-2.06 2.06-.94-2.06-.94L8.5 2.5l-.94 2.06-2.06.94zm10 10l.94 2.06.94-2.06 2.06-.94-2.06-.94-.94-2.06-.94 2.06-2.06.94z\"/><path d=\"M17.41 7.96l-1.37-1.37c-.4-.4-.92-.59-1.43-.59-.52 0-1.04.2-1.43.59L10.3 9.45l-7.72 7.72c-.78.78-.78 2.05 0 2.83L4 21.41c.39.39.9.59 1.41.59.51 0 1.02-.2 1.41-.59l7.78-7.78 2.81-2.81c.8-.78.8-2.07 0-2.86zM5.41 20L4 18.59l7.72-7.72 1.47 1.35L5.41 20z\"/>\n",
              "  </svg>\n",
              "      </button>\n",
              "      \n",
              "  <style>\n",
              "    .colab-df-container {\n",
              "      display:flex;\n",
              "      flex-wrap:wrap;\n",
              "      gap: 12px;\n",
              "    }\n",
              "\n",
              "    .colab-df-convert {\n",
              "      background-color: #E8F0FE;\n",
              "      border: none;\n",
              "      border-radius: 50%;\n",
              "      cursor: pointer;\n",
              "      display: none;\n",
              "      fill: #1967D2;\n",
              "      height: 32px;\n",
              "      padding: 0 0 0 0;\n",
              "      width: 32px;\n",
              "    }\n",
              "\n",
              "    .colab-df-convert:hover {\n",
              "      background-color: #E2EBFA;\n",
              "      box-shadow: 0px 1px 2px rgba(60, 64, 67, 0.3), 0px 1px 3px 1px rgba(60, 64, 67, 0.15);\n",
              "      fill: #174EA6;\n",
              "    }\n",
              "\n",
              "    [theme=dark] .colab-df-convert {\n",
              "      background-color: #3B4455;\n",
              "      fill: #D2E3FC;\n",
              "    }\n",
              "\n",
              "    [theme=dark] .colab-df-convert:hover {\n",
              "      background-color: #434B5C;\n",
              "      box-shadow: 0px 1px 3px 1px rgba(0, 0, 0, 0.15);\n",
              "      filter: drop-shadow(0px 1px 2px rgba(0, 0, 0, 0.3));\n",
              "      fill: #FFFFFF;\n",
              "    }\n",
              "  </style>\n",
              "\n",
              "      <script>\n",
              "        const buttonEl =\n",
              "          document.querySelector('#df-dfb499f8-2622-4078-872a-06c25bf3850f button.colab-df-convert');\n",
              "        buttonEl.style.display =\n",
              "          google.colab.kernel.accessAllowed ? 'block' : 'none';\n",
              "\n",
              "        async function convertToInteractive(key) {\n",
              "          const element = document.querySelector('#df-dfb499f8-2622-4078-872a-06c25bf3850f');\n",
              "          const dataTable =\n",
              "            await google.colab.kernel.invokeFunction('convertToInteractive',\n",
              "                                                     [key], {});\n",
              "          if (!dataTable) return;\n",
              "\n",
              "          const docLinkHtml = 'Like what you see? Visit the ' +\n",
              "            '<a target=\"_blank\" href=https://colab.research.google.com/notebooks/data_table.ipynb>data table notebook</a>'\n",
              "            + ' to learn more about interactive tables.';\n",
              "          element.innerHTML = '';\n",
              "          dataTable['output_type'] = 'display_data';\n",
              "          await google.colab.output.renderOutput(dataTable, element);\n",
              "          const docLink = document.createElement('div');\n",
              "          docLink.innerHTML = docLinkHtml;\n",
              "          element.appendChild(docLink);\n",
              "        }\n",
              "      </script>\n",
              "    </div>\n",
              "  </div>\n",
              "  "
            ]
          },
          "metadata": {},
          "execution_count": 152
        }
      ]
    },
    {
      "cell_type": "markdown",
      "source": [
        "### Plot the portfolio"
      ],
      "metadata": {
        "id": "gE0p1eIthATB"
      }
    },
    {
      "cell_type": "code",
      "source": [
        "portfolio_test_values['Total'].plot() # Need to pretty this up for the dssertation or not use it at all"
      ],
      "metadata": {
        "colab": {
          "base_uri": "https://localhost:8080/",
          "height": 296
        },
        "id": "QAz2ZtdrhEDW",
        "outputId": "76c79907-8359-41e7-ce61-9ac81098b6c2"
      },
      "execution_count": null,
      "outputs": [
        {
          "output_type": "execute_result",
          "data": {
            "text/plain": [
              "<matplotlib.axes._subplots.AxesSubplot at 0x7ff5c51b1f90>"
            ]
          },
          "metadata": {},
          "execution_count": 153
        },
        {
          "output_type": "display_data",
          "data": {
            "text/plain": [
              "<Figure size 432x288 with 1 Axes>"
            ],
            "image/png": "[encoded data removed]"
          },
          "metadata": {
            "needs_background": "light"
          }
        }
      ]
    },
    {
      "cell_type": "markdown",
      "source": [
        "### Plot the Individual Assets"
      ],
      "metadata": {
        "id": "1YhvXTIDhCtZ"
      }
    },
    {
      "cell_type": "code",
      "source": [
        "# Plotted on the same graph to see general trend\n",
        "figure = plt.figure()\n",
        "axis = plt.plot(portfolio_test_values.iloc[:,0:1], label='^GSPC')\n",
        "axis = plt.plot(portfolio_test_values.iloc[:,1:2], label='^FTLC')\n",
        "axis = plt.plot(portfolio_test_values.iloc[:,2:3], label='^RUT')\n",
        "axis = plt.plot(portfolio_test_values.iloc[:,3:4], label='IEUS')\n",
        "\n",
        "axis = plt.plot(portfolio_test_values.iloc[:,4:5], label='GOVT')\n",
        "axis = plt.plot(portfolio_test_values.iloc[:,5:6], label='IGOV')\n",
        "axis = plt.plot(portfolio_test_values.iloc[:,6:7], label='SIVR')\n",
        "axis = plt.plot(portfolio_test_values.iloc[:,7:8], label='SGOL')\n",
        "plt.tight_layout()\n",
        "plt.legend()\n",
        "plt.show()"
      ],
      "metadata": {
        "colab": {
          "base_uri": "https://localhost:8080/",
          "height": 297
        },
        "id": "ASQAbUAHe3xl",
        "outputId": "483d1ab4-df6f-45f3-9d5f-6d391ca4afa3"
      },
      "execution_count": null,
      "outputs": [
        {
          "output_type": "display_data",
          "data": {
            "text/plain": [
              "<Figure size 432x288 with 1 Axes>"
            ],
            "image/png": "[encoded data removed]"
          },
          "metadata": {
            "needs_background": "light"
          }
        }
      ]
    },
    {
      "cell_type": "markdown",
      "source": [
        "# Analyse the Test Year"
      ],
      "metadata": {
        "id": "1oIDwjllnZo5"
      }
    },
    {
      "cell_type": "markdown",
      "source": [
        "## Sharpe Ratio"
      ],
      "metadata": {
        "id": "YiV1QxPpnnaz"
      }
    },
    {
      "cell_type": "code",
      "source": [
        "#daily_stock_returns = portfolio_position_values.pct_change().dropna() # Analysing holding such portfolio position from the start\n",
        "daily_stock_returns = portfolio_test_values.pct_change().dropna()\n",
        "#print(daily_stock_returns.iloc[250,:-1])\n",
        "# To calculate sharpie ratio for individual stocks \n",
        "def sharpe_ratio(return_series, N, rf):\n",
        "    mean = return_series.mean() * N -rf\n",
        "    sigma = return_series.std() * np.sqrt(N)\n",
        "    return mean / sigma\n",
        "\n",
        "N = 252 #252 trading days in a year\n",
        "rf = 0 \n",
        "sharpes = daily_stock_returns.apply(sharpe_ratio, args=(N,rf,),axis=0)\n",
        "sharpes.plot.bar()\n",
        "sharpes"
      ],
      "metadata": {
        "colab": {
          "base_uri": "https://localhost:8080/",
          "height": 483
        },
        "id": "5j0NlsCDoEpV",
        "outputId": "c814bf49-1b21-4eb1-cd9b-bae0eab4ab95"
      },
      "execution_count": null,
      "outputs": [
        {
          "output_type": "execute_result",
          "data": {
            "text/plain": [
              "^GSPC    0.775173\n",
              "^FTLC    0.693307\n",
              "^RUT    -0.311277\n",
              "IEUS    -0.162606\n",
              "GOVT    -0.831363\n",
              "IGOV    -1.651280\n",
              "SIVR    -0.269970\n",
              "SGOL     0.487029\n",
              "Total   -0.085183\n",
              "dtype: float64"
            ]
          },
          "metadata": {},
          "execution_count": 7
        },
        {
          "output_type": "display_data",
          "data": {
            "text/plain": [
              "<Figure size 432x288 with 1 Axes>"
            ],
            "image/png": "[encoded data removed]"
          },
          "metadata": {
            "needs_background": "light"
          }
        }
      ]
    },
    {
      "cell_type": "markdown",
      "source": [
        "## Volatility"
      ],
      "metadata": {
        "id": "a3ol81j1onsk"
      }
    },
    {
      "cell_type": "markdown",
      "source": [
        "### Individual Stock Volatility"
      ],
      "metadata": {
        "id": "2Og6XfRLvrqr"
      }
    },
    {
      "cell_type": "markdown",
      "source": [
        "#### Rolling Volatilty for Each stock"
      ],
      "metadata": {
        "id": "mY4OONPS1Uz_"
      }
    },
    {
      "cell_type": "code",
      "source": [
        "#data = portfolio_position_values.pct_change().dropna() # Analysing holding such portfolio position from the start\n",
        "rolling_stock = pd.DataFrame()\n",
        "data = portfolio_test_values.pct_change().dropna()\n",
        "for stock in all_stocks:\n",
        "  rolling_stock[stock] = data[stock].rolling(7).std()*(252**0.5)\n",
        "f1 = plt.figure()\n",
        "for i in range(0,7):\n",
        "  rolling_stock.iloc[:,i].plot()\n",
        "  plt.tight_layout()\n",
        "  #plt.show() # To display in separate graphs instead of 1"
      ],
      "metadata": {
        "colab": {
          "base_uri": "https://localhost:8080/",
          "height": 297
        },
        "id": "9Zc8OPdqx421",
        "outputId": "93f5a07c-cff0-4f39-ab7b-6fe894138a62"
      },
      "execution_count": null,
      "outputs": [
        {
          "output_type": "display_data",
          "data": {
            "text/plain": [
              "<Figure size 432x288 with 1 Axes>"
            ],
            "image/png": "[encoded data removed]"
          },
          "metadata": {
            "needs_background": "light"
          }
        }
      ]
    },
    {
      "cell_type": "markdown",
      "source": [
        "#### Anualised volatility for Each Stock"
      ],
      "metadata": {
        "id": "MDOiJi5Q03bn"
      }
    },
    {
      "cell_type": "code",
      "source": [
        "#data = portfolio_position_values.pct_change().dropna() # Analysing holding such portfolio position from the start\n",
        "stock_volatility = pd.DataFrame()\n",
        "data = portfolio_test_values.pct_change().dropna()\n",
        "tmp = pd.DataFrame()\n",
        "i = 0 \n",
        "for stock in all_stocks:\n",
        "  tmp[stock] = data.iloc[:,i:(i+1)]\n",
        "  stock_volatility = tmp.std()*(252**0.5)\n",
        "  i = i + 1\n",
        "print(stock_volatility)"
      ],
      "metadata": {
        "colab": {
          "base_uri": "https://localhost:8080/"
        },
        "id": "qZTilRKUzSFO",
        "outputId": "c7b73072-5a67-4628-d19c-f0e3c4521eb9"
      },
      "execution_count": null,
      "outputs": [
        {
          "output_type": "stream",
          "name": "stdout",
          "text": [
            "^GSPC    0.146273\n",
            "^FTLC    0.129323\n",
            "^RUT     0.231481\n",
            "IEUS     0.161712\n",
            "GOVT     0.053270\n",
            "IGOV     0.068009\n",
            "SIVR     0.233521\n",
            "SGOL     0.131792\n",
            "dtype: float64\n"
          ]
        }
      ]
    },
    {
      "cell_type": "markdown",
      "source": [
        "### Portfolio Volatility"
      ],
      "metadata": {
        "id": "K22vlVhovwjH"
      }
    },
    {
      "cell_type": "markdown",
      "source": [
        "#### Just the Anualised Volatility for the Portfolio"
      ],
      "metadata": {
        "id": "MreARAfmy5Tx"
      }
    },
    {
      "cell_type": "code",
      "source": [
        "total_portfolio_change = portfolio_test_values['Total'].pct_change().dropna()\n",
        "portfolio_vol = total_portfolio_change.std()*(252**0.5)\n",
        "portfolio_vol"
      ],
      "metadata": {
        "colab": {
          "base_uri": "https://localhost:8080/"
        },
        "id": "p-TrycZSrEAF",
        "outputId": "f1c28418-26bd-44d6-f1ec-77c67f427be8"
      },
      "execution_count": null,
      "outputs": [
        {
          "output_type": "execute_result",
          "data": {
            "text/plain": [
              "0.08076477769968919"
            ]
          },
          "metadata": {},
          "execution_count": 9
        }
      ]
    },
    {
      "cell_type": "markdown",
      "source": [
        "## Maximum Drawdown"
      ],
      "metadata": {
        "id": "3OpjwwfunpmH"
      }
    },
    {
      "cell_type": "code",
      "source": [
        "def max_drawdown(return_series):\n",
        "    comp_ret = (return_series+1).cumprod()\n",
        "    peak = comp_ret.expanding(min_periods=1).max()\n",
        "    dd = (comp_ret/peak)-1\n",
        "    return dd.min()\n",
        "\n",
        "daily_stock_returns = portfolio_test_values.pct_change().dropna()\n",
        "max_drawdowns = daily_stock_returns.apply(max_drawdown,axis=0)\n",
        "max_drawdowns.plot.bar()\n",
        "plt.ylabel('Max Drawdown')\n",
        "max_drawdowns"
      ],
      "metadata": {
        "colab": {
          "base_uri": "https://localhost:8080/",
          "height": 487
        },
        "id": "m0-mPR9VoPTE",
        "outputId": "e3bbb172-c9ba-4288-bb6a-4cc5c0fcca16"
      },
      "execution_count": null,
      "outputs": [
        {
          "output_type": "execute_result",
          "data": {
            "text/plain": [
              "^GSPC   -0.118501\n",
              "^FTLC   -0.065139\n",
              "^RUT    -0.209376\n",
              "IEUS    -0.187752\n",
              "GOVT    -0.053063\n",
              "IGOV    -0.118520\n",
              "SIVR    -0.240117\n",
              "SGOL    -0.097056\n",
              "Total   -0.076996\n",
              "dtype: float64"
            ]
          },
          "metadata": {},
          "execution_count": 10
        },
        {
          "output_type": "display_data",
          "data": {
            "text/plain": [
              "<Figure size 432x288 with 1 Axes>"
            ],
            "image/png": "[encoded data removed]"
          },
          "metadata": {
            "needs_background": "light"
          }
        }
      ]
    },
    {
      "cell_type": "markdown",
      "source": [
        "## Compound Annual Growth Rate (CARG)"
      ],
      "metadata": {
        "id": "gehqsfUbnvUx"
      }
    },
    {
      "cell_type": "code",
      "source": [
        "start_value = portfolio_test_values.iloc[0,:]\n",
        "end_value = portfolio_test_values.iloc[-1,:]\n",
        "number_of_years =  round(len(portfolio_test_values)/252)\n",
        "CARG = (((end_value / start_value) ** (1/number_of_years)) -1)# Shows % of values\n",
        "CARG"
      ],
      "metadata": {
        "colab": {
          "base_uri": "https://localhost:8080/"
        },
        "id": "cbyG1U8PtjiW",
        "outputId": "9eab3d28-35f6-478b-e5b2-7284d764bd5d"
      },
      "execution_count": null,
      "outputs": [
        {
          "output_type": "execute_result",
          "data": {
            "text/plain": [
              "^GSPC    0.107693\n",
              "^FTLC    0.084323\n",
              "^RUT    -0.093720\n",
              "IEUS    -0.038433\n",
              "GOVT    -0.044503\n",
              "IGOV    -0.107903\n",
              "SIVR    -0.086017\n",
              "SGOL     0.056845\n",
              "Total   -0.010043\n",
              "dtype: float64"
            ]
          },
          "metadata": {},
          "execution_count": 11
        }
      ]
    },
    {
      "cell_type": "markdown",
      "source": [
        "## Calmar Ratio"
      ],
      "metadata": {
        "id": "k9vlY18Jn09e"
      }
    },
    {
      "cell_type": "code",
      "source": [
        "#daily_stock_returns = portfolio_position_values.pct_change().dropna() # Analysing holding such portfolio position from the start\n",
        "daily_stock_returns = portfolio_test_values.pct_change().dropna()\n",
        "\n",
        "calmars = daily_stock_returns.mean()*252/abs(max_drawdowns)\n",
        "\n",
        "calmars.plot.bar()\n",
        "plt.ylabel('Calmar ratio')\n",
        "calmars"
      ],
      "metadata": {
        "colab": {
          "base_uri": "https://localhost:8080/",
          "height": 483
        },
        "id": "VoRp1tp9owR7",
        "outputId": "1ac9cd12-3fd7-49a1-b9c2-6e41fbac5320"
      },
      "execution_count": null,
      "outputs": [
        {
          "output_type": "execute_result",
          "data": {
            "text/plain": [
              "^GSPC    0.956844\n",
              "^FTLC    1.376445\n",
              "^RUT    -0.344141\n",
              "IEUS    -0.140053\n",
              "GOVT    -0.834610\n",
              "IGOV    -0.947541\n",
              "SIVR    -0.262554\n",
              "SGOL     0.661339\n",
              "Total   -0.089353\n",
              "dtype: float64"
            ]
          },
          "metadata": {},
          "execution_count": 12
        },
        {
          "output_type": "display_data",
          "data": {
            "text/plain": [
              "<Figure size 432x288 with 1 Axes>"
            ],
            "image/png": "[encoded data removed]"
          },
          "metadata": {
            "needs_background": "light"
          }
        }
      ]
    },
    {
      "cell_type": "markdown",
      "source": [
        "# Export the Benchmark for the Test Year to a CSV"
      ],
      "metadata": {
        "id": "n_cJX947XOr9"
      }
    },
    {
      "cell_type": "code",
      "source": [
        "from google.colab import drive\n",
        "from google.colab import files # Allows data files to be uploaded to the notebook\n",
        "drive.mount('drive')"
      ],
      "metadata": {
        "colab": {
          "base_uri": "https://localhost:8080/"
        },
        "id": "uBIyR-8pZ3_y",
        "outputId": "36e72195-b291-409c-a869-e78c65300625"
      },
      "execution_count": null,
      "outputs": [
        {
          "output_type": "stream",
          "name": "stdout",
          "text": [
            "Drive already mounted at drive; to attempt to forcibly remount, call drive.mount(\"drive\", force_remount=True).\n"
          ]
        }
      ]
    },
    {
      "cell_type": "code",
      "source": [
        "portfolio_test_values.to_csv('LSTMModelData.csv')"
      ],
      "metadata": {
        "id": "T7uYsCukhY22"
      },
      "execution_count": null,
      "outputs": []
    },
    {
      "cell_type": "code",
      "source": [
        "portfolio_weights.to_csv('LSTMModelWeights.csv')"
      ],
      "metadata": {
        "id": "ZKxhXGQSenY8"
      },
      "execution_count": null,
      "outputs": []
    },
    {
      "cell_type": "code",
      "source": [
        "!cp LSTMModelData.csv \"drive/My Drive/DisData\""
      ],
      "metadata": {
        "id": "7SLu2oM4hY23"
      },
      "execution_count": null,
      "outputs": []
    },
    {
      "cell_type": "code",
      "source": [
        "!cp LSTMModelWeights.csv \"drive/My Drive/DisData\""
      ],
      "metadata": {
        "id": "UWVNsfNBlWPk"
      },
      "execution_count": null,
      "outputs": []
    },
    {
      "cell_type": "code",
      "source": [
        "torch.save(mv_net.state_dict(), 'LSTM50Weights.pth')\n",
        "files.download('LSTM50Weights.pth')"
      ],
      "metadata": {
        "colab": {
          "base_uri": "https://localhost:8080/",
          "height": 17
        },
        "id": "MI1cB0azlaQx",
        "outputId": "1af3556f-1714-4282-d922-a2c76096587d"
      },
      "execution_count": null,
      "outputs": [
        {
          "output_type": "display_data",
          "data": {
            "text/plain": [
              "<IPython.core.display.Javascript object>"
            ],
            "application/javascript": [
              "\n",
              "    async function download(id, filename, size) {\n",
              "      if (!google.colab.kernel.accessAllowed) {\n",
              "        return;\n",
              "      }\n",
              "      const div = document.createElement('div');\n",
              "      const label = document.createElement('label');\n",
              "      label.textContent = `Downloading \"${filename}\": `;\n",
              "      div.appendChild(label);\n",
              "      const progress = document.createElement('progress');\n",
              "      progress.max = size;\n",
              "      div.appendChild(progress);\n",
              "      document.body.appendChild(div);\n",
              "\n",
              "      const buffers = [];\n",
              "      let downloaded = 0;\n",
              "\n",
              "      const channel = await google.colab.kernel.comms.open(id);\n",
              "      // Send a message to notify the kernel that we're ready.\n",
              "      channel.send({})\n",
              "\n",
              "      for await (const message of channel.messages) {\n",
              "        // Send a message to notify the kernel that we're ready.\n",
              "        channel.send({})\n",
              "        if (message.buffers) {\n",
              "          for (const buffer of message.buffers) {\n",
              "            buffers.push(buffer);\n",
              "            downloaded += buffer.byteLength;\n",
              "            progress.value = downloaded;\n",
              "          }\n",
              "        }\n",
              "      }\n",
              "      const blob = new Blob(buffers, {type: 'application/binary'});\n",
              "      const a = document.createElement('a');\n",
              "      a.href = window.URL.createObjectURL(blob);\n",
              "      a.download = filename;\n",
              "      div.appendChild(a);\n",
              "      a.click();\n",
              "      div.remove();\n",
              "    }\n",
              "  "
            ]
          },
          "metadata": {}
        },
        {
          "output_type": "display_data",
          "data": {
            "text/plain": [
              "<IPython.core.display.Javascript object>"
            ],
            "application/javascript": [
              "download(\"download_799a4994-4b9e-4849-b22c-f33c47e2617e\", \"LSTM50Weights.pth\", 904343)"
            ]
          },
          "metadata": {}
        }
      ]
    },
    {
      "cell_type": "markdown",
      "source": [
        "# Recreating\n"
      ],
      "metadata": {
        "id": "WiXfI_Gvfu5P"
      }
    },
    {
      "cell_type": "markdown",
      "source": [
        "If you wish to completely rerun the experiment you'll need to import the LSTM30EpochModelWeights so that the model is trained like I trained it. There can be some variablity in the trained model due to random starting weights, so it is best to use what I have."
      ],
      "metadata": {
        "id": "Tj2eJ13IfxCe"
      }
    }
  ]
}